{
 "cells": [
  {
   "cell_type": "markdown",
   "metadata": {},
   "source": [
    "# Final Project Submission#\n",
    "Please fill out:\n",
    "\n",
    "Student name:\n",
    "Student pace: self paced / part time / full time\n",
    "Scheduled project review date/time:\n",
    "Instructor name:\n",
    "Blog post URL:"
   ]
  },
  {
   "cell_type": "markdown",
   "metadata": {},
   "source": [
    "Import required packages"
   ]
  },
  {
   "cell_type": "code",
   "execution_count": 5,
   "metadata": {},
   "outputs": [],
   "source": [
    "import pandas as pd\n",
    "import numpy as np\n",
    "from matplotlib import pyplot as plt\n",
    "from mpl_toolkits.mplot3d import Axes3D\n",
    "from random import gauss, seed\n",
    "from scipy import stats\n",
    "import seaborn as sns\n",
    "from mpl_toolkits import mplot3d\n",
    "import sklearn.metrics as metrics\n",
    "import statsmodels.api as sm\n",
    "import sqlite3\n",
    "\n",
    "%matplotlib inline"
   ]
  },
  {
   "cell_type": "markdown",
   "metadata": {},
   "source": [
    "## Import different databases to dataframes"
   ]
  },
  {
   "cell_type": "markdown",
   "metadata": {},
   "source": [
    "#### Import movie table and transform data to analysis requirement"
   ]
  },
  {
   "cell_type": "code",
   "execution_count": 12,
   "metadata": {},
   "outputs": [],
   "source": [
    "df_budget= pd.read_csv(r'zippedData\\tn.movie_budgets.csv.gz', compression='gzip')"
   ]
  },
  {
   "cell_type": "code",
   "execution_count": 13,
   "metadata": {
    "scrolled": true
   },
   "outputs": [
    {
     "data": {
      "text/html": [
       "<div>\n",
       "<style scoped>\n",
       "    .dataframe tbody tr th:only-of-type {\n",
       "        vertical-align: middle;\n",
       "    }\n",
       "\n",
       "    .dataframe tbody tr th {\n",
       "        vertical-align: top;\n",
       "    }\n",
       "\n",
       "    .dataframe thead th {\n",
       "        text-align: right;\n",
       "    }\n",
       "</style>\n",
       "<table border=\"1\" class=\"dataframe\">\n",
       "  <thead>\n",
       "    <tr style=\"text-align: right;\">\n",
       "      <th></th>\n",
       "      <th>id</th>\n",
       "      <th>release_date</th>\n",
       "      <th>movie</th>\n",
       "      <th>production_budget</th>\n",
       "      <th>domestic_gross</th>\n",
       "      <th>worldwide_gross</th>\n",
       "    </tr>\n",
       "  </thead>\n",
       "  <tbody>\n",
       "    <tr>\n",
       "      <th>0</th>\n",
       "      <td>1</td>\n",
       "      <td>Dec 18, 2009</td>\n",
       "      <td>Avatar</td>\n",
       "      <td>$425,000,000</td>\n",
       "      <td>$760,507,625</td>\n",
       "      <td>$2,776,345,279</td>\n",
       "    </tr>\n",
       "    <tr>\n",
       "      <th>1</th>\n",
       "      <td>2</td>\n",
       "      <td>May 20, 2011</td>\n",
       "      <td>Pirates of the Caribbean: On Stranger Tides</td>\n",
       "      <td>$410,600,000</td>\n",
       "      <td>$241,063,875</td>\n",
       "      <td>$1,045,663,875</td>\n",
       "    </tr>\n",
       "    <tr>\n",
       "      <th>2</th>\n",
       "      <td>3</td>\n",
       "      <td>Jun 7, 2019</td>\n",
       "      <td>Dark Phoenix</td>\n",
       "      <td>$350,000,000</td>\n",
       "      <td>$42,762,350</td>\n",
       "      <td>$149,762,350</td>\n",
       "    </tr>\n",
       "    <tr>\n",
       "      <th>3</th>\n",
       "      <td>4</td>\n",
       "      <td>May 1, 2015</td>\n",
       "      <td>Avengers: Age of Ultron</td>\n",
       "      <td>$330,600,000</td>\n",
       "      <td>$459,005,868</td>\n",
       "      <td>$1,403,013,963</td>\n",
       "    </tr>\n",
       "    <tr>\n",
       "      <th>4</th>\n",
       "      <td>5</td>\n",
       "      <td>Dec 15, 2017</td>\n",
       "      <td>Star Wars Ep. VIII: The Last Jedi</td>\n",
       "      <td>$317,000,000</td>\n",
       "      <td>$620,181,382</td>\n",
       "      <td>$1,316,721,747</td>\n",
       "    </tr>\n",
       "  </tbody>\n",
       "</table>\n",
       "</div>"
      ],
      "text/plain": [
       "   id  release_date                                        movie  \\\n",
       "0   1  Dec 18, 2009                                       Avatar   \n",
       "1   2  May 20, 2011  Pirates of the Caribbean: On Stranger Tides   \n",
       "2   3   Jun 7, 2019                                 Dark Phoenix   \n",
       "3   4   May 1, 2015                      Avengers: Age of Ultron   \n",
       "4   5  Dec 15, 2017            Star Wars Ep. VIII: The Last Jedi   \n",
       "\n",
       "  production_budget domestic_gross worldwide_gross  \n",
       "0      $425,000,000   $760,507,625  $2,776,345,279  \n",
       "1      $410,600,000   $241,063,875  $1,045,663,875  \n",
       "2      $350,000,000    $42,762,350    $149,762,350  \n",
       "3      $330,600,000   $459,005,868  $1,403,013,963  \n",
       "4      $317,000,000   $620,181,382  $1,316,721,747  "
      ]
     },
     "execution_count": 13,
     "metadata": {},
     "output_type": "execute_result"
    }
   ],
   "source": [
    "df_budget.head()"
   ]
  },
  {
   "cell_type": "markdown",
   "metadata": {},
   "source": [
    "Checking the data types and composition of the table"
   ]
  },
  {
   "cell_type": "code",
   "execution_count": 14,
   "metadata": {},
   "outputs": [
    {
     "name": "stdout",
     "output_type": "stream",
     "text": [
      "<class 'pandas.core.frame.DataFrame'>\n",
      "RangeIndex: 5782 entries, 0 to 5781\n",
      "Data columns (total 6 columns):\n",
      " #   Column             Non-Null Count  Dtype \n",
      "---  ------             --------------  ----- \n",
      " 0   id                 5782 non-null   int64 \n",
      " 1   release_date       5782 non-null   object\n",
      " 2   movie              5782 non-null   object\n",
      " 3   production_budget  5782 non-null   object\n",
      " 4   domestic_gross     5782 non-null   object\n",
      " 5   worldwide_gross    5782 non-null   object\n",
      "dtypes: int64(1), object(5)\n",
      "memory usage: 271.2+ KB\n"
     ]
    }
   ],
   "source": [
    "df_budget.info()"
   ]
  },
  {
   "cell_type": "markdown",
   "metadata": {},
   "source": [
    "Converting production budget, worldwide gross to float format"
   ]
  },
  {
   "cell_type": "code",
   "execution_count": 15,
   "metadata": {},
   "outputs": [],
   "source": [
    "df_budget['worldwide_gross'] = df_budget['worldwide_gross'].str.replace(\",\", \"\")\n",
    "df_budget['worldwide_gross'] = df_budget['worldwide_gross'].str.replace(\"$\", \"\").astype(float)\n",
    "df_budget['production_budget'] = df_budget['production_budget'].str.replace(\",\", \"\")\n",
    "df_budget['production_budget'] = df_budget['production_budget'].str.replace(\"$\", \"\").astype(float)"
   ]
  },
  {
   "cell_type": "markdown",
   "metadata": {},
   "source": [
    "Generate a ratio to normalize revenue information"
   ]
  },
  {
   "cell_type": "code",
   "execution_count": 16,
   "metadata": {},
   "outputs": [],
   "source": [
    "df_budget['Profitability_Ratio'] = df_budget['worldwide_gross']/df_budget['production_budget']"
   ]
  },
  {
   "cell_type": "code",
   "execution_count": 17,
   "metadata": {
    "scrolled": true
   },
   "outputs": [
    {
     "data": {
      "text/html": [
       "<div>\n",
       "<style scoped>\n",
       "    .dataframe tbody tr th:only-of-type {\n",
       "        vertical-align: middle;\n",
       "    }\n",
       "\n",
       "    .dataframe tbody tr th {\n",
       "        vertical-align: top;\n",
       "    }\n",
       "\n",
       "    .dataframe thead th {\n",
       "        text-align: right;\n",
       "    }\n",
       "</style>\n",
       "<table border=\"1\" class=\"dataframe\">\n",
       "  <thead>\n",
       "    <tr style=\"text-align: right;\">\n",
       "      <th></th>\n",
       "      <th>id</th>\n",
       "      <th>production_budget</th>\n",
       "      <th>worldwide_gross</th>\n",
       "      <th>Profitability_Ratio</th>\n",
       "    </tr>\n",
       "  </thead>\n",
       "  <tbody>\n",
       "    <tr>\n",
       "      <th>count</th>\n",
       "      <td>5782.000000</td>\n",
       "      <td>5.782000e+03</td>\n",
       "      <td>5.782000e+03</td>\n",
       "      <td>5782.000000</td>\n",
       "    </tr>\n",
       "    <tr>\n",
       "      <th>mean</th>\n",
       "      <td>50.372363</td>\n",
       "      <td>3.158776e+07</td>\n",
       "      <td>9.148746e+07</td>\n",
       "      <td>4.800161</td>\n",
       "    </tr>\n",
       "    <tr>\n",
       "      <th>std</th>\n",
       "      <td>28.821076</td>\n",
       "      <td>4.181208e+07</td>\n",
       "      <td>1.747200e+08</td>\n",
       "      <td>29.530282</td>\n",
       "    </tr>\n",
       "    <tr>\n",
       "      <th>min</th>\n",
       "      <td>1.000000</td>\n",
       "      <td>1.100000e+03</td>\n",
       "      <td>0.000000e+00</td>\n",
       "      <td>0.000000</td>\n",
       "    </tr>\n",
       "    <tr>\n",
       "      <th>25%</th>\n",
       "      <td>25.000000</td>\n",
       "      <td>5.000000e+06</td>\n",
       "      <td>4.125415e+06</td>\n",
       "      <td>0.492296</td>\n",
       "    </tr>\n",
       "    <tr>\n",
       "      <th>50%</th>\n",
       "      <td>50.000000</td>\n",
       "      <td>1.700000e+07</td>\n",
       "      <td>2.798445e+07</td>\n",
       "      <td>1.708310</td>\n",
       "    </tr>\n",
       "    <tr>\n",
       "      <th>75%</th>\n",
       "      <td>75.000000</td>\n",
       "      <td>4.000000e+07</td>\n",
       "      <td>9.764584e+07</td>\n",
       "      <td>3.758346</td>\n",
       "    </tr>\n",
       "    <tr>\n",
       "      <th>max</th>\n",
       "      <td>100.000000</td>\n",
       "      <td>4.250000e+08</td>\n",
       "      <td>2.776345e+09</td>\n",
       "      <td>1800.000000</td>\n",
       "    </tr>\n",
       "  </tbody>\n",
       "</table>\n",
       "</div>"
      ],
      "text/plain": [
       "                id  production_budget  worldwide_gross  Profitability_Ratio\n",
       "count  5782.000000       5.782000e+03     5.782000e+03          5782.000000\n",
       "mean     50.372363       3.158776e+07     9.148746e+07             4.800161\n",
       "std      28.821076       4.181208e+07     1.747200e+08            29.530282\n",
       "min       1.000000       1.100000e+03     0.000000e+00             0.000000\n",
       "25%      25.000000       5.000000e+06     4.125415e+06             0.492296\n",
       "50%      50.000000       1.700000e+07     2.798445e+07             1.708310\n",
       "75%      75.000000       4.000000e+07     9.764584e+07             3.758346\n",
       "max     100.000000       4.250000e+08     2.776345e+09          1800.000000"
      ]
     },
     "execution_count": 17,
     "metadata": {},
     "output_type": "execute_result"
    }
   ],
   "source": [
    "df_budget.describe()"
   ]
  },
  {
   "cell_type": "markdown",
   "metadata": {},
   "source": [
    "Remove the outlier profitability ratio greater than 60. The rationale is to consider datapoints within two standard deviations."
   ]
  },
  {
   "cell_type": "code",
   "execution_count": 18,
   "metadata": {},
   "outputs": [],
   "source": [
    "df_budget = df_budget.loc[df_budget['Profitability_Ratio']<=60]"
   ]
  },
  {
   "cell_type": "markdown",
   "metadata": {},
   "source": [
    "Categorize the profitability ratios into Loss,Low Profit, Medium Profit and high profit  in a new colum called prof_cat "
   ]
  },
  {
   "cell_type": "code",
   "execution_count": 19,
   "metadata": {},
   "outputs": [],
   "source": [
    "#df_budget['prof_cat'] = ['Loss' if x < 0 else 'Low Profit' if x < 1 else 'Medium Profit' if x < 3 else 'high Profit' for x in df_budget['Profitability_Ratio']]\n",
    "\n",
    "df_budget['prof_cat'] = ['Loss' if x < 2 \n",
    "     else 'Low Profit' if x < 3 \n",
    "     else 'Medium Profit' if x < 4\n",
    "     else 'High Profit' \n",
    "     for x in df_budget['Profitability_Ratio']]"
   ]
  },
  {
   "cell_type": "code",
   "execution_count": 20,
   "metadata": {},
   "outputs": [
    {
     "data": {
      "text/html": [
       "<div>\n",
       "<style scoped>\n",
       "    .dataframe tbody tr th:only-of-type {\n",
       "        vertical-align: middle;\n",
       "    }\n",
       "\n",
       "    .dataframe tbody tr th {\n",
       "        vertical-align: top;\n",
       "    }\n",
       "\n",
       "    .dataframe thead th {\n",
       "        text-align: right;\n",
       "    }\n",
       "</style>\n",
       "<table border=\"1\" class=\"dataframe\">\n",
       "  <thead>\n",
       "    <tr style=\"text-align: right;\">\n",
       "      <th></th>\n",
       "      <th>id</th>\n",
       "      <th>release_date</th>\n",
       "      <th>movie</th>\n",
       "      <th>production_budget</th>\n",
       "      <th>domestic_gross</th>\n",
       "      <th>worldwide_gross</th>\n",
       "      <th>Profitability_Ratio</th>\n",
       "      <th>prof_cat</th>\n",
       "    </tr>\n",
       "  </thead>\n",
       "  <tbody>\n",
       "    <tr>\n",
       "      <th>0</th>\n",
       "      <td>1</td>\n",
       "      <td>Dec 18, 2009</td>\n",
       "      <td>Avatar</td>\n",
       "      <td>425000000.0</td>\n",
       "      <td>$760,507,625</td>\n",
       "      <td>2.776345e+09</td>\n",
       "      <td>6.532577</td>\n",
       "      <td>High Profit</td>\n",
       "    </tr>\n",
       "    <tr>\n",
       "      <th>1</th>\n",
       "      <td>2</td>\n",
       "      <td>May 20, 2011</td>\n",
       "      <td>Pirates of the Caribbean: On Stranger Tides</td>\n",
       "      <td>410600000.0</td>\n",
       "      <td>$241,063,875</td>\n",
       "      <td>1.045664e+09</td>\n",
       "      <td>2.546673</td>\n",
       "      <td>Low Profit</td>\n",
       "    </tr>\n",
       "    <tr>\n",
       "      <th>2</th>\n",
       "      <td>3</td>\n",
       "      <td>Jun 7, 2019</td>\n",
       "      <td>Dark Phoenix</td>\n",
       "      <td>350000000.0</td>\n",
       "      <td>$42,762,350</td>\n",
       "      <td>1.497624e+08</td>\n",
       "      <td>0.427892</td>\n",
       "      <td>Loss</td>\n",
       "    </tr>\n",
       "    <tr>\n",
       "      <th>3</th>\n",
       "      <td>4</td>\n",
       "      <td>May 1, 2015</td>\n",
       "      <td>Avengers: Age of Ultron</td>\n",
       "      <td>330600000.0</td>\n",
       "      <td>$459,005,868</td>\n",
       "      <td>1.403014e+09</td>\n",
       "      <td>4.243841</td>\n",
       "      <td>High Profit</td>\n",
       "    </tr>\n",
       "    <tr>\n",
       "      <th>4</th>\n",
       "      <td>5</td>\n",
       "      <td>Dec 15, 2017</td>\n",
       "      <td>Star Wars Ep. VIII: The Last Jedi</td>\n",
       "      <td>317000000.0</td>\n",
       "      <td>$620,181,382</td>\n",
       "      <td>1.316722e+09</td>\n",
       "      <td>4.153696</td>\n",
       "      <td>High Profit</td>\n",
       "    </tr>\n",
       "  </tbody>\n",
       "</table>\n",
       "</div>"
      ],
      "text/plain": [
       "   id  release_date                                        movie  \\\n",
       "0   1  Dec 18, 2009                                       Avatar   \n",
       "1   2  May 20, 2011  Pirates of the Caribbean: On Stranger Tides   \n",
       "2   3   Jun 7, 2019                                 Dark Phoenix   \n",
       "3   4   May 1, 2015                      Avengers: Age of Ultron   \n",
       "4   5  Dec 15, 2017            Star Wars Ep. VIII: The Last Jedi   \n",
       "\n",
       "   production_budget domestic_gross  worldwide_gross  Profitability_Ratio  \\\n",
       "0        425000000.0   $760,507,625     2.776345e+09             6.532577   \n",
       "1        410600000.0   $241,063,875     1.045664e+09             2.546673   \n",
       "2        350000000.0    $42,762,350     1.497624e+08             0.427892   \n",
       "3        330600000.0   $459,005,868     1.403014e+09             4.243841   \n",
       "4        317000000.0   $620,181,382     1.316722e+09             4.153696   \n",
       "\n",
       "      prof_cat  \n",
       "0  High Profit  \n",
       "1   Low Profit  \n",
       "2         Loss  \n",
       "3  High Profit  \n",
       "4  High Profit  "
      ]
     },
     "execution_count": 20,
     "metadata": {},
     "output_type": "execute_result"
    }
   ],
   "source": [
    "df_budget.head()"
   ]
  },
  {
   "cell_type": "code",
   "execution_count": 21,
   "metadata": {},
   "outputs": [
    {
     "name": "stdout",
     "output_type": "stream",
     "text": [
      "<class 'pandas.core.frame.DataFrame'>\n",
      "Int64Index: 5732 entries, 0 to 5780\n",
      "Data columns (total 8 columns):\n",
      " #   Column               Non-Null Count  Dtype  \n",
      "---  ------               --------------  -----  \n",
      " 0   id                   5732 non-null   int64  \n",
      " 1   release_date         5732 non-null   object \n",
      " 2   movie                5732 non-null   object \n",
      " 3   production_budget    5732 non-null   float64\n",
      " 4   domestic_gross       5732 non-null   object \n",
      " 5   worldwide_gross      5732 non-null   float64\n",
      " 6   Profitability_Ratio  5732 non-null   float64\n",
      " 7   prof_cat             5732 non-null   object \n",
      "dtypes: float64(3), int64(1), object(4)\n",
      "memory usage: 403.0+ KB\n"
     ]
    }
   ],
   "source": [
    "df_budget.info()"
   ]
  },
  {
   "cell_type": "markdown",
   "metadata": {},
   "source": [
    "#### Import tmdb.movies table"
   ]
  },
  {
   "cell_type": "code",
   "execution_count": 22,
   "metadata": {},
   "outputs": [],
   "source": [
    "df_movies = pd.read_csv(r'zippedData\\tmdb.movies.csv.gz', compression='gzip')"
   ]
  },
  {
   "cell_type": "code",
   "execution_count": 140,
   "metadata": {},
   "outputs": [
    {
     "data": {
      "text/html": [
       "<div>\n",
       "<style scoped>\n",
       "    .dataframe tbody tr th:only-of-type {\n",
       "        vertical-align: middle;\n",
       "    }\n",
       "\n",
       "    .dataframe tbody tr th {\n",
       "        vertical-align: top;\n",
       "    }\n",
       "\n",
       "    .dataframe thead th {\n",
       "        text-align: right;\n",
       "    }\n",
       "</style>\n",
       "<table border=\"1\" class=\"dataframe\">\n",
       "  <thead>\n",
       "    <tr style=\"text-align: right;\">\n",
       "      <th></th>\n",
       "      <th>Unnamed: 0</th>\n",
       "      <th>genre_ids</th>\n",
       "      <th>id</th>\n",
       "      <th>original_language</th>\n",
       "      <th>original_title</th>\n",
       "      <th>popularity</th>\n",
       "      <th>release_date</th>\n",
       "      <th>title</th>\n",
       "      <th>vote_average</th>\n",
       "      <th>vote_count</th>\n",
       "    </tr>\n",
       "  </thead>\n",
       "  <tbody>\n",
       "    <tr>\n",
       "      <th>0</th>\n",
       "      <td>0</td>\n",
       "      <td>[12, 14, 10751]</td>\n",
       "      <td>12444</td>\n",
       "      <td>en</td>\n",
       "      <td>Harry Potter and the Deathly Hallows: Part 1</td>\n",
       "      <td>33.533</td>\n",
       "      <td>2010-11-19</td>\n",
       "      <td>Harry Potter and the Deathly Hallows: Part 1</td>\n",
       "      <td>7.7</td>\n",
       "      <td>10788</td>\n",
       "    </tr>\n",
       "    <tr>\n",
       "      <th>1</th>\n",
       "      <td>1</td>\n",
       "      <td>[14, 12, 16, 10751]</td>\n",
       "      <td>10191</td>\n",
       "      <td>en</td>\n",
       "      <td>How to Train Your Dragon</td>\n",
       "      <td>28.734</td>\n",
       "      <td>2010-03-26</td>\n",
       "      <td>How to Train Your Dragon</td>\n",
       "      <td>7.7</td>\n",
       "      <td>7610</td>\n",
       "    </tr>\n",
       "    <tr>\n",
       "      <th>2</th>\n",
       "      <td>2</td>\n",
       "      <td>[12, 28, 878]</td>\n",
       "      <td>10138</td>\n",
       "      <td>en</td>\n",
       "      <td>Iron Man 2</td>\n",
       "      <td>28.515</td>\n",
       "      <td>2010-05-07</td>\n",
       "      <td>Iron Man 2</td>\n",
       "      <td>6.8</td>\n",
       "      <td>12368</td>\n",
       "    </tr>\n",
       "    <tr>\n",
       "      <th>3</th>\n",
       "      <td>3</td>\n",
       "      <td>[16, 35, 10751]</td>\n",
       "      <td>862</td>\n",
       "      <td>en</td>\n",
       "      <td>Toy Story</td>\n",
       "      <td>28.005</td>\n",
       "      <td>1995-11-22</td>\n",
       "      <td>Toy Story</td>\n",
       "      <td>7.9</td>\n",
       "      <td>10174</td>\n",
       "    </tr>\n",
       "    <tr>\n",
       "      <th>4</th>\n",
       "      <td>4</td>\n",
       "      <td>[28, 878, 12]</td>\n",
       "      <td>27205</td>\n",
       "      <td>en</td>\n",
       "      <td>Inception</td>\n",
       "      <td>27.920</td>\n",
       "      <td>2010-07-16</td>\n",
       "      <td>Inception</td>\n",
       "      <td>8.3</td>\n",
       "      <td>22186</td>\n",
       "    </tr>\n",
       "  </tbody>\n",
       "</table>\n",
       "</div>"
      ],
      "text/plain": [
       "   Unnamed: 0            genre_ids     id original_language  \\\n",
       "0           0      [12, 14, 10751]  12444                en   \n",
       "1           1  [14, 12, 16, 10751]  10191                en   \n",
       "2           2        [12, 28, 878]  10138                en   \n",
       "3           3      [16, 35, 10751]    862                en   \n",
       "4           4        [28, 878, 12]  27205                en   \n",
       "\n",
       "                                 original_title  popularity release_date  \\\n",
       "0  Harry Potter and the Deathly Hallows: Part 1      33.533   2010-11-19   \n",
       "1                      How to Train Your Dragon      28.734   2010-03-26   \n",
       "2                                    Iron Man 2      28.515   2010-05-07   \n",
       "3                                     Toy Story      28.005   1995-11-22   \n",
       "4                                     Inception      27.920   2010-07-16   \n",
       "\n",
       "                                          title  vote_average  vote_count  \n",
       "0  Harry Potter and the Deathly Hallows: Part 1           7.7       10788  \n",
       "1                      How to Train Your Dragon           7.7        7610  \n",
       "2                                    Iron Man 2           6.8       12368  \n",
       "3                                     Toy Story           7.9       10174  \n",
       "4                                     Inception           8.3       22186  "
      ]
     },
     "execution_count": 140,
     "metadata": {},
     "output_type": "execute_result"
    }
   ],
   "source": [
    "df_movies.head()"
   ]
  },
  {
   "cell_type": "code",
   "execution_count": 141,
   "metadata": {},
   "outputs": [
    {
     "name": "stdout",
     "output_type": "stream",
     "text": [
      "<class 'pandas.core.frame.DataFrame'>\n",
      "RangeIndex: 26517 entries, 0 to 26516\n",
      "Data columns (total 10 columns):\n",
      " #   Column             Non-Null Count  Dtype  \n",
      "---  ------             --------------  -----  \n",
      " 0   Unnamed: 0         26517 non-null  int64  \n",
      " 1   genre_ids          26517 non-null  object \n",
      " 2   id                 26517 non-null  int64  \n",
      " 3   original_language  26517 non-null  object \n",
      " 4   original_title     26517 non-null  object \n",
      " 5   popularity         26517 non-null  float64\n",
      " 6   release_date       26517 non-null  object \n",
      " 7   title              26517 non-null  object \n",
      " 8   vote_average       26517 non-null  float64\n",
      " 9   vote_count         26517 non-null  int64  \n",
      "dtypes: float64(2), int64(3), object(5)\n",
      "memory usage: 2.0+ MB\n"
     ]
    }
   ],
   "source": [
    "df_movies.info()"
   ]
  },
  {
   "cell_type": "markdown",
   "metadata": {},
   "source": [
    "#### Import rt.reviews table"
   ]
  },
  {
   "cell_type": "code",
   "execution_count": 142,
   "metadata": {},
   "outputs": [],
   "source": [
    "df_review = pd.read_csv(r'zippedData/rt.reviews.tsv.gz', compression='gzip', delimiter='\\t', encoding='latin1')"
   ]
  },
  {
   "cell_type": "code",
   "execution_count": 143,
   "metadata": {},
   "outputs": [
    {
     "data": {
      "text/html": [
       "<div>\n",
       "<style scoped>\n",
       "    .dataframe tbody tr th:only-of-type {\n",
       "        vertical-align: middle;\n",
       "    }\n",
       "\n",
       "    .dataframe tbody tr th {\n",
       "        vertical-align: top;\n",
       "    }\n",
       "\n",
       "    .dataframe thead th {\n",
       "        text-align: right;\n",
       "    }\n",
       "</style>\n",
       "<table border=\"1\" class=\"dataframe\">\n",
       "  <thead>\n",
       "    <tr style=\"text-align: right;\">\n",
       "      <th></th>\n",
       "      <th>id</th>\n",
       "      <th>review</th>\n",
       "      <th>rating</th>\n",
       "      <th>fresh</th>\n",
       "      <th>critic</th>\n",
       "      <th>top_critic</th>\n",
       "      <th>publisher</th>\n",
       "      <th>date</th>\n",
       "    </tr>\n",
       "  </thead>\n",
       "  <tbody>\n",
       "    <tr>\n",
       "      <th>0</th>\n",
       "      <td>3</td>\n",
       "      <td>A distinctly gallows take on contemporary fina...</td>\n",
       "      <td>3/5</td>\n",
       "      <td>fresh</td>\n",
       "      <td>PJ Nabarro</td>\n",
       "      <td>0</td>\n",
       "      <td>Patrick Nabarro</td>\n",
       "      <td>November 10, 2018</td>\n",
       "    </tr>\n",
       "    <tr>\n",
       "      <th>1</th>\n",
       "      <td>3</td>\n",
       "      <td>It's an allegory in search of a meaning that n...</td>\n",
       "      <td>NaN</td>\n",
       "      <td>rotten</td>\n",
       "      <td>Annalee Newitz</td>\n",
       "      <td>0</td>\n",
       "      <td>io9.com</td>\n",
       "      <td>May 23, 2018</td>\n",
       "    </tr>\n",
       "    <tr>\n",
       "      <th>2</th>\n",
       "      <td>3</td>\n",
       "      <td>... life lived in a bubble in financial dealin...</td>\n",
       "      <td>NaN</td>\n",
       "      <td>fresh</td>\n",
       "      <td>Sean Axmaker</td>\n",
       "      <td>0</td>\n",
       "      <td>Stream on Demand</td>\n",
       "      <td>January 4, 2018</td>\n",
       "    </tr>\n",
       "    <tr>\n",
       "      <th>3</th>\n",
       "      <td>3</td>\n",
       "      <td>Continuing along a line introduced in last yea...</td>\n",
       "      <td>NaN</td>\n",
       "      <td>fresh</td>\n",
       "      <td>Daniel Kasman</td>\n",
       "      <td>0</td>\n",
       "      <td>MUBI</td>\n",
       "      <td>November 16, 2017</td>\n",
       "    </tr>\n",
       "    <tr>\n",
       "      <th>4</th>\n",
       "      <td>3</td>\n",
       "      <td>... a perverse twist on neorealism...</td>\n",
       "      <td>NaN</td>\n",
       "      <td>fresh</td>\n",
       "      <td>NaN</td>\n",
       "      <td>0</td>\n",
       "      <td>Cinema Scope</td>\n",
       "      <td>October 12, 2017</td>\n",
       "    </tr>\n",
       "  </tbody>\n",
       "</table>\n",
       "</div>"
      ],
      "text/plain": [
       "   id                                             review rating   fresh  \\\n",
       "0   3  A distinctly gallows take on contemporary fina...    3/5   fresh   \n",
       "1   3  It's an allegory in search of a meaning that n...    NaN  rotten   \n",
       "2   3  ... life lived in a bubble in financial dealin...    NaN   fresh   \n",
       "3   3  Continuing along a line introduced in last yea...    NaN   fresh   \n",
       "4   3             ... a perverse twist on neorealism...     NaN   fresh   \n",
       "\n",
       "           critic  top_critic         publisher               date  \n",
       "0      PJ Nabarro           0   Patrick Nabarro  November 10, 2018  \n",
       "1  Annalee Newitz           0           io9.com       May 23, 2018  \n",
       "2    Sean Axmaker           0  Stream on Demand    January 4, 2018  \n",
       "3   Daniel Kasman           0              MUBI  November 16, 2017  \n",
       "4             NaN           0      Cinema Scope   October 12, 2017  "
      ]
     },
     "execution_count": 143,
     "metadata": {},
     "output_type": "execute_result"
    }
   ],
   "source": [
    "df_review.head()"
   ]
  },
  {
   "cell_type": "code",
   "execution_count": 144,
   "metadata": {},
   "outputs": [
    {
     "name": "stdout",
     "output_type": "stream",
     "text": [
      "<class 'pandas.core.frame.DataFrame'>\n",
      "RangeIndex: 54432 entries, 0 to 54431\n",
      "Data columns (total 8 columns):\n",
      " #   Column      Non-Null Count  Dtype \n",
      "---  ------      --------------  ----- \n",
      " 0   id          54432 non-null  int64 \n",
      " 1   review      48869 non-null  object\n",
      " 2   rating      40915 non-null  object\n",
      " 3   fresh       54432 non-null  object\n",
      " 4   critic      51710 non-null  object\n",
      " 5   top_critic  54432 non-null  int64 \n",
      " 6   publisher   54123 non-null  object\n",
      " 7   date        54432 non-null  object\n",
      "dtypes: int64(2), object(6)\n",
      "memory usage: 3.3+ MB\n"
     ]
    }
   ],
   "source": [
    "df_review.info()"
   ]
  },
  {
   "cell_type": "markdown",
   "metadata": {},
   "source": [
    "#### Import im.db table"
   ]
  },
  {
   "cell_type": "code",
   "execution_count": 7,
   "metadata": {},
   "outputs": [],
   "source": [
    "conn = sqlite3.connect('zippedData/im.db/im.db')"
   ]
  },
  {
   "cell_type": "code",
   "execution_count": 8,
   "metadata": {},
   "outputs": [
    {
     "data": {
      "text/html": [
       "<div>\n",
       "<style scoped>\n",
       "    .dataframe tbody tr th:only-of-type {\n",
       "        vertical-align: middle;\n",
       "    }\n",
       "\n",
       "    .dataframe tbody tr th {\n",
       "        vertical-align: top;\n",
       "    }\n",
       "\n",
       "    .dataframe thead th {\n",
       "        text-align: right;\n",
       "    }\n",
       "</style>\n",
       "<table border=\"1\" class=\"dataframe\">\n",
       "  <thead>\n",
       "    <tr style=\"text-align: right;\">\n",
       "      <th></th>\n",
       "      <th>type</th>\n",
       "      <th>name</th>\n",
       "      <th>tbl_name</th>\n",
       "      <th>rootpage</th>\n",
       "      <th>sql</th>\n",
       "    </tr>\n",
       "  </thead>\n",
       "  <tbody>\n",
       "    <tr>\n",
       "      <th>0</th>\n",
       "      <td>table</td>\n",
       "      <td>movie_basics</td>\n",
       "      <td>movie_basics</td>\n",
       "      <td>2</td>\n",
       "      <td>CREATE TABLE \"movie_basics\" (\\n\"movie_id\" TEXT...</td>\n",
       "    </tr>\n",
       "    <tr>\n",
       "      <th>1</th>\n",
       "      <td>table</td>\n",
       "      <td>directors</td>\n",
       "      <td>directors</td>\n",
       "      <td>3</td>\n",
       "      <td>CREATE TABLE \"directors\" (\\n\"movie_id\" TEXT,\\n...</td>\n",
       "    </tr>\n",
       "    <tr>\n",
       "      <th>2</th>\n",
       "      <td>table</td>\n",
       "      <td>known_for</td>\n",
       "      <td>known_for</td>\n",
       "      <td>4</td>\n",
       "      <td>CREATE TABLE \"known_for\" (\\n\"person_id\" TEXT,\\...</td>\n",
       "    </tr>\n",
       "    <tr>\n",
       "      <th>3</th>\n",
       "      <td>table</td>\n",
       "      <td>movie_akas</td>\n",
       "      <td>movie_akas</td>\n",
       "      <td>5</td>\n",
       "      <td>CREATE TABLE \"movie_akas\" (\\n\"movie_id\" TEXT,\\...</td>\n",
       "    </tr>\n",
       "    <tr>\n",
       "      <th>4</th>\n",
       "      <td>table</td>\n",
       "      <td>movie_ratings</td>\n",
       "      <td>movie_ratings</td>\n",
       "      <td>6</td>\n",
       "      <td>CREATE TABLE \"movie_ratings\" (\\n\"movie_id\" TEX...</td>\n",
       "    </tr>\n",
       "    <tr>\n",
       "      <th>5</th>\n",
       "      <td>table</td>\n",
       "      <td>persons</td>\n",
       "      <td>persons</td>\n",
       "      <td>7</td>\n",
       "      <td>CREATE TABLE \"persons\" (\\n\"person_id\" TEXT,\\n ...</td>\n",
       "    </tr>\n",
       "    <tr>\n",
       "      <th>6</th>\n",
       "      <td>table</td>\n",
       "      <td>principals</td>\n",
       "      <td>principals</td>\n",
       "      <td>8</td>\n",
       "      <td>CREATE TABLE \"principals\" (\\n\"movie_id\" TEXT,\\...</td>\n",
       "    </tr>\n",
       "    <tr>\n",
       "      <th>7</th>\n",
       "      <td>table</td>\n",
       "      <td>writers</td>\n",
       "      <td>writers</td>\n",
       "      <td>9</td>\n",
       "      <td>CREATE TABLE \"writers\" (\\n\"movie_id\" TEXT,\\n  ...</td>\n",
       "    </tr>\n",
       "  </tbody>\n",
       "</table>\n",
       "</div>"
      ],
      "text/plain": [
       "    type           name       tbl_name  rootpage  \\\n",
       "0  table   movie_basics   movie_basics         2   \n",
       "1  table      directors      directors         3   \n",
       "2  table      known_for      known_for         4   \n",
       "3  table     movie_akas     movie_akas         5   \n",
       "4  table  movie_ratings  movie_ratings         6   \n",
       "5  table        persons        persons         7   \n",
       "6  table     principals     principals         8   \n",
       "7  table        writers        writers         9   \n",
       "\n",
       "                                                 sql  \n",
       "0  CREATE TABLE \"movie_basics\" (\\n\"movie_id\" TEXT...  \n",
       "1  CREATE TABLE \"directors\" (\\n\"movie_id\" TEXT,\\n...  \n",
       "2  CREATE TABLE \"known_for\" (\\n\"person_id\" TEXT,\\...  \n",
       "3  CREATE TABLE \"movie_akas\" (\\n\"movie_id\" TEXT,\\...  \n",
       "4  CREATE TABLE \"movie_ratings\" (\\n\"movie_id\" TEX...  \n",
       "5  CREATE TABLE \"persons\" (\\n\"person_id\" TEXT,\\n ...  \n",
       "6  CREATE TABLE \"principals\" (\\n\"movie_id\" TEXT,\\...  \n",
       "7  CREATE TABLE \"writers\" (\\n\"movie_id\" TEXT,\\n  ...  "
      ]
     },
     "execution_count": 8,
     "metadata": {},
     "output_type": "execute_result"
    }
   ],
   "source": [
    "pd.read_sql(\"\"\"\n",
    "SELECT *\n",
    "FROM sqlite_master\n",
    "\n",
    "\"\"\",conn)"
   ]
  },
  {
   "attachments": {
    "Entity%20Relationships.png": {
     "image/png": "[encoded data removed]"
    }
   },
   "cell_type": "markdown",
   "metadata": {},
   "source": [
    "# Import entity relationship diagram(need to do)![Entity%20Relationships.png](attachment:Entity%20Relationships.png)"
   ]
  },
  {
   "cell_type": "markdown",
   "metadata": {},
   "source": [
    "#### Import rt.movie_info table"
   ]
  },
  {
   "cell_type": "code",
   "execution_count": 147,
   "metadata": {},
   "outputs": [],
   "source": [
    "df_movie_info = pd.read_csv(r'zippedData/rt.movie_info.tsv.gz', compression='gzip', delimiter='\\t', encoding='latin1')"
   ]
  },
  {
   "cell_type": "code",
   "execution_count": 148,
   "metadata": {},
   "outputs": [
    {
     "data": {
      "text/html": [
       "<div>\n",
       "<style scoped>\n",
       "    .dataframe tbody tr th:only-of-type {\n",
       "        vertical-align: middle;\n",
       "    }\n",
       "\n",
       "    .dataframe tbody tr th {\n",
       "        vertical-align: top;\n",
       "    }\n",
       "\n",
       "    .dataframe thead th {\n",
       "        text-align: right;\n",
       "    }\n",
       "</style>\n",
       "<table border=\"1\" class=\"dataframe\">\n",
       "  <thead>\n",
       "    <tr style=\"text-align: right;\">\n",
       "      <th></th>\n",
       "      <th>id</th>\n",
       "      <th>synopsis</th>\n",
       "      <th>rating</th>\n",
       "      <th>genre</th>\n",
       "      <th>director</th>\n",
       "      <th>writer</th>\n",
       "      <th>theater_date</th>\n",
       "      <th>dvd_date</th>\n",
       "      <th>currency</th>\n",
       "      <th>box_office</th>\n",
       "      <th>runtime</th>\n",
       "      <th>studio</th>\n",
       "    </tr>\n",
       "  </thead>\n",
       "  <tbody>\n",
       "    <tr>\n",
       "      <th>0</th>\n",
       "      <td>1</td>\n",
       "      <td>This gritty, fast-paced, and innovative police...</td>\n",
       "      <td>R</td>\n",
       "      <td>Action and Adventure|Classics|Drama</td>\n",
       "      <td>William Friedkin</td>\n",
       "      <td>Ernest Tidyman</td>\n",
       "      <td>Oct 9, 1971</td>\n",
       "      <td>Sep 25, 2001</td>\n",
       "      <td>NaN</td>\n",
       "      <td>NaN</td>\n",
       "      <td>104 minutes</td>\n",
       "      <td>NaN</td>\n",
       "    </tr>\n",
       "    <tr>\n",
       "      <th>1</th>\n",
       "      <td>3</td>\n",
       "      <td>New York City, not-too-distant-future: Eric Pa...</td>\n",
       "      <td>R</td>\n",
       "      <td>Drama|Science Fiction and Fantasy</td>\n",
       "      <td>David Cronenberg</td>\n",
       "      <td>David Cronenberg|Don DeLillo</td>\n",
       "      <td>Aug 17, 2012</td>\n",
       "      <td>Jan 1, 2013</td>\n",
       "      <td>$</td>\n",
       "      <td>600,000</td>\n",
       "      <td>108 minutes</td>\n",
       "      <td>Entertainment One</td>\n",
       "    </tr>\n",
       "    <tr>\n",
       "      <th>2</th>\n",
       "      <td>5</td>\n",
       "      <td>Illeana Douglas delivers a superb performance ...</td>\n",
       "      <td>R</td>\n",
       "      <td>Drama|Musical and Performing Arts</td>\n",
       "      <td>Allison Anders</td>\n",
       "      <td>Allison Anders</td>\n",
       "      <td>Sep 13, 1996</td>\n",
       "      <td>Apr 18, 2000</td>\n",
       "      <td>NaN</td>\n",
       "      <td>NaN</td>\n",
       "      <td>116 minutes</td>\n",
       "      <td>NaN</td>\n",
       "    </tr>\n",
       "    <tr>\n",
       "      <th>3</th>\n",
       "      <td>6</td>\n",
       "      <td>Michael Douglas runs afoul of a treacherous su...</td>\n",
       "      <td>R</td>\n",
       "      <td>Drama|Mystery and Suspense</td>\n",
       "      <td>Barry Levinson</td>\n",
       "      <td>Paul Attanasio|Michael Crichton</td>\n",
       "      <td>Dec 9, 1994</td>\n",
       "      <td>Aug 27, 1997</td>\n",
       "      <td>NaN</td>\n",
       "      <td>NaN</td>\n",
       "      <td>128 minutes</td>\n",
       "      <td>NaN</td>\n",
       "    </tr>\n",
       "    <tr>\n",
       "      <th>4</th>\n",
       "      <td>7</td>\n",
       "      <td>NaN</td>\n",
       "      <td>NR</td>\n",
       "      <td>Drama|Romance</td>\n",
       "      <td>Rodney Bennett</td>\n",
       "      <td>Giles Cooper</td>\n",
       "      <td>NaN</td>\n",
       "      <td>NaN</td>\n",
       "      <td>NaN</td>\n",
       "      <td>NaN</td>\n",
       "      <td>200 minutes</td>\n",
       "      <td>NaN</td>\n",
       "    </tr>\n",
       "  </tbody>\n",
       "</table>\n",
       "</div>"
      ],
      "text/plain": [
       "   id                                           synopsis rating  \\\n",
       "0   1  This gritty, fast-paced, and innovative police...      R   \n",
       "1   3  New York City, not-too-distant-future: Eric Pa...      R   \n",
       "2   5  Illeana Douglas delivers a superb performance ...      R   \n",
       "3   6  Michael Douglas runs afoul of a treacherous su...      R   \n",
       "4   7                                                NaN     NR   \n",
       "\n",
       "                                 genre          director  \\\n",
       "0  Action and Adventure|Classics|Drama  William Friedkin   \n",
       "1    Drama|Science Fiction and Fantasy  David Cronenberg   \n",
       "2    Drama|Musical and Performing Arts    Allison Anders   \n",
       "3           Drama|Mystery and Suspense    Barry Levinson   \n",
       "4                        Drama|Romance    Rodney Bennett   \n",
       "\n",
       "                            writer  theater_date      dvd_date currency  \\\n",
       "0                   Ernest Tidyman   Oct 9, 1971  Sep 25, 2001      NaN   \n",
       "1     David Cronenberg|Don DeLillo  Aug 17, 2012   Jan 1, 2013        $   \n",
       "2                   Allison Anders  Sep 13, 1996  Apr 18, 2000      NaN   \n",
       "3  Paul Attanasio|Michael Crichton   Dec 9, 1994  Aug 27, 1997      NaN   \n",
       "4                     Giles Cooper           NaN           NaN      NaN   \n",
       "\n",
       "  box_office      runtime             studio  \n",
       "0        NaN  104 minutes                NaN  \n",
       "1    600,000  108 minutes  Entertainment One  \n",
       "2        NaN  116 minutes                NaN  \n",
       "3        NaN  128 minutes                NaN  \n",
       "4        NaN  200 minutes                NaN  "
      ]
     },
     "execution_count": 148,
     "metadata": {},
     "output_type": "execute_result"
    }
   ],
   "source": [
    "df_movie_info.head()"
   ]
  },
  {
   "cell_type": "code",
   "execution_count": 149,
   "metadata": {},
   "outputs": [
    {
     "name": "stdout",
     "output_type": "stream",
     "text": [
      "<class 'pandas.core.frame.DataFrame'>\n",
      "RangeIndex: 1560 entries, 0 to 1559\n",
      "Data columns (total 12 columns):\n",
      " #   Column        Non-Null Count  Dtype \n",
      "---  ------        --------------  ----- \n",
      " 0   id            1560 non-null   int64 \n",
      " 1   synopsis      1498 non-null   object\n",
      " 2   rating        1557 non-null   object\n",
      " 3   genre         1552 non-null   object\n",
      " 4   director      1361 non-null   object\n",
      " 5   writer        1111 non-null   object\n",
      " 6   theater_date  1201 non-null   object\n",
      " 7   dvd_date      1201 non-null   object\n",
      " 8   currency      340 non-null    object\n",
      " 9   box_office    340 non-null    object\n",
      " 10  runtime       1530 non-null   object\n",
      " 11  studio        494 non-null    object\n",
      "dtypes: int64(1), object(11)\n",
      "memory usage: 146.4+ KB\n"
     ]
    }
   ],
   "source": [
    "df_movie_info.info()"
   ]
  },
  {
   "cell_type": "markdown",
   "metadata": {},
   "source": [
    "#### Import bom.movie_gross table"
   ]
  },
  {
   "cell_type": "code",
   "execution_count": 150,
   "metadata": {},
   "outputs": [],
   "source": [
    "df_bom = pd.read_csv(r'zippedData/bom.movie_gross.csv.gz', compression='gzip')"
   ]
  },
  {
   "cell_type": "code",
   "execution_count": 151,
   "metadata": {},
   "outputs": [
    {
     "data": {
      "text/html": [
       "<div>\n",
       "<style scoped>\n",
       "    .dataframe tbody tr th:only-of-type {\n",
       "        vertical-align: middle;\n",
       "    }\n",
       "\n",
       "    .dataframe tbody tr th {\n",
       "        vertical-align: top;\n",
       "    }\n",
       "\n",
       "    .dataframe thead th {\n",
       "        text-align: right;\n",
       "    }\n",
       "</style>\n",
       "<table border=\"1\" class=\"dataframe\">\n",
       "  <thead>\n",
       "    <tr style=\"text-align: right;\">\n",
       "      <th></th>\n",
       "      <th>title</th>\n",
       "      <th>studio</th>\n",
       "      <th>domestic_gross</th>\n",
       "      <th>foreign_gross</th>\n",
       "      <th>year</th>\n",
       "    </tr>\n",
       "  </thead>\n",
       "  <tbody>\n",
       "    <tr>\n",
       "      <th>0</th>\n",
       "      <td>Toy Story 3</td>\n",
       "      <td>BV</td>\n",
       "      <td>415000000.0</td>\n",
       "      <td>652000000</td>\n",
       "      <td>2010</td>\n",
       "    </tr>\n",
       "    <tr>\n",
       "      <th>1</th>\n",
       "      <td>Alice in Wonderland (2010)</td>\n",
       "      <td>BV</td>\n",
       "      <td>334200000.0</td>\n",
       "      <td>691300000</td>\n",
       "      <td>2010</td>\n",
       "    </tr>\n",
       "    <tr>\n",
       "      <th>2</th>\n",
       "      <td>Harry Potter and the Deathly Hallows Part 1</td>\n",
       "      <td>WB</td>\n",
       "      <td>296000000.0</td>\n",
       "      <td>664300000</td>\n",
       "      <td>2010</td>\n",
       "    </tr>\n",
       "    <tr>\n",
       "      <th>3</th>\n",
       "      <td>Inception</td>\n",
       "      <td>WB</td>\n",
       "      <td>292600000.0</td>\n",
       "      <td>535700000</td>\n",
       "      <td>2010</td>\n",
       "    </tr>\n",
       "    <tr>\n",
       "      <th>4</th>\n",
       "      <td>Shrek Forever After</td>\n",
       "      <td>P/DW</td>\n",
       "      <td>238700000.0</td>\n",
       "      <td>513900000</td>\n",
       "      <td>2010</td>\n",
       "    </tr>\n",
       "  </tbody>\n",
       "</table>\n",
       "</div>"
      ],
      "text/plain": [
       "                                         title studio  domestic_gross  \\\n",
       "0                                  Toy Story 3     BV     415000000.0   \n",
       "1                   Alice in Wonderland (2010)     BV     334200000.0   \n",
       "2  Harry Potter and the Deathly Hallows Part 1     WB     296000000.0   \n",
       "3                                    Inception     WB     292600000.0   \n",
       "4                          Shrek Forever After   P/DW     238700000.0   \n",
       "\n",
       "  foreign_gross  year  \n",
       "0     652000000  2010  \n",
       "1     691300000  2010  \n",
       "2     664300000  2010  \n",
       "3     535700000  2010  \n",
       "4     513900000  2010  "
      ]
     },
     "execution_count": 151,
     "metadata": {},
     "output_type": "execute_result"
    }
   ],
   "source": [
    "df_bom.head()"
   ]
  },
  {
   "cell_type": "code",
   "execution_count": 152,
   "metadata": {},
   "outputs": [
    {
     "name": "stdout",
     "output_type": "stream",
     "text": [
      "<class 'pandas.core.frame.DataFrame'>\n",
      "RangeIndex: 3387 entries, 0 to 3386\n",
      "Data columns (total 5 columns):\n",
      " #   Column          Non-Null Count  Dtype  \n",
      "---  ------          --------------  -----  \n",
      " 0   title           3387 non-null   object \n",
      " 1   studio          3382 non-null   object \n",
      " 2   domestic_gross  3359 non-null   float64\n",
      " 3   foreign_gross   2037 non-null   object \n",
      " 4   year            3387 non-null   int64  \n",
      "dtypes: float64(1), int64(1), object(3)\n",
      "memory usage: 132.4+ KB\n"
     ]
    }
   ],
   "source": [
    "df_bom.info()"
   ]
  },
  {
   "cell_type": "markdown",
   "metadata": {},
   "source": [
    "### Identify the relationship between Genres and profitability"
   ]
  },
  {
   "cell_type": "markdown",
   "metadata": {},
   "source": [
    "Assign movie)basic information to df_movie_basic dataframe"
   ]
  },
  {
   "cell_type": "code",
   "execution_count": 153,
   "metadata": {},
   "outputs": [],
   "source": [
    "df_movie_basic= pd.read_sql(\"\"\"\n",
    "SELECT *\n",
    "  FROM movie_basics\n",
    "      \n",
    "\"\"\", conn)"
   ]
  },
  {
   "cell_type": "code",
   "execution_count": 154,
   "metadata": {},
   "outputs": [
    {
     "data": {
      "text/plain": [
       "Documentary                    32185\n",
       "Drama                          21486\n",
       "Comedy                          9177\n",
       "Horror                          4372\n",
       "Comedy,Drama                    3519\n",
       "                               ...  \n",
       "Horror,Sci-Fi,War                  1\n",
       "Animation,Family,Sport             1\n",
       "Adventure,Animation,Mystery        1\n",
       "Action,History,Horror              1\n",
       "Drama,Short,Western                1\n",
       "Name: genres, Length: 1085, dtype: int64"
      ]
     },
     "execution_count": 154,
     "metadata": {},
     "output_type": "execute_result"
    }
   ],
   "source": [
    "df_movie_basic['genres'].value_counts()"
   ]
  },
  {
   "cell_type": "markdown",
   "metadata": {},
   "source": [
    "##### Removed Genres with count of less than 25 as statistical test could be skewed with categories with less numbers"
   ]
  },
  {
   "cell_type": "code",
   "execution_count": 155,
   "metadata": {},
   "outputs": [],
   "source": [
    "df_movie_basic = df_movie_basic[df_movie_basic['genres'].map(df_movie_basic['genres'].value_counts()) >= 25]"
   ]
  },
  {
   "cell_type": "code",
   "execution_count": 156,
   "metadata": {
    "scrolled": true
   },
   "outputs": [
    {
     "data": {
      "text/plain": [
       "Documentary                   32185\n",
       "Drama                         21486\n",
       "Comedy                         9177\n",
       "Horror                         4372\n",
       "Comedy,Drama                   3519\n",
       "                              ...  \n",
       "Adventure,Drama,Horror           26\n",
       "Comedy,Romance,Thriller          25\n",
       "Documentary,Sci-Fi               25\n",
       "Biography,Drama,Thriller         25\n",
       "Action,Documentary,History       25\n",
       "Name: genres, Length: 311, dtype: int64"
      ]
     },
     "execution_count": 156,
     "metadata": {},
     "output_type": "execute_result"
    }
   ],
   "source": [
    "df_movie_basic['genres'].value_counts()"
   ]
  },
  {
   "cell_type": "markdown",
   "metadata": {},
   "source": [
    "Merge budget table and movie basic table to test the relationship between Generes and profitability ratio"
   ]
  },
  {
   "cell_type": "code",
   "execution_count": 157,
   "metadata": {},
   "outputs": [],
   "source": [
    "merged_budgets_and_movie_basic = df_movie_basic.merge(df_budget, left_on='primary_title', right_on='movie', how='inner')"
   ]
  },
  {
   "cell_type": "markdown",
   "metadata": {},
   "source": [
    "Check for null values in the table"
   ]
  },
  {
   "cell_type": "code",
   "execution_count": 158,
   "metadata": {},
   "outputs": [
    {
     "data": {
      "text/plain": [
       "movie_id                 0\n",
       "primary_title            0\n",
       "original_title           0\n",
       "start_year               0\n",
       "runtime_minutes        421\n",
       "genres                   0\n",
       "id                       0\n",
       "release_date             0\n",
       "movie                    0\n",
       "production_budget        0\n",
       "domestic_gross           0\n",
       "worldwide_gross          0\n",
       "Profitability_Ratio      0\n",
       "prof_cat                 0\n",
       "dtype: int64"
      ]
     },
     "execution_count": 158,
     "metadata": {},
     "output_type": "execute_result"
    }
   ],
   "source": [
    "merged_budgets_and_movie_basic.isna().sum()"
   ]
  },
  {
   "cell_type": "code",
   "execution_count": 159,
   "metadata": {
    "scrolled": false
   },
   "outputs": [
    {
     "data": {
      "text/html": [
       "<div>\n",
       "<style scoped>\n",
       "    .dataframe tbody tr th:only-of-type {\n",
       "        vertical-align: middle;\n",
       "    }\n",
       "\n",
       "    .dataframe tbody tr th {\n",
       "        vertical-align: top;\n",
       "    }\n",
       "\n",
       "    .dataframe thead th {\n",
       "        text-align: right;\n",
       "    }\n",
       "</style>\n",
       "<table border=\"1\" class=\"dataframe\">\n",
       "  <thead>\n",
       "    <tr style=\"text-align: right;\">\n",
       "      <th></th>\n",
       "      <th>movie_id</th>\n",
       "      <th>primary_title</th>\n",
       "      <th>original_title</th>\n",
       "      <th>start_year</th>\n",
       "      <th>runtime_minutes</th>\n",
       "      <th>genres</th>\n",
       "      <th>id</th>\n",
       "      <th>release_date</th>\n",
       "      <th>movie</th>\n",
       "      <th>production_budget</th>\n",
       "      <th>domestic_gross</th>\n",
       "      <th>worldwide_gross</th>\n",
       "      <th>Profitability_Ratio</th>\n",
       "      <th>prof_cat</th>\n",
       "    </tr>\n",
       "  </thead>\n",
       "  <tbody>\n",
       "    <tr>\n",
       "      <th>0</th>\n",
       "      <td>tt0249516</td>\n",
       "      <td>Foodfight!</td>\n",
       "      <td>Foodfight!</td>\n",
       "      <td>2012</td>\n",
       "      <td>91.0</td>\n",
       "      <td>Action,Animation,Comedy</td>\n",
       "      <td>26</td>\n",
       "      <td>Dec 31, 2012</td>\n",
       "      <td>Foodfight!</td>\n",
       "      <td>45000000.0</td>\n",
       "      <td>$0</td>\n",
       "      <td>73706.0</td>\n",
       "      <td>0.001638</td>\n",
       "      <td>Loss</td>\n",
       "    </tr>\n",
       "    <tr>\n",
       "      <th>1</th>\n",
       "      <td>tt0293429</td>\n",
       "      <td>Mortal Kombat</td>\n",
       "      <td>Mortal Kombat</td>\n",
       "      <td>2021</td>\n",
       "      <td>NaN</td>\n",
       "      <td>Action,Adventure,Fantasy</td>\n",
       "      <td>10</td>\n",
       "      <td>Aug 18, 1995</td>\n",
       "      <td>Mortal Kombat</td>\n",
       "      <td>20000000.0</td>\n",
       "      <td>$70,433,227</td>\n",
       "      <td>122133227.0</td>\n",
       "      <td>6.106661</td>\n",
       "      <td>High Profit</td>\n",
       "    </tr>\n",
       "    <tr>\n",
       "      <th>2</th>\n",
       "      <td>tt0337692</td>\n",
       "      <td>On the Road</td>\n",
       "      <td>On the Road</td>\n",
       "      <td>2012</td>\n",
       "      <td>124.0</td>\n",
       "      <td>Adventure,Drama,Romance</td>\n",
       "      <td>17</td>\n",
       "      <td>Mar 22, 2013</td>\n",
       "      <td>On the Road</td>\n",
       "      <td>25000000.0</td>\n",
       "      <td>$720,828</td>\n",
       "      <td>9313302.0</td>\n",
       "      <td>0.372532</td>\n",
       "      <td>Loss</td>\n",
       "    </tr>\n",
       "    <tr>\n",
       "      <th>3</th>\n",
       "      <td>tt2404548</td>\n",
       "      <td>On the Road</td>\n",
       "      <td>On the Road</td>\n",
       "      <td>2011</td>\n",
       "      <td>90.0</td>\n",
       "      <td>Drama</td>\n",
       "      <td>17</td>\n",
       "      <td>Mar 22, 2013</td>\n",
       "      <td>On the Road</td>\n",
       "      <td>25000000.0</td>\n",
       "      <td>$720,828</td>\n",
       "      <td>9313302.0</td>\n",
       "      <td>0.372532</td>\n",
       "      <td>Loss</td>\n",
       "    </tr>\n",
       "    <tr>\n",
       "      <th>4</th>\n",
       "      <td>tt3872966</td>\n",
       "      <td>On the Road</td>\n",
       "      <td>On the Road</td>\n",
       "      <td>2013</td>\n",
       "      <td>87.0</td>\n",
       "      <td>Documentary</td>\n",
       "      <td>17</td>\n",
       "      <td>Mar 22, 2013</td>\n",
       "      <td>On the Road</td>\n",
       "      <td>25000000.0</td>\n",
       "      <td>$720,828</td>\n",
       "      <td>9313302.0</td>\n",
       "      <td>0.372532</td>\n",
       "      <td>Loss</td>\n",
       "    </tr>\n",
       "  </tbody>\n",
       "</table>\n",
       "</div>"
      ],
      "text/plain": [
       "    movie_id  primary_title original_title  start_year  runtime_minutes  \\\n",
       "0  tt0249516     Foodfight!     Foodfight!        2012             91.0   \n",
       "1  tt0293429  Mortal Kombat  Mortal Kombat        2021              NaN   \n",
       "2  tt0337692    On the Road    On the Road        2012            124.0   \n",
       "3  tt2404548    On the Road    On the Road        2011             90.0   \n",
       "4  tt3872966    On the Road    On the Road        2013             87.0   \n",
       "\n",
       "                     genres  id  release_date          movie  \\\n",
       "0   Action,Animation,Comedy  26  Dec 31, 2012     Foodfight!   \n",
       "1  Action,Adventure,Fantasy  10  Aug 18, 1995  Mortal Kombat   \n",
       "2   Adventure,Drama,Romance  17  Mar 22, 2013    On the Road   \n",
       "3                     Drama  17  Mar 22, 2013    On the Road   \n",
       "4               Documentary  17  Mar 22, 2013    On the Road   \n",
       "\n",
       "   production_budget domestic_gross  worldwide_gross  Profitability_Ratio  \\\n",
       "0         45000000.0             $0          73706.0             0.001638   \n",
       "1         20000000.0    $70,433,227      122133227.0             6.106661   \n",
       "2         25000000.0       $720,828        9313302.0             0.372532   \n",
       "3         25000000.0       $720,828        9313302.0             0.372532   \n",
       "4         25000000.0       $720,828        9313302.0             0.372532   \n",
       "\n",
       "      prof_cat  \n",
       "0         Loss  \n",
       "1  High Profit  \n",
       "2         Loss  \n",
       "3         Loss  \n",
       "4         Loss  "
      ]
     },
     "execution_count": 159,
     "metadata": {},
     "output_type": "execute_result"
    }
   ],
   "source": [
    "merged_budgets_and_movie_basic.head()"
   ]
  },
  {
   "cell_type": "raw",
   "metadata": {},
   "source": [
    "Conduct chi-square test to test the significance of below hypothesis\n",
    "\n",
    "H0 : There is no significant relationship between Genere and profitability ratio\n",
    "H1 : There is a significant relationship between Genere and profitability ratio"
   ]
  },
  {
   "cell_type": "markdown",
   "metadata": {},
   "source": [
    "Generate cross tab for chi-square test"
   ]
  },
  {
   "cell_type": "code",
   "execution_count": 160,
   "metadata": {},
   "outputs": [],
   "source": [
    "contingency_table=pd.crosstab(index=merged_budgets_and_movie_basic[\"genres\"],columns=merged_budgets_and_movie_basic[\"prof_cat\"])"
   ]
  },
  {
   "cell_type": "code",
   "execution_count": 161,
   "metadata": {},
   "outputs": [
    {
     "data": {
      "text/html": [
       "<div>\n",
       "<style scoped>\n",
       "    .dataframe tbody tr th:only-of-type {\n",
       "        vertical-align: middle;\n",
       "    }\n",
       "\n",
       "    .dataframe tbody tr th {\n",
       "        vertical-align: top;\n",
       "    }\n",
       "\n",
       "    .dataframe thead th {\n",
       "        text-align: right;\n",
       "    }\n",
       "</style>\n",
       "<table border=\"1\" class=\"dataframe\">\n",
       "  <thead>\n",
       "    <tr style=\"text-align: right;\">\n",
       "      <th>prof_cat</th>\n",
       "      <th>High Profit</th>\n",
       "      <th>Loss</th>\n",
       "      <th>Low Profit</th>\n",
       "      <th>Medium Profit</th>\n",
       "    </tr>\n",
       "    <tr>\n",
       "      <th>genres</th>\n",
       "      <th></th>\n",
       "      <th></th>\n",
       "      <th></th>\n",
       "      <th></th>\n",
       "    </tr>\n",
       "  </thead>\n",
       "  <tbody>\n",
       "    <tr>\n",
       "      <th>Action</th>\n",
       "      <td>9</td>\n",
       "      <td>32</td>\n",
       "      <td>4</td>\n",
       "      <td>1</td>\n",
       "    </tr>\n",
       "    <tr>\n",
       "      <th>Action,Adventure</th>\n",
       "      <td>1</td>\n",
       "      <td>3</td>\n",
       "      <td>1</td>\n",
       "      <td>1</td>\n",
       "    </tr>\n",
       "    <tr>\n",
       "      <th>Action,Adventure,Animation</th>\n",
       "      <td>8</td>\n",
       "      <td>4</td>\n",
       "      <td>3</td>\n",
       "      <td>2</td>\n",
       "    </tr>\n",
       "    <tr>\n",
       "      <th>Action,Adventure,Biography</th>\n",
       "      <td>0</td>\n",
       "      <td>3</td>\n",
       "      <td>0</td>\n",
       "      <td>2</td>\n",
       "    </tr>\n",
       "    <tr>\n",
       "      <th>Action,Adventure,Comedy</th>\n",
       "      <td>11</td>\n",
       "      <td>13</td>\n",
       "      <td>2</td>\n",
       "      <td>7</td>\n",
       "    </tr>\n",
       "    <tr>\n",
       "      <th>...</th>\n",
       "      <td>...</td>\n",
       "      <td>...</td>\n",
       "      <td>...</td>\n",
       "      <td>...</td>\n",
       "    </tr>\n",
       "    <tr>\n",
       "      <th>Sci-Fi,Thriller</th>\n",
       "      <td>2</td>\n",
       "      <td>4</td>\n",
       "      <td>2</td>\n",
       "      <td>0</td>\n",
       "    </tr>\n",
       "    <tr>\n",
       "      <th>Sport</th>\n",
       "      <td>0</td>\n",
       "      <td>3</td>\n",
       "      <td>0</td>\n",
       "      <td>0</td>\n",
       "    </tr>\n",
       "    <tr>\n",
       "      <th>Thriller</th>\n",
       "      <td>13</td>\n",
       "      <td>55</td>\n",
       "      <td>5</td>\n",
       "      <td>7</td>\n",
       "    </tr>\n",
       "    <tr>\n",
       "      <th>War</th>\n",
       "      <td>1</td>\n",
       "      <td>1</td>\n",
       "      <td>0</td>\n",
       "      <td>2</td>\n",
       "    </tr>\n",
       "    <tr>\n",
       "      <th>Western</th>\n",
       "      <td>1</td>\n",
       "      <td>6</td>\n",
       "      <td>1</td>\n",
       "      <td>0</td>\n",
       "    </tr>\n",
       "  </tbody>\n",
       "</table>\n",
       "<p>260 rows × 4 columns</p>\n",
       "</div>"
      ],
      "text/plain": [
       "prof_cat                    High Profit  Loss  Low Profit  Medium Profit\n",
       "genres                                                                  \n",
       "Action                                9    32           4              1\n",
       "Action,Adventure                      1     3           1              1\n",
       "Action,Adventure,Animation            8     4           3              2\n",
       "Action,Adventure,Biography            0     3           0              2\n",
       "Action,Adventure,Comedy              11    13           2              7\n",
       "...                                 ...   ...         ...            ...\n",
       "Sci-Fi,Thriller                       2     4           2              0\n",
       "Sport                                 0     3           0              0\n",
       "Thriller                             13    55           5              7\n",
       "War                                   1     1           0              2\n",
       "Western                               1     6           1              0\n",
       "\n",
       "[260 rows x 4 columns]"
      ]
     },
     "execution_count": 161,
     "metadata": {},
     "output_type": "execute_result"
    }
   ],
   "source": [
    "contingency_table"
   ]
  },
  {
   "cell_type": "markdown",
   "metadata": {},
   "source": [
    "Conduct chi-square test for statistical significance"
   ]
  },
  {
   "cell_type": "code",
   "execution_count": 162,
   "metadata": {},
   "outputs": [
    {
     "data": {
      "text/plain": [
       "(969.864209218732,\n",
       " 2.627661714862611e-06,\n",
       " 777,\n",
       " array([[ 9.25154062, 27.30364146,  5.75966387,  3.68515406],\n",
       "        [ 1.20672269,  3.56134454,  0.7512605 ,  0.48067227],\n",
       "        [ 3.41904762, 10.09047619,  2.12857143,  1.36190476],\n",
       "        ...,\n",
       "        [16.08963585, 47.48459384, 10.01680672,  6.40896359],\n",
       "        [ 0.80448179,  2.37422969,  0.50084034,  0.32044818],\n",
       "        [ 1.60896359,  4.74845938,  1.00168067,  0.64089636]]))"
      ]
     },
     "execution_count": 162,
     "metadata": {},
     "output_type": "execute_result"
    }
   ],
   "source": [
    "stats.contingency.chi2_contingency(contingency_table)"
   ]
  },
  {
   "cell_type": "markdown",
   "metadata": {},
   "source": [
    "As indicated above it is possible to reject null hypothesis at 95% confidence level. Therefore through the chi-square test it is proven that there is a significant relationship between genere and profitability ratio."
   ]
  },
  {
   "cell_type": "markdown",
   "metadata": {},
   "source": [
    "To identify which category of genere shows highest profitability identied those groups."
   ]
  },
  {
   "cell_type": "code",
   "execution_count": 163,
   "metadata": {},
   "outputs": [],
   "source": [
    "merged_budgets_and_movie_basic_1 = merged_budgets_and_movie_basic.groupby(merged_budgets_and_movie_basic['genres']).median()"
   ]
  },
  {
   "cell_type": "code",
   "execution_count": 164,
   "metadata": {},
   "outputs": [
    {
     "data": {
      "text/html": [
       "<div>\n",
       "<style scoped>\n",
       "    .dataframe tbody tr th:only-of-type {\n",
       "        vertical-align: middle;\n",
       "    }\n",
       "\n",
       "    .dataframe tbody tr th {\n",
       "        vertical-align: top;\n",
       "    }\n",
       "\n",
       "    .dataframe thead th {\n",
       "        text-align: right;\n",
       "    }\n",
       "</style>\n",
       "<table border=\"1\" class=\"dataframe\">\n",
       "  <thead>\n",
       "    <tr style=\"text-align: right;\">\n",
       "      <th></th>\n",
       "      <th>start_year</th>\n",
       "      <th>runtime_minutes</th>\n",
       "      <th>id</th>\n",
       "      <th>production_budget</th>\n",
       "      <th>worldwide_gross</th>\n",
       "      <th>Profitability_Ratio</th>\n",
       "    </tr>\n",
       "    <tr>\n",
       "      <th>genres</th>\n",
       "      <th></th>\n",
       "      <th></th>\n",
       "      <th></th>\n",
       "      <th></th>\n",
       "      <th></th>\n",
       "      <th></th>\n",
       "    </tr>\n",
       "  </thead>\n",
       "  <tbody>\n",
       "    <tr>\n",
       "      <th>Family,Fantasy</th>\n",
       "      <td>2015.0</td>\n",
       "      <td>NaN</td>\n",
       "      <td>46.0</td>\n",
       "      <td>23644623.5</td>\n",
       "      <td>57990905.5</td>\n",
       "      <td>18.764188</td>\n",
       "    </tr>\n",
       "    <tr>\n",
       "      <th>Crime,Horror,Mystery</th>\n",
       "      <td>2015.0</td>\n",
       "      <td>92.0</td>\n",
       "      <td>29.0</td>\n",
       "      <td>10000000.0</td>\n",
       "      <td>16434588.0</td>\n",
       "      <td>10.244520</td>\n",
       "    </tr>\n",
       "    <tr>\n",
       "      <th>Adventure,Drama,Fantasy</th>\n",
       "      <td>2012.0</td>\n",
       "      <td>123.0</td>\n",
       "      <td>19.0</td>\n",
       "      <td>19500000.0</td>\n",
       "      <td>195790794.0</td>\n",
       "      <td>10.040554</td>\n",
       "    </tr>\n",
       "    <tr>\n",
       "      <th>Action,Comedy,Documentary</th>\n",
       "      <td>2010.0</td>\n",
       "      <td>95.0</td>\n",
       "      <td>98.0</td>\n",
       "      <td>20000000.0</td>\n",
       "      <td>171685793.0</td>\n",
       "      <td>8.584290</td>\n",
       "    </tr>\n",
       "    <tr>\n",
       "      <th>Comedy,Mystery</th>\n",
       "      <td>2013.0</td>\n",
       "      <td>90.5</td>\n",
       "      <td>30.0</td>\n",
       "      <td>40100000.0</td>\n",
       "      <td>293815150.5</td>\n",
       "      <td>6.580392</td>\n",
       "    </tr>\n",
       "  </tbody>\n",
       "</table>\n",
       "</div>"
      ],
      "text/plain": [
       "                           start_year  runtime_minutes    id  \\\n",
       "genres                                                         \n",
       "Family,Fantasy                 2015.0              NaN  46.0   \n",
       "Crime,Horror,Mystery           2015.0             92.0  29.0   \n",
       "Adventure,Drama,Fantasy        2012.0            123.0  19.0   \n",
       "Action,Comedy,Documentary      2010.0             95.0  98.0   \n",
       "Comedy,Mystery                 2013.0             90.5  30.0   \n",
       "\n",
       "                           production_budget  worldwide_gross  \\\n",
       "genres                                                          \n",
       "Family,Fantasy                    23644623.5       57990905.5   \n",
       "Crime,Horror,Mystery              10000000.0       16434588.0   \n",
       "Adventure,Drama,Fantasy           19500000.0      195790794.0   \n",
       "Action,Comedy,Documentary         20000000.0      171685793.0   \n",
       "Comedy,Mystery                    40100000.0      293815150.5   \n",
       "\n",
       "                           Profitability_Ratio  \n",
       "genres                                          \n",
       "Family,Fantasy                       18.764188  \n",
       "Crime,Horror,Mystery                 10.244520  \n",
       "Adventure,Drama,Fantasy              10.040554  \n",
       "Action,Comedy,Documentary             8.584290  \n",
       "Comedy,Mystery                        6.580392  "
      ]
     },
     "execution_count": 164,
     "metadata": {},
     "output_type": "execute_result"
    }
   ],
   "source": [
    "merged_budgets_and_movie_basic_1.sort_values(by=['Profitability_Ratio'],ascending=False).head()"
   ]
  },
  {
   "cell_type": "markdown",
   "metadata": {},
   "source": [
    "There on profitability point of view companies can focus on \n",
    "1. Family,Fantasy\n",
    "2. Horror,Mystery,Thriller\n",
    "3. Comedy,Fantasy\n",
    "4. Action,Comedy,Documentary\n",
    "5. Crime,Horror,Mystery"
   ]
  },
  {
   "cell_type": "markdown",
   "metadata": {},
   "source": [
    "### Identify the relationship between Runtime and profitability"
   ]
  },
  {
   "cell_type": "markdown",
   "metadata": {},
   "source": [
    "Using already assigned table of df_movie_basic"
   ]
  },
  {
   "cell_type": "code",
   "execution_count": 165,
   "metadata": {},
   "outputs": [],
   "source": [
    "df_runtime = pd.read_sql(\"\"\"\n",
    "SELECT *\n",
    "  FROM movie_basics\n",
    "      \n",
    "\"\"\", conn)"
   ]
  },
  {
   "cell_type": "code",
   "execution_count": 166,
   "metadata": {},
   "outputs": [
    {
     "data": {
      "text/html": [
       "<div>\n",
       "<style scoped>\n",
       "    .dataframe tbody tr th:only-of-type {\n",
       "        vertical-align: middle;\n",
       "    }\n",
       "\n",
       "    .dataframe tbody tr th {\n",
       "        vertical-align: top;\n",
       "    }\n",
       "\n",
       "    .dataframe thead th {\n",
       "        text-align: right;\n",
       "    }\n",
       "</style>\n",
       "<table border=\"1\" class=\"dataframe\">\n",
       "  <thead>\n",
       "    <tr style=\"text-align: right;\">\n",
       "      <th></th>\n",
       "      <th>start_year</th>\n",
       "      <th>runtime_minutes</th>\n",
       "    </tr>\n",
       "  </thead>\n",
       "  <tbody>\n",
       "    <tr>\n",
       "      <th>count</th>\n",
       "      <td>146144.000000</td>\n",
       "      <td>114405.000000</td>\n",
       "    </tr>\n",
       "    <tr>\n",
       "      <th>mean</th>\n",
       "      <td>2014.621798</td>\n",
       "      <td>86.187247</td>\n",
       "    </tr>\n",
       "    <tr>\n",
       "      <th>std</th>\n",
       "      <td>2.733583</td>\n",
       "      <td>166.360590</td>\n",
       "    </tr>\n",
       "    <tr>\n",
       "      <th>min</th>\n",
       "      <td>2010.000000</td>\n",
       "      <td>1.000000</td>\n",
       "    </tr>\n",
       "    <tr>\n",
       "      <th>25%</th>\n",
       "      <td>2012.000000</td>\n",
       "      <td>70.000000</td>\n",
       "    </tr>\n",
       "    <tr>\n",
       "      <th>50%</th>\n",
       "      <td>2015.000000</td>\n",
       "      <td>87.000000</td>\n",
       "    </tr>\n",
       "    <tr>\n",
       "      <th>75%</th>\n",
       "      <td>2017.000000</td>\n",
       "      <td>99.000000</td>\n",
       "    </tr>\n",
       "    <tr>\n",
       "      <th>max</th>\n",
       "      <td>2115.000000</td>\n",
       "      <td>51420.000000</td>\n",
       "    </tr>\n",
       "  </tbody>\n",
       "</table>\n",
       "</div>"
      ],
      "text/plain": [
       "          start_year  runtime_minutes\n",
       "count  146144.000000    114405.000000\n",
       "mean     2014.621798        86.187247\n",
       "std         2.733583       166.360590\n",
       "min      2010.000000         1.000000\n",
       "25%      2012.000000        70.000000\n",
       "50%      2015.000000        87.000000\n",
       "75%      2017.000000        99.000000\n",
       "max      2115.000000     51420.000000"
      ]
     },
     "execution_count": 166,
     "metadata": {},
     "output_type": "execute_result"
    }
   ],
   "source": [
    "df_runtime.describe()"
   ]
  },
  {
   "cell_type": "markdown",
   "metadata": {},
   "source": [
    "Categorize the movie run time into 'Extremly short movie', 'Short Movie', 'Average Movie', 'Long Movie'"
   ]
  },
  {
   "cell_type": "code",
   "execution_count": 167,
   "metadata": {},
   "outputs": [],
   "source": [
    "df_runtime['Runtime_cat'] = ['Extremly short Movie' if x < 20 else 'Short Movie' if x < 90 else 'Average Movie' if x < 120 else 'Long Movie' for x in df_runtime['runtime_minutes'] ]"
   ]
  },
  {
   "cell_type": "code",
   "execution_count": 168,
   "metadata": {},
   "outputs": [
    {
     "data": {
      "text/html": [
       "<div>\n",
       "<style scoped>\n",
       "    .dataframe tbody tr th:only-of-type {\n",
       "        vertical-align: middle;\n",
       "    }\n",
       "\n",
       "    .dataframe tbody tr th {\n",
       "        vertical-align: top;\n",
       "    }\n",
       "\n",
       "    .dataframe thead th {\n",
       "        text-align: right;\n",
       "    }\n",
       "</style>\n",
       "<table border=\"1\" class=\"dataframe\">\n",
       "  <thead>\n",
       "    <tr style=\"text-align: right;\">\n",
       "      <th></th>\n",
       "      <th>movie_id</th>\n",
       "      <th>primary_title</th>\n",
       "      <th>original_title</th>\n",
       "      <th>start_year</th>\n",
       "      <th>runtime_minutes</th>\n",
       "      <th>genres</th>\n",
       "      <th>Runtime_cat</th>\n",
       "    </tr>\n",
       "  </thead>\n",
       "  <tbody>\n",
       "    <tr>\n",
       "      <th>0</th>\n",
       "      <td>tt0063540</td>\n",
       "      <td>Sunghursh</td>\n",
       "      <td>Sunghursh</td>\n",
       "      <td>2013</td>\n",
       "      <td>175.0</td>\n",
       "      <td>Action,Crime,Drama</td>\n",
       "      <td>Long Movie</td>\n",
       "    </tr>\n",
       "    <tr>\n",
       "      <th>1</th>\n",
       "      <td>tt0066787</td>\n",
       "      <td>One Day Before the Rainy Season</td>\n",
       "      <td>Ashad Ka Ek Din</td>\n",
       "      <td>2019</td>\n",
       "      <td>114.0</td>\n",
       "      <td>Biography,Drama</td>\n",
       "      <td>Average Movie</td>\n",
       "    </tr>\n",
       "    <tr>\n",
       "      <th>2</th>\n",
       "      <td>tt0069049</td>\n",
       "      <td>The Other Side of the Wind</td>\n",
       "      <td>The Other Side of the Wind</td>\n",
       "      <td>2018</td>\n",
       "      <td>122.0</td>\n",
       "      <td>Drama</td>\n",
       "      <td>Long Movie</td>\n",
       "    </tr>\n",
       "    <tr>\n",
       "      <th>3</th>\n",
       "      <td>tt0069204</td>\n",
       "      <td>Sabse Bada Sukh</td>\n",
       "      <td>Sabse Bada Sukh</td>\n",
       "      <td>2018</td>\n",
       "      <td>NaN</td>\n",
       "      <td>Comedy,Drama</td>\n",
       "      <td>Long Movie</td>\n",
       "    </tr>\n",
       "    <tr>\n",
       "      <th>4</th>\n",
       "      <td>tt0100275</td>\n",
       "      <td>The Wandering Soap Opera</td>\n",
       "      <td>La Telenovela Errante</td>\n",
       "      <td>2017</td>\n",
       "      <td>80.0</td>\n",
       "      <td>Comedy,Drama,Fantasy</td>\n",
       "      <td>Short Movie</td>\n",
       "    </tr>\n",
       "  </tbody>\n",
       "</table>\n",
       "</div>"
      ],
      "text/plain": [
       "    movie_id                    primary_title              original_title  \\\n",
       "0  tt0063540                        Sunghursh                   Sunghursh   \n",
       "1  tt0066787  One Day Before the Rainy Season             Ashad Ka Ek Din   \n",
       "2  tt0069049       The Other Side of the Wind  The Other Side of the Wind   \n",
       "3  tt0069204                  Sabse Bada Sukh             Sabse Bada Sukh   \n",
       "4  tt0100275         The Wandering Soap Opera       La Telenovela Errante   \n",
       "\n",
       "   start_year  runtime_minutes                genres    Runtime_cat  \n",
       "0        2013            175.0    Action,Crime,Drama     Long Movie  \n",
       "1        2019            114.0       Biography,Drama  Average Movie  \n",
       "2        2018            122.0                 Drama     Long Movie  \n",
       "3        2018              NaN          Comedy,Drama     Long Movie  \n",
       "4        2017             80.0  Comedy,Drama,Fantasy    Short Movie  "
      ]
     },
     "execution_count": 168,
     "metadata": {},
     "output_type": "execute_result"
    }
   ],
   "source": [
    "df_runtime.head()"
   ]
  },
  {
   "cell_type": "markdown",
   "metadata": {},
   "source": [
    "Merging movie basic with buget table"
   ]
  },
  {
   "cell_type": "code",
   "execution_count": 169,
   "metadata": {},
   "outputs": [],
   "source": [
    "merged_runtime_and_budgets = df_budget.merge(df_runtime, left_on='movie', right_on='primary_title', how='inner')"
   ]
  },
  {
   "cell_type": "code",
   "execution_count": 170,
   "metadata": {},
   "outputs": [
    {
     "data": {
      "text/plain": [
       "id                       0\n",
       "release_date             0\n",
       "movie                    0\n",
       "production_budget        0\n",
       "domestic_gross           0\n",
       "worldwide_gross          0\n",
       "Profitability_Ratio      0\n",
       "prof_cat                 0\n",
       "movie_id                 0\n",
       "primary_title            0\n",
       "original_title           1\n",
       "start_year               0\n",
       "runtime_minutes        481\n",
       "genres                  72\n",
       "Runtime_cat              0\n",
       "dtype: int64"
      ]
     },
     "execution_count": 170,
     "metadata": {},
     "output_type": "execute_result"
    }
   ],
   "source": [
    "merged_runtime_and_budgets.isna().sum()"
   ]
  },
  {
   "cell_type": "code",
   "execution_count": 244,
   "metadata": {},
   "outputs": [],
   "source": [
    "merged_runtime_and_budgets = merged_runtime_and_budgets.dropna(subset=['runtime_minutes'])"
   ]
  },
  {
   "cell_type": "code",
   "execution_count": 245,
   "metadata": {},
   "outputs": [
    {
     "data": {
      "text/plain": [
       "id                      0\n",
       "release_date            0\n",
       "movie                   0\n",
       "production_budget       0\n",
       "domestic_gross          0\n",
       "worldwide_gross         0\n",
       "Profitability_Ratio     0\n",
       "prof_cat                0\n",
       "movie_id                0\n",
       "primary_title           0\n",
       "original_title          0\n",
       "start_year              0\n",
       "runtime_minutes         0\n",
       "genres                 19\n",
       "Runtime_cat             0\n",
       "dtype: int64"
      ]
     },
     "execution_count": 245,
     "metadata": {},
     "output_type": "execute_result"
    }
   ],
   "source": [
    "merged_runtime_and_budgets.isna().sum()"
   ]
  },
  {
   "cell_type": "code",
   "execution_count": 246,
   "metadata": {},
   "outputs": [
    {
     "data": {
      "text/html": [
       "<div>\n",
       "<style scoped>\n",
       "    .dataframe tbody tr th:only-of-type {\n",
       "        vertical-align: middle;\n",
       "    }\n",
       "\n",
       "    .dataframe tbody tr th {\n",
       "        vertical-align: top;\n",
       "    }\n",
       "\n",
       "    .dataframe thead th {\n",
       "        text-align: right;\n",
       "    }\n",
       "</style>\n",
       "<table border=\"1\" class=\"dataframe\">\n",
       "  <thead>\n",
       "    <tr style=\"text-align: right;\">\n",
       "      <th></th>\n",
       "      <th>id</th>\n",
       "      <th>release_date</th>\n",
       "      <th>movie</th>\n",
       "      <th>production_budget</th>\n",
       "      <th>domestic_gross</th>\n",
       "      <th>worldwide_gross</th>\n",
       "      <th>Profitability_Ratio</th>\n",
       "      <th>prof_cat</th>\n",
       "      <th>movie_id</th>\n",
       "      <th>primary_title</th>\n",
       "      <th>original_title</th>\n",
       "      <th>start_year</th>\n",
       "      <th>runtime_minutes</th>\n",
       "      <th>genres</th>\n",
       "      <th>Runtime_cat</th>\n",
       "    </tr>\n",
       "  </thead>\n",
       "  <tbody>\n",
       "    <tr>\n",
       "      <th>0</th>\n",
       "      <td>1</td>\n",
       "      <td>Dec 18, 2009</td>\n",
       "      <td>Avatar</td>\n",
       "      <td>425000000.0</td>\n",
       "      <td>$760,507,625</td>\n",
       "      <td>2.776345e+09</td>\n",
       "      <td>6.532577</td>\n",
       "      <td>High Profit</td>\n",
       "      <td>tt1775309</td>\n",
       "      <td>Avatar</td>\n",
       "      <td>Abatâ</td>\n",
       "      <td>2011</td>\n",
       "      <td>93.0</td>\n",
       "      <td>Horror</td>\n",
       "      <td>Average Movie</td>\n",
       "    </tr>\n",
       "    <tr>\n",
       "      <th>1</th>\n",
       "      <td>2</td>\n",
       "      <td>May 20, 2011</td>\n",
       "      <td>Pirates of the Caribbean: On Stranger Tides</td>\n",
       "      <td>410600000.0</td>\n",
       "      <td>$241,063,875</td>\n",
       "      <td>1.045664e+09</td>\n",
       "      <td>2.546673</td>\n",
       "      <td>Low Profit</td>\n",
       "      <td>tt1298650</td>\n",
       "      <td>Pirates of the Caribbean: On Stranger Tides</td>\n",
       "      <td>Pirates of the Caribbean: On Stranger Tides</td>\n",
       "      <td>2011</td>\n",
       "      <td>136.0</td>\n",
       "      <td>Action,Adventure,Fantasy</td>\n",
       "      <td>Long Movie</td>\n",
       "    </tr>\n",
       "    <tr>\n",
       "      <th>2</th>\n",
       "      <td>3</td>\n",
       "      <td>Jun 7, 2019</td>\n",
       "      <td>Dark Phoenix</td>\n",
       "      <td>350000000.0</td>\n",
       "      <td>$42,762,350</td>\n",
       "      <td>1.497624e+08</td>\n",
       "      <td>0.427892</td>\n",
       "      <td>Loss</td>\n",
       "      <td>tt6565702</td>\n",
       "      <td>Dark Phoenix</td>\n",
       "      <td>Dark Phoenix</td>\n",
       "      <td>2019</td>\n",
       "      <td>113.0</td>\n",
       "      <td>Action,Adventure,Sci-Fi</td>\n",
       "      <td>Average Movie</td>\n",
       "    </tr>\n",
       "    <tr>\n",
       "      <th>3</th>\n",
       "      <td>4</td>\n",
       "      <td>May 1, 2015</td>\n",
       "      <td>Avengers: Age of Ultron</td>\n",
       "      <td>330600000.0</td>\n",
       "      <td>$459,005,868</td>\n",
       "      <td>1.403014e+09</td>\n",
       "      <td>4.243841</td>\n",
       "      <td>High Profit</td>\n",
       "      <td>tt2395427</td>\n",
       "      <td>Avengers: Age of Ultron</td>\n",
       "      <td>Avengers: Age of Ultron</td>\n",
       "      <td>2015</td>\n",
       "      <td>141.0</td>\n",
       "      <td>Action,Adventure,Sci-Fi</td>\n",
       "      <td>Long Movie</td>\n",
       "    </tr>\n",
       "    <tr>\n",
       "      <th>4</th>\n",
       "      <td>7</td>\n",
       "      <td>Apr 27, 2018</td>\n",
       "      <td>Avengers: Infinity War</td>\n",
       "      <td>300000000.0</td>\n",
       "      <td>$678,815,482</td>\n",
       "      <td>2.048134e+09</td>\n",
       "      <td>6.827114</td>\n",
       "      <td>High Profit</td>\n",
       "      <td>tt4154756</td>\n",
       "      <td>Avengers: Infinity War</td>\n",
       "      <td>Avengers: Infinity War</td>\n",
       "      <td>2018</td>\n",
       "      <td>149.0</td>\n",
       "      <td>Action,Adventure,Sci-Fi</td>\n",
       "      <td>Long Movie</td>\n",
       "    </tr>\n",
       "  </tbody>\n",
       "</table>\n",
       "</div>"
      ],
      "text/plain": [
       "   id  release_date                                        movie  \\\n",
       "0   1  Dec 18, 2009                                       Avatar   \n",
       "1   2  May 20, 2011  Pirates of the Caribbean: On Stranger Tides   \n",
       "2   3   Jun 7, 2019                                 Dark Phoenix   \n",
       "3   4   May 1, 2015                      Avengers: Age of Ultron   \n",
       "4   7  Apr 27, 2018                       Avengers: Infinity War   \n",
       "\n",
       "   production_budget domestic_gross  worldwide_gross  Profitability_Ratio  \\\n",
       "0        425000000.0   $760,507,625     2.776345e+09             6.532577   \n",
       "1        410600000.0   $241,063,875     1.045664e+09             2.546673   \n",
       "2        350000000.0    $42,762,350     1.497624e+08             0.427892   \n",
       "3        330600000.0   $459,005,868     1.403014e+09             4.243841   \n",
       "4        300000000.0   $678,815,482     2.048134e+09             6.827114   \n",
       "\n",
       "      prof_cat   movie_id                                primary_title  \\\n",
       "0  High Profit  tt1775309                                       Avatar   \n",
       "1   Low Profit  tt1298650  Pirates of the Caribbean: On Stranger Tides   \n",
       "2         Loss  tt6565702                                 Dark Phoenix   \n",
       "3  High Profit  tt2395427                      Avengers: Age of Ultron   \n",
       "4  High Profit  tt4154756                       Avengers: Infinity War   \n",
       "\n",
       "                                original_title  start_year  runtime_minutes  \\\n",
       "0                                        Abatâ        2011             93.0   \n",
       "1  Pirates of the Caribbean: On Stranger Tides        2011            136.0   \n",
       "2                                 Dark Phoenix        2019            113.0   \n",
       "3                      Avengers: Age of Ultron        2015            141.0   \n",
       "4                       Avengers: Infinity War        2018            149.0   \n",
       "\n",
       "                     genres    Runtime_cat  \n",
       "0                    Horror  Average Movie  \n",
       "1  Action,Adventure,Fantasy     Long Movie  \n",
       "2   Action,Adventure,Sci-Fi  Average Movie  \n",
       "3   Action,Adventure,Sci-Fi     Long Movie  \n",
       "4   Action,Adventure,Sci-Fi     Long Movie  "
      ]
     },
     "execution_count": 246,
     "metadata": {},
     "output_type": "execute_result"
    }
   ],
   "source": [
    "merged_runtime_and_budgets.head()"
   ]
  },
  {
   "cell_type": "code",
   "execution_count": 247,
   "metadata": {},
   "outputs": [
    {
     "data": {
      "text/plain": [
       "Average Movie           1799\n",
       "Short Movie              899\n",
       "Long Movie               517\n",
       "Extremly short Movie      73\n",
       "Name: Runtime_cat, dtype: int64"
      ]
     },
     "execution_count": 247,
     "metadata": {},
     "output_type": "execute_result"
    }
   ],
   "source": [
    "merged_runtime_and_budgets['Runtime_cat'].value_counts()"
   ]
  },
  {
   "cell_type": "markdown",
   "metadata": {},
   "source": [
    "As movies cannot be less than 20 mins removed movies with less than 20 minutes runtime."
   ]
  },
  {
   "cell_type": "code",
   "execution_count": 248,
   "metadata": {},
   "outputs": [],
   "source": [
    "#merged_runtime_and_budgets = merged_runtime_and_budgets.loc[merged_runtime_and_budgets['runtime_minutes']>20]"
   ]
  },
  {
   "cell_type": "markdown",
   "metadata": {},
   "source": [
    "Conduct chi-square test to test the significance of below hypothesis\n",
    "\n",
    "H0 : There is no significant relationship between runtime and prifitability ratio\n",
    "H1 : There is a significant relationship between runtime and prifitability ratio"
   ]
  },
  {
   "cell_type": "markdown",
   "metadata": {},
   "source": [
    "Generate cross tabs to run chisquare test"
   ]
  },
  {
   "cell_type": "code",
   "execution_count": 249,
   "metadata": {},
   "outputs": [
    {
     "data": {
      "text/html": [
       "<div>\n",
       "<style scoped>\n",
       "    .dataframe tbody tr th:only-of-type {\n",
       "        vertical-align: middle;\n",
       "    }\n",
       "\n",
       "    .dataframe tbody tr th {\n",
       "        vertical-align: top;\n",
       "    }\n",
       "\n",
       "    .dataframe thead th {\n",
       "        text-align: right;\n",
       "    }\n",
       "</style>\n",
       "<table border=\"1\" class=\"dataframe\">\n",
       "  <thead>\n",
       "    <tr style=\"text-align: right;\">\n",
       "      <th>prof_cat</th>\n",
       "      <th>High Profit</th>\n",
       "      <th>Loss</th>\n",
       "      <th>Low Profit</th>\n",
       "      <th>Medium Profit</th>\n",
       "    </tr>\n",
       "    <tr>\n",
       "      <th>Runtime_cat</th>\n",
       "      <th></th>\n",
       "      <th></th>\n",
       "      <th></th>\n",
       "      <th></th>\n",
       "    </tr>\n",
       "  </thead>\n",
       "  <tbody>\n",
       "    <tr>\n",
       "      <th>Average Movie</th>\n",
       "      <td>363</td>\n",
       "      <td>1044</td>\n",
       "      <td>246</td>\n",
       "      <td>146</td>\n",
       "    </tr>\n",
       "    <tr>\n",
       "      <th>Extremly short Movie</th>\n",
       "      <td>10</td>\n",
       "      <td>46</td>\n",
       "      <td>12</td>\n",
       "      <td>5</td>\n",
       "    </tr>\n",
       "    <tr>\n",
       "      <th>Long Movie</th>\n",
       "      <td>137</td>\n",
       "      <td>245</td>\n",
       "      <td>75</td>\n",
       "      <td>60</td>\n",
       "    </tr>\n",
       "    <tr>\n",
       "      <th>Short Movie</th>\n",
       "      <td>177</td>\n",
       "      <td>588</td>\n",
       "      <td>84</td>\n",
       "      <td>50</td>\n",
       "    </tr>\n",
       "  </tbody>\n",
       "</table>\n",
       "</div>"
      ],
      "text/plain": [
       "prof_cat              High Profit  Loss  Low Profit  Medium Profit\n",
       "Runtime_cat                                                       \n",
       "Average Movie                 363  1044         246            146\n",
       "Extremly short Movie           10    46          12              5\n",
       "Long Movie                    137   245          75             60\n",
       "Short Movie                   177   588          84             50"
      ]
     },
     "execution_count": 249,
     "metadata": {},
     "output_type": "execute_result"
    }
   ],
   "source": [
    "contingency_table=pd.crosstab(index=merged_runtime_and_budgets[\"Runtime_cat\"],columns=merged_runtime_and_budgets[\"prof_cat\"])\n",
    "contingency_table"
   ]
  },
  {
   "cell_type": "markdown",
   "metadata": {},
   "source": [
    "Run chi-square test to identify significance"
   ]
  },
  {
   "cell_type": "code",
   "execution_count": 250,
   "metadata": {},
   "outputs": [
    {
     "data": {
      "text/plain": [
       "(56.01652020819477,\n",
       " 7.79255454727487e-09,\n",
       " 9,\n",
       " array([[ 375.88594891, 1052.15237226,  228.15784672,  142.80383212],\n",
       "        [  15.25273723,   42.69434307,    9.25821168,    5.79470803],\n",
       "        [ 108.02281022,  302.36952555,   65.56843066,   41.03923358],\n",
       "        [ 187.83850365,  525.78375912,  114.01551095,   71.36222628]]))"
      ]
     },
     "execution_count": 250,
     "metadata": {},
     "output_type": "execute_result"
    }
   ],
   "source": [
    "stats.contingency.chi2_contingency(contingency_table)"
   ]
  },
  {
   "cell_type": "markdown",
   "metadata": {},
   "source": [
    "As indicated above it is possible to reject null hypothesis at 5% confidence level. Therefore through the chi-square test it is proven that there is a significant relationship between runtime and profitability ratio."
   ]
  },
  {
   "cell_type": "markdown",
   "metadata": {},
   "source": [
    "To identify which category of genere shows highest profitability identied those groups."
   ]
  },
  {
   "cell_type": "code",
   "execution_count": 251,
   "metadata": {},
   "outputs": [],
   "source": [
    "merged_budgets_and_movie_basic_1 = merged_runtime_and_budgets.groupby(merged_runtime_and_budgets['Runtime_cat']).median()"
   ]
  },
  {
   "cell_type": "code",
   "execution_count": 252,
   "metadata": {
    "scrolled": true
   },
   "outputs": [
    {
     "data": {
      "text/html": [
       "<div>\n",
       "<style scoped>\n",
       "    .dataframe tbody tr th:only-of-type {\n",
       "        vertical-align: middle;\n",
       "    }\n",
       "\n",
       "    .dataframe tbody tr th {\n",
       "        vertical-align: top;\n",
       "    }\n",
       "\n",
       "    .dataframe thead th {\n",
       "        text-align: right;\n",
       "    }\n",
       "</style>\n",
       "<table border=\"1\" class=\"dataframe\">\n",
       "  <thead>\n",
       "    <tr style=\"text-align: right;\">\n",
       "      <th></th>\n",
       "      <th>id</th>\n",
       "      <th>production_budget</th>\n",
       "      <th>worldwide_gross</th>\n",
       "      <th>Profitability_Ratio</th>\n",
       "      <th>start_year</th>\n",
       "      <th>runtime_minutes</th>\n",
       "    </tr>\n",
       "    <tr>\n",
       "      <th>Runtime_cat</th>\n",
       "      <th></th>\n",
       "      <th></th>\n",
       "      <th></th>\n",
       "      <th></th>\n",
       "      <th></th>\n",
       "      <th></th>\n",
       "    </tr>\n",
       "  </thead>\n",
       "  <tbody>\n",
       "    <tr>\n",
       "      <th>Long Movie</th>\n",
       "      <td>46</td>\n",
       "      <td>30000000.0</td>\n",
       "      <td>66787173.0</td>\n",
       "      <td>2.226017</td>\n",
       "      <td>2014</td>\n",
       "      <td>130.0</td>\n",
       "    </tr>\n",
       "    <tr>\n",
       "      <th>Average Movie</th>\n",
       "      <td>51</td>\n",
       "      <td>16000000.0</td>\n",
       "      <td>25947983.0</td>\n",
       "      <td>1.494877</td>\n",
       "      <td>2014</td>\n",
       "      <td>101.0</td>\n",
       "    </tr>\n",
       "    <tr>\n",
       "      <th>Short Movie</th>\n",
       "      <td>50</td>\n",
       "      <td>12000000.0</td>\n",
       "      <td>13593473.0</td>\n",
       "      <td>1.168269</td>\n",
       "      <td>2014</td>\n",
       "      <td>80.0</td>\n",
       "    </tr>\n",
       "    <tr>\n",
       "      <th>Extremly short Movie</th>\n",
       "      <td>50</td>\n",
       "      <td>18000000.0</td>\n",
       "      <td>23726626.0</td>\n",
       "      <td>1.004319</td>\n",
       "      <td>2015</td>\n",
       "      <td>9.0</td>\n",
       "    </tr>\n",
       "  </tbody>\n",
       "</table>\n",
       "</div>"
      ],
      "text/plain": [
       "                      id  production_budget  worldwide_gross  \\\n",
       "Runtime_cat                                                    \n",
       "Long Movie            46         30000000.0       66787173.0   \n",
       "Average Movie         51         16000000.0       25947983.0   \n",
       "Short Movie           50         12000000.0       13593473.0   \n",
       "Extremly short Movie  50         18000000.0       23726626.0   \n",
       "\n",
       "                      Profitability_Ratio  start_year  runtime_minutes  \n",
       "Runtime_cat                                                             \n",
       "Long Movie                       2.226017        2014            130.0  \n",
       "Average Movie                    1.494877        2014            101.0  \n",
       "Short Movie                      1.168269        2014             80.0  \n",
       "Extremly short Movie             1.004319        2015              9.0  "
      ]
     },
     "execution_count": 252,
     "metadata": {},
     "output_type": "execute_result"
    }
   ],
   "source": [
    "merged_budgets_and_movie_basic_1_1 = merged_budgets_and_movie_basic_1.sort_values(by=['Profitability_Ratio'],ascending=False).head()\n",
    "merged_budgets_and_movie_basic_1_1"
   ]
  },
  {
   "cell_type": "code",
   "execution_count": 253,
   "metadata": {
    "scrolled": true
   },
   "outputs": [
    {
     "data": {
      "image/png": "[encoded data removed]",
      "text/plain": [
       "<Figure size 576x432 with 1 Axes>"
      ]
     },
     "metadata": {},
     "output_type": "display_data"
    }
   ],
   "source": [
    "fig, ax = plt.subplots(figsize=(8,6))\n",
    "sns.set_style(\"whitegrid\")\n",
    "\n",
    "sns.barplot(x=merged_budgets_and_movie_basic_1_1.index, y=merged_budgets_and_movie_basic_1_1['Profitability_Ratio'],palette=\"colorblind\")\n",
    "\n",
    "ax.set_title('Median of Profitability Ratio by Duration of the Movie',fontsize=20)\n",
    "ax.set_xlabel('Duration Category of the Movie',fontsize=15)\n",
    "ax.set_ylabel('Profitability Ratio',fontsize=15);"
   ]
  },
  {
   "cell_type": "markdown",
   "metadata": {},
   "source": [
    "### Create a confidence interval for different categories of runtime"
   ]
  },
  {
   "cell_type": "code",
   "execution_count": 264,
   "metadata": {},
   "outputs": [],
   "source": [
    "merged_runtime_and_budgets_long=merged_runtime_and_budgets.loc[merged_runtime_and_budgets['Runtime_cat']=='Long Movie']"
   ]
  },
  {
   "cell_type": "code",
   "execution_count": 263,
   "metadata": {},
   "outputs": [],
   "source": [
    "#merged_runtime_and_budgets_long = merged_runtime_and_budgets_long.dropna(subset=['runtime_minutes'])"
   ]
  },
  {
   "cell_type": "code",
   "execution_count": 258,
   "metadata": {},
   "outputs": [
    {
     "data": {
      "text/plain": [
       "(133.87260201761273, 137.36917747948593)"
      ]
     },
     "execution_count": 258,
     "metadata": {},
     "output_type": "execute_result"
    }
   ],
   "source": [
    "n = len(merged_runtime_and_budgets_long['runtime_minutes'])\n",
    "stats.t.interval(alpha = 0.95,                                               \n",
    "                 loc = np.mean(merged_runtime_and_budgets_long['runtime_minutes']),                              \n",
    "                 scale = np.std(merged_runtime_and_budgets_long['runtime_minutes'])/np.sqrt(n),\n",
    "                 df = n-1)"
   ]
  },
  {
   "cell_type": "code",
   "execution_count": 269,
   "metadata": {},
   "outputs": [],
   "source": [
    "merged_runtime_and_budgets_AVG=merged_runtime_and_budgets.loc[merged_runtime_and_budgets['Runtime_cat']=='Average Movie']"
   ]
  },
  {
   "cell_type": "code",
   "execution_count": 270,
   "metadata": {},
   "outputs": [
    {
     "data": {
      "text/plain": [
       "(101.71725129693019, 102.50398272196921)"
      ]
     },
     "execution_count": 270,
     "metadata": {},
     "output_type": "execute_result"
    }
   ],
   "source": [
    "n = len(merged_runtime_and_budgets_AVG['runtime_minutes'])\n",
    "stats.t.interval(alpha = 0.95,                                               \n",
    "                 loc = np.mean(merged_runtime_and_budgets_AVG['runtime_minutes']),                              \n",
    "                 scale = np.std(merged_runtime_and_budgets_AVG['runtime_minutes'])/np.sqrt(n),\n",
    "                 df = n-1)"
   ]
  },
  {
   "cell_type": "code",
   "execution_count": 271,
   "metadata": {},
   "outputs": [],
   "source": [
    "merged_runtime_and_budgets_Short=merged_runtime_and_budgets.loc[merged_runtime_and_budgets['Runtime_cat']=='Short Movie']"
   ]
  },
  {
   "cell_type": "code",
   "execution_count": 272,
   "metadata": {},
   "outputs": [
    {
     "data": {
      "text/plain": [
       "(72.38883406463833, 74.42985336583999)"
      ]
     },
     "execution_count": 272,
     "metadata": {},
     "output_type": "execute_result"
    }
   ],
   "source": [
    "n = len(merged_runtime_and_budgets_Short['runtime_minutes'])\n",
    "stats.t.interval(alpha = 0.95,                                               \n",
    "                 loc = np.mean(merged_runtime_and_budgets_Short['runtime_minutes']),                              \n",
    "                 scale = np.std(merged_runtime_and_budgets_Short['runtime_minutes'])/np.sqrt(n),\n",
    "                 df = n-1)"
   ]
  },
  {
   "cell_type": "code",
   "execution_count": 275,
   "metadata": {},
   "outputs": [],
   "source": [
    "merged_runtime_and_budgets_EShort=merged_runtime_and_budgets.loc[merged_runtime_and_budgets['Runtime_cat']=='Extremly short Movie']"
   ]
  },
  {
   "cell_type": "code",
   "execution_count": 276,
   "metadata": {},
   "outputs": [
    {
     "data": {
      "text/plain": [
       "(7.976731566872624, 9.913679392031485)"
      ]
     },
     "execution_count": 276,
     "metadata": {},
     "output_type": "execute_result"
    }
   ],
   "source": [
    "n = len(merged_runtime_and_budgets_EShort['runtime_minutes'])\n",
    "stats.t.interval(alpha = 0.95,                                               \n",
    "                 loc = np.mean(merged_runtime_and_budgets_EShort['runtime_minutes']),                              \n",
    "                 scale = np.std(merged_runtime_and_budgets_EShort['runtime_minutes'])/np.sqrt(n),\n",
    "                 df = n-1)"
   ]
  },
  {
   "cell_type": "markdown",
   "metadata": {},
   "source": [
    "### Identify the relationship between Average Rating and profitability"
   ]
  },
  {
   "cell_type": "markdown",
   "metadata": {},
   "source": [
    "Pull title wise movie rating using movie_basics and movie_ratings tables"
   ]
  },
  {
   "cell_type": "code",
   "execution_count": 182,
   "metadata": {},
   "outputs": [],
   "source": [
    "df_rating= pd.read_sql(\"\"\"\n",
    "SELECT DISTINCT m.primary_title,m.original_title,mr.averagerating \n",
    "  FROM movie_basics as m\n",
    "  JOIN movie_ratings as mr\n",
    "      USING(movie_id)\n",
    "\"\"\", conn)"
   ]
  },
  {
   "cell_type": "code",
   "execution_count": 183,
   "metadata": {},
   "outputs": [
    {
     "data": {
      "text/html": [
       "<div>\n",
       "<style scoped>\n",
       "    .dataframe tbody tr th:only-of-type {\n",
       "        vertical-align: middle;\n",
       "    }\n",
       "\n",
       "    .dataframe tbody tr th {\n",
       "        vertical-align: top;\n",
       "    }\n",
       "\n",
       "    .dataframe thead th {\n",
       "        text-align: right;\n",
       "    }\n",
       "</style>\n",
       "<table border=\"1\" class=\"dataframe\">\n",
       "  <thead>\n",
       "    <tr style=\"text-align: right;\">\n",
       "      <th></th>\n",
       "      <th>primary_title</th>\n",
       "      <th>original_title</th>\n",
       "      <th>averagerating</th>\n",
       "    </tr>\n",
       "  </thead>\n",
       "  <tbody>\n",
       "    <tr>\n",
       "      <th>0</th>\n",
       "      <td>Sunghursh</td>\n",
       "      <td>Sunghursh</td>\n",
       "      <td>7.0</td>\n",
       "    </tr>\n",
       "    <tr>\n",
       "      <th>1</th>\n",
       "      <td>One Day Before the Rainy Season</td>\n",
       "      <td>Ashad Ka Ek Din</td>\n",
       "      <td>7.2</td>\n",
       "    </tr>\n",
       "    <tr>\n",
       "      <th>2</th>\n",
       "      <td>The Other Side of the Wind</td>\n",
       "      <td>The Other Side of the Wind</td>\n",
       "      <td>6.9</td>\n",
       "    </tr>\n",
       "    <tr>\n",
       "      <th>3</th>\n",
       "      <td>Sabse Bada Sukh</td>\n",
       "      <td>Sabse Bada Sukh</td>\n",
       "      <td>6.1</td>\n",
       "    </tr>\n",
       "    <tr>\n",
       "      <th>4</th>\n",
       "      <td>The Wandering Soap Opera</td>\n",
       "      <td>La Telenovela Errante</td>\n",
       "      <td>6.5</td>\n",
       "    </tr>\n",
       "  </tbody>\n",
       "</table>\n",
       "</div>"
      ],
      "text/plain": [
       "                     primary_title              original_title  averagerating\n",
       "0                        Sunghursh                   Sunghursh            7.0\n",
       "1  One Day Before the Rainy Season             Ashad Ka Ek Din            7.2\n",
       "2       The Other Side of the Wind  The Other Side of the Wind            6.9\n",
       "3                  Sabse Bada Sukh             Sabse Bada Sukh            6.1\n",
       "4         The Wandering Soap Opera       La Telenovela Errante            6.5"
      ]
     },
     "execution_count": 183,
     "metadata": {},
     "output_type": "execute_result"
    }
   ],
   "source": [
    "df_rating.head()"
   ]
  },
  {
   "cell_type": "markdown",
   "metadata": {},
   "source": [
    "Merge movie ratings table with profitablity table"
   ]
  },
  {
   "cell_type": "code",
   "execution_count": 184,
   "metadata": {},
   "outputs": [],
   "source": [
    "merged_ratings_and_budgets = df_budget.merge(df_rating, left_on='movie', right_on='primary_title', how='inner')"
   ]
  },
  {
   "cell_type": "code",
   "execution_count": 185,
   "metadata": {},
   "outputs": [
    {
     "data": {
      "text/html": [
       "<div>\n",
       "<style scoped>\n",
       "    .dataframe tbody tr th:only-of-type {\n",
       "        vertical-align: middle;\n",
       "    }\n",
       "\n",
       "    .dataframe tbody tr th {\n",
       "        vertical-align: top;\n",
       "    }\n",
       "\n",
       "    .dataframe thead th {\n",
       "        text-align: right;\n",
       "    }\n",
       "</style>\n",
       "<table border=\"1\" class=\"dataframe\">\n",
       "  <thead>\n",
       "    <tr style=\"text-align: right;\">\n",
       "      <th></th>\n",
       "      <th>id</th>\n",
       "      <th>release_date</th>\n",
       "      <th>movie</th>\n",
       "      <th>production_budget</th>\n",
       "      <th>domestic_gross</th>\n",
       "      <th>worldwide_gross</th>\n",
       "      <th>Profitability_Ratio</th>\n",
       "      <th>prof_cat</th>\n",
       "      <th>primary_title</th>\n",
       "      <th>original_title</th>\n",
       "      <th>averagerating</th>\n",
       "    </tr>\n",
       "  </thead>\n",
       "  <tbody>\n",
       "    <tr>\n",
       "      <th>0</th>\n",
       "      <td>1</td>\n",
       "      <td>Dec 18, 2009</td>\n",
       "      <td>Avatar</td>\n",
       "      <td>425000000.0</td>\n",
       "      <td>$760,507,625</td>\n",
       "      <td>2.776345e+09</td>\n",
       "      <td>6.532577</td>\n",
       "      <td>High Profit</td>\n",
       "      <td>Avatar</td>\n",
       "      <td>Abatâ</td>\n",
       "      <td>6.1</td>\n",
       "    </tr>\n",
       "    <tr>\n",
       "      <th>1</th>\n",
       "      <td>2</td>\n",
       "      <td>May 20, 2011</td>\n",
       "      <td>Pirates of the Caribbean: On Stranger Tides</td>\n",
       "      <td>410600000.0</td>\n",
       "      <td>$241,063,875</td>\n",
       "      <td>1.045664e+09</td>\n",
       "      <td>2.546673</td>\n",
       "      <td>Low Profit</td>\n",
       "      <td>Pirates of the Caribbean: On Stranger Tides</td>\n",
       "      <td>Pirates of the Caribbean: On Stranger Tides</td>\n",
       "      <td>6.6</td>\n",
       "    </tr>\n",
       "    <tr>\n",
       "      <th>2</th>\n",
       "      <td>3</td>\n",
       "      <td>Jun 7, 2019</td>\n",
       "      <td>Dark Phoenix</td>\n",
       "      <td>350000000.0</td>\n",
       "      <td>$42,762,350</td>\n",
       "      <td>1.497624e+08</td>\n",
       "      <td>0.427892</td>\n",
       "      <td>Loss</td>\n",
       "      <td>Dark Phoenix</td>\n",
       "      <td>Dark Phoenix</td>\n",
       "      <td>6.0</td>\n",
       "    </tr>\n",
       "    <tr>\n",
       "      <th>3</th>\n",
       "      <td>4</td>\n",
       "      <td>May 1, 2015</td>\n",
       "      <td>Avengers: Age of Ultron</td>\n",
       "      <td>330600000.0</td>\n",
       "      <td>$459,005,868</td>\n",
       "      <td>1.403014e+09</td>\n",
       "      <td>4.243841</td>\n",
       "      <td>High Profit</td>\n",
       "      <td>Avengers: Age of Ultron</td>\n",
       "      <td>Avengers: Age of Ultron</td>\n",
       "      <td>7.3</td>\n",
       "    </tr>\n",
       "    <tr>\n",
       "      <th>4</th>\n",
       "      <td>7</td>\n",
       "      <td>Apr 27, 2018</td>\n",
       "      <td>Avengers: Infinity War</td>\n",
       "      <td>300000000.0</td>\n",
       "      <td>$678,815,482</td>\n",
       "      <td>2.048134e+09</td>\n",
       "      <td>6.827114</td>\n",
       "      <td>High Profit</td>\n",
       "      <td>Avengers: Infinity War</td>\n",
       "      <td>Avengers: Infinity War</td>\n",
       "      <td>8.5</td>\n",
       "    </tr>\n",
       "  </tbody>\n",
       "</table>\n",
       "</div>"
      ],
      "text/plain": [
       "   id  release_date                                        movie  \\\n",
       "0   1  Dec 18, 2009                                       Avatar   \n",
       "1   2  May 20, 2011  Pirates of the Caribbean: On Stranger Tides   \n",
       "2   3   Jun 7, 2019                                 Dark Phoenix   \n",
       "3   4   May 1, 2015                      Avengers: Age of Ultron   \n",
       "4   7  Apr 27, 2018                       Avengers: Infinity War   \n",
       "\n",
       "   production_budget domestic_gross  worldwide_gross  Profitability_Ratio  \\\n",
       "0        425000000.0   $760,507,625     2.776345e+09             6.532577   \n",
       "1        410600000.0   $241,063,875     1.045664e+09             2.546673   \n",
       "2        350000000.0    $42,762,350     1.497624e+08             0.427892   \n",
       "3        330600000.0   $459,005,868     1.403014e+09             4.243841   \n",
       "4        300000000.0   $678,815,482     2.048134e+09             6.827114   \n",
       "\n",
       "      prof_cat                                primary_title  \\\n",
       "0  High Profit                                       Avatar   \n",
       "1   Low Profit  Pirates of the Caribbean: On Stranger Tides   \n",
       "2         Loss                                 Dark Phoenix   \n",
       "3  High Profit                      Avengers: Age of Ultron   \n",
       "4  High Profit                       Avengers: Infinity War   \n",
       "\n",
       "                                original_title  averagerating  \n",
       "0                                        Abatâ            6.1  \n",
       "1  Pirates of the Caribbean: On Stranger Tides            6.6  \n",
       "2                                 Dark Phoenix            6.0  \n",
       "3                      Avengers: Age of Ultron            7.3  \n",
       "4                       Avengers: Infinity War            8.5  "
      ]
     },
     "execution_count": 185,
     "metadata": {},
     "output_type": "execute_result"
    }
   ],
   "source": [
    "merged_ratings_and_budgets.head()"
   ]
  },
  {
   "cell_type": "code",
   "execution_count": 186,
   "metadata": {
    "scrolled": true
   },
   "outputs": [
    {
     "name": "stdout",
     "output_type": "stream",
     "text": [
      "<class 'pandas.core.frame.DataFrame'>\n",
      "Int64Index: 2842 entries, 0 to 2841\n",
      "Data columns (total 11 columns):\n",
      " #   Column               Non-Null Count  Dtype  \n",
      "---  ------               --------------  -----  \n",
      " 0   id                   2842 non-null   int64  \n",
      " 1   release_date         2842 non-null   object \n",
      " 2   movie                2842 non-null   object \n",
      " 3   production_budget    2842 non-null   float64\n",
      " 4   domestic_gross       2842 non-null   object \n",
      " 5   worldwide_gross      2842 non-null   float64\n",
      " 6   Profitability_Ratio  2842 non-null   float64\n",
      " 7   prof_cat             2842 non-null   object \n",
      " 8   primary_title        2842 non-null   object \n",
      " 9   original_title       2842 non-null   object \n",
      " 10  averagerating        2842 non-null   float64\n",
      "dtypes: float64(4), int64(1), object(6)\n",
      "memory usage: 266.4+ KB\n"
     ]
    }
   ],
   "source": [
    "merged_ratings_and_budgets.info()"
   ]
  },
  {
   "cell_type": "markdown",
   "metadata": {},
   "source": [
    "Scatter plot to understand the relationship"
   ]
  },
  {
   "cell_type": "code",
   "execution_count": 187,
   "metadata": {},
   "outputs": [
    {
     "data": {
      "image/png": "[encoded data removed]",
      "text/plain": [
       "<Figure size 432x288 with 1 Axes>"
      ]
     },
     "metadata": {},
     "output_type": "display_data"
    }
   ],
   "source": [
    "fig, ax = plt.subplots(figsize=(6, 4))\n",
    "\n",
    "# These are all arguments that go in the plot's function\n",
    "ax.scatter(merged_ratings_and_budgets['averagerating'], merged_ratings_and_budgets['Profitability_Ratio'],\n",
    "           c='blue',\n",
    "           alpha=0.5,\n",
    "           s=100,\n",
    "           marker='*')\n",
    "\n",
    "ax.set_xlabel('Average Ratings')\n",
    "ax.set_ylabel('Profitability_Ratio')\n",
    "ax.set_title('Relationship Between ratings and Worldwise_gross')\n",
    "\n",
    "plt.tight_layout()"
   ]
  },
  {
   "cell_type": "markdown",
   "metadata": {},
   "source": [
    "Test the correlation between two average rating and profitability ratio."
   ]
  },
  {
   "cell_type": "code",
   "execution_count": 188,
   "metadata": {},
   "outputs": [
    {
     "data": {
      "text/plain": [
       "array([[1.        , 0.06911767],\n",
       "       [0.06911767, 1.        ]])"
      ]
     },
     "execution_count": 188,
     "metadata": {},
     "output_type": "execute_result"
    }
   ],
   "source": [
    "x = merged_ratings_and_budgets['averagerating'] \n",
    "y = merged_ratings_and_budgets['Profitability_Ratio']\n",
    "\n",
    "\n",
    "r = np.corrcoef(x, y)\n",
    "r"
   ]
  },
  {
   "cell_type": "code",
   "execution_count": 189,
   "metadata": {},
   "outputs": [],
   "source": [
    "from scipy import stats\n",
    "from sklearn.datasets import load_iris"
   ]
  },
  {
   "cell_type": "code",
   "execution_count": 190,
   "metadata": {},
   "outputs": [
    {
     "ename": "NameError",
     "evalue": "name 'scipy' is not defined",
     "output_type": "error",
     "traceback": [
      "\u001b[1;31m---------------------------------------------------------------------------\u001b[0m",
      "\u001b[1;31mNameError\u001b[0m                                 Traceback (most recent call last)",
      "\u001b[1;32m<ipython-input-190-7fc4025846df>\u001b[0m in \u001b[0;36m<module>\u001b[1;34m\u001b[0m\n\u001b[1;32m----> 1\u001b[1;33m \u001b[0mscipy\u001b[0m\u001b[1;33m.\u001b[0m\u001b[0mstats\u001b[0m\u001b[1;33m.\u001b[0m\u001b[0mpearsonr\u001b[0m\u001b[1;33m(\u001b[0m\u001b[0mx\u001b[0m\u001b[1;33m,\u001b[0m \u001b[0my\u001b[0m\u001b[1;33m)\u001b[0m\u001b[1;33m\u001b[0m\u001b[1;33m\u001b[0m\u001b[0m\n\u001b[0m",
      "\u001b[1;31mNameError\u001b[0m: name 'scipy' is not defined"
     ]
    }
   ],
   "source": [
    "scipy.stats.pearsonr(x, y)"
   ]
  },
  {
   "cell_type": "markdown",
   "metadata": {},
   "source": [
    "The correlation between average rating and profitability is 0.09. This indicate there is no relationship between rating and profitability."
   ]
  },
  {
   "cell_type": "markdown",
   "metadata": {},
   "source": [
    "### Identify the relationship between Profile and profitability"
   ]
  },
  {
   "cell_type": "code",
   "execution_count": 191,
   "metadata": {},
   "outputs": [],
   "source": [
    "df_dir= pd.read_sql(\"\"\"\n",
    "SELECT DISTINCT m.movie_id,m.primary_title as primary_title ,m.original_title,p.primary_name,p.primary_profession\n",
    "  FROM movie_basics as m\n",
    "  JOIN directors as d\n",
    "      USING(movie_id)\n",
    "  JOIN persons as p\n",
    "      USING(person_id)\n",
    "\"\"\", conn)"
   ]
  },
  {
   "cell_type": "code",
   "execution_count": 192,
   "metadata": {},
   "outputs": [
    {
     "data": {
      "text/html": [
       "<div>\n",
       "<style scoped>\n",
       "    .dataframe tbody tr th:only-of-type {\n",
       "        vertical-align: middle;\n",
       "    }\n",
       "\n",
       "    .dataframe tbody tr th {\n",
       "        vertical-align: top;\n",
       "    }\n",
       "\n",
       "    .dataframe thead th {\n",
       "        text-align: right;\n",
       "    }\n",
       "</style>\n",
       "<table border=\"1\" class=\"dataframe\">\n",
       "  <thead>\n",
       "    <tr style=\"text-align: right;\">\n",
       "      <th></th>\n",
       "      <th>movie_id</th>\n",
       "      <th>primary_title</th>\n",
       "      <th>original_title</th>\n",
       "      <th>primary_name</th>\n",
       "      <th>primary_profession</th>\n",
       "    </tr>\n",
       "  </thead>\n",
       "  <tbody>\n",
       "    <tr>\n",
       "      <th>0</th>\n",
       "      <td>tt0063540</td>\n",
       "      <td>Sunghursh</td>\n",
       "      <td>Sunghursh</td>\n",
       "      <td>Harnam Singh Rawail</td>\n",
       "      <td>director,writer,producer</td>\n",
       "    </tr>\n",
       "    <tr>\n",
       "      <th>1</th>\n",
       "      <td>tt0066787</td>\n",
       "      <td>One Day Before the Rainy Season</td>\n",
       "      <td>Ashad Ka Ek Din</td>\n",
       "      <td>Mani Kaul</td>\n",
       "      <td>director,writer,actor</td>\n",
       "    </tr>\n",
       "    <tr>\n",
       "      <th>2</th>\n",
       "      <td>tt0069049</td>\n",
       "      <td>The Other Side of the Wind</td>\n",
       "      <td>The Other Side of the Wind</td>\n",
       "      <td>Orson Welles</td>\n",
       "      <td>actor,director,writer</td>\n",
       "    </tr>\n",
       "    <tr>\n",
       "      <th>3</th>\n",
       "      <td>tt0069204</td>\n",
       "      <td>Sabse Bada Sukh</td>\n",
       "      <td>Sabse Bada Sukh</td>\n",
       "      <td>Hrishikesh Mukherjee</td>\n",
       "      <td>director,editor,writer</td>\n",
       "    </tr>\n",
       "    <tr>\n",
       "      <th>4</th>\n",
       "      <td>tt0100275</td>\n",
       "      <td>The Wandering Soap Opera</td>\n",
       "      <td>La Telenovela Errante</td>\n",
       "      <td>Raoul Ruiz</td>\n",
       "      <td>director,writer,producer</td>\n",
       "    </tr>\n",
       "  </tbody>\n",
       "</table>\n",
       "</div>"
      ],
      "text/plain": [
       "    movie_id                    primary_title              original_title  \\\n",
       "0  tt0063540                        Sunghursh                   Sunghursh   \n",
       "1  tt0066787  One Day Before the Rainy Season             Ashad Ka Ek Din   \n",
       "2  tt0069049       The Other Side of the Wind  The Other Side of the Wind   \n",
       "3  tt0069204                  Sabse Bada Sukh             Sabse Bada Sukh   \n",
       "4  tt0100275         The Wandering Soap Opera       La Telenovela Errante   \n",
       "\n",
       "           primary_name        primary_profession  \n",
       "0   Harnam Singh Rawail  director,writer,producer  \n",
       "1             Mani Kaul     director,writer,actor  \n",
       "2          Orson Welles     actor,director,writer  \n",
       "3  Hrishikesh Mukherjee    director,editor,writer  \n",
       "4            Raoul Ruiz  director,writer,producer  "
      ]
     },
     "execution_count": 192,
     "metadata": {},
     "output_type": "execute_result"
    }
   ],
   "source": [
    "df_dir.head()"
   ]
  },
  {
   "cell_type": "code",
   "execution_count": 193,
   "metadata": {},
   "outputs": [],
   "source": [
    "merged_directors_and_budgets = df_budget.merge(df_dir, left_on='movie', right_on='primary_title', how='inner')"
   ]
  },
  {
   "cell_type": "code",
   "execution_count": 194,
   "metadata": {},
   "outputs": [
    {
     "data": {
      "text/plain": [
       "id                     0\n",
       "release_date           0\n",
       "movie                  0\n",
       "production_budget      0\n",
       "domestic_gross         0\n",
       "worldwide_gross        0\n",
       "Profitability_Ratio    0\n",
       "prof_cat               0\n",
       "movie_id               0\n",
       "primary_title          0\n",
       "original_title         0\n",
       "primary_name           0\n",
       "primary_profession     8\n",
       "dtype: int64"
      ]
     },
     "execution_count": 194,
     "metadata": {},
     "output_type": "execute_result"
    }
   ],
   "source": [
    "merged_directors_and_budgets.isna().sum()"
   ]
  },
  {
   "cell_type": "code",
   "execution_count": 195,
   "metadata": {},
   "outputs": [
    {
     "data": {
      "text/html": [
       "<div>\n",
       "<style scoped>\n",
       "    .dataframe tbody tr th:only-of-type {\n",
       "        vertical-align: middle;\n",
       "    }\n",
       "\n",
       "    .dataframe tbody tr th {\n",
       "        vertical-align: top;\n",
       "    }\n",
       "\n",
       "    .dataframe thead th {\n",
       "        text-align: right;\n",
       "    }\n",
       "</style>\n",
       "<table border=\"1\" class=\"dataframe\">\n",
       "  <thead>\n",
       "    <tr style=\"text-align: right;\">\n",
       "      <th></th>\n",
       "      <th>id</th>\n",
       "      <th>release_date</th>\n",
       "      <th>movie</th>\n",
       "      <th>production_budget</th>\n",
       "      <th>domestic_gross</th>\n",
       "      <th>worldwide_gross</th>\n",
       "      <th>Profitability_Ratio</th>\n",
       "      <th>prof_cat</th>\n",
       "      <th>movie_id</th>\n",
       "      <th>primary_title</th>\n",
       "      <th>original_title</th>\n",
       "      <th>primary_name</th>\n",
       "      <th>primary_profession</th>\n",
       "    </tr>\n",
       "  </thead>\n",
       "  <tbody>\n",
       "    <tr>\n",
       "      <th>0</th>\n",
       "      <td>1</td>\n",
       "      <td>Dec 18, 2009</td>\n",
       "      <td>Avatar</td>\n",
       "      <td>425000000.0</td>\n",
       "      <td>$760,507,625</td>\n",
       "      <td>2.776345e+09</td>\n",
       "      <td>6.532577</td>\n",
       "      <td>High Profit</td>\n",
       "      <td>tt1775309</td>\n",
       "      <td>Avatar</td>\n",
       "      <td>Abatâ</td>\n",
       "      <td>Atsushi Wada</td>\n",
       "      <td>director</td>\n",
       "    </tr>\n",
       "    <tr>\n",
       "      <th>1</th>\n",
       "      <td>2</td>\n",
       "      <td>May 20, 2011</td>\n",
       "      <td>Pirates of the Caribbean: On Stranger Tides</td>\n",
       "      <td>410600000.0</td>\n",
       "      <td>$241,063,875</td>\n",
       "      <td>1.045664e+09</td>\n",
       "      <td>2.546673</td>\n",
       "      <td>Low Profit</td>\n",
       "      <td>tt1298650</td>\n",
       "      <td>Pirates of the Caribbean: On Stranger Tides</td>\n",
       "      <td>Pirates of the Caribbean: On Stranger Tides</td>\n",
       "      <td>Rob Marshall</td>\n",
       "      <td>director,miscellaneous,producer</td>\n",
       "    </tr>\n",
       "    <tr>\n",
       "      <th>2</th>\n",
       "      <td>3</td>\n",
       "      <td>Jun 7, 2019</td>\n",
       "      <td>Dark Phoenix</td>\n",
       "      <td>350000000.0</td>\n",
       "      <td>$42,762,350</td>\n",
       "      <td>1.497624e+08</td>\n",
       "      <td>0.427892</td>\n",
       "      <td>Loss</td>\n",
       "      <td>tt6565702</td>\n",
       "      <td>Dark Phoenix</td>\n",
       "      <td>Dark Phoenix</td>\n",
       "      <td>Simon Kinberg</td>\n",
       "      <td>producer,writer,director</td>\n",
       "    </tr>\n",
       "    <tr>\n",
       "      <th>3</th>\n",
       "      <td>4</td>\n",
       "      <td>May 1, 2015</td>\n",
       "      <td>Avengers: Age of Ultron</td>\n",
       "      <td>330600000.0</td>\n",
       "      <td>$459,005,868</td>\n",
       "      <td>1.403014e+09</td>\n",
       "      <td>4.243841</td>\n",
       "      <td>High Profit</td>\n",
       "      <td>tt2395427</td>\n",
       "      <td>Avengers: Age of Ultron</td>\n",
       "      <td>Avengers: Age of Ultron</td>\n",
       "      <td>Joss Whedon</td>\n",
       "      <td>writer,producer,director</td>\n",
       "    </tr>\n",
       "    <tr>\n",
       "      <th>4</th>\n",
       "      <td>7</td>\n",
       "      <td>Apr 27, 2018</td>\n",
       "      <td>Avengers: Infinity War</td>\n",
       "      <td>300000000.0</td>\n",
       "      <td>$678,815,482</td>\n",
       "      <td>2.048134e+09</td>\n",
       "      <td>6.827114</td>\n",
       "      <td>High Profit</td>\n",
       "      <td>tt4154756</td>\n",
       "      <td>Avengers: Infinity War</td>\n",
       "      <td>Avengers: Infinity War</td>\n",
       "      <td>Anthony Russo</td>\n",
       "      <td>producer,director,writer</td>\n",
       "    </tr>\n",
       "  </tbody>\n",
       "</table>\n",
       "</div>"
      ],
      "text/plain": [
       "   id  release_date                                        movie  \\\n",
       "0   1  Dec 18, 2009                                       Avatar   \n",
       "1   2  May 20, 2011  Pirates of the Caribbean: On Stranger Tides   \n",
       "2   3   Jun 7, 2019                                 Dark Phoenix   \n",
       "3   4   May 1, 2015                      Avengers: Age of Ultron   \n",
       "4   7  Apr 27, 2018                       Avengers: Infinity War   \n",
       "\n",
       "   production_budget domestic_gross  worldwide_gross  Profitability_Ratio  \\\n",
       "0        425000000.0   $760,507,625     2.776345e+09             6.532577   \n",
       "1        410600000.0   $241,063,875     1.045664e+09             2.546673   \n",
       "2        350000000.0    $42,762,350     1.497624e+08             0.427892   \n",
       "3        330600000.0   $459,005,868     1.403014e+09             4.243841   \n",
       "4        300000000.0   $678,815,482     2.048134e+09             6.827114   \n",
       "\n",
       "      prof_cat   movie_id                                primary_title  \\\n",
       "0  High Profit  tt1775309                                       Avatar   \n",
       "1   Low Profit  tt1298650  Pirates of the Caribbean: On Stranger Tides   \n",
       "2         Loss  tt6565702                                 Dark Phoenix   \n",
       "3  High Profit  tt2395427                      Avengers: Age of Ultron   \n",
       "4  High Profit  tt4154756                       Avengers: Infinity War   \n",
       "\n",
       "                                original_title   primary_name  \\\n",
       "0                                        Abatâ   Atsushi Wada   \n",
       "1  Pirates of the Caribbean: On Stranger Tides   Rob Marshall   \n",
       "2                                 Dark Phoenix  Simon Kinberg   \n",
       "3                      Avengers: Age of Ultron    Joss Whedon   \n",
       "4                       Avengers: Infinity War  Anthony Russo   \n",
       "\n",
       "                primary_profession  \n",
       "0                         director  \n",
       "1  director,miscellaneous,producer  \n",
       "2         producer,writer,director  \n",
       "3         writer,producer,director  \n",
       "4         producer,director,writer  "
      ]
     },
     "execution_count": 195,
     "metadata": {},
     "output_type": "execute_result"
    }
   ],
   "source": [
    "merged_directors_and_budgets.head()"
   ]
  },
  {
   "cell_type": "markdown",
   "metadata": {},
   "source": [
    "Removing primary profession with null"
   ]
  },
  {
   "cell_type": "code",
   "execution_count": 196,
   "metadata": {},
   "outputs": [],
   "source": [
    "merged_directors_and_budgets = merged_directors_and_budgets.dropna(subset=['primary_profession'])"
   ]
  },
  {
   "cell_type": "code",
   "execution_count": 197,
   "metadata": {
    "scrolled": true
   },
   "outputs": [
    {
     "data": {
      "text/plain": [
       "id                     0\n",
       "release_date           0\n",
       "movie                  0\n",
       "production_budget      0\n",
       "domestic_gross         0\n",
       "worldwide_gross        0\n",
       "Profitability_Ratio    0\n",
       "prof_cat               0\n",
       "movie_id               0\n",
       "primary_title          0\n",
       "original_title         0\n",
       "primary_name           0\n",
       "primary_profession     0\n",
       "dtype: int64"
      ]
     },
     "execution_count": 197,
     "metadata": {},
     "output_type": "execute_result"
    }
   ],
   "source": [
    "merged_directors_and_budgets.isna().sum()"
   ]
  },
  {
   "cell_type": "markdown",
   "metadata": {},
   "source": [
    "Removing the naming order duplicates"
   ]
  },
  {
   "cell_type": "code",
   "execution_count": 198,
   "metadata": {},
   "outputs": [],
   "source": [
    "merged_directors_and_budgets.loc[:,'primary_profession'] = merged_directors_and_budgets.loc[:,'primary_profession'].replace({\n",
    "    'director,writer,producer':'writer,director,producer',\n",
    "    'producer,director,writer':'writer,director,producer',\n",
    "    'director,producer,writer':'writer,director,producer',\n",
    "    'producer,writer,director':'writer,director,producer',\n",
    "    'writer,producer,director':'writer,director,producer',\n",
    "    'producer,director,actor' :'director,producer,actor',\n",
    "    'actor,producer,director' :'director,producer,actor',\n",
    "    'director,actor,writer': 'writer,director,actor',\n",
    "    'actor,director,writer' : 'writer,director,actor',\n",
    "    'director,writer,actor' :'writer,director,actor',\n",
    "    'actor,writer,director' :'writer,director,actor',\n",
    "    'director,writer,editor' :'writer,director,editor',\n",
    "    'actor,director,producer' : 'director,producer,actor',\n",
    "    'director,editor,writer' : 'writer,director,editor',\n",
    "    'producer,actor,writer': 'writer,producer,actor',\n",
    "    'actor,writer,producer' : 'writer,producer,actor',\n",
    "    'actor,producer,writer' : 'writer,producer,actor',\n",
    "    'director,actor,producer' : 'director,producer,actor'\n",
    "    \n",
    "})"
   ]
  },
  {
   "cell_type": "code",
   "execution_count": 199,
   "metadata": {
    "scrolled": true
   },
   "outputs": [
    {
     "data": {
      "text/plain": [
       "writer,director,producer                   1290\n",
       "writer,director,actor                       291\n",
       "director,producer,actor                     251\n",
       "writer,director,editor                      185\n",
       "director                                    154\n",
       "                                           ... \n",
       "art_department,miscellaneous,writer           1\n",
       "cinematographer,editor,sound_department       1\n",
       "writer,director,visual_effects                1\n",
       "director,writer,make_up_department            1\n",
       "cinematographer,director,actor                1\n",
       "Name: primary_profession, Length: 515, dtype: int64"
      ]
     },
     "execution_count": 199,
     "metadata": {},
     "output_type": "execute_result"
    }
   ],
   "source": [
    "merged_directors_and_budgets['primary_profession'].value_counts()"
   ]
  },
  {
   "cell_type": "markdown",
   "metadata": {},
   "source": [
    "To avoid extream categories get categories with more than or equal to 10"
   ]
  },
  {
   "cell_type": "code",
   "execution_count": 200,
   "metadata": {},
   "outputs": [],
   "source": [
    "merged_directors_and_budgets_Filter1 = merged_directors_and_budgets[merged_directors_and_budgets['primary_profession'].map(merged_directors_and_budgets['primary_profession'].value_counts()) >= 10]"
   ]
  },
  {
   "cell_type": "code",
   "execution_count": 201,
   "metadata": {
    "scrolled": true
   },
   "outputs": [
    {
     "data": {
      "text/plain": [
       "writer,director,producer    1290\n",
       "writer,director,actor        291\n",
       "director,producer,actor      251\n",
       "writer,director,editor       185\n",
       "director                     154\n",
       "Name: primary_profession, dtype: int64"
      ]
     },
     "execution_count": 201,
     "metadata": {},
     "output_type": "execute_result"
    }
   ],
   "source": [
    "merged_directors_and_budgets_Filter1['primary_profession'].value_counts().head()"
   ]
  },
  {
   "cell_type": "markdown",
   "metadata": {},
   "source": [
    "Conduct chi-square test to test the significance of below hypothesis\n",
    "\n",
    "H0 : There is no significant relationship between profile and prifitability ratio\n",
    "H1 : There is a significant relationship between profile and prifitability ratio"
   ]
  },
  {
   "cell_type": "code",
   "execution_count": 202,
   "metadata": {},
   "outputs": [
    {
     "data": {
      "text/html": [
       "<div>\n",
       "<style scoped>\n",
       "    .dataframe tbody tr th:only-of-type {\n",
       "        vertical-align: middle;\n",
       "    }\n",
       "\n",
       "    .dataframe tbody tr th {\n",
       "        vertical-align: top;\n",
       "    }\n",
       "\n",
       "    .dataframe thead th {\n",
       "        text-align: right;\n",
       "    }\n",
       "</style>\n",
       "<table border=\"1\" class=\"dataframe\">\n",
       "  <thead>\n",
       "    <tr style=\"text-align: right;\">\n",
       "      <th>prof_cat</th>\n",
       "      <th>High Profit</th>\n",
       "      <th>Loss</th>\n",
       "      <th>Low Profit</th>\n",
       "      <th>Medium Profit</th>\n",
       "    </tr>\n",
       "    <tr>\n",
       "      <th>primary_profession</th>\n",
       "      <th></th>\n",
       "      <th></th>\n",
       "      <th></th>\n",
       "      <th></th>\n",
       "    </tr>\n",
       "  </thead>\n",
       "  <tbody>\n",
       "    <tr>\n",
       "      <th>actress,director,writer</th>\n",
       "      <td>1</td>\n",
       "      <td>13</td>\n",
       "      <td>5</td>\n",
       "      <td>5</td>\n",
       "    </tr>\n",
       "    <tr>\n",
       "      <th>actress,producer,director</th>\n",
       "      <td>3</td>\n",
       "      <td>13</td>\n",
       "      <td>3</td>\n",
       "      <td>2</td>\n",
       "    </tr>\n",
       "    <tr>\n",
       "      <th>assistant_director,director,writer</th>\n",
       "      <td>2</td>\n",
       "      <td>11</td>\n",
       "      <td>0</td>\n",
       "      <td>1</td>\n",
       "    </tr>\n",
       "    <tr>\n",
       "      <th>camera_department,cinematographer,director</th>\n",
       "      <td>1</td>\n",
       "      <td>7</td>\n",
       "      <td>1</td>\n",
       "      <td>2</td>\n",
       "    </tr>\n",
       "    <tr>\n",
       "      <th>cinematographer,camera_department,director</th>\n",
       "      <td>3</td>\n",
       "      <td>14</td>\n",
       "      <td>1</td>\n",
       "      <td>2</td>\n",
       "    </tr>\n",
       "  </tbody>\n",
       "</table>\n",
       "</div>"
      ],
      "text/plain": [
       "prof_cat                                    High Profit  Loss  Low Profit  \\\n",
       "primary_profession                                                          \n",
       "actress,director,writer                               1    13           5   \n",
       "actress,producer,director                             3    13           3   \n",
       "assistant_director,director,writer                    2    11           0   \n",
       "camera_department,cinematographer,director            1     7           1   \n",
       "cinematographer,camera_department,director            3    14           1   \n",
       "\n",
       "prof_cat                                    Medium Profit  \n",
       "primary_profession                                         \n",
       "actress,director,writer                                 5  \n",
       "actress,producer,director                               2  \n",
       "assistant_director,director,writer                      1  \n",
       "camera_department,cinematographer,director              2  \n",
       "cinematographer,camera_department,director              2  "
      ]
     },
     "execution_count": 202,
     "metadata": {},
     "output_type": "execute_result"
    }
   ],
   "source": [
    "contingency_table=pd.crosstab(index=merged_directors_and_budgets_Filter1['primary_profession'],columns=merged_directors_and_budgets_Filter1['prof_cat'])\n",
    "contingency_table.head()"
   ]
  },
  {
   "cell_type": "code",
   "execution_count": 203,
   "metadata": {},
   "outputs": [
    {
     "data": {
      "text/plain": [
       "(158.23637807301805,\n",
       " 0.0837463593908333,\n",
       " 135,\n",
       " array([[  4.95602294,  14.10325048,   2.94455067,   1.99617591],\n",
       "        [  4.33652008,  12.34034417,   2.57648184,   1.74665392],\n",
       "        [  2.89101338,   8.22689611,   1.71765456,   1.16443595],\n",
       "        [  2.27151052,   6.4639898 ,   1.34958572,   0.91491396],\n",
       "        [  4.13001912,  11.75270873,   2.45379222,   1.66347992],\n",
       "        [  3.3040153 ,   9.40216699,   1.96303378,   1.33078394],\n",
       "        [ 31.80114723,  90.49585723,  18.89420013,  12.80879541],\n",
       "        [  3.09751434,   8.81453155,   1.84034417,   1.24760994],\n",
       "        [  2.06500956,   5.87635437,   1.22689611,   0.83173996],\n",
       "        [  2.47801147,   7.05162524,   1.47227533,   0.99808795],\n",
       "        [  5.78202677,  16.45379222,   3.43530911,   2.32887189],\n",
       "        [  4.95602294,  14.10325048,   2.94455067,   1.99617591],\n",
       "        [  2.06500956,   5.87635437,   1.22689611,   0.83173996],\n",
       "        [  4.33652008,  12.34034417,   2.57648184,   1.74665392],\n",
       "        [ 11.77055449,  33.49521989,   6.99330784,   4.74091778],\n",
       "        [ 51.83173996, 147.49649458,  30.79509242,  20.87667304],\n",
       "        [  3.51051625,   9.98980242,   2.08572339,   1.41395793],\n",
       "        [  4.74952199,  13.51561504,   2.82186106,   1.91300191],\n",
       "        [  3.51051625,   9.98980242,   2.08572339,   1.41395793],\n",
       "        [ 23.33460803,  66.40280433,  13.86392607,   9.39866157],\n",
       "        [  3.09751434,   8.81453155,   1.84034417,   1.24760994],\n",
       "        [ 10.11854685,  28.79413639,   6.01179095,   4.07552581],\n",
       "        [  3.3040153 ,   9.40216699,   1.96303378,   1.33078394],\n",
       "        [ 15.69407266,  44.66029318,   9.32441045,   6.32122371],\n",
       "        [  4.33652008,  12.34034417,   2.57648184,   1.74665392],\n",
       "        [  2.68451243,   7.63926068,   1.59496495,   1.08126195],\n",
       "        [  2.68451243,   7.63926068,   1.59496495,   1.08126195],\n",
       "        [  2.27151052,   6.4639898 ,   1.34958572,   0.91491396],\n",
       "        [  2.06500956,   5.87635437,   1.22689611,   0.83173996],\n",
       "        [  2.06500956,   5.87635437,   1.22689611,   0.83173996],\n",
       "        [  2.68451243,   7.63926068,   1.59496495,   1.08126195],\n",
       "        [  4.95602294,  14.10325048,   2.94455067,   1.99617591],\n",
       "        [  3.71701721,  10.57743786,   2.208413  ,   1.49713193],\n",
       "        [  3.51051625,   9.98980242,   2.08572339,   1.41395793],\n",
       "        [  4.54302103,  12.9279796 ,   2.69917145,   1.82982792],\n",
       "        [  4.54302103,  12.9279796 ,   2.69917145,   1.82982792],\n",
       "        [  4.13001912,  11.75270873,   2.45379222,   1.66347992],\n",
       "        [  2.89101338,   8.22689611,   1.71765456,   1.16443595],\n",
       "        [  3.3040153 ,   9.40216699,   1.96303378,   1.33078394],\n",
       "        [ 60.0917782 , 171.00191205,  35.70267686,  24.20363289],\n",
       "        [  2.68451243,   7.63926068,   1.59496495,   1.08126195],\n",
       "        [ 38.20267686, 108.71255577,  22.69757808,  15.38718929],\n",
       "        [  2.06500956,   5.87635437,   1.22689611,   0.83173996],\n",
       "        [266.38623327, 758.04971319, 158.26959847, 107.29445507],\n",
       "        [ 16.72657744,  47.59847036,   9.93785851,   6.73709369],\n",
       "        [  2.06500956,   5.87635437,   1.22689611,   0.83173996]]))"
      ]
     },
     "execution_count": 203,
     "metadata": {},
     "output_type": "execute_result"
    }
   ],
   "source": [
    "stats.contingency.chi2_contingency(contingency_table)"
   ]
  },
  {
   "cell_type": "markdown",
   "metadata": {},
   "source": [
    "As indicated above it is not possible to reject null hypothesis at 5% confidence level as this is a two tail test. Therefore can conclude that there is no significant relationship between profile and profitability."
   ]
  },
  {
   "cell_type": "markdown",
   "metadata": {},
   "source": [
    "### Identify the relationship between Director and profitability"
   ]
  },
  {
   "cell_type": "code",
   "execution_count": 204,
   "metadata": {},
   "outputs": [
    {
     "data": {
      "text/plain": [
       "Tim Story            9\n",
       "Steven Spielberg     8\n",
       "Ridley Scott         7\n",
       "Clint Eastwood       7\n",
       "Steven Soderbergh    7\n",
       "                    ..\n",
       "Jinglei Xu           1\n",
       "Nick Cassavetes      1\n",
       "Neil Corbin          1\n",
       "Nicole Mosleh        1\n",
       "Jie Liu              1\n",
       "Name: primary_name, Length: 3223, dtype: int64"
      ]
     },
     "execution_count": 204,
     "metadata": {},
     "output_type": "execute_result"
    }
   ],
   "source": [
    "merged_directors_and_budgets['primary_name'].value_counts()"
   ]
  },
  {
   "cell_type": "markdown",
   "metadata": {},
   "source": [
    "Consider only directors have done at least 3 movies."
   ]
  },
  {
   "cell_type": "code",
   "execution_count": 205,
   "metadata": {},
   "outputs": [],
   "source": [
    "merged_directors_and_budgets_cleaned = merged_directors_and_budgets[merged_directors_and_budgets['primary_name'].map(merged_directors_and_budgets['primary_name'].value_counts()) > 2]"
   ]
  },
  {
   "cell_type": "code",
   "execution_count": 206,
   "metadata": {},
   "outputs": [
    {
     "data": {
      "text/plain": [
       "Tim Story             9\n",
       "Steven Spielberg      8\n",
       "Steven Soderbergh     7\n",
       "Clint Eastwood        7\n",
       "David Gordon Green    7\n",
       "                     ..\n",
       "Paul Greengrass       3\n",
       "Damien Chazelle       3\n",
       "Bill Condon           3\n",
       "Joe Russo             3\n",
       "Shane Black           3\n",
       "Name: primary_name, Length: 177, dtype: int64"
      ]
     },
     "execution_count": 206,
     "metadata": {},
     "output_type": "execute_result"
    }
   ],
   "source": [
    "merged_directors_and_budgets_cleaned['primary_name'].value_counts()"
   ]
  },
  {
   "cell_type": "code",
   "execution_count": 207,
   "metadata": {
    "scrolled": true
   },
   "outputs": [
    {
     "data": {
      "text/html": [
       "<div>\n",
       "<style scoped>\n",
       "    .dataframe tbody tr th:only-of-type {\n",
       "        vertical-align: middle;\n",
       "    }\n",
       "\n",
       "    .dataframe tbody tr th {\n",
       "        vertical-align: top;\n",
       "    }\n",
       "\n",
       "    .dataframe thead th {\n",
       "        text-align: right;\n",
       "    }\n",
       "</style>\n",
       "<table border=\"1\" class=\"dataframe\">\n",
       "  <thead>\n",
       "    <tr style=\"text-align: right;\">\n",
       "      <th></th>\n",
       "      <th>id</th>\n",
       "      <th>release_date</th>\n",
       "      <th>movie</th>\n",
       "      <th>production_budget</th>\n",
       "      <th>domestic_gross</th>\n",
       "      <th>worldwide_gross</th>\n",
       "      <th>Profitability_Ratio</th>\n",
       "      <th>prof_cat</th>\n",
       "      <th>movie_id</th>\n",
       "      <th>primary_title</th>\n",
       "      <th>original_title</th>\n",
       "      <th>primary_name</th>\n",
       "      <th>primary_profession</th>\n",
       "    </tr>\n",
       "  </thead>\n",
       "  <tbody>\n",
       "    <tr>\n",
       "      <th>1</th>\n",
       "      <td>2</td>\n",
       "      <td>May 20, 2011</td>\n",
       "      <td>Pirates of the Caribbean: On Stranger Tides</td>\n",
       "      <td>410600000.0</td>\n",
       "      <td>$241,063,875</td>\n",
       "      <td>1.045664e+09</td>\n",
       "      <td>2.546673</td>\n",
       "      <td>Low Profit</td>\n",
       "      <td>tt1298650</td>\n",
       "      <td>Pirates of the Caribbean: On Stranger Tides</td>\n",
       "      <td>Pirates of the Caribbean: On Stranger Tides</td>\n",
       "      <td>Rob Marshall</td>\n",
       "      <td>director,miscellaneous,producer</td>\n",
       "    </tr>\n",
       "    <tr>\n",
       "      <th>3</th>\n",
       "      <td>4</td>\n",
       "      <td>May 1, 2015</td>\n",
       "      <td>Avengers: Age of Ultron</td>\n",
       "      <td>330600000.0</td>\n",
       "      <td>$459,005,868</td>\n",
       "      <td>1.403014e+09</td>\n",
       "      <td>4.243841</td>\n",
       "      <td>High Profit</td>\n",
       "      <td>tt2395427</td>\n",
       "      <td>Avengers: Age of Ultron</td>\n",
       "      <td>Avengers: Age of Ultron</td>\n",
       "      <td>Joss Whedon</td>\n",
       "      <td>writer,director,producer</td>\n",
       "    </tr>\n",
       "    <tr>\n",
       "      <th>4</th>\n",
       "      <td>7</td>\n",
       "      <td>Apr 27, 2018</td>\n",
       "      <td>Avengers: Infinity War</td>\n",
       "      <td>300000000.0</td>\n",
       "      <td>$678,815,482</td>\n",
       "      <td>2.048134e+09</td>\n",
       "      <td>6.827114</td>\n",
       "      <td>High Profit</td>\n",
       "      <td>tt4154756</td>\n",
       "      <td>Avengers: Infinity War</td>\n",
       "      <td>Avengers: Infinity War</td>\n",
       "      <td>Anthony Russo</td>\n",
       "      <td>writer,director,producer</td>\n",
       "    </tr>\n",
       "    <tr>\n",
       "      <th>5</th>\n",
       "      <td>7</td>\n",
       "      <td>Apr 27, 2018</td>\n",
       "      <td>Avengers: Infinity War</td>\n",
       "      <td>300000000.0</td>\n",
       "      <td>$678,815,482</td>\n",
       "      <td>2.048134e+09</td>\n",
       "      <td>6.827114</td>\n",
       "      <td>High Profit</td>\n",
       "      <td>tt4154756</td>\n",
       "      <td>Avengers: Infinity War</td>\n",
       "      <td>Avengers: Infinity War</td>\n",
       "      <td>Joe Russo</td>\n",
       "      <td>writer,director,producer</td>\n",
       "    </tr>\n",
       "    <tr>\n",
       "      <th>6</th>\n",
       "      <td>9</td>\n",
       "      <td>Nov 17, 2017</td>\n",
       "      <td>Justice League</td>\n",
       "      <td>300000000.0</td>\n",
       "      <td>$229,024,295</td>\n",
       "      <td>6.559452e+08</td>\n",
       "      <td>2.186484</td>\n",
       "      <td>Low Profit</td>\n",
       "      <td>tt0974015</td>\n",
       "      <td>Justice League</td>\n",
       "      <td>Justice League</td>\n",
       "      <td>Zack Snyder</td>\n",
       "      <td>writer,director,producer</td>\n",
       "    </tr>\n",
       "  </tbody>\n",
       "</table>\n",
       "</div>"
      ],
      "text/plain": [
       "   id  release_date                                        movie  \\\n",
       "1   2  May 20, 2011  Pirates of the Caribbean: On Stranger Tides   \n",
       "3   4   May 1, 2015                      Avengers: Age of Ultron   \n",
       "4   7  Apr 27, 2018                       Avengers: Infinity War   \n",
       "5   7  Apr 27, 2018                       Avengers: Infinity War   \n",
       "6   9  Nov 17, 2017                               Justice League   \n",
       "\n",
       "   production_budget domestic_gross  worldwide_gross  Profitability_Ratio  \\\n",
       "1        410600000.0   $241,063,875     1.045664e+09             2.546673   \n",
       "3        330600000.0   $459,005,868     1.403014e+09             4.243841   \n",
       "4        300000000.0   $678,815,482     2.048134e+09             6.827114   \n",
       "5        300000000.0   $678,815,482     2.048134e+09             6.827114   \n",
       "6        300000000.0   $229,024,295     6.559452e+08             2.186484   \n",
       "\n",
       "      prof_cat   movie_id                                primary_title  \\\n",
       "1   Low Profit  tt1298650  Pirates of the Caribbean: On Stranger Tides   \n",
       "3  High Profit  tt2395427                      Avengers: Age of Ultron   \n",
       "4  High Profit  tt4154756                       Avengers: Infinity War   \n",
       "5  High Profit  tt4154756                       Avengers: Infinity War   \n",
       "6   Low Profit  tt0974015                               Justice League   \n",
       "\n",
       "                                original_title   primary_name  \\\n",
       "1  Pirates of the Caribbean: On Stranger Tides   Rob Marshall   \n",
       "3                      Avengers: Age of Ultron    Joss Whedon   \n",
       "4                       Avengers: Infinity War  Anthony Russo   \n",
       "5                       Avengers: Infinity War      Joe Russo   \n",
       "6                               Justice League    Zack Snyder   \n",
       "\n",
       "                primary_profession  \n",
       "1  director,miscellaneous,producer  \n",
       "3         writer,director,producer  \n",
       "4         writer,director,producer  \n",
       "5         writer,director,producer  \n",
       "6         writer,director,producer  "
      ]
     },
     "execution_count": 207,
     "metadata": {},
     "output_type": "execute_result"
    }
   ],
   "source": [
    "merged_directors_and_budgets_cleaned.head()"
   ]
  },
  {
   "cell_type": "markdown",
   "metadata": {},
   "source": [
    "Conduct chi-square test to test the significance of below hypothesis\n",
    "\n",
    "H0 : There is no significant relationship between director and prifitability ratio\n",
    "H1 : There is a significant relationship between director and prifitability ratio"
   ]
  },
  {
   "cell_type": "code",
   "execution_count": 208,
   "metadata": {},
   "outputs": [
    {
     "data": {
      "text/html": [
       "<div>\n",
       "<style scoped>\n",
       "    .dataframe tbody tr th:only-of-type {\n",
       "        vertical-align: middle;\n",
       "    }\n",
       "\n",
       "    .dataframe tbody tr th {\n",
       "        vertical-align: top;\n",
       "    }\n",
       "\n",
       "    .dataframe thead th {\n",
       "        text-align: right;\n",
       "    }\n",
       "</style>\n",
       "<table border=\"1\" class=\"dataframe\">\n",
       "  <thead>\n",
       "    <tr style=\"text-align: right;\">\n",
       "      <th>prof_cat</th>\n",
       "      <th>High Profit</th>\n",
       "      <th>Loss</th>\n",
       "      <th>Low Profit</th>\n",
       "      <th>Medium Profit</th>\n",
       "    </tr>\n",
       "    <tr>\n",
       "      <th>primary_name</th>\n",
       "      <th></th>\n",
       "      <th></th>\n",
       "      <th></th>\n",
       "      <th></th>\n",
       "    </tr>\n",
       "  </thead>\n",
       "  <tbody>\n",
       "    <tr>\n",
       "      <th>Adam McKay</th>\n",
       "      <td>1</td>\n",
       "      <td>2</td>\n",
       "      <td>0</td>\n",
       "      <td>1</td>\n",
       "    </tr>\n",
       "    <tr>\n",
       "      <th>Aj Cross</th>\n",
       "      <td>0</td>\n",
       "      <td>1</td>\n",
       "      <td>1</td>\n",
       "      <td>1</td>\n",
       "    </tr>\n",
       "    <tr>\n",
       "      <th>Alejandro G. Iñárritu</th>\n",
       "      <td>1</td>\n",
       "      <td>1</td>\n",
       "      <td>0</td>\n",
       "      <td>1</td>\n",
       "    </tr>\n",
       "    <tr>\n",
       "      <th>Alex Kurtzman</th>\n",
       "      <td>1</td>\n",
       "      <td>1</td>\n",
       "      <td>1</td>\n",
       "      <td>0</td>\n",
       "    </tr>\n",
       "    <tr>\n",
       "      <th>Alexander Payne</th>\n",
       "      <td>1</td>\n",
       "      <td>1</td>\n",
       "      <td>1</td>\n",
       "      <td>0</td>\n",
       "    </tr>\n",
       "    <tr>\n",
       "      <th>...</th>\n",
       "      <td>...</td>\n",
       "      <td>...</td>\n",
       "      <td>...</td>\n",
       "      <td>...</td>\n",
       "    </tr>\n",
       "    <tr>\n",
       "      <th>Will Gluck</th>\n",
       "      <td>3</td>\n",
       "      <td>0</td>\n",
       "      <td>1</td>\n",
       "      <td>0</td>\n",
       "    </tr>\n",
       "    <tr>\n",
       "      <th>William De Vital</th>\n",
       "      <td>0</td>\n",
       "      <td>0</td>\n",
       "      <td>3</td>\n",
       "      <td>0</td>\n",
       "    </tr>\n",
       "    <tr>\n",
       "      <th>Woody Allen</th>\n",
       "      <td>2</td>\n",
       "      <td>0</td>\n",
       "      <td>1</td>\n",
       "      <td>1</td>\n",
       "    </tr>\n",
       "    <tr>\n",
       "      <th>Youssef Delara</th>\n",
       "      <td>0</td>\n",
       "      <td>2</td>\n",
       "      <td>1</td>\n",
       "      <td>0</td>\n",
       "    </tr>\n",
       "    <tr>\n",
       "      <th>Zack Snyder</th>\n",
       "      <td>0</td>\n",
       "      <td>2</td>\n",
       "      <td>2</td>\n",
       "      <td>1</td>\n",
       "    </tr>\n",
       "  </tbody>\n",
       "</table>\n",
       "<p>177 rows × 4 columns</p>\n",
       "</div>"
      ],
      "text/plain": [
       "prof_cat               High Profit  Loss  Low Profit  Medium Profit\n",
       "primary_name                                                       \n",
       "Adam McKay                       1     2           0              1\n",
       "Aj Cross                         0     1           1              1\n",
       "Alejandro G. Iñárritu            1     1           0              1\n",
       "Alex Kurtzman                    1     1           1              0\n",
       "Alexander Payne                  1     1           1              0\n",
       "...                            ...   ...         ...            ...\n",
       "Will Gluck                       3     0           1              0\n",
       "William De Vital                 0     0           3              0\n",
       "Woody Allen                      2     0           1              1\n",
       "Youssef Delara                   0     2           1              0\n",
       "Zack Snyder                      0     2           2              1\n",
       "\n",
       "[177 rows x 4 columns]"
      ]
     },
     "execution_count": 208,
     "metadata": {},
     "output_type": "execute_result"
    }
   ],
   "source": [
    "contingency_table=pd.crosstab(index=merged_directors_and_budgets_cleaned['primary_name'],columns=merged_directors_and_budgets_cleaned['prof_cat'])\n",
    "contingency_table"
   ]
  },
  {
   "cell_type": "code",
   "execution_count": 209,
   "metadata": {},
   "outputs": [
    {
     "data": {
      "text/plain": [
       "(617.1571277733168,\n",
       " 0.0043571539393549375,\n",
       " 528,\n",
       " array([[1.33538462, 1.44      , 0.67692308, 0.54769231],\n",
       "        [1.00153846, 1.08      , 0.50769231, 0.41076923],\n",
       "        [1.00153846, 1.08      , 0.50769231, 0.41076923],\n",
       "        [1.00153846, 1.08      , 0.50769231, 0.41076923],\n",
       "        [1.00153846, 1.08      , 0.50769231, 0.41076923],\n",
       "        [1.00153846, 1.08      , 0.50769231, 0.41076923],\n",
       "        [1.00153846, 1.08      , 0.50769231, 0.41076923],\n",
       "        [1.00153846, 1.08      , 0.50769231, 0.41076923],\n",
       "        [1.66923077, 1.8       , 0.84615385, 0.68461538],\n",
       "        [1.33538462, 1.44      , 0.67692308, 0.54769231],\n",
       "        [1.00153846, 1.08      , 0.50769231, 0.41076923],\n",
       "        [1.00153846, 1.08      , 0.50769231, 0.41076923],\n",
       "        [1.33538462, 1.44      , 0.67692308, 0.54769231],\n",
       "        [1.00153846, 1.08      , 0.50769231, 0.41076923],\n",
       "        [1.00153846, 1.08      , 0.50769231, 0.41076923],\n",
       "        [1.00153846, 1.08      , 0.50769231, 0.41076923],\n",
       "        [1.00153846, 1.08      , 0.50769231, 0.41076923],\n",
       "        [1.00153846, 1.08      , 0.50769231, 0.41076923],\n",
       "        [1.66923077, 1.8       , 0.84615385, 0.68461538],\n",
       "        [1.33538462, 1.44      , 0.67692308, 0.54769231],\n",
       "        [1.00153846, 1.08      , 0.50769231, 0.41076923],\n",
       "        [1.33538462, 1.44      , 0.67692308, 0.54769231],\n",
       "        [1.00153846, 1.08      , 0.50769231, 0.41076923],\n",
       "        [1.00153846, 1.08      , 0.50769231, 0.41076923],\n",
       "        [1.33538462, 1.44      , 0.67692308, 0.54769231],\n",
       "        [1.00153846, 1.08      , 0.50769231, 0.41076923],\n",
       "        [1.33538462, 1.44      , 0.67692308, 0.54769231],\n",
       "        [1.00153846, 1.08      , 0.50769231, 0.41076923],\n",
       "        [1.33538462, 1.44      , 0.67692308, 0.54769231],\n",
       "        [2.33692308, 2.52      , 1.18461538, 0.95846154],\n",
       "        [1.00153846, 1.08      , 0.50769231, 0.41076923],\n",
       "        [1.33538462, 1.44      , 0.67692308, 0.54769231],\n",
       "        [1.00153846, 1.08      , 0.50769231, 0.41076923],\n",
       "        [1.00153846, 1.08      , 0.50769231, 0.41076923],\n",
       "        [1.33538462, 1.44      , 0.67692308, 0.54769231],\n",
       "        [1.66923077, 1.8       , 0.84615385, 0.68461538],\n",
       "        [1.00153846, 1.08      , 0.50769231, 0.41076923],\n",
       "        [1.66923077, 1.8       , 0.84615385, 0.68461538],\n",
       "        [1.00153846, 1.08      , 0.50769231, 0.41076923],\n",
       "        [1.00153846, 1.08      , 0.50769231, 0.41076923],\n",
       "        [1.00153846, 1.08      , 0.50769231, 0.41076923],\n",
       "        [1.00153846, 1.08      , 0.50769231, 0.41076923],\n",
       "        [2.33692308, 2.52      , 1.18461538, 0.95846154],\n",
       "        [1.00153846, 1.08      , 0.50769231, 0.41076923],\n",
       "        [1.66923077, 1.8       , 0.84615385, 0.68461538],\n",
       "        [1.00153846, 1.08      , 0.50769231, 0.41076923],\n",
       "        [1.00153846, 1.08      , 0.50769231, 0.41076923],\n",
       "        [2.00307692, 2.16      , 1.01538462, 0.82153846],\n",
       "        [1.00153846, 1.08      , 0.50769231, 0.41076923],\n",
       "        [1.00153846, 1.08      , 0.50769231, 0.41076923],\n",
       "        [1.00153846, 1.08      , 0.50769231, 0.41076923],\n",
       "        [1.33538462, 1.44      , 0.67692308, 0.54769231],\n",
       "        [1.00153846, 1.08      , 0.50769231, 0.41076923],\n",
       "        [1.00153846, 1.08      , 0.50769231, 0.41076923],\n",
       "        [1.00153846, 1.08      , 0.50769231, 0.41076923],\n",
       "        [1.00153846, 1.08      , 0.50769231, 0.41076923],\n",
       "        [1.00153846, 1.08      , 0.50769231, 0.41076923],\n",
       "        [1.00153846, 1.08      , 0.50769231, 0.41076923],\n",
       "        [1.66923077, 1.8       , 0.84615385, 0.68461538],\n",
       "        [1.33538462, 1.44      , 0.67692308, 0.54769231],\n",
       "        [1.33538462, 1.44      , 0.67692308, 0.54769231],\n",
       "        [1.00153846, 1.08      , 0.50769231, 0.41076923],\n",
       "        [1.00153846, 1.08      , 0.50769231, 0.41076923],\n",
       "        [1.00153846, 1.08      , 0.50769231, 0.41076923],\n",
       "        [1.66923077, 1.8       , 0.84615385, 0.68461538],\n",
       "        [1.33538462, 1.44      , 0.67692308, 0.54769231],\n",
       "        [1.00153846, 1.08      , 0.50769231, 0.41076923],\n",
       "        [1.00153846, 1.08      , 0.50769231, 0.41076923],\n",
       "        [1.00153846, 1.08      , 0.50769231, 0.41076923],\n",
       "        [1.00153846, 1.08      , 0.50769231, 0.41076923],\n",
       "        [1.00153846, 1.08      , 0.50769231, 0.41076923],\n",
       "        [1.00153846, 1.08      , 0.50769231, 0.41076923],\n",
       "        [1.00153846, 1.08      , 0.50769231, 0.41076923],\n",
       "        [1.00153846, 1.08      , 0.50769231, 0.41076923],\n",
       "        [1.00153846, 1.08      , 0.50769231, 0.41076923],\n",
       "        [1.00153846, 1.08      , 0.50769231, 0.41076923],\n",
       "        [1.00153846, 1.08      , 0.50769231, 0.41076923],\n",
       "        [2.00307692, 2.16      , 1.01538462, 0.82153846],\n",
       "        [1.33538462, 1.44      , 0.67692308, 0.54769231],\n",
       "        [1.00153846, 1.08      , 0.50769231, 0.41076923],\n",
       "        [1.00153846, 1.08      , 0.50769231, 0.41076923],\n",
       "        [1.00153846, 1.08      , 0.50769231, 0.41076923],\n",
       "        [1.33538462, 1.44      , 0.67692308, 0.54769231],\n",
       "        [1.00153846, 1.08      , 0.50769231, 0.41076923],\n",
       "        [1.00153846, 1.08      , 0.50769231, 0.41076923],\n",
       "        [1.33538462, 1.44      , 0.67692308, 0.54769231],\n",
       "        [1.00153846, 1.08      , 0.50769231, 0.41076923],\n",
       "        [1.33538462, 1.44      , 0.67692308, 0.54769231],\n",
       "        [2.00307692, 2.16      , 1.01538462, 0.82153846],\n",
       "        [1.00153846, 1.08      , 0.50769231, 0.41076923],\n",
       "        [1.66923077, 1.8       , 0.84615385, 0.68461538],\n",
       "        [1.00153846, 1.08      , 0.50769231, 0.41076923],\n",
       "        [1.00153846, 1.08      , 0.50769231, 0.41076923],\n",
       "        [1.33538462, 1.44      , 0.67692308, 0.54769231],\n",
       "        [1.00153846, 1.08      , 0.50769231, 0.41076923],\n",
       "        [1.33538462, 1.44      , 0.67692308, 0.54769231],\n",
       "        [1.33538462, 1.44      , 0.67692308, 0.54769231],\n",
       "        [1.33538462, 1.44      , 0.67692308, 0.54769231],\n",
       "        [1.00153846, 1.08      , 0.50769231, 0.41076923],\n",
       "        [1.33538462, 1.44      , 0.67692308, 0.54769231],\n",
       "        [1.33538462, 1.44      , 0.67692308, 0.54769231],\n",
       "        [1.66923077, 1.8       , 0.84615385, 0.68461538],\n",
       "        [1.33538462, 1.44      , 0.67692308, 0.54769231],\n",
       "        [1.00153846, 1.08      , 0.50769231, 0.41076923],\n",
       "        [1.00153846, 1.08      , 0.50769231, 0.41076923],\n",
       "        [1.00153846, 1.08      , 0.50769231, 0.41076923],\n",
       "        [1.00153846, 1.08      , 0.50769231, 0.41076923],\n",
       "        [1.00153846, 1.08      , 0.50769231, 0.41076923],\n",
       "        [1.00153846, 1.08      , 0.50769231, 0.41076923],\n",
       "        [1.33538462, 1.44      , 0.67692308, 0.54769231],\n",
       "        [1.00153846, 1.08      , 0.50769231, 0.41076923],\n",
       "        [1.33538462, 1.44      , 0.67692308, 0.54769231],\n",
       "        [1.33538462, 1.44      , 0.67692308, 0.54769231],\n",
       "        [1.00153846, 1.08      , 0.50769231, 0.41076923],\n",
       "        [1.00153846, 1.08      , 0.50769231, 0.41076923],\n",
       "        [1.00153846, 1.08      , 0.50769231, 0.41076923],\n",
       "        [1.33538462, 1.44      , 0.67692308, 0.54769231],\n",
       "        [1.33538462, 1.44      , 0.67692308, 0.54769231],\n",
       "        [1.00153846, 1.08      , 0.50769231, 0.41076923],\n",
       "        [1.00153846, 1.08      , 0.50769231, 0.41076923],\n",
       "        [1.66923077, 1.8       , 0.84615385, 0.68461538],\n",
       "        [1.00153846, 1.08      , 0.50769231, 0.41076923],\n",
       "        [1.00153846, 1.08      , 0.50769231, 0.41076923],\n",
       "        [1.00153846, 1.08      , 0.50769231, 0.41076923],\n",
       "        [1.66923077, 1.8       , 0.84615385, 0.68461538],\n",
       "        [1.00153846, 1.08      , 0.50769231, 0.41076923],\n",
       "        [1.00153846, 1.08      , 0.50769231, 0.41076923],\n",
       "        [1.66923077, 1.8       , 0.84615385, 0.68461538],\n",
       "        [2.00307692, 2.16      , 1.01538462, 0.82153846],\n",
       "        [1.66923077, 1.8       , 0.84615385, 0.68461538],\n",
       "        [1.00153846, 1.08      , 0.50769231, 0.41076923],\n",
       "        [1.00153846, 1.08      , 0.50769231, 0.41076923],\n",
       "        [1.33538462, 1.44      , 0.67692308, 0.54769231],\n",
       "        [1.00153846, 1.08      , 0.50769231, 0.41076923],\n",
       "        [1.00153846, 1.08      , 0.50769231, 0.41076923],\n",
       "        [2.33692308, 2.52      , 1.18461538, 0.95846154],\n",
       "        [1.00153846, 1.08      , 0.50769231, 0.41076923],\n",
       "        [1.00153846, 1.08      , 0.50769231, 0.41076923],\n",
       "        [1.00153846, 1.08      , 0.50769231, 0.41076923],\n",
       "        [1.66923077, 1.8       , 0.84615385, 0.68461538],\n",
       "        [1.33538462, 1.44      , 0.67692308, 0.54769231],\n",
       "        [1.66923077, 1.8       , 0.84615385, 0.68461538],\n",
       "        [1.66923077, 1.8       , 0.84615385, 0.68461538],\n",
       "        [1.00153846, 1.08      , 0.50769231, 0.41076923],\n",
       "        [1.33538462, 1.44      , 0.67692308, 0.54769231],\n",
       "        [1.33538462, 1.44      , 0.67692308, 0.54769231],\n",
       "        [1.00153846, 1.08      , 0.50769231, 0.41076923],\n",
       "        [1.00153846, 1.08      , 0.50769231, 0.41076923],\n",
       "        [1.00153846, 1.08      , 0.50769231, 0.41076923],\n",
       "        [1.00153846, 1.08      , 0.50769231, 0.41076923],\n",
       "        [1.33538462, 1.44      , 0.67692308, 0.54769231],\n",
       "        [1.00153846, 1.08      , 0.50769231, 0.41076923],\n",
       "        [1.33538462, 1.44      , 0.67692308, 0.54769231],\n",
       "        [1.66923077, 1.8       , 0.84615385, 0.68461538],\n",
       "        [1.00153846, 1.08      , 0.50769231, 0.41076923],\n",
       "        [1.00153846, 1.08      , 0.50769231, 0.41076923],\n",
       "        [1.00153846, 1.08      , 0.50769231, 0.41076923],\n",
       "        [1.33538462, 1.44      , 0.67692308, 0.54769231],\n",
       "        [2.33692308, 2.52      , 1.18461538, 0.95846154],\n",
       "        [2.67076923, 2.88      , 1.35384615, 1.09538462],\n",
       "        [1.00153846, 1.08      , 0.50769231, 0.41076923],\n",
       "        [1.00153846, 1.08      , 0.50769231, 0.41076923],\n",
       "        [1.00153846, 1.08      , 0.50769231, 0.41076923],\n",
       "        [1.00153846, 1.08      , 0.50769231, 0.41076923],\n",
       "        [2.00307692, 2.16      , 1.01538462, 0.82153846],\n",
       "        [3.00461538, 3.24      , 1.52307692, 1.23230769],\n",
       "        [1.00153846, 1.08      , 0.50769231, 0.41076923],\n",
       "        [1.00153846, 1.08      , 0.50769231, 0.41076923],\n",
       "        [1.00153846, 1.08      , 0.50769231, 0.41076923],\n",
       "        [1.00153846, 1.08      , 0.50769231, 0.41076923],\n",
       "        [1.33538462, 1.44      , 0.67692308, 0.54769231],\n",
       "        [1.33538462, 1.44      , 0.67692308, 0.54769231],\n",
       "        [1.33538462, 1.44      , 0.67692308, 0.54769231],\n",
       "        [1.00153846, 1.08      , 0.50769231, 0.41076923],\n",
       "        [1.33538462, 1.44      , 0.67692308, 0.54769231],\n",
       "        [1.00153846, 1.08      , 0.50769231, 0.41076923],\n",
       "        [1.66923077, 1.8       , 0.84615385, 0.68461538]]))"
      ]
     },
     "execution_count": 209,
     "metadata": {},
     "output_type": "execute_result"
    }
   ],
   "source": [
    "stats.contingency.chi2_contingency(contingency_table)"
   ]
  },
  {
   "cell_type": "markdown",
   "metadata": {},
   "source": [
    "At 95% confidence level can reject the null hypothesis. i.e. There is a significant relationship between profitability and director."
   ]
  },
  {
   "cell_type": "markdown",
   "metadata": {},
   "source": [
    "Get into which directors having highest average profitability "
   ]
  },
  {
   "cell_type": "code",
   "execution_count": 305,
   "metadata": {},
   "outputs": [],
   "source": [
    "merged_directors_and_budgets_PF = merged_directors_and_budgets_cleaned.groupby(merged_directors_and_budgets_cleaned['primary_name']).median()\n"
   ]
  },
  {
   "cell_type": "code",
   "execution_count": 306,
   "metadata": {},
   "outputs": [
    {
     "data": {
      "text/html": [
       "<div>\n",
       "<style scoped>\n",
       "    .dataframe tbody tr th:only-of-type {\n",
       "        vertical-align: middle;\n",
       "    }\n",
       "\n",
       "    .dataframe tbody tr th {\n",
       "        vertical-align: top;\n",
       "    }\n",
       "\n",
       "    .dataframe thead th {\n",
       "        text-align: right;\n",
       "    }\n",
       "</style>\n",
       "<table border=\"1\" class=\"dataframe\">\n",
       "  <thead>\n",
       "    <tr style=\"text-align: right;\">\n",
       "      <th></th>\n",
       "      <th>id</th>\n",
       "      <th>production_budget</th>\n",
       "      <th>worldwide_gross</th>\n",
       "      <th>Profitability_Ratio</th>\n",
       "    </tr>\n",
       "    <tr>\n",
       "      <th>primary_name</th>\n",
       "      <th></th>\n",
       "      <th></th>\n",
       "      <th></th>\n",
       "      <th></th>\n",
       "    </tr>\n",
       "  </thead>\n",
       "  <tbody>\n",
       "    <tr>\n",
       "      <th>Ariel Schulman</th>\n",
       "      <td>51.0</td>\n",
       "      <td>5000000.0</td>\n",
       "      <td>1.428180e+08</td>\n",
       "      <td>28.563598</td>\n",
       "    </tr>\n",
       "    <tr>\n",
       "      <th>Henry Joost</th>\n",
       "      <td>51.0</td>\n",
       "      <td>5000000.0</td>\n",
       "      <td>1.428180e+08</td>\n",
       "      <td>28.563598</td>\n",
       "    </tr>\n",
       "    <tr>\n",
       "      <th>David F. Sandberg</th>\n",
       "      <td>55.0</td>\n",
       "      <td>15000000.0</td>\n",
       "      <td>3.053849e+08</td>\n",
       "      <td>20.358991</td>\n",
       "    </tr>\n",
       "    <tr>\n",
       "      <th>Pierre Coffin</th>\n",
       "      <td>40.0</td>\n",
       "      <td>74500000.0</td>\n",
       "      <td>1.004972e+09</td>\n",
       "      <td>13.314085</td>\n",
       "    </tr>\n",
       "    <tr>\n",
       "      <th>Christopher Landon</th>\n",
       "      <td>64.0</td>\n",
       "      <td>7000000.0</td>\n",
       "      <td>7.754217e+07</td>\n",
       "      <td>12.656013</td>\n",
       "    </tr>\n",
       "    <tr>\n",
       "      <th>James DeMonaco</th>\n",
       "      <td>67.0</td>\n",
       "      <td>9000000.0</td>\n",
       "      <td>1.115349e+08</td>\n",
       "      <td>12.392765</td>\n",
       "    </tr>\n",
       "    <tr>\n",
       "      <th>M. Night Shyamalan</th>\n",
       "      <td>56.0</td>\n",
       "      <td>20000000.0</td>\n",
       "      <td>2.514997e+08</td>\n",
       "      <td>12.265175</td>\n",
       "    </tr>\n",
       "    <tr>\n",
       "      <th>Damien Chazelle</th>\n",
       "      <td>43.0</td>\n",
       "      <td>20000000.0</td>\n",
       "      <td>1.052038e+08</td>\n",
       "      <td>11.808799</td>\n",
       "    </tr>\n",
       "    <tr>\n",
       "      <th>Jake Kasdan</th>\n",
       "      <td>38.0</td>\n",
       "      <td>40000000.0</td>\n",
       "      <td>2.154490e+08</td>\n",
       "      <td>10.716624</td>\n",
       "    </tr>\n",
       "    <tr>\n",
       "      <th>Leslie Small</th>\n",
       "      <td>75.0</td>\n",
       "      <td>2500000.0</td>\n",
       "      <td>2.359104e+07</td>\n",
       "      <td>10.283248</td>\n",
       "    </tr>\n",
       "  </tbody>\n",
       "</table>\n",
       "</div>"
      ],
      "text/plain": [
       "                      id  production_budget  worldwide_gross  \\\n",
       "primary_name                                                   \n",
       "Ariel Schulman      51.0          5000000.0     1.428180e+08   \n",
       "Henry Joost         51.0          5000000.0     1.428180e+08   \n",
       "David F. Sandberg   55.0         15000000.0     3.053849e+08   \n",
       "Pierre Coffin       40.0         74500000.0     1.004972e+09   \n",
       "Christopher Landon  64.0          7000000.0     7.754217e+07   \n",
       "James DeMonaco      67.0          9000000.0     1.115349e+08   \n",
       "M. Night Shyamalan  56.0         20000000.0     2.514997e+08   \n",
       "Damien Chazelle     43.0         20000000.0     1.052038e+08   \n",
       "Jake Kasdan         38.0         40000000.0     2.154490e+08   \n",
       "Leslie Small        75.0          2500000.0     2.359104e+07   \n",
       "\n",
       "                    Profitability_Ratio  \n",
       "primary_name                             \n",
       "Ariel Schulman                28.563598  \n",
       "Henry Joost                   28.563598  \n",
       "David F. Sandberg             20.358991  \n",
       "Pierre Coffin                 13.314085  \n",
       "Christopher Landon            12.656013  \n",
       "James DeMonaco                12.392765  \n",
       "M. Night Shyamalan            12.265175  \n",
       "Damien Chazelle               11.808799  \n",
       "Jake Kasdan                   10.716624  \n",
       "Leslie Small                  10.283248  "
      ]
     },
     "execution_count": 306,
     "metadata": {},
     "output_type": "execute_result"
    }
   ],
   "source": [
    "merged_directors_and_budgets_PF_1 = merged_directors_and_budgets_PF.sort_values(by=['Profitability_Ratio'],ascending=False).head(10)\n",
    "merged_directors_and_budgets_PF_1"
   ]
  },
  {
   "cell_type": "markdown",
   "metadata": {},
   "source": [
    "Therefore can recommend that movies with above directors are generating highest profitability"
   ]
  },
  {
   "cell_type": "code",
   "execution_count": 212,
   "metadata": {
    "scrolled": true
   },
   "outputs": [
    {
     "data": {
      "image/png": "[encoded data removed]",
      "text/plain": [
       "<Figure size 576x432 with 1 Axes>"
      ]
     },
     "metadata": {},
     "output_type": "display_data"
    }
   ],
   "source": [
    "fig, ax = plt.subplots(figsize=(8,6))\n",
    "sns.set_style(\"whitegrid\")\n",
    "\n",
    "sns.barplot(x=merged_directors_and_budgets_PF_1.index, y=merged_directors_and_budgets_PF_1['Profitability_Ratio'],palette=\"colorblind\")\n",
    "\n",
    "ax.set_title('Median of Profitability Ratio by Director',fontsize=20)\n",
    "ax.set_xticklabels(ax.get_xticklabels(), rotation=40, ha=\"right\")\n",
    "ax.set_xlabel('Director Name',fontsize=15)\n",
    "ax.set_ylabel('Profitability Ratio',fontsize=15);"
   ]
  },
  {
   "cell_type": "markdown",
   "metadata": {},
   "source": [
    "### Identify the relationship between Actor and profitability"
   ]
  },
  {
   "cell_type": "code",
   "execution_count": 9,
   "metadata": {},
   "outputs": [],
   "source": [
    "df_act= pd.read_sql(\"\"\"\n",
    "SELECT m.primary_title,p.category, p.characters, pr.primary_name\n",
    "  FROM movie_basics as m\n",
    "  JOIN principals as p\n",
    "      USING(movie_id)\n",
    "  JOIN persons as pr\n",
    "      USING(person_id)\n",
    "WHERE category = 'actor' or category = 'actress'\n",
    "\"\"\", conn)"
   ]
  },
  {
   "cell_type": "code",
   "execution_count": 10,
   "metadata": {},
   "outputs": [
    {
     "data": {
      "text/html": [
       "<div>\n",
       "<style scoped>\n",
       "    .dataframe tbody tr th:only-of-type {\n",
       "        vertical-align: middle;\n",
       "    }\n",
       "\n",
       "    .dataframe tbody tr th {\n",
       "        vertical-align: top;\n",
       "    }\n",
       "\n",
       "    .dataframe thead th {\n",
       "        text-align: right;\n",
       "    }\n",
       "</style>\n",
       "<table border=\"1\" class=\"dataframe\">\n",
       "  <thead>\n",
       "    <tr style=\"text-align: right;\">\n",
       "      <th></th>\n",
       "      <th>primary_title</th>\n",
       "      <th>category</th>\n",
       "      <th>characters</th>\n",
       "      <th>primary_name</th>\n",
       "    </tr>\n",
       "  </thead>\n",
       "  <tbody>\n",
       "    <tr>\n",
       "      <th>0</th>\n",
       "      <td>A Thin Life</td>\n",
       "      <td>actor</td>\n",
       "      <td>[\"The Man\"]</td>\n",
       "      <td>Tommy Dysart</td>\n",
       "    </tr>\n",
       "    <tr>\n",
       "      <th>1</th>\n",
       "      <td>The Wicker Tree</td>\n",
       "      <td>actress</td>\n",
       "      <td>[\"Beth Boothby\"]</td>\n",
       "      <td>Brittania Nicol</td>\n",
       "    </tr>\n",
       "    <tr>\n",
       "      <th>2</th>\n",
       "      <td>The Wicker Tree</td>\n",
       "      <td>actor</td>\n",
       "      <td>[\"Steve Thomson\"]</td>\n",
       "      <td>Henry Garrett</td>\n",
       "    </tr>\n",
       "    <tr>\n",
       "      <th>3</th>\n",
       "      <td>The Wicker Tree</td>\n",
       "      <td>actor</td>\n",
       "      <td>[\"Sir Lachlan Morrison\"]</td>\n",
       "      <td>Graham McTavish</td>\n",
       "    </tr>\n",
       "    <tr>\n",
       "      <th>4</th>\n",
       "      <td>The Wicker Tree</td>\n",
       "      <td>actress</td>\n",
       "      <td>[\"Lady Delia Morrison\"]</td>\n",
       "      <td>Jacqueline Leonard</td>\n",
       "    </tr>\n",
       "  </tbody>\n",
       "</table>\n",
       "</div>"
      ],
      "text/plain": [
       "     primary_title category                characters        primary_name\n",
       "0      A Thin Life    actor               [\"The Man\"]        Tommy Dysart\n",
       "1  The Wicker Tree  actress          [\"Beth Boothby\"]     Brittania Nicol\n",
       "2  The Wicker Tree    actor         [\"Steve Thomson\"]       Henry Garrett\n",
       "3  The Wicker Tree    actor  [\"Sir Lachlan Morrison\"]     Graham McTavish\n",
       "4  The Wicker Tree  actress   [\"Lady Delia Morrison\"]  Jacqueline Leonard"
      ]
     },
     "execution_count": 10,
     "metadata": {},
     "output_type": "execute_result"
    }
   ],
   "source": [
    "df_act.head()"
   ]
  },
  {
   "cell_type": "code",
   "execution_count": 23,
   "metadata": {},
   "outputs": [],
   "source": [
    "merged_actor_and_budgets = df_act.merge(df_budget, left_on='primary_title', right_on='movie', how='left')"
   ]
  },
  {
   "cell_type": "code",
   "execution_count": 24,
   "metadata": {},
   "outputs": [],
   "source": [
    "merged_actor_and_budgets = merged_actor_and_budgets.loc[merged_actor_and_budgets['worldwide_gross']>=0]"
   ]
  },
  {
   "cell_type": "code",
   "execution_count": 25,
   "metadata": {
    "scrolled": true
   },
   "outputs": [
    {
     "data": {
      "text/plain": [
       "Mark Wahlberg            19\n",
       "Dwayne Johnson           19\n",
       "Liam Neeson              18\n",
       "Robert De Niro           18\n",
       "Channing Tatum           17\n",
       "                         ..\n",
       "Demetrius Grosse          1\n",
       "Ian Short                 1\n",
       "Mike Gentry               1\n",
       "Gregory Alan Williams     1\n",
       "T.C. Stallings            1\n",
       "Name: primary_name, Length: 8848, dtype: int64"
      ]
     },
     "execution_count": 25,
     "metadata": {},
     "output_type": "execute_result"
    }
   ],
   "source": [
    "merged_actor_and_budgets['primary_name'].value_counts()"
   ]
  },
  {
   "cell_type": "code",
   "execution_count": 39,
   "metadata": {},
   "outputs": [],
   "source": [
    "merged_actor_and_budgets = merged_actor_and_budgets[merged_actor_and_budgets['primary_name'].map(merged_actor_and_budgets['primary_name'].value_counts()) >= 1]"
   ]
  },
  {
   "cell_type": "code",
   "execution_count": 40,
   "metadata": {},
   "outputs": [
    {
     "data": {
      "text/plain": [
       "Dwayne Johnson      19\n",
       "Mark Wahlberg       19\n",
       "Robert De Niro      18\n",
       "Liam Neeson         18\n",
       "Channing Tatum      17\n",
       "                    ..\n",
       "Prabhas              3\n",
       "Ty Burrell           3\n",
       "Gil Bellows          3\n",
       "Evangeline Lilly     3\n",
       "Juliette Binoche     3\n",
       "Name: primary_name, Length: 792, dtype: int64"
      ]
     },
     "execution_count": 40,
     "metadata": {},
     "output_type": "execute_result"
    }
   ],
   "source": [
    "merged_actor_and_budgets['primary_name'].value_counts()"
   ]
  },
  {
   "cell_type": "code",
   "execution_count": 41,
   "metadata": {},
   "outputs": [
    {
     "data": {
      "text/html": [
       "<div>\n",
       "<style scoped>\n",
       "    .dataframe tbody tr th:only-of-type {\n",
       "        vertical-align: middle;\n",
       "    }\n",
       "\n",
       "    .dataframe tbody tr th {\n",
       "        vertical-align: top;\n",
       "    }\n",
       "\n",
       "    .dataframe thead th {\n",
       "        text-align: right;\n",
       "    }\n",
       "</style>\n",
       "<table border=\"1\" class=\"dataframe\">\n",
       "  <thead>\n",
       "    <tr style=\"text-align: right;\">\n",
       "      <th>prof_cat</th>\n",
       "      <th>High Profit</th>\n",
       "      <th>Loss</th>\n",
       "      <th>Low Profit</th>\n",
       "      <th>Medium Profit</th>\n",
       "    </tr>\n",
       "    <tr>\n",
       "      <th>primary_name</th>\n",
       "      <th></th>\n",
       "      <th></th>\n",
       "      <th></th>\n",
       "      <th></th>\n",
       "    </tr>\n",
       "  </thead>\n",
       "  <tbody>\n",
       "    <tr>\n",
       "      <th>Aaron Eckhart</th>\n",
       "      <td>0</td>\n",
       "      <td>6</td>\n",
       "      <td>1</td>\n",
       "      <td>2</td>\n",
       "    </tr>\n",
       "    <tr>\n",
       "      <th>Aaron Paul</th>\n",
       "      <td>0</td>\n",
       "      <td>1</td>\n",
       "      <td>2</td>\n",
       "      <td>0</td>\n",
       "    </tr>\n",
       "    <tr>\n",
       "      <th>Aaron Taylor-Johnson</th>\n",
       "      <td>0</td>\n",
       "      <td>5</td>\n",
       "      <td>1</td>\n",
       "      <td>3</td>\n",
       "    </tr>\n",
       "    <tr>\n",
       "      <th>Abbie Cornish</th>\n",
       "      <td>2</td>\n",
       "      <td>1</td>\n",
       "      <td>2</td>\n",
       "      <td>0</td>\n",
       "    </tr>\n",
       "    <tr>\n",
       "      <th>Abigail Breslin</th>\n",
       "      <td>1</td>\n",
       "      <td>4</td>\n",
       "      <td>0</td>\n",
       "      <td>0</td>\n",
       "    </tr>\n",
       "    <tr>\n",
       "      <th>...</th>\n",
       "      <td>...</td>\n",
       "      <td>...</td>\n",
       "      <td>...</td>\n",
       "      <td>...</td>\n",
       "    </tr>\n",
       "    <tr>\n",
       "      <th>Zendaya</th>\n",
       "      <td>1</td>\n",
       "      <td>1</td>\n",
       "      <td>1</td>\n",
       "      <td>0</td>\n",
       "    </tr>\n",
       "    <tr>\n",
       "      <th>Zoe Saldana</th>\n",
       "      <td>1</td>\n",
       "      <td>5</td>\n",
       "      <td>2</td>\n",
       "      <td>0</td>\n",
       "    </tr>\n",
       "    <tr>\n",
       "      <th>Zoey Deutch</th>\n",
       "      <td>1</td>\n",
       "      <td>0</td>\n",
       "      <td>0</td>\n",
       "      <td>2</td>\n",
       "    </tr>\n",
       "    <tr>\n",
       "      <th>Zooey Deschanel</th>\n",
       "      <td>1</td>\n",
       "      <td>1</td>\n",
       "      <td>1</td>\n",
       "      <td>0</td>\n",
       "    </tr>\n",
       "    <tr>\n",
       "      <th>Zoë Kravitz</th>\n",
       "      <td>0</td>\n",
       "      <td>2</td>\n",
       "      <td>2</td>\n",
       "      <td>0</td>\n",
       "    </tr>\n",
       "  </tbody>\n",
       "</table>\n",
       "<p>792 rows × 4 columns</p>\n",
       "</div>"
      ],
      "text/plain": [
       "prof_cat              High Profit  Loss  Low Profit  Medium Profit\n",
       "primary_name                                                      \n",
       "Aaron Eckhart                   0     6           1              2\n",
       "Aaron Paul                      0     1           2              0\n",
       "Aaron Taylor-Johnson            0     5           1              3\n",
       "Abbie Cornish                   2     1           2              0\n",
       "Abigail Breslin                 1     4           0              0\n",
       "...                           ...   ...         ...            ...\n",
       "Zendaya                         1     1           1              0\n",
       "Zoe Saldana                     1     5           2              0\n",
       "Zoey Deutch                     1     0           0              2\n",
       "Zooey Deschanel                 1     1           1              0\n",
       "Zoë Kravitz                     0     2           2              0\n",
       "\n",
       "[792 rows x 4 columns]"
      ]
     },
     "execution_count": 41,
     "metadata": {},
     "output_type": "execute_result"
    }
   ],
   "source": [
    "contingency_table=pd.crosstab(index=merged_actor_and_budgets['primary_name'],columns=merged_actor_and_budgets['prof_cat'])\n",
    "contingency_table"
   ]
  },
  {
   "cell_type": "code",
   "execution_count": 42,
   "metadata": {},
   "outputs": [
    {
     "data": {
      "text/plain": [
       "(2672.0620852122333,\n",
       " 1.4535365106699953e-05,\n",
       " 2373,\n",
       " array([[2.24002799, 4.21343597, 1.57242827, 0.97410777],\n",
       "        [0.746676  , 1.40447866, 0.52414276, 0.32470259],\n",
       "        [2.24002799, 4.21343597, 1.57242827, 0.97410777],\n",
       "        ...,\n",
       "        [0.746676  , 1.40447866, 0.52414276, 0.32470259],\n",
       "        [0.746676  , 1.40447866, 0.52414276, 0.32470259],\n",
       "        [0.995568  , 1.87263821, 0.69885701, 0.43293679]]))"
      ]
     },
     "execution_count": 42,
     "metadata": {},
     "output_type": "execute_result"
    }
   ],
   "source": [
    "stats.contingency.chi2_contingency(contingency_table)"
   ]
  },
  {
   "cell_type": "code",
   "execution_count": 45,
   "metadata": {},
   "outputs": [],
   "source": [
    "merged_actor_and_budgets_PF = merged_actor_and_budgets.groupby(merged_actor_and_budgets['primary_name']).median()\n"
   ]
  },
  {
   "cell_type": "code",
   "execution_count": 46,
   "metadata": {},
   "outputs": [
    {
     "data": {
      "text/html": [
       "<div>\n",
       "<style scoped>\n",
       "    .dataframe tbody tr th:only-of-type {\n",
       "        vertical-align: middle;\n",
       "    }\n",
       "\n",
       "    .dataframe tbody tr th {\n",
       "        vertical-align: top;\n",
       "    }\n",
       "\n",
       "    .dataframe thead th {\n",
       "        text-align: right;\n",
       "    }\n",
       "</style>\n",
       "<table border=\"1\" class=\"dataframe\">\n",
       "  <thead>\n",
       "    <tr style=\"text-align: right;\">\n",
       "      <th></th>\n",
       "      <th>id</th>\n",
       "      <th>production_budget</th>\n",
       "      <th>worldwide_gross</th>\n",
       "      <th>Profitability_Ratio</th>\n",
       "    </tr>\n",
       "    <tr>\n",
       "      <th>primary_name</th>\n",
       "      <th></th>\n",
       "      <th></th>\n",
       "      <th></th>\n",
       "      <th></th>\n",
       "    </tr>\n",
       "  </thead>\n",
       "  <tbody>\n",
       "    <tr>\n",
       "      <th>Rosemarie DeWitt</th>\n",
       "      <td>67.5</td>\n",
       "      <td>15350000.0</td>\n",
       "      <td>108709544.0</td>\n",
       "      <td>16.345976</td>\n",
       "    </tr>\n",
       "    <tr>\n",
       "      <th>Anya Taylor-Joy</th>\n",
       "      <td>50.0</td>\n",
       "      <td>5000000.0</td>\n",
       "      <td>40454520.0</td>\n",
       "      <td>11.558434</td>\n",
       "    </tr>\n",
       "    <tr>\n",
       "      <th>Andy Bornman</th>\n",
       "      <td>39.0</td>\n",
       "      <td>30000000.0</td>\n",
       "      <td>608431132.0</td>\n",
       "      <td>10.225685</td>\n",
       "    </tr>\n",
       "    <tr>\n",
       "      <th>Madison Vollmer</th>\n",
       "      <td>39.0</td>\n",
       "      <td>30000000.0</td>\n",
       "      <td>608431132.0</td>\n",
       "      <td>10.225685</td>\n",
       "    </tr>\n",
       "    <tr>\n",
       "      <th>Eric Martinez</th>\n",
       "      <td>39.0</td>\n",
       "      <td>30000000.0</td>\n",
       "      <td>608431132.0</td>\n",
       "      <td>10.225685</td>\n",
       "    </tr>\n",
       "    <tr>\n",
       "      <th>Ray Romano</th>\n",
       "      <td>52.0</td>\n",
       "      <td>95000000.0</td>\n",
       "      <td>402156682.0</td>\n",
       "      <td>9.260686</td>\n",
       "    </tr>\n",
       "    <tr>\n",
       "      <th>Octavia Spencer</th>\n",
       "      <td>50.5</td>\n",
       "      <td>14250000.0</td>\n",
       "      <td>116377725.0</td>\n",
       "      <td>8.897834</td>\n",
       "    </tr>\n",
       "    <tr>\n",
       "      <th>Karen Gillan</th>\n",
       "      <td>38.0</td>\n",
       "      <td>82000000.0</td>\n",
       "      <td>44115496.0</td>\n",
       "      <td>8.823099</td>\n",
       "    </tr>\n",
       "    <tr>\n",
       "      <th>Jaden Smith</th>\n",
       "      <td>63.0</td>\n",
       "      <td>40000000.0</td>\n",
       "      <td>251499665.0</td>\n",
       "      <td>8.794373</td>\n",
       "    </tr>\n",
       "    <tr>\n",
       "      <th>Lake Bell</th>\n",
       "      <td>26.0</td>\n",
       "      <td>5000000.0</td>\n",
       "      <td>42844516.0</td>\n",
       "      <td>8.568903</td>\n",
       "    </tr>\n",
       "  </tbody>\n",
       "</table>\n",
       "</div>"
      ],
      "text/plain": [
       "                    id  production_budget  worldwide_gross  \\\n",
       "primary_name                                                 \n",
       "Rosemarie DeWitt  67.5         15350000.0      108709544.0   \n",
       "Anya Taylor-Joy   50.0          5000000.0       40454520.0   \n",
       "Andy Bornman      39.0         30000000.0      608431132.0   \n",
       "Madison Vollmer   39.0         30000000.0      608431132.0   \n",
       "Eric Martinez     39.0         30000000.0      608431132.0   \n",
       "Ray Romano        52.0         95000000.0      402156682.0   \n",
       "Octavia Spencer   50.5         14250000.0      116377725.0   \n",
       "Karen Gillan      38.0         82000000.0       44115496.0   \n",
       "Jaden Smith       63.0         40000000.0      251499665.0   \n",
       "Lake Bell         26.0          5000000.0       42844516.0   \n",
       "\n",
       "                  Profitability_Ratio  \n",
       "primary_name                           \n",
       "Rosemarie DeWitt            16.345976  \n",
       "Anya Taylor-Joy             11.558434  \n",
       "Andy Bornman                10.225685  \n",
       "Madison Vollmer             10.225685  \n",
       "Eric Martinez               10.225685  \n",
       "Ray Romano                   9.260686  \n",
       "Octavia Spencer              8.897834  \n",
       "Karen Gillan                 8.823099  \n",
       "Jaden Smith                  8.794373  \n",
       "Lake Bell                    8.568903  "
      ]
     },
     "execution_count": 46,
     "metadata": {},
     "output_type": "execute_result"
    }
   ],
   "source": [
    "merged_actor_and_budgets_PF_1 = merged_actor_and_budgets_PF.sort_values(by=['Profitability_Ratio'],ascending=False).head(10)\n",
    "merged_actor_and_budgets_PF_1"
   ]
  },
  {
   "cell_type": "code",
   "execution_count": 48,
   "metadata": {},
   "outputs": [
    {
     "data": {
      "image/png": "[encoded data removed]",
      "text/plain": [
       "<Figure size 576x432 with 1 Axes>"
      ]
     },
     "metadata": {},
     "output_type": "display_data"
    }
   ],
   "source": [
    "fig, ax = plt.subplots(figsize=(8,6))\n",
    "sns.set_style(\"whitegrid\")\n",
    "\n",
    "sns.barplot(x=merged_actor_and_budgets_PF_1.index, y=merged_actor_and_budgets_PF_1['Profitability_Ratio'],palette=\"colorblind\")\n",
    "\n",
    "ax.set_title('Median of Profitability Ratio by Actor',fontsize=20)\n",
    "ax.set_xticklabels(ax.get_xticklabels(), rotation=40, ha=\"right\")\n",
    "ax.set_xlabel('Actor/Actress Name',fontsize=15)\n",
    "ax.set_ylabel('Profitability Ratio',fontsize=15);"
   ]
  },
  {
   "cell_type": "code",
   "execution_count": null,
   "metadata": {},
   "outputs": [],
   "source": []
  }
 ],
 "metadata": {
  "kernelspec": {
   "display_name": "Python (learn-env)",
   "language": "python",
   "name": "learn-env"
  },
  "language_info": {
   "codemirror_mode": {
    "name": "ipython",
    "version": 3
   },
   "file_extension": ".py",
   "mimetype": "text/x-python",
   "name": "python",
   "nbconvert_exporter": "python",
   "pygments_lexer": "ipython3",
   "version": "3.8.5"
  }
 },
 "nbformat": 4,
 "nbformat_minor": 4
}
