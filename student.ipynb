{
 "cells": [
  {
   "cell_type": "markdown",
   "metadata": {},
   "source": [
    "# Final Project Submission#\n",
    "Please fill out:\n",
    "\n",
    "Student name:\n",
    "Student pace: self paced / part time / full time\n",
    "Scheduled project review date/time:\n",
    "Instructor name:\n",
    "Blog post URL:"
   ]
  },
  {
   "cell_type": "markdown",
   "metadata": {},
   "source": [
    "Import required packages"
   ]
  },
  {
   "cell_type": "code",
   "execution_count": 764,
   "metadata": {},
   "outputs": [],
   "source": [
    "import pandas as pd\n",
    "import numpy as np\n",
    "from matplotlib import pyplot as plt\n",
    "from mpl_toolkits.mplot3d import Axes3D\n",
    "from random import gauss, seed\n",
    "from scipy import stats\n",
    "import seaborn as sns\n",
    "from mpl_toolkits import mplot3d\n",
    "import sklearn.metrics as metrics\n",
    "import statsmodels.api as sm\n",
    "import sqlite3\n",
    "from matplotlib.ticker import PercentFormatter\n",
    "\n",
    "%matplotlib inline"
   ]
  },
  {
   "cell_type": "markdown",
   "metadata": {},
   "source": [
    "## Import different databases to dataframes"
   ]
  },
  {
   "cell_type": "markdown",
   "metadata": {},
   "source": [
    "#### Import movie table and transform data to analysis requirement"
   ]
  },
  {
   "cell_type": "code",
   "execution_count": 636,
   "metadata": {},
   "outputs": [],
   "source": [
    "df_budget= pd.read_csv(r'zippedData\\tn.movie_budgets.csv.gz', compression='gzip')"
   ]
  },
  {
   "cell_type": "code",
   "execution_count": 637,
   "metadata": {
    "scrolled": true
   },
   "outputs": [
    {
     "data": {
      "text/html": [
       "<div>\n",
       "<style scoped>\n",
       "    .dataframe tbody tr th:only-of-type {\n",
       "        vertical-align: middle;\n",
       "    }\n",
       "\n",
       "    .dataframe tbody tr th {\n",
       "        vertical-align: top;\n",
       "    }\n",
       "\n",
       "    .dataframe thead th {\n",
       "        text-align: right;\n",
       "    }\n",
       "</style>\n",
       "<table border=\"1\" class=\"dataframe\">\n",
       "  <thead>\n",
       "    <tr style=\"text-align: right;\">\n",
       "      <th></th>\n",
       "      <th>id</th>\n",
       "      <th>release_date</th>\n",
       "      <th>movie</th>\n",
       "      <th>production_budget</th>\n",
       "      <th>domestic_gross</th>\n",
       "      <th>worldwide_gross</th>\n",
       "    </tr>\n",
       "  </thead>\n",
       "  <tbody>\n",
       "    <tr>\n",
       "      <th>0</th>\n",
       "      <td>1</td>\n",
       "      <td>Dec 18, 2009</td>\n",
       "      <td>Avatar</td>\n",
       "      <td>$425,000,000</td>\n",
       "      <td>$760,507,625</td>\n",
       "      <td>$2,776,345,279</td>\n",
       "    </tr>\n",
       "    <tr>\n",
       "      <th>1</th>\n",
       "      <td>2</td>\n",
       "      <td>May 20, 2011</td>\n",
       "      <td>Pirates of the Caribbean: On Stranger Tides</td>\n",
       "      <td>$410,600,000</td>\n",
       "      <td>$241,063,875</td>\n",
       "      <td>$1,045,663,875</td>\n",
       "    </tr>\n",
       "    <tr>\n",
       "      <th>2</th>\n",
       "      <td>3</td>\n",
       "      <td>Jun 7, 2019</td>\n",
       "      <td>Dark Phoenix</td>\n",
       "      <td>$350,000,000</td>\n",
       "      <td>$42,762,350</td>\n",
       "      <td>$149,762,350</td>\n",
       "    </tr>\n",
       "    <tr>\n",
       "      <th>3</th>\n",
       "      <td>4</td>\n",
       "      <td>May 1, 2015</td>\n",
       "      <td>Avengers: Age of Ultron</td>\n",
       "      <td>$330,600,000</td>\n",
       "      <td>$459,005,868</td>\n",
       "      <td>$1,403,013,963</td>\n",
       "    </tr>\n",
       "    <tr>\n",
       "      <th>4</th>\n",
       "      <td>5</td>\n",
       "      <td>Dec 15, 2017</td>\n",
       "      <td>Star Wars Ep. VIII: The Last Jedi</td>\n",
       "      <td>$317,000,000</td>\n",
       "      <td>$620,181,382</td>\n",
       "      <td>$1,316,721,747</td>\n",
       "    </tr>\n",
       "  </tbody>\n",
       "</table>\n",
       "</div>"
      ],
      "text/plain": [
       "   id  release_date                                        movie  \\\n",
       "0   1  Dec 18, 2009                                       Avatar   \n",
       "1   2  May 20, 2011  Pirates of the Caribbean: On Stranger Tides   \n",
       "2   3   Jun 7, 2019                                 Dark Phoenix   \n",
       "3   4   May 1, 2015                      Avengers: Age of Ultron   \n",
       "4   5  Dec 15, 2017            Star Wars Ep. VIII: The Last Jedi   \n",
       "\n",
       "  production_budget domestic_gross worldwide_gross  \n",
       "0      $425,000,000   $760,507,625  $2,776,345,279  \n",
       "1      $410,600,000   $241,063,875  $1,045,663,875  \n",
       "2      $350,000,000    $42,762,350    $149,762,350  \n",
       "3      $330,600,000   $459,005,868  $1,403,013,963  \n",
       "4      $317,000,000   $620,181,382  $1,316,721,747  "
      ]
     },
     "execution_count": 637,
     "metadata": {},
     "output_type": "execute_result"
    }
   ],
   "source": [
    "df_budget.head()"
   ]
  },
  {
   "cell_type": "markdown",
   "metadata": {},
   "source": [
    "Checking the data types and composition of the table"
   ]
  },
  {
   "cell_type": "code",
   "execution_count": 638,
   "metadata": {},
   "outputs": [
    {
     "name": "stdout",
     "output_type": "stream",
     "text": [
      "<class 'pandas.core.frame.DataFrame'>\n",
      "RangeIndex: 5782 entries, 0 to 5781\n",
      "Data columns (total 6 columns):\n",
      " #   Column             Non-Null Count  Dtype \n",
      "---  ------             --------------  ----- \n",
      " 0   id                 5782 non-null   int64 \n",
      " 1   release_date       5782 non-null   object\n",
      " 2   movie              5782 non-null   object\n",
      " 3   production_budget  5782 non-null   object\n",
      " 4   domestic_gross     5782 non-null   object\n",
      " 5   worldwide_gross    5782 non-null   object\n",
      "dtypes: int64(1), object(5)\n",
      "memory usage: 271.2+ KB\n"
     ]
    }
   ],
   "source": [
    "df_budget.info()"
   ]
  },
  {
   "cell_type": "markdown",
   "metadata": {},
   "source": [
    "Converting production budget, worldwide gross to float format"
   ]
  },
  {
   "cell_type": "code",
   "execution_count": 639,
   "metadata": {},
   "outputs": [],
   "source": [
    "df_budget['worldwide_gross'] = df_budget['worldwide_gross'].str.replace(\",\", \"\")\n",
    "df_budget['worldwide_gross'] = df_budget['worldwide_gross'].str.replace(\"$\", \"\").astype(float)\n",
    "df_budget['production_budget'] = df_budget['production_budget'].str.replace(\",\", \"\")\n",
    "df_budget['production_budget'] = df_budget['production_budget'].str.replace(\"$\", \"\").astype(float)"
   ]
  },
  {
   "cell_type": "markdown",
   "metadata": {},
   "source": [
    "Generate a ratio to normalize revenue information"
   ]
  },
  {
   "cell_type": "code",
   "execution_count": 640,
   "metadata": {},
   "outputs": [],
   "source": [
    "df_budget['Profitability_Ratio'] = df_budget['worldwide_gross']/df_budget['production_budget']"
   ]
  },
  {
   "cell_type": "code",
   "execution_count": 641,
   "metadata": {
    "scrolled": true
   },
   "outputs": [
    {
     "data": {
      "text/html": [
       "<div>\n",
       "<style scoped>\n",
       "    .dataframe tbody tr th:only-of-type {\n",
       "        vertical-align: middle;\n",
       "    }\n",
       "\n",
       "    .dataframe tbody tr th {\n",
       "        vertical-align: top;\n",
       "    }\n",
       "\n",
       "    .dataframe thead th {\n",
       "        text-align: right;\n",
       "    }\n",
       "</style>\n",
       "<table border=\"1\" class=\"dataframe\">\n",
       "  <thead>\n",
       "    <tr style=\"text-align: right;\">\n",
       "      <th></th>\n",
       "      <th>id</th>\n",
       "      <th>production_budget</th>\n",
       "      <th>worldwide_gross</th>\n",
       "      <th>Profitability_Ratio</th>\n",
       "    </tr>\n",
       "  </thead>\n",
       "  <tbody>\n",
       "    <tr>\n",
       "      <th>count</th>\n",
       "      <td>5782.000000</td>\n",
       "      <td>5.782000e+03</td>\n",
       "      <td>5.782000e+03</td>\n",
       "      <td>5782.000000</td>\n",
       "    </tr>\n",
       "    <tr>\n",
       "      <th>mean</th>\n",
       "      <td>50.372363</td>\n",
       "      <td>3.158776e+07</td>\n",
       "      <td>9.148746e+07</td>\n",
       "      <td>4.800161</td>\n",
       "    </tr>\n",
       "    <tr>\n",
       "      <th>std</th>\n",
       "      <td>28.821076</td>\n",
       "      <td>4.181208e+07</td>\n",
       "      <td>1.747200e+08</td>\n",
       "      <td>29.530282</td>\n",
       "    </tr>\n",
       "    <tr>\n",
       "      <th>min</th>\n",
       "      <td>1.000000</td>\n",
       "      <td>1.100000e+03</td>\n",
       "      <td>0.000000e+00</td>\n",
       "      <td>0.000000</td>\n",
       "    </tr>\n",
       "    <tr>\n",
       "      <th>25%</th>\n",
       "      <td>25.000000</td>\n",
       "      <td>5.000000e+06</td>\n",
       "      <td>4.125415e+06</td>\n",
       "      <td>0.492296</td>\n",
       "    </tr>\n",
       "    <tr>\n",
       "      <th>50%</th>\n",
       "      <td>50.000000</td>\n",
       "      <td>1.700000e+07</td>\n",
       "      <td>2.798445e+07</td>\n",
       "      <td>1.708310</td>\n",
       "    </tr>\n",
       "    <tr>\n",
       "      <th>75%</th>\n",
       "      <td>75.000000</td>\n",
       "      <td>4.000000e+07</td>\n",
       "      <td>9.764584e+07</td>\n",
       "      <td>3.758346</td>\n",
       "    </tr>\n",
       "    <tr>\n",
       "      <th>max</th>\n",
       "      <td>100.000000</td>\n",
       "      <td>4.250000e+08</td>\n",
       "      <td>2.776345e+09</td>\n",
       "      <td>1800.000000</td>\n",
       "    </tr>\n",
       "  </tbody>\n",
       "</table>\n",
       "</div>"
      ],
      "text/plain": [
       "                id  production_budget  worldwide_gross  Profitability_Ratio\n",
       "count  5782.000000       5.782000e+03     5.782000e+03          5782.000000\n",
       "mean     50.372363       3.158776e+07     9.148746e+07             4.800161\n",
       "std      28.821076       4.181208e+07     1.747200e+08            29.530282\n",
       "min       1.000000       1.100000e+03     0.000000e+00             0.000000\n",
       "25%      25.000000       5.000000e+06     4.125415e+06             0.492296\n",
       "50%      50.000000       1.700000e+07     2.798445e+07             1.708310\n",
       "75%      75.000000       4.000000e+07     9.764584e+07             3.758346\n",
       "max     100.000000       4.250000e+08     2.776345e+09          1800.000000"
      ]
     },
     "execution_count": 641,
     "metadata": {},
     "output_type": "execute_result"
    }
   ],
   "source": [
    "df_budget.describe()"
   ]
  },
  {
   "cell_type": "markdown",
   "metadata": {},
   "source": [
    "Remove the outlier profitability ratio greater than 60. The rationale is to consider datapoints within two standard deviations."
   ]
  },
  {
   "cell_type": "code",
   "execution_count": 642,
   "metadata": {},
   "outputs": [],
   "source": [
    "#df_budget = df_budget.loc[(df_budget['Profitability_Ratio']<=60)]"
   ]
  },
  {
   "cell_type": "markdown",
   "metadata": {},
   "source": [
    "Categorize the profitability ratios into Loss,Low Profit, Medium Profit and high profit  in a new colum called prof_cat "
   ]
  },
  {
   "cell_type": "code",
   "execution_count": 643,
   "metadata": {},
   "outputs": [],
   "source": [
    "#df_budget['prof_cat'] = ['Loss' if x < 0 else 'Low Profit' if x < 1 else 'Medium Profit' if x < 3 else 'high Profit' for x in df_budget['Profitability_Ratio']]\n",
    "\n",
    "df_budget['prof_cat'] = ['Loss' if x < 2 \n",
    "     else 'Low Profit' if x < 3 \n",
    "     else 'Medium Profit' if x < 5\n",
    "     else 'High Profit' if x < 10\n",
    "     else 'Super Profit'                    \n",
    "     for x in df_budget['Profitability_Ratio']]"
   ]
  },
  {
   "cell_type": "code",
   "execution_count": 644,
   "metadata": {},
   "outputs": [
    {
     "data": {
      "text/plain": [
       "Loss             0.546697\n",
       "Medium Profit    0.140955\n",
       "Low Profit       0.132307\n",
       "High Profit      0.111034\n",
       "Super Profit     0.069007\n",
       "Name: prof_cat, dtype: float64"
      ]
     },
     "execution_count": 644,
     "metadata": {},
     "output_type": "execute_result"
    }
   ],
   "source": [
    "df_budget['prof_cat'].value_counts(normalize = True)"
   ]
  },
  {
   "cell_type": "markdown",
   "metadata": {},
   "source": [
    "Categorize the production budget into Low, Medium and high profit in a new colum called budget_cat"
   ]
  },
  {
   "cell_type": "code",
   "execution_count": 645,
   "metadata": {},
   "outputs": [],
   "source": [
    "df_budget['Net_Profit'] = df_budget['worldwide_gross']-df_budget['production_budget']"
   ]
  },
  {
   "cell_type": "code",
   "execution_count": 646,
   "metadata": {},
   "outputs": [],
   "source": [
    "df_budget['budget_cat'] = ['Low' if x < 5000000 \n",
    "     else 'Medium' if x < 50000000 \n",
    "     else 'High' \n",
    "     for x in df_budget['production_budget']]"
   ]
  },
  {
   "cell_type": "code",
   "execution_count": 647,
   "metadata": {},
   "outputs": [
    {
     "data": {
      "text/html": [
       "<div>\n",
       "<style scoped>\n",
       "    .dataframe tbody tr th:only-of-type {\n",
       "        vertical-align: middle;\n",
       "    }\n",
       "\n",
       "    .dataframe tbody tr th {\n",
       "        vertical-align: top;\n",
       "    }\n",
       "\n",
       "    .dataframe thead th {\n",
       "        text-align: right;\n",
       "    }\n",
       "</style>\n",
       "<table border=\"1\" class=\"dataframe\">\n",
       "  <thead>\n",
       "    <tr style=\"text-align: right;\">\n",
       "      <th></th>\n",
       "      <th>id</th>\n",
       "      <th>release_date</th>\n",
       "      <th>movie</th>\n",
       "      <th>production_budget</th>\n",
       "      <th>domestic_gross</th>\n",
       "      <th>worldwide_gross</th>\n",
       "      <th>Profitability_Ratio</th>\n",
       "      <th>prof_cat</th>\n",
       "      <th>Net_Profit</th>\n",
       "      <th>budget_cat</th>\n",
       "    </tr>\n",
       "  </thead>\n",
       "  <tbody>\n",
       "    <tr>\n",
       "      <th>0</th>\n",
       "      <td>1</td>\n",
       "      <td>Dec 18, 2009</td>\n",
       "      <td>Avatar</td>\n",
       "      <td>425000000.0</td>\n",
       "      <td>$760,507,625</td>\n",
       "      <td>2.776345e+09</td>\n",
       "      <td>6.532577</td>\n",
       "      <td>High Profit</td>\n",
       "      <td>2.351345e+09</td>\n",
       "      <td>High</td>\n",
       "    </tr>\n",
       "    <tr>\n",
       "      <th>1</th>\n",
       "      <td>2</td>\n",
       "      <td>May 20, 2011</td>\n",
       "      <td>Pirates of the Caribbean: On Stranger Tides</td>\n",
       "      <td>410600000.0</td>\n",
       "      <td>$241,063,875</td>\n",
       "      <td>1.045664e+09</td>\n",
       "      <td>2.546673</td>\n",
       "      <td>Low Profit</td>\n",
       "      <td>6.350639e+08</td>\n",
       "      <td>High</td>\n",
       "    </tr>\n",
       "    <tr>\n",
       "      <th>2</th>\n",
       "      <td>3</td>\n",
       "      <td>Jun 7, 2019</td>\n",
       "      <td>Dark Phoenix</td>\n",
       "      <td>350000000.0</td>\n",
       "      <td>$42,762,350</td>\n",
       "      <td>1.497624e+08</td>\n",
       "      <td>0.427892</td>\n",
       "      <td>Loss</td>\n",
       "      <td>-2.002376e+08</td>\n",
       "      <td>High</td>\n",
       "    </tr>\n",
       "    <tr>\n",
       "      <th>3</th>\n",
       "      <td>4</td>\n",
       "      <td>May 1, 2015</td>\n",
       "      <td>Avengers: Age of Ultron</td>\n",
       "      <td>330600000.0</td>\n",
       "      <td>$459,005,868</td>\n",
       "      <td>1.403014e+09</td>\n",
       "      <td>4.243841</td>\n",
       "      <td>Medium Profit</td>\n",
       "      <td>1.072414e+09</td>\n",
       "      <td>High</td>\n",
       "    </tr>\n",
       "    <tr>\n",
       "      <th>4</th>\n",
       "      <td>5</td>\n",
       "      <td>Dec 15, 2017</td>\n",
       "      <td>Star Wars Ep. VIII: The Last Jedi</td>\n",
       "      <td>317000000.0</td>\n",
       "      <td>$620,181,382</td>\n",
       "      <td>1.316722e+09</td>\n",
       "      <td>4.153696</td>\n",
       "      <td>Medium Profit</td>\n",
       "      <td>9.997217e+08</td>\n",
       "      <td>High</td>\n",
       "    </tr>\n",
       "  </tbody>\n",
       "</table>\n",
       "</div>"
      ],
      "text/plain": [
       "   id  release_date                                        movie  \\\n",
       "0   1  Dec 18, 2009                                       Avatar   \n",
       "1   2  May 20, 2011  Pirates of the Caribbean: On Stranger Tides   \n",
       "2   3   Jun 7, 2019                                 Dark Phoenix   \n",
       "3   4   May 1, 2015                      Avengers: Age of Ultron   \n",
       "4   5  Dec 15, 2017            Star Wars Ep. VIII: The Last Jedi   \n",
       "\n",
       "   production_budget domestic_gross  worldwide_gross  Profitability_Ratio  \\\n",
       "0        425000000.0   $760,507,625     2.776345e+09             6.532577   \n",
       "1        410600000.0   $241,063,875     1.045664e+09             2.546673   \n",
       "2        350000000.0    $42,762,350     1.497624e+08             0.427892   \n",
       "3        330600000.0   $459,005,868     1.403014e+09             4.243841   \n",
       "4        317000000.0   $620,181,382     1.316722e+09             4.153696   \n",
       "\n",
       "        prof_cat    Net_Profit budget_cat  \n",
       "0    High Profit  2.351345e+09       High  \n",
       "1     Low Profit  6.350639e+08       High  \n",
       "2           Loss -2.002376e+08       High  \n",
       "3  Medium Profit  1.072414e+09       High  \n",
       "4  Medium Profit  9.997217e+08       High  "
      ]
     },
     "execution_count": 647,
     "metadata": {},
     "output_type": "execute_result"
    }
   ],
   "source": [
    "df_budget.head()"
   ]
  },
  {
   "cell_type": "code",
   "execution_count": 648,
   "metadata": {},
   "outputs": [
    {
     "name": "stdout",
     "output_type": "stream",
     "text": [
      "<class 'pandas.core.frame.DataFrame'>\n",
      "RangeIndex: 5782 entries, 0 to 5781\n",
      "Data columns (total 10 columns):\n",
      " #   Column               Non-Null Count  Dtype  \n",
      "---  ------               --------------  -----  \n",
      " 0   id                   5782 non-null   int64  \n",
      " 1   release_date         5782 non-null   object \n",
      " 2   movie                5782 non-null   object \n",
      " 3   production_budget    5782 non-null   float64\n",
      " 4   domestic_gross       5782 non-null   object \n",
      " 5   worldwide_gross      5782 non-null   float64\n",
      " 6   Profitability_Ratio  5782 non-null   float64\n",
      " 7   prof_cat             5782 non-null   object \n",
      " 8   Net_Profit           5782 non-null   float64\n",
      " 9   budget_cat           5782 non-null   object \n",
      "dtypes: float64(4), int64(1), object(5)\n",
      "memory usage: 451.8+ KB\n"
     ]
    }
   ],
   "source": [
    "df_budget.info()"
   ]
  },
  {
   "cell_type": "markdown",
   "metadata": {},
   "source": [
    "#### Import tmdb.movies table"
   ]
  },
  {
   "cell_type": "code",
   "execution_count": 649,
   "metadata": {},
   "outputs": [],
   "source": [
    "df_movies = pd.read_csv(r'zippedData\\tmdb.movies.csv.gz', compression='gzip')"
   ]
  },
  {
   "cell_type": "code",
   "execution_count": 650,
   "metadata": {},
   "outputs": [
    {
     "data": {
      "text/html": [
       "<div>\n",
       "<style scoped>\n",
       "    .dataframe tbody tr th:only-of-type {\n",
       "        vertical-align: middle;\n",
       "    }\n",
       "\n",
       "    .dataframe tbody tr th {\n",
       "        vertical-align: top;\n",
       "    }\n",
       "\n",
       "    .dataframe thead th {\n",
       "        text-align: right;\n",
       "    }\n",
       "</style>\n",
       "<table border=\"1\" class=\"dataframe\">\n",
       "  <thead>\n",
       "    <tr style=\"text-align: right;\">\n",
       "      <th></th>\n",
       "      <th>Unnamed: 0</th>\n",
       "      <th>genre_ids</th>\n",
       "      <th>id</th>\n",
       "      <th>original_language</th>\n",
       "      <th>original_title</th>\n",
       "      <th>popularity</th>\n",
       "      <th>release_date</th>\n",
       "      <th>title</th>\n",
       "      <th>vote_average</th>\n",
       "      <th>vote_count</th>\n",
       "    </tr>\n",
       "  </thead>\n",
       "  <tbody>\n",
       "    <tr>\n",
       "      <th>0</th>\n",
       "      <td>0</td>\n",
       "      <td>[12, 14, 10751]</td>\n",
       "      <td>12444</td>\n",
       "      <td>en</td>\n",
       "      <td>Harry Potter and the Deathly Hallows: Part 1</td>\n",
       "      <td>33.533</td>\n",
       "      <td>2010-11-19</td>\n",
       "      <td>Harry Potter and the Deathly Hallows: Part 1</td>\n",
       "      <td>7.7</td>\n",
       "      <td>10788</td>\n",
       "    </tr>\n",
       "    <tr>\n",
       "      <th>1</th>\n",
       "      <td>1</td>\n",
       "      <td>[14, 12, 16, 10751]</td>\n",
       "      <td>10191</td>\n",
       "      <td>en</td>\n",
       "      <td>How to Train Your Dragon</td>\n",
       "      <td>28.734</td>\n",
       "      <td>2010-03-26</td>\n",
       "      <td>How to Train Your Dragon</td>\n",
       "      <td>7.7</td>\n",
       "      <td>7610</td>\n",
       "    </tr>\n",
       "    <tr>\n",
       "      <th>2</th>\n",
       "      <td>2</td>\n",
       "      <td>[12, 28, 878]</td>\n",
       "      <td>10138</td>\n",
       "      <td>en</td>\n",
       "      <td>Iron Man 2</td>\n",
       "      <td>28.515</td>\n",
       "      <td>2010-05-07</td>\n",
       "      <td>Iron Man 2</td>\n",
       "      <td>6.8</td>\n",
       "      <td>12368</td>\n",
       "    </tr>\n",
       "    <tr>\n",
       "      <th>3</th>\n",
       "      <td>3</td>\n",
       "      <td>[16, 35, 10751]</td>\n",
       "      <td>862</td>\n",
       "      <td>en</td>\n",
       "      <td>Toy Story</td>\n",
       "      <td>28.005</td>\n",
       "      <td>1995-11-22</td>\n",
       "      <td>Toy Story</td>\n",
       "      <td>7.9</td>\n",
       "      <td>10174</td>\n",
       "    </tr>\n",
       "    <tr>\n",
       "      <th>4</th>\n",
       "      <td>4</td>\n",
       "      <td>[28, 878, 12]</td>\n",
       "      <td>27205</td>\n",
       "      <td>en</td>\n",
       "      <td>Inception</td>\n",
       "      <td>27.920</td>\n",
       "      <td>2010-07-16</td>\n",
       "      <td>Inception</td>\n",
       "      <td>8.3</td>\n",
       "      <td>22186</td>\n",
       "    </tr>\n",
       "  </tbody>\n",
       "</table>\n",
       "</div>"
      ],
      "text/plain": [
       "   Unnamed: 0            genre_ids     id original_language  \\\n",
       "0           0      [12, 14, 10751]  12444                en   \n",
       "1           1  [14, 12, 16, 10751]  10191                en   \n",
       "2           2        [12, 28, 878]  10138                en   \n",
       "3           3      [16, 35, 10751]    862                en   \n",
       "4           4        [28, 878, 12]  27205                en   \n",
       "\n",
       "                                 original_title  popularity release_date  \\\n",
       "0  Harry Potter and the Deathly Hallows: Part 1      33.533   2010-11-19   \n",
       "1                      How to Train Your Dragon      28.734   2010-03-26   \n",
       "2                                    Iron Man 2      28.515   2010-05-07   \n",
       "3                                     Toy Story      28.005   1995-11-22   \n",
       "4                                     Inception      27.920   2010-07-16   \n",
       "\n",
       "                                          title  vote_average  vote_count  \n",
       "0  Harry Potter and the Deathly Hallows: Part 1           7.7       10788  \n",
       "1                      How to Train Your Dragon           7.7        7610  \n",
       "2                                    Iron Man 2           6.8       12368  \n",
       "3                                     Toy Story           7.9       10174  \n",
       "4                                     Inception           8.3       22186  "
      ]
     },
     "execution_count": 650,
     "metadata": {},
     "output_type": "execute_result"
    }
   ],
   "source": [
    "df_movies.head()"
   ]
  },
  {
   "cell_type": "code",
   "execution_count": 651,
   "metadata": {},
   "outputs": [
    {
     "name": "stdout",
     "output_type": "stream",
     "text": [
      "<class 'pandas.core.frame.DataFrame'>\n",
      "RangeIndex: 26517 entries, 0 to 26516\n",
      "Data columns (total 10 columns):\n",
      " #   Column             Non-Null Count  Dtype  \n",
      "---  ------             --------------  -----  \n",
      " 0   Unnamed: 0         26517 non-null  int64  \n",
      " 1   genre_ids          26517 non-null  object \n",
      " 2   id                 26517 non-null  int64  \n",
      " 3   original_language  26517 non-null  object \n",
      " 4   original_title     26517 non-null  object \n",
      " 5   popularity         26517 non-null  float64\n",
      " 6   release_date       26517 non-null  object \n",
      " 7   title              26517 non-null  object \n",
      " 8   vote_average       26517 non-null  float64\n",
      " 9   vote_count         26517 non-null  int64  \n",
      "dtypes: float64(2), int64(3), object(5)\n",
      "memory usage: 2.0+ MB\n"
     ]
    }
   ],
   "source": [
    "df_movies.info()"
   ]
  },
  {
   "cell_type": "markdown",
   "metadata": {},
   "source": [
    "#### Import rt.reviews table"
   ]
  },
  {
   "cell_type": "code",
   "execution_count": 652,
   "metadata": {},
   "outputs": [],
   "source": [
    "df_review = pd.read_csv(r'zippedData/rt.reviews.tsv.gz', compression='gzip', delimiter='\\t', encoding='latin1')"
   ]
  },
  {
   "cell_type": "code",
   "execution_count": 653,
   "metadata": {},
   "outputs": [
    {
     "data": {
      "text/html": [
       "<div>\n",
       "<style scoped>\n",
       "    .dataframe tbody tr th:only-of-type {\n",
       "        vertical-align: middle;\n",
       "    }\n",
       "\n",
       "    .dataframe tbody tr th {\n",
       "        vertical-align: top;\n",
       "    }\n",
       "\n",
       "    .dataframe thead th {\n",
       "        text-align: right;\n",
       "    }\n",
       "</style>\n",
       "<table border=\"1\" class=\"dataframe\">\n",
       "  <thead>\n",
       "    <tr style=\"text-align: right;\">\n",
       "      <th></th>\n",
       "      <th>id</th>\n",
       "      <th>review</th>\n",
       "      <th>rating</th>\n",
       "      <th>fresh</th>\n",
       "      <th>critic</th>\n",
       "      <th>top_critic</th>\n",
       "      <th>publisher</th>\n",
       "      <th>date</th>\n",
       "    </tr>\n",
       "  </thead>\n",
       "  <tbody>\n",
       "    <tr>\n",
       "      <th>0</th>\n",
       "      <td>3</td>\n",
       "      <td>A distinctly gallows take on contemporary fina...</td>\n",
       "      <td>3/5</td>\n",
       "      <td>fresh</td>\n",
       "      <td>PJ Nabarro</td>\n",
       "      <td>0</td>\n",
       "      <td>Patrick Nabarro</td>\n",
       "      <td>November 10, 2018</td>\n",
       "    </tr>\n",
       "    <tr>\n",
       "      <th>1</th>\n",
       "      <td>3</td>\n",
       "      <td>It's an allegory in search of a meaning that n...</td>\n",
       "      <td>NaN</td>\n",
       "      <td>rotten</td>\n",
       "      <td>Annalee Newitz</td>\n",
       "      <td>0</td>\n",
       "      <td>io9.com</td>\n",
       "      <td>May 23, 2018</td>\n",
       "    </tr>\n",
       "    <tr>\n",
       "      <th>2</th>\n",
       "      <td>3</td>\n",
       "      <td>... life lived in a bubble in financial dealin...</td>\n",
       "      <td>NaN</td>\n",
       "      <td>fresh</td>\n",
       "      <td>Sean Axmaker</td>\n",
       "      <td>0</td>\n",
       "      <td>Stream on Demand</td>\n",
       "      <td>January 4, 2018</td>\n",
       "    </tr>\n",
       "    <tr>\n",
       "      <th>3</th>\n",
       "      <td>3</td>\n",
       "      <td>Continuing along a line introduced in last yea...</td>\n",
       "      <td>NaN</td>\n",
       "      <td>fresh</td>\n",
       "      <td>Daniel Kasman</td>\n",
       "      <td>0</td>\n",
       "      <td>MUBI</td>\n",
       "      <td>November 16, 2017</td>\n",
       "    </tr>\n",
       "    <tr>\n",
       "      <th>4</th>\n",
       "      <td>3</td>\n",
       "      <td>... a perverse twist on neorealism...</td>\n",
       "      <td>NaN</td>\n",
       "      <td>fresh</td>\n",
       "      <td>NaN</td>\n",
       "      <td>0</td>\n",
       "      <td>Cinema Scope</td>\n",
       "      <td>October 12, 2017</td>\n",
       "    </tr>\n",
       "  </tbody>\n",
       "</table>\n",
       "</div>"
      ],
      "text/plain": [
       "   id                                             review rating   fresh  \\\n",
       "0   3  A distinctly gallows take on contemporary fina...    3/5   fresh   \n",
       "1   3  It's an allegory in search of a meaning that n...    NaN  rotten   \n",
       "2   3  ... life lived in a bubble in financial dealin...    NaN   fresh   \n",
       "3   3  Continuing along a line introduced in last yea...    NaN   fresh   \n",
       "4   3             ... a perverse twist on neorealism...     NaN   fresh   \n",
       "\n",
       "           critic  top_critic         publisher               date  \n",
       "0      PJ Nabarro           0   Patrick Nabarro  November 10, 2018  \n",
       "1  Annalee Newitz           0           io9.com       May 23, 2018  \n",
       "2    Sean Axmaker           0  Stream on Demand    January 4, 2018  \n",
       "3   Daniel Kasman           0              MUBI  November 16, 2017  \n",
       "4             NaN           0      Cinema Scope   October 12, 2017  "
      ]
     },
     "execution_count": 653,
     "metadata": {},
     "output_type": "execute_result"
    }
   ],
   "source": [
    "df_review.head()"
   ]
  },
  {
   "cell_type": "code",
   "execution_count": 654,
   "metadata": {},
   "outputs": [
    {
     "name": "stdout",
     "output_type": "stream",
     "text": [
      "<class 'pandas.core.frame.DataFrame'>\n",
      "RangeIndex: 54432 entries, 0 to 54431\n",
      "Data columns (total 8 columns):\n",
      " #   Column      Non-Null Count  Dtype \n",
      "---  ------      --------------  ----- \n",
      " 0   id          54432 non-null  int64 \n",
      " 1   review      48869 non-null  object\n",
      " 2   rating      40915 non-null  object\n",
      " 3   fresh       54432 non-null  object\n",
      " 4   critic      51710 non-null  object\n",
      " 5   top_critic  54432 non-null  int64 \n",
      " 6   publisher   54123 non-null  object\n",
      " 7   date        54432 non-null  object\n",
      "dtypes: int64(2), object(6)\n",
      "memory usage: 3.3+ MB\n"
     ]
    }
   ],
   "source": [
    "df_review.info()"
   ]
  },
  {
   "cell_type": "markdown",
   "metadata": {},
   "source": [
    "#### Import im.db table"
   ]
  },
  {
   "cell_type": "code",
   "execution_count": 655,
   "metadata": {},
   "outputs": [],
   "source": [
    "conn = sqlite3.connect('zippedData/im.db/im.db')"
   ]
  },
  {
   "cell_type": "code",
   "execution_count": 656,
   "metadata": {},
   "outputs": [
    {
     "data": {
      "text/html": [
       "<div>\n",
       "<style scoped>\n",
       "    .dataframe tbody tr th:only-of-type {\n",
       "        vertical-align: middle;\n",
       "    }\n",
       "\n",
       "    .dataframe tbody tr th {\n",
       "        vertical-align: top;\n",
       "    }\n",
       "\n",
       "    .dataframe thead th {\n",
       "        text-align: right;\n",
       "    }\n",
       "</style>\n",
       "<table border=\"1\" class=\"dataframe\">\n",
       "  <thead>\n",
       "    <tr style=\"text-align: right;\">\n",
       "      <th></th>\n",
       "      <th>type</th>\n",
       "      <th>name</th>\n",
       "      <th>tbl_name</th>\n",
       "      <th>rootpage</th>\n",
       "      <th>sql</th>\n",
       "    </tr>\n",
       "  </thead>\n",
       "  <tbody>\n",
       "    <tr>\n",
       "      <th>0</th>\n",
       "      <td>table</td>\n",
       "      <td>movie_basics</td>\n",
       "      <td>movie_basics</td>\n",
       "      <td>2</td>\n",
       "      <td>CREATE TABLE \"movie_basics\" (\\n\"movie_id\" TEXT...</td>\n",
       "    </tr>\n",
       "    <tr>\n",
       "      <th>1</th>\n",
       "      <td>table</td>\n",
       "      <td>directors</td>\n",
       "      <td>directors</td>\n",
       "      <td>3</td>\n",
       "      <td>CREATE TABLE \"directors\" (\\n\"movie_id\" TEXT,\\n...</td>\n",
       "    </tr>\n",
       "    <tr>\n",
       "      <th>2</th>\n",
       "      <td>table</td>\n",
       "      <td>known_for</td>\n",
       "      <td>known_for</td>\n",
       "      <td>4</td>\n",
       "      <td>CREATE TABLE \"known_for\" (\\n\"person_id\" TEXT,\\...</td>\n",
       "    </tr>\n",
       "    <tr>\n",
       "      <th>3</th>\n",
       "      <td>table</td>\n",
       "      <td>movie_akas</td>\n",
       "      <td>movie_akas</td>\n",
       "      <td>5</td>\n",
       "      <td>CREATE TABLE \"movie_akas\" (\\n\"movie_id\" TEXT,\\...</td>\n",
       "    </tr>\n",
       "    <tr>\n",
       "      <th>4</th>\n",
       "      <td>table</td>\n",
       "      <td>movie_ratings</td>\n",
       "      <td>movie_ratings</td>\n",
       "      <td>6</td>\n",
       "      <td>CREATE TABLE \"movie_ratings\" (\\n\"movie_id\" TEX...</td>\n",
       "    </tr>\n",
       "    <tr>\n",
       "      <th>5</th>\n",
       "      <td>table</td>\n",
       "      <td>persons</td>\n",
       "      <td>persons</td>\n",
       "      <td>7</td>\n",
       "      <td>CREATE TABLE \"persons\" (\\n\"person_id\" TEXT,\\n ...</td>\n",
       "    </tr>\n",
       "    <tr>\n",
       "      <th>6</th>\n",
       "      <td>table</td>\n",
       "      <td>principals</td>\n",
       "      <td>principals</td>\n",
       "      <td>8</td>\n",
       "      <td>CREATE TABLE \"principals\" (\\n\"movie_id\" TEXT,\\...</td>\n",
       "    </tr>\n",
       "    <tr>\n",
       "      <th>7</th>\n",
       "      <td>table</td>\n",
       "      <td>writers</td>\n",
       "      <td>writers</td>\n",
       "      <td>9</td>\n",
       "      <td>CREATE TABLE \"writers\" (\\n\"movie_id\" TEXT,\\n  ...</td>\n",
       "    </tr>\n",
       "  </tbody>\n",
       "</table>\n",
       "</div>"
      ],
      "text/plain": [
       "    type           name       tbl_name  rootpage  \\\n",
       "0  table   movie_basics   movie_basics         2   \n",
       "1  table      directors      directors         3   \n",
       "2  table      known_for      known_for         4   \n",
       "3  table     movie_akas     movie_akas         5   \n",
       "4  table  movie_ratings  movie_ratings         6   \n",
       "5  table        persons        persons         7   \n",
       "6  table     principals     principals         8   \n",
       "7  table        writers        writers         9   \n",
       "\n",
       "                                                 sql  \n",
       "0  CREATE TABLE \"movie_basics\" (\\n\"movie_id\" TEXT...  \n",
       "1  CREATE TABLE \"directors\" (\\n\"movie_id\" TEXT,\\n...  \n",
       "2  CREATE TABLE \"known_for\" (\\n\"person_id\" TEXT,\\...  \n",
       "3  CREATE TABLE \"movie_akas\" (\\n\"movie_id\" TEXT,\\...  \n",
       "4  CREATE TABLE \"movie_ratings\" (\\n\"movie_id\" TEX...  \n",
       "5  CREATE TABLE \"persons\" (\\n\"person_id\" TEXT,\\n ...  \n",
       "6  CREATE TABLE \"principals\" (\\n\"movie_id\" TEXT,\\...  \n",
       "7  CREATE TABLE \"writers\" (\\n\"movie_id\" TEXT,\\n  ...  "
      ]
     },
     "execution_count": 656,
     "metadata": {},
     "output_type": "execute_result"
    }
   ],
   "source": [
    "pd.read_sql(\"\"\"\n",
    "SELECT *\n",
    "FROM sqlite_master\n",
    "\n",
    "\"\"\",conn)"
   ]
  },
  {
   "attachments": {
    "Entity%20Relationships.png": {
     "image/png": "[encoded data removed]"
    }
   },
   "cell_type": "markdown",
   "metadata": {},
   "source": [
    "# Import entity relationship diagram(need to do)![Entity%20Relationships.png](attachment:Entity%20Relationships.png)"
   ]
  },
  {
   "cell_type": "markdown",
   "metadata": {},
   "source": [
    "#### Import rt.movie_info table"
   ]
  },
  {
   "cell_type": "code",
   "execution_count": 657,
   "metadata": {},
   "outputs": [],
   "source": [
    "df_movie_info = pd.read_csv(r'zippedData/rt.movie_info.tsv.gz', compression='gzip', delimiter='\\t', encoding='latin1')"
   ]
  },
  {
   "cell_type": "code",
   "execution_count": 658,
   "metadata": {},
   "outputs": [
    {
     "data": {
      "text/html": [
       "<div>\n",
       "<style scoped>\n",
       "    .dataframe tbody tr th:only-of-type {\n",
       "        vertical-align: middle;\n",
       "    }\n",
       "\n",
       "    .dataframe tbody tr th {\n",
       "        vertical-align: top;\n",
       "    }\n",
       "\n",
       "    .dataframe thead th {\n",
       "        text-align: right;\n",
       "    }\n",
       "</style>\n",
       "<table border=\"1\" class=\"dataframe\">\n",
       "  <thead>\n",
       "    <tr style=\"text-align: right;\">\n",
       "      <th></th>\n",
       "      <th>id</th>\n",
       "      <th>synopsis</th>\n",
       "      <th>rating</th>\n",
       "      <th>genre</th>\n",
       "      <th>director</th>\n",
       "      <th>writer</th>\n",
       "      <th>theater_date</th>\n",
       "      <th>dvd_date</th>\n",
       "      <th>currency</th>\n",
       "      <th>box_office</th>\n",
       "      <th>runtime</th>\n",
       "      <th>studio</th>\n",
       "    </tr>\n",
       "  </thead>\n",
       "  <tbody>\n",
       "    <tr>\n",
       "      <th>0</th>\n",
       "      <td>1</td>\n",
       "      <td>This gritty, fast-paced, and innovative police...</td>\n",
       "      <td>R</td>\n",
       "      <td>Action and Adventure|Classics|Drama</td>\n",
       "      <td>William Friedkin</td>\n",
       "      <td>Ernest Tidyman</td>\n",
       "      <td>Oct 9, 1971</td>\n",
       "      <td>Sep 25, 2001</td>\n",
       "      <td>NaN</td>\n",
       "      <td>NaN</td>\n",
       "      <td>104 minutes</td>\n",
       "      <td>NaN</td>\n",
       "    </tr>\n",
       "    <tr>\n",
       "      <th>1</th>\n",
       "      <td>3</td>\n",
       "      <td>New York City, not-too-distant-future: Eric Pa...</td>\n",
       "      <td>R</td>\n",
       "      <td>Drama|Science Fiction and Fantasy</td>\n",
       "      <td>David Cronenberg</td>\n",
       "      <td>David Cronenberg|Don DeLillo</td>\n",
       "      <td>Aug 17, 2012</td>\n",
       "      <td>Jan 1, 2013</td>\n",
       "      <td>$</td>\n",
       "      <td>600,000</td>\n",
       "      <td>108 minutes</td>\n",
       "      <td>Entertainment One</td>\n",
       "    </tr>\n",
       "    <tr>\n",
       "      <th>2</th>\n",
       "      <td>5</td>\n",
       "      <td>Illeana Douglas delivers a superb performance ...</td>\n",
       "      <td>R</td>\n",
       "      <td>Drama|Musical and Performing Arts</td>\n",
       "      <td>Allison Anders</td>\n",
       "      <td>Allison Anders</td>\n",
       "      <td>Sep 13, 1996</td>\n",
       "      <td>Apr 18, 2000</td>\n",
       "      <td>NaN</td>\n",
       "      <td>NaN</td>\n",
       "      <td>116 minutes</td>\n",
       "      <td>NaN</td>\n",
       "    </tr>\n",
       "    <tr>\n",
       "      <th>3</th>\n",
       "      <td>6</td>\n",
       "      <td>Michael Douglas runs afoul of a treacherous su...</td>\n",
       "      <td>R</td>\n",
       "      <td>Drama|Mystery and Suspense</td>\n",
       "      <td>Barry Levinson</td>\n",
       "      <td>Paul Attanasio|Michael Crichton</td>\n",
       "      <td>Dec 9, 1994</td>\n",
       "      <td>Aug 27, 1997</td>\n",
       "      <td>NaN</td>\n",
       "      <td>NaN</td>\n",
       "      <td>128 minutes</td>\n",
       "      <td>NaN</td>\n",
       "    </tr>\n",
       "    <tr>\n",
       "      <th>4</th>\n",
       "      <td>7</td>\n",
       "      <td>NaN</td>\n",
       "      <td>NR</td>\n",
       "      <td>Drama|Romance</td>\n",
       "      <td>Rodney Bennett</td>\n",
       "      <td>Giles Cooper</td>\n",
       "      <td>NaN</td>\n",
       "      <td>NaN</td>\n",
       "      <td>NaN</td>\n",
       "      <td>NaN</td>\n",
       "      <td>200 minutes</td>\n",
       "      <td>NaN</td>\n",
       "    </tr>\n",
       "  </tbody>\n",
       "</table>\n",
       "</div>"
      ],
      "text/plain": [
       "   id                                           synopsis rating  \\\n",
       "0   1  This gritty, fast-paced, and innovative police...      R   \n",
       "1   3  New York City, not-too-distant-future: Eric Pa...      R   \n",
       "2   5  Illeana Douglas delivers a superb performance ...      R   \n",
       "3   6  Michael Douglas runs afoul of a treacherous su...      R   \n",
       "4   7                                                NaN     NR   \n",
       "\n",
       "                                 genre          director  \\\n",
       "0  Action and Adventure|Classics|Drama  William Friedkin   \n",
       "1    Drama|Science Fiction and Fantasy  David Cronenberg   \n",
       "2    Drama|Musical and Performing Arts    Allison Anders   \n",
       "3           Drama|Mystery and Suspense    Barry Levinson   \n",
       "4                        Drama|Romance    Rodney Bennett   \n",
       "\n",
       "                            writer  theater_date      dvd_date currency  \\\n",
       "0                   Ernest Tidyman   Oct 9, 1971  Sep 25, 2001      NaN   \n",
       "1     David Cronenberg|Don DeLillo  Aug 17, 2012   Jan 1, 2013        $   \n",
       "2                   Allison Anders  Sep 13, 1996  Apr 18, 2000      NaN   \n",
       "3  Paul Attanasio|Michael Crichton   Dec 9, 1994  Aug 27, 1997      NaN   \n",
       "4                     Giles Cooper           NaN           NaN      NaN   \n",
       "\n",
       "  box_office      runtime             studio  \n",
       "0        NaN  104 minutes                NaN  \n",
       "1    600,000  108 minutes  Entertainment One  \n",
       "2        NaN  116 minutes                NaN  \n",
       "3        NaN  128 minutes                NaN  \n",
       "4        NaN  200 minutes                NaN  "
      ]
     },
     "execution_count": 658,
     "metadata": {},
     "output_type": "execute_result"
    }
   ],
   "source": [
    "df_movie_info.head()"
   ]
  },
  {
   "cell_type": "code",
   "execution_count": 659,
   "metadata": {},
   "outputs": [
    {
     "name": "stdout",
     "output_type": "stream",
     "text": [
      "<class 'pandas.core.frame.DataFrame'>\n",
      "RangeIndex: 1560 entries, 0 to 1559\n",
      "Data columns (total 12 columns):\n",
      " #   Column        Non-Null Count  Dtype \n",
      "---  ------        --------------  ----- \n",
      " 0   id            1560 non-null   int64 \n",
      " 1   synopsis      1498 non-null   object\n",
      " 2   rating        1557 non-null   object\n",
      " 3   genre         1552 non-null   object\n",
      " 4   director      1361 non-null   object\n",
      " 5   writer        1111 non-null   object\n",
      " 6   theater_date  1201 non-null   object\n",
      " 7   dvd_date      1201 non-null   object\n",
      " 8   currency      340 non-null    object\n",
      " 9   box_office    340 non-null    object\n",
      " 10  runtime       1530 non-null   object\n",
      " 11  studio        494 non-null    object\n",
      "dtypes: int64(1), object(11)\n",
      "memory usage: 146.4+ KB\n"
     ]
    }
   ],
   "source": [
    "df_movie_info.info()"
   ]
  },
  {
   "cell_type": "markdown",
   "metadata": {},
   "source": [
    "#### Import bom.movie_gross table"
   ]
  },
  {
   "cell_type": "code",
   "execution_count": 660,
   "metadata": {},
   "outputs": [],
   "source": [
    "df_bom = pd.read_csv(r'zippedData/bom.movie_gross.csv.gz', compression='gzip')"
   ]
  },
  {
   "cell_type": "code",
   "execution_count": 661,
   "metadata": {},
   "outputs": [
    {
     "data": {
      "text/html": [
       "<div>\n",
       "<style scoped>\n",
       "    .dataframe tbody tr th:only-of-type {\n",
       "        vertical-align: middle;\n",
       "    }\n",
       "\n",
       "    .dataframe tbody tr th {\n",
       "        vertical-align: top;\n",
       "    }\n",
       "\n",
       "    .dataframe thead th {\n",
       "        text-align: right;\n",
       "    }\n",
       "</style>\n",
       "<table border=\"1\" class=\"dataframe\">\n",
       "  <thead>\n",
       "    <tr style=\"text-align: right;\">\n",
       "      <th></th>\n",
       "      <th>title</th>\n",
       "      <th>studio</th>\n",
       "      <th>domestic_gross</th>\n",
       "      <th>foreign_gross</th>\n",
       "      <th>year</th>\n",
       "    </tr>\n",
       "  </thead>\n",
       "  <tbody>\n",
       "    <tr>\n",
       "      <th>0</th>\n",
       "      <td>Toy Story 3</td>\n",
       "      <td>BV</td>\n",
       "      <td>415000000.0</td>\n",
       "      <td>652000000</td>\n",
       "      <td>2010</td>\n",
       "    </tr>\n",
       "    <tr>\n",
       "      <th>1</th>\n",
       "      <td>Alice in Wonderland (2010)</td>\n",
       "      <td>BV</td>\n",
       "      <td>334200000.0</td>\n",
       "      <td>691300000</td>\n",
       "      <td>2010</td>\n",
       "    </tr>\n",
       "    <tr>\n",
       "      <th>2</th>\n",
       "      <td>Harry Potter and the Deathly Hallows Part 1</td>\n",
       "      <td>WB</td>\n",
       "      <td>296000000.0</td>\n",
       "      <td>664300000</td>\n",
       "      <td>2010</td>\n",
       "    </tr>\n",
       "    <tr>\n",
       "      <th>3</th>\n",
       "      <td>Inception</td>\n",
       "      <td>WB</td>\n",
       "      <td>292600000.0</td>\n",
       "      <td>535700000</td>\n",
       "      <td>2010</td>\n",
       "    </tr>\n",
       "    <tr>\n",
       "      <th>4</th>\n",
       "      <td>Shrek Forever After</td>\n",
       "      <td>P/DW</td>\n",
       "      <td>238700000.0</td>\n",
       "      <td>513900000</td>\n",
       "      <td>2010</td>\n",
       "    </tr>\n",
       "  </tbody>\n",
       "</table>\n",
       "</div>"
      ],
      "text/plain": [
       "                                         title studio  domestic_gross  \\\n",
       "0                                  Toy Story 3     BV     415000000.0   \n",
       "1                   Alice in Wonderland (2010)     BV     334200000.0   \n",
       "2  Harry Potter and the Deathly Hallows Part 1     WB     296000000.0   \n",
       "3                                    Inception     WB     292600000.0   \n",
       "4                          Shrek Forever After   P/DW     238700000.0   \n",
       "\n",
       "  foreign_gross  year  \n",
       "0     652000000  2010  \n",
       "1     691300000  2010  \n",
       "2     664300000  2010  \n",
       "3     535700000  2010  \n",
       "4     513900000  2010  "
      ]
     },
     "execution_count": 661,
     "metadata": {},
     "output_type": "execute_result"
    }
   ],
   "source": [
    "df_bom.head()"
   ]
  },
  {
   "cell_type": "code",
   "execution_count": 662,
   "metadata": {},
   "outputs": [
    {
     "name": "stdout",
     "output_type": "stream",
     "text": [
      "<class 'pandas.core.frame.DataFrame'>\n",
      "RangeIndex: 3387 entries, 0 to 3386\n",
      "Data columns (total 5 columns):\n",
      " #   Column          Non-Null Count  Dtype  \n",
      "---  ------          --------------  -----  \n",
      " 0   title           3387 non-null   object \n",
      " 1   studio          3382 non-null   object \n",
      " 2   domestic_gross  3359 non-null   float64\n",
      " 3   foreign_gross   2037 non-null   object \n",
      " 4   year            3387 non-null   int64  \n",
      "dtypes: float64(1), int64(1), object(3)\n",
      "memory usage: 132.4+ KB\n"
     ]
    }
   ],
   "source": [
    "df_bom.info()"
   ]
  },
  {
   "cell_type": "markdown",
   "metadata": {},
   "source": [
    "### Identify the relationship between Genres and profitability"
   ]
  },
  {
   "cell_type": "markdown",
   "metadata": {},
   "source": [
    "Assign movie)basic information to df_movie_basic dataframe"
   ]
  },
  {
   "cell_type": "code",
   "execution_count": 663,
   "metadata": {},
   "outputs": [],
   "source": [
    "df_movie_basic= pd.read_sql(\"\"\"\n",
    "SELECT *\n",
    "  FROM movie_basics\n",
    "      \n",
    "\"\"\", conn)"
   ]
  },
  {
   "cell_type": "code",
   "execution_count": 664,
   "metadata": {},
   "outputs": [
    {
     "data": {
      "text/plain": [
       "Documentary               32185\n",
       "Drama                     21486\n",
       "Comedy                     9177\n",
       "Horror                     4372\n",
       "Comedy,Drama               3519\n",
       "                          ...  \n",
       "Horror,Sport,Thriller         1\n",
       "Drama,Horror,War              1\n",
       "Music,Musical,Romance         1\n",
       "Fantasy,History,War           1\n",
       "Family,Sci-Fi,Thriller        1\n",
       "Name: genres, Length: 1085, dtype: int64"
      ]
     },
     "execution_count": 664,
     "metadata": {},
     "output_type": "execute_result"
    }
   ],
   "source": [
    "df_movie_basic['genres'].value_counts()"
   ]
  },
  {
   "cell_type": "markdown",
   "metadata": {},
   "source": [
    "##### Removed Genres with count of less than 30 as statistical test could be skewed with categories with less numbers"
   ]
  },
  {
   "cell_type": "code",
   "execution_count": 693,
   "metadata": {},
   "outputs": [],
   "source": []
  },
  {
   "cell_type": "code",
   "execution_count": 694,
   "metadata": {
    "scrolled": true
   },
   "outputs": [
    {
     "data": {
      "text/plain": [
       "Documentary                 32185\n",
       "Drama                       21486\n",
       "Comedy                       9177\n",
       "Horror                       4372\n",
       "Comedy,Drama                 3519\n",
       "                            ...  \n",
       "Action,Horror,Mystery          30\n",
       "Drama,Romance,Sport            30\n",
       "Adventure,Fantasy,Horror       30\n",
       "Crime,Drama,Fantasy            30\n",
       "Family,Fantasy                 30\n",
       "Name: genres, Length: 293, dtype: int64"
      ]
     },
     "execution_count": 694,
     "metadata": {},
     "output_type": "execute_result"
    }
   ],
   "source": [
    "df_movie_basic['genres'].value_counts()"
   ]
  },
  {
   "cell_type": "markdown",
   "metadata": {},
   "source": [
    "Merge budget table and movie basic table to test the relationship between Generes and profitability ratio"
   ]
  },
  {
   "cell_type": "code",
   "execution_count": 695,
   "metadata": {},
   "outputs": [],
   "source": [
    "merged_budgets_and_movie_basic = df_movie_basic.merge(df_budget, left_on='primary_title', right_on='movie', how='inner')"
   ]
  },
  {
   "cell_type": "code",
   "execution_count": 713,
   "metadata": {},
   "outputs": [
    {
     "data": {
      "text/plain": [
       "Drama                          497\n",
       "Documentary                    290\n",
       "Comedy                         140\n",
       "Comedy,Drama                   104\n",
       "Horror                          95\n",
       "                              ... \n",
       "Adventure,Drama,History          1\n",
       "Adventure,Documentary,Sport      1\n",
       "Drama,Family,Thriller            1\n",
       "Drama,History,Romance            1\n",
       "Drama,Family,Music               1\n",
       "Name: genres, Length: 250, dtype: int64"
      ]
     },
     "execution_count": 713,
     "metadata": {},
     "output_type": "execute_result"
    }
   ],
   "source": [
    "merged_budgets_and_movie_basic['genres'].value_counts()"
   ]
  },
  {
   "cell_type": "code",
   "execution_count": 714,
   "metadata": {},
   "outputs": [],
   "source": [
    "merged_budgets_and_movie_basic = merged_budgets_and_movie_basic[merged_budgets_and_movie_basic['genres'].map(merged_budgets_and_movie_basic['genres'].value_counts()) >= 30]"
   ]
  },
  {
   "cell_type": "markdown",
   "metadata": {},
   "source": [
    "Check for null values in the table"
   ]
  },
  {
   "cell_type": "code",
   "execution_count": 715,
   "metadata": {},
   "outputs": [
    {
     "data": {
      "text/plain": [
       "movie_id                 0\n",
       "primary_title            0\n",
       "original_title           0\n",
       "start_year               0\n",
       "runtime_minutes        300\n",
       "genres                   0\n",
       "id                       0\n",
       "release_date             0\n",
       "movie                    0\n",
       "production_budget        0\n",
       "domestic_gross           0\n",
       "worldwide_gross          0\n",
       "Profitability_Ratio      0\n",
       "prof_cat                 0\n",
       "Net_Profit               0\n",
       "budget_cat               0\n",
       "dtype: int64"
      ]
     },
     "execution_count": 715,
     "metadata": {},
     "output_type": "execute_result"
    }
   ],
   "source": [
    "merged_budgets_and_movie_basic.isna().sum()"
   ]
  },
  {
   "cell_type": "code",
   "execution_count": 716,
   "metadata": {
    "scrolled": false
   },
   "outputs": [
    {
     "data": {
      "text/html": [
       "<div>\n",
       "<style scoped>\n",
       "    .dataframe tbody tr th:only-of-type {\n",
       "        vertical-align: middle;\n",
       "    }\n",
       "\n",
       "    .dataframe tbody tr th {\n",
       "        vertical-align: top;\n",
       "    }\n",
       "\n",
       "    .dataframe thead th {\n",
       "        text-align: right;\n",
       "    }\n",
       "</style>\n",
       "<table border=\"1\" class=\"dataframe\">\n",
       "  <thead>\n",
       "    <tr style=\"text-align: right;\">\n",
       "      <th></th>\n",
       "      <th>movie_id</th>\n",
       "      <th>primary_title</th>\n",
       "      <th>original_title</th>\n",
       "      <th>start_year</th>\n",
       "      <th>runtime_minutes</th>\n",
       "      <th>genres</th>\n",
       "      <th>id</th>\n",
       "      <th>release_date</th>\n",
       "      <th>movie</th>\n",
       "      <th>production_budget</th>\n",
       "      <th>domestic_gross</th>\n",
       "      <th>worldwide_gross</th>\n",
       "      <th>Profitability_Ratio</th>\n",
       "      <th>prof_cat</th>\n",
       "      <th>Net_Profit</th>\n",
       "      <th>budget_cat</th>\n",
       "    </tr>\n",
       "  </thead>\n",
       "  <tbody>\n",
       "    <tr>\n",
       "      <th>1</th>\n",
       "      <td>tt0293429</td>\n",
       "      <td>Mortal Kombat</td>\n",
       "      <td>Mortal Kombat</td>\n",
       "      <td>2021</td>\n",
       "      <td>NaN</td>\n",
       "      <td>Action,Adventure,Fantasy</td>\n",
       "      <td>10</td>\n",
       "      <td>Aug 18, 1995</td>\n",
       "      <td>Mortal Kombat</td>\n",
       "      <td>20000000.0</td>\n",
       "      <td>$70,433,227</td>\n",
       "      <td>122133227.0</td>\n",
       "      <td>6.106661</td>\n",
       "      <td>High Profit</td>\n",
       "      <td>102133227.0</td>\n",
       "      <td>Medium</td>\n",
       "    </tr>\n",
       "    <tr>\n",
       "      <th>3</th>\n",
       "      <td>tt2404548</td>\n",
       "      <td>On the Road</td>\n",
       "      <td>On the Road</td>\n",
       "      <td>2011</td>\n",
       "      <td>90.0</td>\n",
       "      <td>Drama</td>\n",
       "      <td>17</td>\n",
       "      <td>Mar 22, 2013</td>\n",
       "      <td>On the Road</td>\n",
       "      <td>25000000.0</td>\n",
       "      <td>$720,828</td>\n",
       "      <td>9313302.0</td>\n",
       "      <td>0.372532</td>\n",
       "      <td>Loss</td>\n",
       "      <td>-15686698.0</td>\n",
       "      <td>Medium</td>\n",
       "    </tr>\n",
       "    <tr>\n",
       "      <th>4</th>\n",
       "      <td>tt3872966</td>\n",
       "      <td>On the Road</td>\n",
       "      <td>On the Road</td>\n",
       "      <td>2013</td>\n",
       "      <td>87.0</td>\n",
       "      <td>Documentary</td>\n",
       "      <td>17</td>\n",
       "      <td>Mar 22, 2013</td>\n",
       "      <td>On the Road</td>\n",
       "      <td>25000000.0</td>\n",
       "      <td>$720,828</td>\n",
       "      <td>9313302.0</td>\n",
       "      <td>0.372532</td>\n",
       "      <td>Loss</td>\n",
       "      <td>-15686698.0</td>\n",
       "      <td>Medium</td>\n",
       "    </tr>\n",
       "    <tr>\n",
       "      <th>5</th>\n",
       "      <td>tt4339118</td>\n",
       "      <td>On the Road</td>\n",
       "      <td>On the Road</td>\n",
       "      <td>2014</td>\n",
       "      <td>89.0</td>\n",
       "      <td>Drama</td>\n",
       "      <td>17</td>\n",
       "      <td>Mar 22, 2013</td>\n",
       "      <td>On the Road</td>\n",
       "      <td>25000000.0</td>\n",
       "      <td>$720,828</td>\n",
       "      <td>9313302.0</td>\n",
       "      <td>0.372532</td>\n",
       "      <td>Loss</td>\n",
       "      <td>-15686698.0</td>\n",
       "      <td>Medium</td>\n",
       "    </tr>\n",
       "    <tr>\n",
       "      <th>6</th>\n",
       "      <td>tt5389486</td>\n",
       "      <td>On the Road</td>\n",
       "      <td>On the Road</td>\n",
       "      <td>2015</td>\n",
       "      <td>39.0</td>\n",
       "      <td>Documentary</td>\n",
       "      <td>17</td>\n",
       "      <td>Mar 22, 2013</td>\n",
       "      <td>On the Road</td>\n",
       "      <td>25000000.0</td>\n",
       "      <td>$720,828</td>\n",
       "      <td>9313302.0</td>\n",
       "      <td>0.372532</td>\n",
       "      <td>Loss</td>\n",
       "      <td>-15686698.0</td>\n",
       "      <td>Medium</td>\n",
       "    </tr>\n",
       "  </tbody>\n",
       "</table>\n",
       "</div>"
      ],
      "text/plain": [
       "    movie_id  primary_title original_title  start_year  runtime_minutes  \\\n",
       "1  tt0293429  Mortal Kombat  Mortal Kombat        2021              NaN   \n",
       "3  tt2404548    On the Road    On the Road        2011             90.0   \n",
       "4  tt3872966    On the Road    On the Road        2013             87.0   \n",
       "5  tt4339118    On the Road    On the Road        2014             89.0   \n",
       "6  tt5389486    On the Road    On the Road        2015             39.0   \n",
       "\n",
       "                     genres  id  release_date          movie  \\\n",
       "1  Action,Adventure,Fantasy  10  Aug 18, 1995  Mortal Kombat   \n",
       "3                     Drama  17  Mar 22, 2013    On the Road   \n",
       "4               Documentary  17  Mar 22, 2013    On the Road   \n",
       "5                     Drama  17  Mar 22, 2013    On the Road   \n",
       "6               Documentary  17  Mar 22, 2013    On the Road   \n",
       "\n",
       "   production_budget domestic_gross  worldwide_gross  Profitability_Ratio  \\\n",
       "1         20000000.0    $70,433,227      122133227.0             6.106661   \n",
       "3         25000000.0       $720,828        9313302.0             0.372532   \n",
       "4         25000000.0       $720,828        9313302.0             0.372532   \n",
       "5         25000000.0       $720,828        9313302.0             0.372532   \n",
       "6         25000000.0       $720,828        9313302.0             0.372532   \n",
       "\n",
       "      prof_cat   Net_Profit budget_cat  \n",
       "1  High Profit  102133227.0     Medium  \n",
       "3         Loss  -15686698.0     Medium  \n",
       "4         Loss  -15686698.0     Medium  \n",
       "5         Loss  -15686698.0     Medium  \n",
       "6         Loss  -15686698.0     Medium  "
      ]
     },
     "execution_count": 716,
     "metadata": {},
     "output_type": "execute_result"
    }
   ],
   "source": [
    "merged_budgets_and_movie_basic.head()"
   ]
  },
  {
   "cell_type": "raw",
   "metadata": {},
   "source": [
    "Conduct chi-square test to test the significance of below hypothesis\n",
    "\n",
    "H0 : There is no significant relationship between Genere and profitability ratio\n",
    "H1 : There is a significant relationship between Genere and profitability ratio"
   ]
  },
  {
   "cell_type": "markdown",
   "metadata": {},
   "source": [
    "Generate cross tab for chi-square test"
   ]
  },
  {
   "cell_type": "code",
   "execution_count": 717,
   "metadata": {},
   "outputs": [],
   "source": [
    "contingency_table=pd.crosstab(index=merged_budgets_and_movie_basic[\"genres\"],columns=merged_budgets_and_movie_basic[\"prof_cat\"])"
   ]
  },
  {
   "cell_type": "code",
   "execution_count": 718,
   "metadata": {
    "scrolled": true
   },
   "outputs": [
    {
     "data": {
      "text/html": [
       "<div>\n",
       "<style scoped>\n",
       "    .dataframe tbody tr th:only-of-type {\n",
       "        vertical-align: middle;\n",
       "    }\n",
       "\n",
       "    .dataframe tbody tr th {\n",
       "        vertical-align: top;\n",
       "    }\n",
       "\n",
       "    .dataframe thead th {\n",
       "        text-align: right;\n",
       "    }\n",
       "</style>\n",
       "<table border=\"1\" class=\"dataframe\">\n",
       "  <thead>\n",
       "    <tr style=\"text-align: right;\">\n",
       "      <th>prof_cat</th>\n",
       "      <th>High Profit</th>\n",
       "      <th>Loss</th>\n",
       "      <th>Low Profit</th>\n",
       "      <th>Medium Profit</th>\n",
       "      <th>Super Profit</th>\n",
       "    </tr>\n",
       "    <tr>\n",
       "      <th>genres</th>\n",
       "      <th></th>\n",
       "      <th></th>\n",
       "      <th></th>\n",
       "      <th></th>\n",
       "      <th></th>\n",
       "    </tr>\n",
       "  </thead>\n",
       "  <tbody>\n",
       "    <tr>\n",
       "      <th>Action</th>\n",
       "      <td>1</td>\n",
       "      <td>32</td>\n",
       "      <td>4</td>\n",
       "      <td>8</td>\n",
       "      <td>1</td>\n",
       "    </tr>\n",
       "    <tr>\n",
       "      <th>Action,Adventure,Comedy</th>\n",
       "      <td>1</td>\n",
       "      <td>13</td>\n",
       "      <td>2</td>\n",
       "      <td>13</td>\n",
       "      <td>4</td>\n",
       "    </tr>\n",
       "    <tr>\n",
       "      <th>Action,Adventure,Drama</th>\n",
       "      <td>1</td>\n",
       "      <td>22</td>\n",
       "      <td>4</td>\n",
       "      <td>7</td>\n",
       "      <td>0</td>\n",
       "    </tr>\n",
       "    <tr>\n",
       "      <th>Action,Adventure,Fantasy</th>\n",
       "      <td>4</td>\n",
       "      <td>16</td>\n",
       "      <td>11</td>\n",
       "      <td>10</td>\n",
       "      <td>0</td>\n",
       "    </tr>\n",
       "    <tr>\n",
       "      <th>Action,Adventure,Sci-Fi</th>\n",
       "      <td>16</td>\n",
       "      <td>14</td>\n",
       "      <td>12</td>\n",
       "      <td>16</td>\n",
       "      <td>0</td>\n",
       "    </tr>\n",
       "    <tr>\n",
       "      <th>Action,Comedy,Crime</th>\n",
       "      <td>4</td>\n",
       "      <td>19</td>\n",
       "      <td>8</td>\n",
       "      <td>6</td>\n",
       "      <td>0</td>\n",
       "    </tr>\n",
       "    <tr>\n",
       "      <th>Action,Crime,Drama</th>\n",
       "      <td>5</td>\n",
       "      <td>40</td>\n",
       "      <td>8</td>\n",
       "      <td>8</td>\n",
       "      <td>2</td>\n",
       "    </tr>\n",
       "    <tr>\n",
       "      <th>Action,Crime,Thriller</th>\n",
       "      <td>2</td>\n",
       "      <td>19</td>\n",
       "      <td>5</td>\n",
       "      <td>4</td>\n",
       "      <td>0</td>\n",
       "    </tr>\n",
       "    <tr>\n",
       "      <th>Action,Thriller</th>\n",
       "      <td>3</td>\n",
       "      <td>18</td>\n",
       "      <td>4</td>\n",
       "      <td>7</td>\n",
       "      <td>0</td>\n",
       "    </tr>\n",
       "    <tr>\n",
       "      <th>Adventure,Animation,Comedy</th>\n",
       "      <td>11</td>\n",
       "      <td>22</td>\n",
       "      <td>18</td>\n",
       "      <td>17</td>\n",
       "      <td>5</td>\n",
       "    </tr>\n",
       "    <tr>\n",
       "      <th>Comedy</th>\n",
       "      <td>4</td>\n",
       "      <td>87</td>\n",
       "      <td>18</td>\n",
       "      <td>24</td>\n",
       "      <td>7</td>\n",
       "    </tr>\n",
       "    <tr>\n",
       "      <th>Comedy,Drama</th>\n",
       "      <td>12</td>\n",
       "      <td>62</td>\n",
       "      <td>14</td>\n",
       "      <td>11</td>\n",
       "      <td>5</td>\n",
       "    </tr>\n",
       "    <tr>\n",
       "      <th>Comedy,Drama,Romance</th>\n",
       "      <td>12</td>\n",
       "      <td>42</td>\n",
       "      <td>11</td>\n",
       "      <td>13</td>\n",
       "      <td>6</td>\n",
       "    </tr>\n",
       "    <tr>\n",
       "      <th>Comedy,Romance</th>\n",
       "      <td>9</td>\n",
       "      <td>26</td>\n",
       "      <td>11</td>\n",
       "      <td>9</td>\n",
       "      <td>4</td>\n",
       "    </tr>\n",
       "    <tr>\n",
       "      <th>Crime,Drama</th>\n",
       "      <td>2</td>\n",
       "      <td>24</td>\n",
       "      <td>3</td>\n",
       "      <td>3</td>\n",
       "      <td>1</td>\n",
       "    </tr>\n",
       "    <tr>\n",
       "      <th>Crime,Drama,Thriller</th>\n",
       "      <td>2</td>\n",
       "      <td>29</td>\n",
       "      <td>3</td>\n",
       "      <td>5</td>\n",
       "      <td>0</td>\n",
       "    </tr>\n",
       "    <tr>\n",
       "      <th>Documentary</th>\n",
       "      <td>20</td>\n",
       "      <td>196</td>\n",
       "      <td>27</td>\n",
       "      <td>27</td>\n",
       "      <td>20</td>\n",
       "    </tr>\n",
       "    <tr>\n",
       "      <th>Drama</th>\n",
       "      <td>36</td>\n",
       "      <td>339</td>\n",
       "      <td>44</td>\n",
       "      <td>45</td>\n",
       "      <td>33</td>\n",
       "    </tr>\n",
       "    <tr>\n",
       "      <th>Drama,Romance</th>\n",
       "      <td>8</td>\n",
       "      <td>48</td>\n",
       "      <td>6</td>\n",
       "      <td>18</td>\n",
       "      <td>9</td>\n",
       "    </tr>\n",
       "    <tr>\n",
       "      <th>Drama,Thriller</th>\n",
       "      <td>3</td>\n",
       "      <td>45</td>\n",
       "      <td>6</td>\n",
       "      <td>7</td>\n",
       "      <td>2</td>\n",
       "    </tr>\n",
       "    <tr>\n",
       "      <th>Horror</th>\n",
       "      <td>6</td>\n",
       "      <td>52</td>\n",
       "      <td>8</td>\n",
       "      <td>17</td>\n",
       "      <td>12</td>\n",
       "    </tr>\n",
       "    <tr>\n",
       "      <th>Horror,Mystery,Thriller</th>\n",
       "      <td>9</td>\n",
       "      <td>15</td>\n",
       "      <td>1</td>\n",
       "      <td>4</td>\n",
       "      <td>18</td>\n",
       "    </tr>\n",
       "    <tr>\n",
       "      <th>Horror,Thriller</th>\n",
       "      <td>3</td>\n",
       "      <td>33</td>\n",
       "      <td>6</td>\n",
       "      <td>3</td>\n",
       "      <td>11</td>\n",
       "    </tr>\n",
       "    <tr>\n",
       "      <th>Thriller</th>\n",
       "      <td>7</td>\n",
       "      <td>55</td>\n",
       "      <td>5</td>\n",
       "      <td>10</td>\n",
       "      <td>4</td>\n",
       "    </tr>\n",
       "  </tbody>\n",
       "</table>\n",
       "</div>"
      ],
      "text/plain": [
       "prof_cat                    High Profit  Loss  Low Profit  Medium Profit  \\\n",
       "genres                                                                     \n",
       "Action                                1    32           4              8   \n",
       "Action,Adventure,Comedy               1    13           2             13   \n",
       "Action,Adventure,Drama                1    22           4              7   \n",
       "Action,Adventure,Fantasy              4    16          11             10   \n",
       "Action,Adventure,Sci-Fi              16    14          12             16   \n",
       "Action,Comedy,Crime                   4    19           8              6   \n",
       "Action,Crime,Drama                    5    40           8              8   \n",
       "Action,Crime,Thriller                 2    19           5              4   \n",
       "Action,Thriller                       3    18           4              7   \n",
       "Adventure,Animation,Comedy           11    22          18             17   \n",
       "Comedy                                4    87          18             24   \n",
       "Comedy,Drama                         12    62          14             11   \n",
       "Comedy,Drama,Romance                 12    42          11             13   \n",
       "Comedy,Romance                        9    26          11              9   \n",
       "Crime,Drama                           2    24           3              3   \n",
       "Crime,Drama,Thriller                  2    29           3              5   \n",
       "Documentary                          20   196          27             27   \n",
       "Drama                                36   339          44             45   \n",
       "Drama,Romance                         8    48           6             18   \n",
       "Drama,Thriller                        3    45           6              7   \n",
       "Horror                                6    52           8             17   \n",
       "Horror,Mystery,Thriller               9    15           1              4   \n",
       "Horror,Thriller                       3    33           6              3   \n",
       "Thriller                              7    55           5             10   \n",
       "\n",
       "prof_cat                    Super Profit  \n",
       "genres                                    \n",
       "Action                                 1  \n",
       "Action,Adventure,Comedy                4  \n",
       "Action,Adventure,Drama                 0  \n",
       "Action,Adventure,Fantasy               0  \n",
       "Action,Adventure,Sci-Fi                0  \n",
       "Action,Comedy,Crime                    0  \n",
       "Action,Crime,Drama                     2  \n",
       "Action,Crime,Thriller                  0  \n",
       "Action,Thriller                        0  \n",
       "Adventure,Animation,Comedy             5  \n",
       "Comedy                                 7  \n",
       "Comedy,Drama                           5  \n",
       "Comedy,Drama,Romance                   6  \n",
       "Comedy,Romance                         4  \n",
       "Crime,Drama                            1  \n",
       "Crime,Drama,Thriller                   0  \n",
       "Documentary                           20  \n",
       "Drama                                 33  \n",
       "Drama,Romance                          9  \n",
       "Drama,Thriller                         2  \n",
       "Horror                                12  \n",
       "Horror,Mystery,Thriller               18  \n",
       "Horror,Thriller                       11  \n",
       "Thriller                               4  "
      ]
     },
     "execution_count": 718,
     "metadata": {},
     "output_type": "execute_result"
    }
   ],
   "source": [
    "contingency_table"
   ]
  },
  {
   "cell_type": "markdown",
   "metadata": {},
   "source": [
    "Conduct chi-square test for statistical significance"
   ]
  },
  {
   "cell_type": "code",
   "execution_count": 719,
   "metadata": {
    "scrolled": true
   },
   "outputs": [
    {
     "data": {
      "text/plain": [
       "(331.4351129591015,\n",
       " 9.116739905146841e-29,\n",
       " 92,\n",
       " array([[  3.91996234,  27.4613936 ,   5.17608286,   6.32391714,\n",
       "           3.11864407],\n",
       "        [  2.81214689,  19.70056497,   3.71327684,   4.53672316,\n",
       "           2.23728814],\n",
       "        [  2.89736347,  20.29755179,   3.82580038,   4.67419962,\n",
       "           2.30508475],\n",
       "        [  3.49387947,  24.47645951,   4.61346516,   5.63653484,\n",
       "           2.77966102],\n",
       "        [  4.94256121,  34.6252354 ,   6.52636535,   7.97363465,\n",
       "           3.93220339],\n",
       "        [  3.15301318,  22.08851224,   4.163371  ,   5.086629  ,\n",
       "           2.50847458],\n",
       "        [  5.36864407,  37.61016949,   7.08898305,   8.66101695,\n",
       "           4.27118644],\n",
       "        [  2.55649718,  17.90960452,   3.37570621,   4.12429379,\n",
       "           2.03389831],\n",
       "        [  2.72693032,  19.10357815,   3.6007533 ,   4.3992467 ,\n",
       "           2.16949153],\n",
       "        [  6.22080979,  43.58003766,   8.21421846,  10.03578154,\n",
       "           4.94915254],\n",
       "        [ 11.93032015,  83.57815443,  15.75329567,  19.24670433,\n",
       "           9.49152542],\n",
       "        [  8.86252354,  62.086629  ,  11.70244821,  14.29755179,\n",
       "           7.05084746],\n",
       "        [  7.15819209,  50.14689266,   9.4519774 ,  11.5480226 ,\n",
       "           5.69491525],\n",
       "        [  5.02777778,  35.22222222,   6.63888889,   8.11111111,\n",
       "           4.        ],\n",
       "        [  2.81214689,  19.70056497,   3.71327684,   4.53672316,\n",
       "           2.23728814],\n",
       "        [  3.32344633,  23.28248588,   4.38841808,   5.36158192,\n",
       "           2.6440678 ],\n",
       "        [ 24.71280603, 173.12617702,  32.63182674,  39.86817326,\n",
       "          19.66101695],\n",
       "        [ 42.35263653, 296.70244821,  55.92419962,  68.32580038,\n",
       "          33.69491525],\n",
       "        [  7.58427495,  53.13182674,  10.0145951 ,  12.2354049 ,\n",
       "           6.03389831],\n",
       "        [  5.36864407,  37.61016949,   7.08898305,   8.66101695,\n",
       "           4.27118644],\n",
       "        [  8.09557439,  56.71374765,  10.68973635,  13.06026365,\n",
       "           6.44067797],\n",
       "        [  4.00517891,  28.05838041,   5.2886064 ,   6.4613936 ,\n",
       "           3.18644068],\n",
       "        [  4.77212806,  33.43126177,   6.30131827,   7.69868173,\n",
       "           3.79661017],\n",
       "        [  6.90254237,  48.3559322 ,   9.11440678,  11.13559322,\n",
       "           5.49152542]]))"
      ]
     },
     "execution_count": 719,
     "metadata": {},
     "output_type": "execute_result"
    }
   ],
   "source": [
    "stats.contingency.chi2_contingency(contingency_table)"
   ]
  },
  {
   "cell_type": "markdown",
   "metadata": {},
   "source": [
    "As indicated above it is possible to reject null hypothesis at 95% confidence level. Therefore through the chi-square test it is proven that there is a significant relationship between genere and profitability ratio."
   ]
  },
  {
   "cell_type": "markdown",
   "metadata": {},
   "source": [
    "To identify which category of genere shows highest profitability identied those groups."
   ]
  },
  {
   "cell_type": "code",
   "execution_count": 720,
   "metadata": {},
   "outputs": [],
   "source": [
    "merged_budgets_and_movie_basic_1 = merged_budgets_and_movie_basic.groupby(merged_budgets_and_movie_basic['genres']).median()"
   ]
  },
  {
   "cell_type": "code",
   "execution_count": 726,
   "metadata": {},
   "outputs": [
    {
     "data": {
      "text/html": [
       "<div>\n",
       "<style scoped>\n",
       "    .dataframe tbody tr th:only-of-type {\n",
       "        vertical-align: middle;\n",
       "    }\n",
       "\n",
       "    .dataframe tbody tr th {\n",
       "        vertical-align: top;\n",
       "    }\n",
       "\n",
       "    .dataframe thead th {\n",
       "        text-align: right;\n",
       "    }\n",
       "</style>\n",
       "<table border=\"1\" class=\"dataframe\">\n",
       "  <thead>\n",
       "    <tr style=\"text-align: right;\">\n",
       "      <th></th>\n",
       "      <th>start_year</th>\n",
       "      <th>runtime_minutes</th>\n",
       "      <th>id</th>\n",
       "      <th>production_budget</th>\n",
       "      <th>worldwide_gross</th>\n",
       "      <th>Profitability_Ratio</th>\n",
       "      <th>Net_Profit</th>\n",
       "    </tr>\n",
       "    <tr>\n",
       "      <th>genres</th>\n",
       "      <th></th>\n",
       "      <th></th>\n",
       "      <th></th>\n",
       "      <th></th>\n",
       "      <th></th>\n",
       "      <th></th>\n",
       "      <th></th>\n",
       "    </tr>\n",
       "  </thead>\n",
       "  <tbody>\n",
       "    <tr>\n",
       "      <th>Horror,Mystery,Thriller</th>\n",
       "      <td>2015.0</td>\n",
       "      <td>89.0</td>\n",
       "      <td>60.0</td>\n",
       "      <td>10000000.0</td>\n",
       "      <td>54104225.0</td>\n",
       "      <td>5.410423</td>\n",
       "      <td>44104225.0</td>\n",
       "    </tr>\n",
       "    <tr>\n",
       "      <th>Action,Adventure,Comedy</th>\n",
       "      <td>2016.0</td>\n",
       "      <td>107.0</td>\n",
       "      <td>46.0</td>\n",
       "      <td>90000000.0</td>\n",
       "      <td>245328374.0</td>\n",
       "      <td>3.611787</td>\n",
       "      <td>141751370.0</td>\n",
       "    </tr>\n",
       "    <tr>\n",
       "      <th>Action,Adventure,Sci-Fi</th>\n",
       "      <td>2014.0</td>\n",
       "      <td>127.5</td>\n",
       "      <td>41.5</td>\n",
       "      <td>170000000.0</td>\n",
       "      <td>466288586.5</td>\n",
       "      <td>3.243793</td>\n",
       "      <td>335625934.5</td>\n",
       "    </tr>\n",
       "    <tr>\n",
       "      <th>Adventure,Animation,Comedy</th>\n",
       "      <td>2015.0</td>\n",
       "      <td>93.0</td>\n",
       "      <td>46.0</td>\n",
       "      <td>80000000.0</td>\n",
       "      <td>274392649.0</td>\n",
       "      <td>2.800777</td>\n",
       "      <td>159517956.0</td>\n",
       "    </tr>\n",
       "    <tr>\n",
       "      <th>Action,Adventure,Fantasy</th>\n",
       "      <td>2016.0</td>\n",
       "      <td>113.5</td>\n",
       "      <td>51.0</td>\n",
       "      <td>110000000.0</td>\n",
       "      <td>250700000.0</td>\n",
       "      <td>2.278165</td>\n",
       "      <td>129276941.0</td>\n",
       "    </tr>\n",
       "    <tr>\n",
       "      <th>Comedy,Romance</th>\n",
       "      <td>2013.0</td>\n",
       "      <td>102.5</td>\n",
       "      <td>57.0</td>\n",
       "      <td>18000000.0</td>\n",
       "      <td>36882378.0</td>\n",
       "      <td>2.166812</td>\n",
       "      <td>14001741.0</td>\n",
       "    </tr>\n",
       "    <tr>\n",
       "      <th>Comedy,Drama,Romance</th>\n",
       "      <td>2012.5</td>\n",
       "      <td>98.0</td>\n",
       "      <td>54.5</td>\n",
       "      <td>8000000.0</td>\n",
       "      <td>13410297.5</td>\n",
       "      <td>1.953925</td>\n",
       "      <td>4285361.0</td>\n",
       "    </tr>\n",
       "    <tr>\n",
       "      <th>Action,Comedy,Crime</th>\n",
       "      <td>2014.0</td>\n",
       "      <td>104.0</td>\n",
       "      <td>56.0</td>\n",
       "      <td>37000000.0</td>\n",
       "      <td>63129909.0</td>\n",
       "      <td>1.769682</td>\n",
       "      <td>35129909.0</td>\n",
       "    </tr>\n",
       "    <tr>\n",
       "      <th>Drama,Romance</th>\n",
       "      <td>2013.0</td>\n",
       "      <td>105.0</td>\n",
       "      <td>43.0</td>\n",
       "      <td>10100000.0</td>\n",
       "      <td>19535005.0</td>\n",
       "      <td>1.735909</td>\n",
       "      <td>9535005.0</td>\n",
       "    </tr>\n",
       "    <tr>\n",
       "      <th>Horror</th>\n",
       "      <td>2015.0</td>\n",
       "      <td>89.0</td>\n",
       "      <td>43.0</td>\n",
       "      <td>9900000.0</td>\n",
       "      <td>14805812.0</td>\n",
       "      <td>1.549976</td>\n",
       "      <td>4328516.0</td>\n",
       "    </tr>\n",
       "  </tbody>\n",
       "</table>\n",
       "</div>"
      ],
      "text/plain": [
       "                            start_year  runtime_minutes    id  \\\n",
       "genres                                                          \n",
       "Horror,Mystery,Thriller         2015.0             89.0  60.0   \n",
       "Action,Adventure,Comedy         2016.0            107.0  46.0   \n",
       "Action,Adventure,Sci-Fi         2014.0            127.5  41.5   \n",
       "Adventure,Animation,Comedy      2015.0             93.0  46.0   \n",
       "Action,Adventure,Fantasy        2016.0            113.5  51.0   \n",
       "Comedy,Romance                  2013.0            102.5  57.0   \n",
       "Comedy,Drama,Romance            2012.5             98.0  54.5   \n",
       "Action,Comedy,Crime             2014.0            104.0  56.0   \n",
       "Drama,Romance                   2013.0            105.0  43.0   \n",
       "Horror                          2015.0             89.0  43.0   \n",
       "\n",
       "                            production_budget  worldwide_gross  \\\n",
       "genres                                                           \n",
       "Horror,Mystery,Thriller            10000000.0       54104225.0   \n",
       "Action,Adventure,Comedy            90000000.0      245328374.0   \n",
       "Action,Adventure,Sci-Fi           170000000.0      466288586.5   \n",
       "Adventure,Animation,Comedy         80000000.0      274392649.0   \n",
       "Action,Adventure,Fantasy          110000000.0      250700000.0   \n",
       "Comedy,Romance                     18000000.0       36882378.0   \n",
       "Comedy,Drama,Romance                8000000.0       13410297.5   \n",
       "Action,Comedy,Crime                37000000.0       63129909.0   \n",
       "Drama,Romance                      10100000.0       19535005.0   \n",
       "Horror                              9900000.0       14805812.0   \n",
       "\n",
       "                            Profitability_Ratio   Net_Profit  \n",
       "genres                                                        \n",
       "Horror,Mystery,Thriller                5.410423   44104225.0  \n",
       "Action,Adventure,Comedy                3.611787  141751370.0  \n",
       "Action,Adventure,Sci-Fi                3.243793  335625934.5  \n",
       "Adventure,Animation,Comedy             2.800777  159517956.0  \n",
       "Action,Adventure,Fantasy               2.278165  129276941.0  \n",
       "Comedy,Romance                         2.166812   14001741.0  \n",
       "Comedy,Drama,Romance                   1.953925    4285361.0  \n",
       "Action,Comedy,Crime                    1.769682   35129909.0  \n",
       "Drama,Romance                          1.735909    9535005.0  \n",
       "Horror                                 1.549976    4328516.0  "
      ]
     },
     "execution_count": 726,
     "metadata": {},
     "output_type": "execute_result"
    }
   ],
   "source": [
    "merged_budgets_and_movie_basic_des = merged_budgets_and_movie_basic_1.sort_values(by=['Profitability_Ratio'],ascending=False).head(10)\n",
    "merged_budgets_and_movie_basic_des"
   ]
  },
  {
   "cell_type": "markdown",
   "metadata": {},
   "source": [
    "There on profitability point of view companies can focus on \n",
    "1. Family,Fantasy\n",
    "2. worldwide_gross\t\n",
    "3. Adventure,Drama,Fantasy\t\n",
    "4. Action,Comedy,Documentary\n",
    "5. Comedy,Mystery"
   ]
  },
  {
   "cell_type": "code",
   "execution_count": 766,
   "metadata": {},
   "outputs": [
    {
     "data": {
      "image/png": "[encoded data removed]",
      "text/plain": [
       "<Figure size 1728x864 with 1 Axes>"
      ]
     },
     "metadata": {},
     "output_type": "display_data"
    }
   ],
   "source": [
    "fig, ax = plt.subplots(figsize=(24,12))\n",
    "sns.set_style(\"whitegrid\")\n",
    "\n",
    "sns.barplot(x=merged_budgets_and_movie_basic_des.index, y=merged_budgets_and_movie_basic_des['Profitability_Ratio'], palette='colorblind')\n",
    "\n",
    "ax.set_title('Median Profitability Ratio by Movie Genre', fontsize=20)\n",
    "ax.set_xlabel('Genre', fontsize=20)\n",
    "ax.set_ylabel('Profitability Ratio: Worldwide Gross Divided by Revenue', fontsize=20)\n",
    "ax.set_xticklabels(ax.get_xticklabels(), rotation=20, ha=\"right\")\n",
    "ax.axes.yaxis.set_major_formatter(PercentFormatter(1));"
   ]
  },
  {
   "cell_type": "markdown",
   "metadata": {},
   "source": [
    "### Identify the relationship between Runtime and profitability"
   ]
  },
  {
   "cell_type": "markdown",
   "metadata": {},
   "source": [
    "Using already assigned table of df_movie_basic"
   ]
  },
  {
   "cell_type": "code",
   "execution_count": 540,
   "metadata": {},
   "outputs": [],
   "source": [
    "df_runtime = pd.read_sql(\"\"\"\n",
    "SELECT *\n",
    "  FROM movie_basics\n",
    "      \n",
    "\"\"\", conn)"
   ]
  },
  {
   "cell_type": "code",
   "execution_count": 541,
   "metadata": {},
   "outputs": [
    {
     "data": {
      "text/html": [
       "<div>\n",
       "<style scoped>\n",
       "    .dataframe tbody tr th:only-of-type {\n",
       "        vertical-align: middle;\n",
       "    }\n",
       "\n",
       "    .dataframe tbody tr th {\n",
       "        vertical-align: top;\n",
       "    }\n",
       "\n",
       "    .dataframe thead th {\n",
       "        text-align: right;\n",
       "    }\n",
       "</style>\n",
       "<table border=\"1\" class=\"dataframe\">\n",
       "  <thead>\n",
       "    <tr style=\"text-align: right;\">\n",
       "      <th></th>\n",
       "      <th>start_year</th>\n",
       "      <th>runtime_minutes</th>\n",
       "    </tr>\n",
       "  </thead>\n",
       "  <tbody>\n",
       "    <tr>\n",
       "      <th>count</th>\n",
       "      <td>146144.000000</td>\n",
       "      <td>114405.000000</td>\n",
       "    </tr>\n",
       "    <tr>\n",
       "      <th>mean</th>\n",
       "      <td>2014.621798</td>\n",
       "      <td>86.187247</td>\n",
       "    </tr>\n",
       "    <tr>\n",
       "      <th>std</th>\n",
       "      <td>2.733583</td>\n",
       "      <td>166.360590</td>\n",
       "    </tr>\n",
       "    <tr>\n",
       "      <th>min</th>\n",
       "      <td>2010.000000</td>\n",
       "      <td>1.000000</td>\n",
       "    </tr>\n",
       "    <tr>\n",
       "      <th>25%</th>\n",
       "      <td>2012.000000</td>\n",
       "      <td>70.000000</td>\n",
       "    </tr>\n",
       "    <tr>\n",
       "      <th>50%</th>\n",
       "      <td>2015.000000</td>\n",
       "      <td>87.000000</td>\n",
       "    </tr>\n",
       "    <tr>\n",
       "      <th>75%</th>\n",
       "      <td>2017.000000</td>\n",
       "      <td>99.000000</td>\n",
       "    </tr>\n",
       "    <tr>\n",
       "      <th>max</th>\n",
       "      <td>2115.000000</td>\n",
       "      <td>51420.000000</td>\n",
       "    </tr>\n",
       "  </tbody>\n",
       "</table>\n",
       "</div>"
      ],
      "text/plain": [
       "          start_year  runtime_minutes\n",
       "count  146144.000000    114405.000000\n",
       "mean     2014.621798        86.187247\n",
       "std         2.733583       166.360590\n",
       "min      2010.000000         1.000000\n",
       "25%      2012.000000        70.000000\n",
       "50%      2015.000000        87.000000\n",
       "75%      2017.000000        99.000000\n",
       "max      2115.000000     51420.000000"
      ]
     },
     "execution_count": 541,
     "metadata": {},
     "output_type": "execute_result"
    }
   ],
   "source": [
    "df_runtime.describe()"
   ]
  },
  {
   "cell_type": "markdown",
   "metadata": {},
   "source": [
    "Categorize the movie run time into 'Extremly short movie', 'Short Movie', 'Average Movie', 'Long Movie'"
   ]
  },
  {
   "cell_type": "code",
   "execution_count": 542,
   "metadata": {},
   "outputs": [],
   "source": [
    "df_runtime['Runtime_cat'] = ['Extremly short Movie' if x < 20 else 'Short Movie' if x < 90 else 'Average Movie' if x < 120 else 'Long Movie' for x in df_runtime['runtime_minutes'] ]"
   ]
  },
  {
   "cell_type": "code",
   "execution_count": 543,
   "metadata": {},
   "outputs": [
    {
     "data": {
      "text/html": [
       "<div>\n",
       "<style scoped>\n",
       "    .dataframe tbody tr th:only-of-type {\n",
       "        vertical-align: middle;\n",
       "    }\n",
       "\n",
       "    .dataframe tbody tr th {\n",
       "        vertical-align: top;\n",
       "    }\n",
       "\n",
       "    .dataframe thead th {\n",
       "        text-align: right;\n",
       "    }\n",
       "</style>\n",
       "<table border=\"1\" class=\"dataframe\">\n",
       "  <thead>\n",
       "    <tr style=\"text-align: right;\">\n",
       "      <th></th>\n",
       "      <th>movie_id</th>\n",
       "      <th>primary_title</th>\n",
       "      <th>original_title</th>\n",
       "      <th>start_year</th>\n",
       "      <th>runtime_minutes</th>\n",
       "      <th>genres</th>\n",
       "      <th>Runtime_cat</th>\n",
       "    </tr>\n",
       "  </thead>\n",
       "  <tbody>\n",
       "    <tr>\n",
       "      <th>0</th>\n",
       "      <td>tt0063540</td>\n",
       "      <td>Sunghursh</td>\n",
       "      <td>Sunghursh</td>\n",
       "      <td>2013</td>\n",
       "      <td>175.0</td>\n",
       "      <td>Action,Crime,Drama</td>\n",
       "      <td>Long Movie</td>\n",
       "    </tr>\n",
       "    <tr>\n",
       "      <th>1</th>\n",
       "      <td>tt0066787</td>\n",
       "      <td>One Day Before the Rainy Season</td>\n",
       "      <td>Ashad Ka Ek Din</td>\n",
       "      <td>2019</td>\n",
       "      <td>114.0</td>\n",
       "      <td>Biography,Drama</td>\n",
       "      <td>Average Movie</td>\n",
       "    </tr>\n",
       "    <tr>\n",
       "      <th>2</th>\n",
       "      <td>tt0069049</td>\n",
       "      <td>The Other Side of the Wind</td>\n",
       "      <td>The Other Side of the Wind</td>\n",
       "      <td>2018</td>\n",
       "      <td>122.0</td>\n",
       "      <td>Drama</td>\n",
       "      <td>Long Movie</td>\n",
       "    </tr>\n",
       "    <tr>\n",
       "      <th>3</th>\n",
       "      <td>tt0069204</td>\n",
       "      <td>Sabse Bada Sukh</td>\n",
       "      <td>Sabse Bada Sukh</td>\n",
       "      <td>2018</td>\n",
       "      <td>NaN</td>\n",
       "      <td>Comedy,Drama</td>\n",
       "      <td>Long Movie</td>\n",
       "    </tr>\n",
       "    <tr>\n",
       "      <th>4</th>\n",
       "      <td>tt0100275</td>\n",
       "      <td>The Wandering Soap Opera</td>\n",
       "      <td>La Telenovela Errante</td>\n",
       "      <td>2017</td>\n",
       "      <td>80.0</td>\n",
       "      <td>Comedy,Drama,Fantasy</td>\n",
       "      <td>Short Movie</td>\n",
       "    </tr>\n",
       "  </tbody>\n",
       "</table>\n",
       "</div>"
      ],
      "text/plain": [
       "    movie_id                    primary_title              original_title  \\\n",
       "0  tt0063540                        Sunghursh                   Sunghursh   \n",
       "1  tt0066787  One Day Before the Rainy Season             Ashad Ka Ek Din   \n",
       "2  tt0069049       The Other Side of the Wind  The Other Side of the Wind   \n",
       "3  tt0069204                  Sabse Bada Sukh             Sabse Bada Sukh   \n",
       "4  tt0100275         The Wandering Soap Opera       La Telenovela Errante   \n",
       "\n",
       "   start_year  runtime_minutes                genres    Runtime_cat  \n",
       "0        2013            175.0    Action,Crime,Drama     Long Movie  \n",
       "1        2019            114.0       Biography,Drama  Average Movie  \n",
       "2        2018            122.0                 Drama     Long Movie  \n",
       "3        2018              NaN          Comedy,Drama     Long Movie  \n",
       "4        2017             80.0  Comedy,Drama,Fantasy    Short Movie  "
      ]
     },
     "execution_count": 543,
     "metadata": {},
     "output_type": "execute_result"
    }
   ],
   "source": [
    "df_runtime.head()"
   ]
  },
  {
   "cell_type": "markdown",
   "metadata": {},
   "source": [
    "Merging movie basic with buget table"
   ]
  },
  {
   "cell_type": "code",
   "execution_count": 544,
   "metadata": {},
   "outputs": [],
   "source": [
    "merged_runtime_and_budgets = df_budget.merge(df_runtime, left_on='movie', right_on='primary_title', how='inner')"
   ]
  },
  {
   "cell_type": "code",
   "execution_count": 545,
   "metadata": {},
   "outputs": [
    {
     "data": {
      "text/plain": [
       "id                       0\n",
       "release_date             0\n",
       "movie                    0\n",
       "production_budget        0\n",
       "domestic_gross           0\n",
       "worldwide_gross          0\n",
       "Profitability_Ratio      0\n",
       "prof_cat                 0\n",
       "budget_cat               0\n",
       "movie_id                 0\n",
       "primary_title            0\n",
       "original_title           1\n",
       "start_year               0\n",
       "runtime_minutes        487\n",
       "genres                  72\n",
       "Runtime_cat              0\n",
       "dtype: int64"
      ]
     },
     "execution_count": 545,
     "metadata": {},
     "output_type": "execute_result"
    }
   ],
   "source": [
    "merged_runtime_and_budgets.isna().sum()"
   ]
  },
  {
   "cell_type": "code",
   "execution_count": 546,
   "metadata": {},
   "outputs": [],
   "source": [
    "merged_runtime_and_budgets = merged_runtime_and_budgets.dropna(subset=['runtime_minutes'])"
   ]
  },
  {
   "cell_type": "code",
   "execution_count": 547,
   "metadata": {},
   "outputs": [
    {
     "data": {
      "text/plain": [
       "id                      0\n",
       "release_date            0\n",
       "movie                   0\n",
       "production_budget       0\n",
       "domestic_gross          0\n",
       "worldwide_gross         0\n",
       "Profitability_Ratio     0\n",
       "prof_cat                0\n",
       "budget_cat              0\n",
       "movie_id                0\n",
       "primary_title           0\n",
       "original_title          0\n",
       "start_year              0\n",
       "runtime_minutes         0\n",
       "genres                 19\n",
       "Runtime_cat             0\n",
       "dtype: int64"
      ]
     },
     "execution_count": 547,
     "metadata": {},
     "output_type": "execute_result"
    }
   ],
   "source": [
    "merged_runtime_and_budgets.isna().sum()"
   ]
  },
  {
   "cell_type": "code",
   "execution_count": 548,
   "metadata": {},
   "outputs": [
    {
     "data": {
      "text/html": [
       "<div>\n",
       "<style scoped>\n",
       "    .dataframe tbody tr th:only-of-type {\n",
       "        vertical-align: middle;\n",
       "    }\n",
       "\n",
       "    .dataframe tbody tr th {\n",
       "        vertical-align: top;\n",
       "    }\n",
       "\n",
       "    .dataframe thead th {\n",
       "        text-align: right;\n",
       "    }\n",
       "</style>\n",
       "<table border=\"1\" class=\"dataframe\">\n",
       "  <thead>\n",
       "    <tr style=\"text-align: right;\">\n",
       "      <th></th>\n",
       "      <th>id</th>\n",
       "      <th>release_date</th>\n",
       "      <th>movie</th>\n",
       "      <th>production_budget</th>\n",
       "      <th>domestic_gross</th>\n",
       "      <th>worldwide_gross</th>\n",
       "      <th>Profitability_Ratio</th>\n",
       "      <th>prof_cat</th>\n",
       "      <th>budget_cat</th>\n",
       "      <th>movie_id</th>\n",
       "      <th>primary_title</th>\n",
       "      <th>original_title</th>\n",
       "      <th>start_year</th>\n",
       "      <th>runtime_minutes</th>\n",
       "      <th>genres</th>\n",
       "      <th>Runtime_cat</th>\n",
       "    </tr>\n",
       "  </thead>\n",
       "  <tbody>\n",
       "    <tr>\n",
       "      <th>0</th>\n",
       "      <td>1</td>\n",
       "      <td>Dec 18, 2009</td>\n",
       "      <td>Avatar</td>\n",
       "      <td>425000000.0</td>\n",
       "      <td>$760,507,625</td>\n",
       "      <td>2.776345e+09</td>\n",
       "      <td>6.532577</td>\n",
       "      <td>High Profit</td>\n",
       "      <td>High</td>\n",
       "      <td>tt1775309</td>\n",
       "      <td>Avatar</td>\n",
       "      <td>Abatâ</td>\n",
       "      <td>2011</td>\n",
       "      <td>93.0</td>\n",
       "      <td>Horror</td>\n",
       "      <td>Average Movie</td>\n",
       "    </tr>\n",
       "    <tr>\n",
       "      <th>1</th>\n",
       "      <td>2</td>\n",
       "      <td>May 20, 2011</td>\n",
       "      <td>Pirates of the Caribbean: On Stranger Tides</td>\n",
       "      <td>410600000.0</td>\n",
       "      <td>$241,063,875</td>\n",
       "      <td>1.045664e+09</td>\n",
       "      <td>2.546673</td>\n",
       "      <td>Low Profit</td>\n",
       "      <td>High</td>\n",
       "      <td>tt1298650</td>\n",
       "      <td>Pirates of the Caribbean: On Stranger Tides</td>\n",
       "      <td>Pirates of the Caribbean: On Stranger Tides</td>\n",
       "      <td>2011</td>\n",
       "      <td>136.0</td>\n",
       "      <td>Action,Adventure,Fantasy</td>\n",
       "      <td>Long Movie</td>\n",
       "    </tr>\n",
       "    <tr>\n",
       "      <th>2</th>\n",
       "      <td>3</td>\n",
       "      <td>Jun 7, 2019</td>\n",
       "      <td>Dark Phoenix</td>\n",
       "      <td>350000000.0</td>\n",
       "      <td>$42,762,350</td>\n",
       "      <td>1.497624e+08</td>\n",
       "      <td>0.427892</td>\n",
       "      <td>Loss</td>\n",
       "      <td>High</td>\n",
       "      <td>tt6565702</td>\n",
       "      <td>Dark Phoenix</td>\n",
       "      <td>Dark Phoenix</td>\n",
       "      <td>2019</td>\n",
       "      <td>113.0</td>\n",
       "      <td>Action,Adventure,Sci-Fi</td>\n",
       "      <td>Average Movie</td>\n",
       "    </tr>\n",
       "    <tr>\n",
       "      <th>3</th>\n",
       "      <td>4</td>\n",
       "      <td>May 1, 2015</td>\n",
       "      <td>Avengers: Age of Ultron</td>\n",
       "      <td>330600000.0</td>\n",
       "      <td>$459,005,868</td>\n",
       "      <td>1.403014e+09</td>\n",
       "      <td>4.243841</td>\n",
       "      <td>Medium Profit</td>\n",
       "      <td>High</td>\n",
       "      <td>tt2395427</td>\n",
       "      <td>Avengers: Age of Ultron</td>\n",
       "      <td>Avengers: Age of Ultron</td>\n",
       "      <td>2015</td>\n",
       "      <td>141.0</td>\n",
       "      <td>Action,Adventure,Sci-Fi</td>\n",
       "      <td>Long Movie</td>\n",
       "    </tr>\n",
       "    <tr>\n",
       "      <th>4</th>\n",
       "      <td>7</td>\n",
       "      <td>Apr 27, 2018</td>\n",
       "      <td>Avengers: Infinity War</td>\n",
       "      <td>300000000.0</td>\n",
       "      <td>$678,815,482</td>\n",
       "      <td>2.048134e+09</td>\n",
       "      <td>6.827114</td>\n",
       "      <td>High Profit</td>\n",
       "      <td>High</td>\n",
       "      <td>tt4154756</td>\n",
       "      <td>Avengers: Infinity War</td>\n",
       "      <td>Avengers: Infinity War</td>\n",
       "      <td>2018</td>\n",
       "      <td>149.0</td>\n",
       "      <td>Action,Adventure,Sci-Fi</td>\n",
       "      <td>Long Movie</td>\n",
       "    </tr>\n",
       "  </tbody>\n",
       "</table>\n",
       "</div>"
      ],
      "text/plain": [
       "   id  release_date                                        movie  \\\n",
       "0   1  Dec 18, 2009                                       Avatar   \n",
       "1   2  May 20, 2011  Pirates of the Caribbean: On Stranger Tides   \n",
       "2   3   Jun 7, 2019                                 Dark Phoenix   \n",
       "3   4   May 1, 2015                      Avengers: Age of Ultron   \n",
       "4   7  Apr 27, 2018                       Avengers: Infinity War   \n",
       "\n",
       "   production_budget domestic_gross  worldwide_gross  Profitability_Ratio  \\\n",
       "0        425000000.0   $760,507,625     2.776345e+09             6.532577   \n",
       "1        410600000.0   $241,063,875     1.045664e+09             2.546673   \n",
       "2        350000000.0    $42,762,350     1.497624e+08             0.427892   \n",
       "3        330600000.0   $459,005,868     1.403014e+09             4.243841   \n",
       "4        300000000.0   $678,815,482     2.048134e+09             6.827114   \n",
       "\n",
       "        prof_cat budget_cat   movie_id  \\\n",
       "0    High Profit       High  tt1775309   \n",
       "1     Low Profit       High  tt1298650   \n",
       "2           Loss       High  tt6565702   \n",
       "3  Medium Profit       High  tt2395427   \n",
       "4    High Profit       High  tt4154756   \n",
       "\n",
       "                                 primary_title  \\\n",
       "0                                       Avatar   \n",
       "1  Pirates of the Caribbean: On Stranger Tides   \n",
       "2                                 Dark Phoenix   \n",
       "3                      Avengers: Age of Ultron   \n",
       "4                       Avengers: Infinity War   \n",
       "\n",
       "                                original_title  start_year  runtime_minutes  \\\n",
       "0                                        Abatâ        2011             93.0   \n",
       "1  Pirates of the Caribbean: On Stranger Tides        2011            136.0   \n",
       "2                                 Dark Phoenix        2019            113.0   \n",
       "3                      Avengers: Age of Ultron        2015            141.0   \n",
       "4                       Avengers: Infinity War        2018            149.0   \n",
       "\n",
       "                     genres    Runtime_cat  \n",
       "0                    Horror  Average Movie  \n",
       "1  Action,Adventure,Fantasy     Long Movie  \n",
       "2   Action,Adventure,Sci-Fi  Average Movie  \n",
       "3   Action,Adventure,Sci-Fi     Long Movie  \n",
       "4   Action,Adventure,Sci-Fi     Long Movie  "
      ]
     },
     "execution_count": 548,
     "metadata": {},
     "output_type": "execute_result"
    }
   ],
   "source": [
    "merged_runtime_and_budgets.head()"
   ]
  },
  {
   "cell_type": "code",
   "execution_count": 549,
   "metadata": {},
   "outputs": [
    {
     "data": {
      "text/plain": [
       "Average Movie           1808\n",
       "Short Movie              919\n",
       "Long Movie               523\n",
       "Extremly short Movie      78\n",
       "Name: Runtime_cat, dtype: int64"
      ]
     },
     "execution_count": 549,
     "metadata": {},
     "output_type": "execute_result"
    }
   ],
   "source": [
    "merged_runtime_and_budgets['Runtime_cat'].value_counts()"
   ]
  },
  {
   "cell_type": "markdown",
   "metadata": {},
   "source": [
    "As movies cannot be less than 20 mins removed movies with less than 20 minutes runtime."
   ]
  },
  {
   "cell_type": "code",
   "execution_count": 550,
   "metadata": {},
   "outputs": [],
   "source": [
    "#merged_runtime_and_budgets = merged_runtime_and_budgets.loc[merged_runtime_and_budgets['runtime_minutes']>20]"
   ]
  },
  {
   "cell_type": "markdown",
   "metadata": {},
   "source": [
    "Conduct chi-square test to test the significance of below hypothesis\n",
    "\n",
    "H0 : There is no significant relationship between runtime and prifitability ratio\n",
    "H1 : There is a significant relationship between runtime and prifitability ratio"
   ]
  },
  {
   "cell_type": "markdown",
   "metadata": {},
   "source": [
    "Generate cross tabs to run chisquare test"
   ]
  },
  {
   "cell_type": "code",
   "execution_count": 551,
   "metadata": {},
   "outputs": [
    {
     "data": {
      "text/html": [
       "<div>\n",
       "<style scoped>\n",
       "    .dataframe tbody tr th:only-of-type {\n",
       "        vertical-align: middle;\n",
       "    }\n",
       "\n",
       "    .dataframe tbody tr th {\n",
       "        vertical-align: top;\n",
       "    }\n",
       "\n",
       "    .dataframe thead th {\n",
       "        text-align: right;\n",
       "    }\n",
       "</style>\n",
       "<table border=\"1\" class=\"dataframe\">\n",
       "  <thead>\n",
       "    <tr style=\"text-align: right;\">\n",
       "      <th>prof_cat</th>\n",
       "      <th>High Profit</th>\n",
       "      <th>Loss</th>\n",
       "      <th>Low Profit</th>\n",
       "      <th>Medium Profit</th>\n",
       "      <th>Super Profit</th>\n",
       "    </tr>\n",
       "    <tr>\n",
       "      <th>Runtime_cat</th>\n",
       "      <th></th>\n",
       "      <th></th>\n",
       "      <th></th>\n",
       "      <th></th>\n",
       "      <th></th>\n",
       "    </tr>\n",
       "  </thead>\n",
       "  <tbody>\n",
       "    <tr>\n",
       "      <th>Average Movie</th>\n",
       "      <td>171</td>\n",
       "      <td>1044</td>\n",
       "      <td>246</td>\n",
       "      <td>240</td>\n",
       "      <td>107</td>\n",
       "    </tr>\n",
       "    <tr>\n",
       "      <th>Extremly short Movie</th>\n",
       "      <td>2</td>\n",
       "      <td>46</td>\n",
       "      <td>12</td>\n",
       "      <td>9</td>\n",
       "      <td>9</td>\n",
       "    </tr>\n",
       "    <tr>\n",
       "      <th>Long Movie</th>\n",
       "      <td>66</td>\n",
       "      <td>245</td>\n",
       "      <td>75</td>\n",
       "      <td>103</td>\n",
       "      <td>34</td>\n",
       "    </tr>\n",
       "    <tr>\n",
       "      <th>Short Movie</th>\n",
       "      <td>76</td>\n",
       "      <td>588</td>\n",
       "      <td>84</td>\n",
       "      <td>87</td>\n",
       "      <td>84</td>\n",
       "    </tr>\n",
       "  </tbody>\n",
       "</table>\n",
       "</div>"
      ],
      "text/plain": [
       "prof_cat              High Profit  Loss  Low Profit  Medium Profit  \\\n",
       "Runtime_cat                                                          \n",
       "Average Movie                 171  1044         246            240   \n",
       "Extremly short Movie            2    46          12              9   \n",
       "Long Movie                     66   245          75            103   \n",
       "Short Movie                    76   588          84             87   \n",
       "\n",
       "prof_cat              Super Profit  \n",
       "Runtime_cat                         \n",
       "Average Movie                  107  \n",
       "Extremly short Movie             9  \n",
       "Long Movie                      34  \n",
       "Short Movie                     84  "
      ]
     },
     "execution_count": 551,
     "metadata": {},
     "output_type": "execute_result"
    }
   ],
   "source": [
    "contingency_table=pd.crosstab(index=merged_runtime_and_budgets[\"Runtime_cat\"],columns=merged_runtime_and_budgets[\"prof_cat\"])\n",
    "contingency_table"
   ]
  },
  {
   "cell_type": "markdown",
   "metadata": {},
   "source": [
    "Run chi-square test to identify significance"
   ]
  },
  {
   "cell_type": "code",
   "execution_count": 552,
   "metadata": {},
   "outputs": [
    {
     "data": {
      "text/plain": [
       "(77.80784937046036,\n",
       " 1.0789456480927762e-11,\n",
       " 12,\n",
       " array([[ 171.12980769, 1044.70673077,  226.54326923,  238.49519231,\n",
       "          127.125     ],\n",
       "        [   7.3828125 ,   45.0703125 ,    9.7734375 ,   10.2890625 ,\n",
       "            5.484375  ],\n",
       "        [  49.50270433,  302.20222356,   65.53215144,   68.98948317,\n",
       "           36.7734375 ],\n",
       "        [  86.98467548,  531.02073317,  115.15114183,  121.22626202,\n",
       "           64.6171875 ]]))"
      ]
     },
     "execution_count": 552,
     "metadata": {},
     "output_type": "execute_result"
    }
   ],
   "source": [
    "stats.contingency.chi2_contingency(contingency_table)"
   ]
  },
  {
   "cell_type": "markdown",
   "metadata": {},
   "source": [
    "As indicated above it is possible to reject null hypothesis at 5% confidence level. Therefore through the chi-square test it is proven that there is a significant relationship between runtime and profitability ratio."
   ]
  },
  {
   "cell_type": "markdown",
   "metadata": {},
   "source": [
    "To identify which category of genere shows highest profitability identied those groups."
   ]
  },
  {
   "cell_type": "code",
   "execution_count": 553,
   "metadata": {},
   "outputs": [],
   "source": [
    "merged_budgets_and_movie_basic_1 = merged_runtime_and_budgets.groupby(merged_runtime_and_budgets['Runtime_cat']).median()"
   ]
  },
  {
   "cell_type": "code",
   "execution_count": 554,
   "metadata": {
    "scrolled": true
   },
   "outputs": [
    {
     "data": {
      "text/html": [
       "<div>\n",
       "<style scoped>\n",
       "    .dataframe tbody tr th:only-of-type {\n",
       "        vertical-align: middle;\n",
       "    }\n",
       "\n",
       "    .dataframe tbody tr th {\n",
       "        vertical-align: top;\n",
       "    }\n",
       "\n",
       "    .dataframe thead th {\n",
       "        text-align: right;\n",
       "    }\n",
       "</style>\n",
       "<table border=\"1\" class=\"dataframe\">\n",
       "  <thead>\n",
       "    <tr style=\"text-align: right;\">\n",
       "      <th></th>\n",
       "      <th>id</th>\n",
       "      <th>production_budget</th>\n",
       "      <th>worldwide_gross</th>\n",
       "      <th>Profitability_Ratio</th>\n",
       "      <th>start_year</th>\n",
       "      <th>runtime_minutes</th>\n",
       "    </tr>\n",
       "    <tr>\n",
       "      <th>Runtime_cat</th>\n",
       "      <th></th>\n",
       "      <th></th>\n",
       "      <th></th>\n",
       "      <th></th>\n",
       "      <th></th>\n",
       "      <th></th>\n",
       "    </tr>\n",
       "  </thead>\n",
       "  <tbody>\n",
       "    <tr>\n",
       "      <th>Long Movie</th>\n",
       "      <td>47.0</td>\n",
       "      <td>30000000.0</td>\n",
       "      <td>66787173.0</td>\n",
       "      <td>2.241864</td>\n",
       "      <td>2014.0</td>\n",
       "      <td>130.0</td>\n",
       "    </tr>\n",
       "    <tr>\n",
       "      <th>Average Movie</th>\n",
       "      <td>52.0</td>\n",
       "      <td>15000000.0</td>\n",
       "      <td>26285719.5</td>\n",
       "      <td>1.507174</td>\n",
       "      <td>2014.0</td>\n",
       "      <td>101.0</td>\n",
       "    </tr>\n",
       "    <tr>\n",
       "      <th>Short Movie</th>\n",
       "      <td>50.0</td>\n",
       "      <td>10000000.0</td>\n",
       "      <td>15716828.0</td>\n",
       "      <td>1.298076</td>\n",
       "      <td>2014.0</td>\n",
       "      <td>80.0</td>\n",
       "    </tr>\n",
       "    <tr>\n",
       "      <th>Extremly short Movie</th>\n",
       "      <td>55.5</td>\n",
       "      <td>15000000.0</td>\n",
       "      <td>27360534.5</td>\n",
       "      <td>1.266043</td>\n",
       "      <td>2015.0</td>\n",
       "      <td>9.0</td>\n",
       "    </tr>\n",
       "  </tbody>\n",
       "</table>\n",
       "</div>"
      ],
      "text/plain": [
       "                        id  production_budget  worldwide_gross  \\\n",
       "Runtime_cat                                                      \n",
       "Long Movie            47.0         30000000.0       66787173.0   \n",
       "Average Movie         52.0         15000000.0       26285719.5   \n",
       "Short Movie           50.0         10000000.0       15716828.0   \n",
       "Extremly short Movie  55.5         15000000.0       27360534.5   \n",
       "\n",
       "                      Profitability_Ratio  start_year  runtime_minutes  \n",
       "Runtime_cat                                                             \n",
       "Long Movie                       2.241864      2014.0            130.0  \n",
       "Average Movie                    1.507174      2014.0            101.0  \n",
       "Short Movie                      1.298076      2014.0             80.0  \n",
       "Extremly short Movie             1.266043      2015.0              9.0  "
      ]
     },
     "execution_count": 554,
     "metadata": {},
     "output_type": "execute_result"
    }
   ],
   "source": [
    "merged_budgets_and_movie_basic_1_1 = merged_budgets_and_movie_basic_1.sort_values(by=['Profitability_Ratio'],ascending=False).head()\n",
    "merged_budgets_and_movie_basic_1_1"
   ]
  },
  {
   "cell_type": "code",
   "execution_count": 768,
   "metadata": {
    "scrolled": true
   },
   "outputs": [
    {
     "data": {
      "text/plain": [
       "''"
      ]
     },
     "execution_count": 768,
     "metadata": {},
     "output_type": "execute_result"
    },
    {
     "data": {
      "image/png": "[encoded data removed]",
      "text/plain": [
       "<Figure size 1728x864 with 1 Axes>"
      ]
     },
     "metadata": {},
     "output_type": "display_data"
    }
   ],
   "source": [
    "fig, ax = plt.subplots(figsize=(24,12))\n",
    "sns.set_style(\"whitegrid\")\n",
    "\n",
    "sns.barplot(x=merged_budgets_and_movie_basic_1_1.index, y=merged_budgets_and_movie_basic_1_1['Profitability_Ratio'],palette=\"colorblind\")\n",
    "\n",
    "ax.set_title('Median of Profitability Ratio by Duration of the Movie',fontsize=20)\n",
    "ax.set_xlabel('Duration Category of the Movie',fontsize=20)\n",
    "ax.set_ylabel('Profitability Ratio',fontsize=20)\n",
    "ax.set_xticklabels(ax.get_xticklabels(), ha=\"right\")\n",
    "ax.axes.yaxis.set_major_formatter(PercentFormatter(1))\n",
    ";"
   ]
  },
  {
   "cell_type": "markdown",
   "metadata": {},
   "source": [
    "### Create a confidence interval for different categories of runtime"
   ]
  },
  {
   "cell_type": "code",
   "execution_count": 556,
   "metadata": {},
   "outputs": [],
   "source": [
    "merged_runtime_and_budgets_long=merged_runtime_and_budgets.loc[merged_runtime_and_budgets['Runtime_cat']=='Long Movie']"
   ]
  },
  {
   "cell_type": "code",
   "execution_count": 557,
   "metadata": {},
   "outputs": [],
   "source": [
    "#merged_runtime_and_budgets_long = merged_runtime_and_budgets_long.dropna(subset=['runtime_minutes'])"
   ]
  },
  {
   "cell_type": "code",
   "execution_count": 558,
   "metadata": {},
   "outputs": [
    {
     "data": {
      "text/plain": [
       "(133.83069858603216, 137.29358439675946)"
      ]
     },
     "execution_count": 558,
     "metadata": {},
     "output_type": "execute_result"
    }
   ],
   "source": [
    "n = len(merged_runtime_and_budgets_long['runtime_minutes'])\n",
    "stats.t.interval(alpha = 0.95,                                               \n",
    "                 loc = np.mean(merged_runtime_and_budgets_long['runtime_minutes']),                              \n",
    "                 scale = np.std(merged_runtime_and_budgets_long['runtime_minutes'])/np.sqrt(n),\n",
    "                 df = n-1)"
   ]
  },
  {
   "cell_type": "code",
   "execution_count": 559,
   "metadata": {},
   "outputs": [],
   "source": [
    "merged_runtime_and_budgets_AVG=merged_runtime_and_budgets.loc[merged_runtime_and_budgets['Runtime_cat']=='Average Movie']"
   ]
  },
  {
   "cell_type": "code",
   "execution_count": 560,
   "metadata": {},
   "outputs": [
    {
     "data": {
      "text/plain": [
       "(101.71782503197203, 102.5023077113908)"
      ]
     },
     "execution_count": 560,
     "metadata": {},
     "output_type": "execute_result"
    }
   ],
   "source": [
    "n = len(merged_runtime_and_budgets_AVG['runtime_minutes'])\n",
    "stats.t.interval(alpha = 0.95,                                               \n",
    "                 loc = np.mean(merged_runtime_and_budgets_AVG['runtime_minutes']),                              \n",
    "                 scale = np.std(merged_runtime_and_budgets_AVG['runtime_minutes'])/np.sqrt(n),\n",
    "                 df = n-1)"
   ]
  },
  {
   "cell_type": "code",
   "execution_count": 561,
   "metadata": {},
   "outputs": [],
   "source": [
    "merged_runtime_and_budgets_Short=merged_runtime_and_budgets.loc[merged_runtime_and_budgets['Runtime_cat']=='Short Movie']"
   ]
  },
  {
   "cell_type": "code",
   "execution_count": 562,
   "metadata": {},
   "outputs": [
    {
     "data": {
      "text/plain": [
       "(72.2106232210393, 74.24421899876484)"
      ]
     },
     "execution_count": 562,
     "metadata": {},
     "output_type": "execute_result"
    }
   ],
   "source": [
    "n = len(merged_runtime_and_budgets_Short['runtime_minutes'])\n",
    "stats.t.interval(alpha = 0.95,                                               \n",
    "                 loc = np.mean(merged_runtime_and_budgets_Short['runtime_minutes']),                              \n",
    "                 scale = np.std(merged_runtime_and_budgets_Short['runtime_minutes'])/np.sqrt(n),\n",
    "                 df = n-1)"
   ]
  },
  {
   "cell_type": "code",
   "execution_count": 563,
   "metadata": {},
   "outputs": [],
   "source": [
    "merged_runtime_and_budgets_EShort=merged_runtime_and_budgets.loc[merged_runtime_and_budgets['Runtime_cat']=='Extremly short Movie']"
   ]
  },
  {
   "cell_type": "code",
   "execution_count": 564,
   "metadata": {},
   "outputs": [
    {
     "data": {
      "text/plain": [
       "(7.862048764404483, 9.753335850980134)"
      ]
     },
     "execution_count": 564,
     "metadata": {},
     "output_type": "execute_result"
    }
   ],
   "source": [
    "n = len(merged_runtime_and_budgets_EShort['runtime_minutes'])\n",
    "stats.t.interval(alpha = 0.95,                                               \n",
    "                 loc = np.mean(merged_runtime_and_budgets_EShort['runtime_minutes']),                              \n",
    "                 scale = np.std(merged_runtime_and_budgets_EShort['runtime_minutes'])/np.sqrt(n),\n",
    "                 df = n-1)"
   ]
  },
  {
   "cell_type": "markdown",
   "metadata": {},
   "source": [
    "### Identify the relationship between Average Rating and profitability"
   ]
  },
  {
   "cell_type": "markdown",
   "metadata": {},
   "source": [
    "Pull title wise movie rating using movie_basics and movie_ratings tables"
   ]
  },
  {
   "cell_type": "code",
   "execution_count": 565,
   "metadata": {},
   "outputs": [],
   "source": [
    "df_rating= pd.read_sql(\"\"\"\n",
    "SELECT DISTINCT m.primary_title,m.original_title,mr.averagerating \n",
    "  FROM movie_basics as m\n",
    "  JOIN movie_ratings as mr\n",
    "      USING(movie_id)\n",
    "\"\"\", conn)"
   ]
  },
  {
   "cell_type": "code",
   "execution_count": 566,
   "metadata": {},
   "outputs": [
    {
     "data": {
      "text/html": [
       "<div>\n",
       "<style scoped>\n",
       "    .dataframe tbody tr th:only-of-type {\n",
       "        vertical-align: middle;\n",
       "    }\n",
       "\n",
       "    .dataframe tbody tr th {\n",
       "        vertical-align: top;\n",
       "    }\n",
       "\n",
       "    .dataframe thead th {\n",
       "        text-align: right;\n",
       "    }\n",
       "</style>\n",
       "<table border=\"1\" class=\"dataframe\">\n",
       "  <thead>\n",
       "    <tr style=\"text-align: right;\">\n",
       "      <th></th>\n",
       "      <th>primary_title</th>\n",
       "      <th>original_title</th>\n",
       "      <th>averagerating</th>\n",
       "    </tr>\n",
       "  </thead>\n",
       "  <tbody>\n",
       "    <tr>\n",
       "      <th>0</th>\n",
       "      <td>Sunghursh</td>\n",
       "      <td>Sunghursh</td>\n",
       "      <td>7.0</td>\n",
       "    </tr>\n",
       "    <tr>\n",
       "      <th>1</th>\n",
       "      <td>One Day Before the Rainy Season</td>\n",
       "      <td>Ashad Ka Ek Din</td>\n",
       "      <td>7.2</td>\n",
       "    </tr>\n",
       "    <tr>\n",
       "      <th>2</th>\n",
       "      <td>The Other Side of the Wind</td>\n",
       "      <td>The Other Side of the Wind</td>\n",
       "      <td>6.9</td>\n",
       "    </tr>\n",
       "    <tr>\n",
       "      <th>3</th>\n",
       "      <td>Sabse Bada Sukh</td>\n",
       "      <td>Sabse Bada Sukh</td>\n",
       "      <td>6.1</td>\n",
       "    </tr>\n",
       "    <tr>\n",
       "      <th>4</th>\n",
       "      <td>The Wandering Soap Opera</td>\n",
       "      <td>La Telenovela Errante</td>\n",
       "      <td>6.5</td>\n",
       "    </tr>\n",
       "  </tbody>\n",
       "</table>\n",
       "</div>"
      ],
      "text/plain": [
       "                     primary_title              original_title  averagerating\n",
       "0                        Sunghursh                   Sunghursh            7.0\n",
       "1  One Day Before the Rainy Season             Ashad Ka Ek Din            7.2\n",
       "2       The Other Side of the Wind  The Other Side of the Wind            6.9\n",
       "3                  Sabse Bada Sukh             Sabse Bada Sukh            6.1\n",
       "4         The Wandering Soap Opera       La Telenovela Errante            6.5"
      ]
     },
     "execution_count": 566,
     "metadata": {},
     "output_type": "execute_result"
    }
   ],
   "source": [
    "df_rating.head()"
   ]
  },
  {
   "cell_type": "markdown",
   "metadata": {},
   "source": [
    "Merge movie ratings table with profitablity table"
   ]
  },
  {
   "cell_type": "code",
   "execution_count": 567,
   "metadata": {},
   "outputs": [],
   "source": [
    "merged_ratings_and_budgets = df_budget.merge(df_rating, left_on='movie', right_on='primary_title', how='inner')"
   ]
  },
  {
   "cell_type": "code",
   "execution_count": 568,
   "metadata": {},
   "outputs": [
    {
     "data": {
      "text/html": [
       "<div>\n",
       "<style scoped>\n",
       "    .dataframe tbody tr th:only-of-type {\n",
       "        vertical-align: middle;\n",
       "    }\n",
       "\n",
       "    .dataframe tbody tr th {\n",
       "        vertical-align: top;\n",
       "    }\n",
       "\n",
       "    .dataframe thead th {\n",
       "        text-align: right;\n",
       "    }\n",
       "</style>\n",
       "<table border=\"1\" class=\"dataframe\">\n",
       "  <thead>\n",
       "    <tr style=\"text-align: right;\">\n",
       "      <th></th>\n",
       "      <th>id</th>\n",
       "      <th>release_date</th>\n",
       "      <th>movie</th>\n",
       "      <th>production_budget</th>\n",
       "      <th>domestic_gross</th>\n",
       "      <th>worldwide_gross</th>\n",
       "      <th>Profitability_Ratio</th>\n",
       "      <th>prof_cat</th>\n",
       "      <th>budget_cat</th>\n",
       "      <th>primary_title</th>\n",
       "      <th>original_title</th>\n",
       "      <th>averagerating</th>\n",
       "    </tr>\n",
       "  </thead>\n",
       "  <tbody>\n",
       "    <tr>\n",
       "      <th>0</th>\n",
       "      <td>1</td>\n",
       "      <td>Dec 18, 2009</td>\n",
       "      <td>Avatar</td>\n",
       "      <td>425000000.0</td>\n",
       "      <td>$760,507,625</td>\n",
       "      <td>2.776345e+09</td>\n",
       "      <td>6.532577</td>\n",
       "      <td>High Profit</td>\n",
       "      <td>High</td>\n",
       "      <td>Avatar</td>\n",
       "      <td>Abatâ</td>\n",
       "      <td>6.1</td>\n",
       "    </tr>\n",
       "    <tr>\n",
       "      <th>1</th>\n",
       "      <td>2</td>\n",
       "      <td>May 20, 2011</td>\n",
       "      <td>Pirates of the Caribbean: On Stranger Tides</td>\n",
       "      <td>410600000.0</td>\n",
       "      <td>$241,063,875</td>\n",
       "      <td>1.045664e+09</td>\n",
       "      <td>2.546673</td>\n",
       "      <td>Low Profit</td>\n",
       "      <td>High</td>\n",
       "      <td>Pirates of the Caribbean: On Stranger Tides</td>\n",
       "      <td>Pirates of the Caribbean: On Stranger Tides</td>\n",
       "      <td>6.6</td>\n",
       "    </tr>\n",
       "    <tr>\n",
       "      <th>2</th>\n",
       "      <td>3</td>\n",
       "      <td>Jun 7, 2019</td>\n",
       "      <td>Dark Phoenix</td>\n",
       "      <td>350000000.0</td>\n",
       "      <td>$42,762,350</td>\n",
       "      <td>1.497624e+08</td>\n",
       "      <td>0.427892</td>\n",
       "      <td>Loss</td>\n",
       "      <td>High</td>\n",
       "      <td>Dark Phoenix</td>\n",
       "      <td>Dark Phoenix</td>\n",
       "      <td>6.0</td>\n",
       "    </tr>\n",
       "    <tr>\n",
       "      <th>3</th>\n",
       "      <td>4</td>\n",
       "      <td>May 1, 2015</td>\n",
       "      <td>Avengers: Age of Ultron</td>\n",
       "      <td>330600000.0</td>\n",
       "      <td>$459,005,868</td>\n",
       "      <td>1.403014e+09</td>\n",
       "      <td>4.243841</td>\n",
       "      <td>Medium Profit</td>\n",
       "      <td>High</td>\n",
       "      <td>Avengers: Age of Ultron</td>\n",
       "      <td>Avengers: Age of Ultron</td>\n",
       "      <td>7.3</td>\n",
       "    </tr>\n",
       "    <tr>\n",
       "      <th>4</th>\n",
       "      <td>7</td>\n",
       "      <td>Apr 27, 2018</td>\n",
       "      <td>Avengers: Infinity War</td>\n",
       "      <td>300000000.0</td>\n",
       "      <td>$678,815,482</td>\n",
       "      <td>2.048134e+09</td>\n",
       "      <td>6.827114</td>\n",
       "      <td>High Profit</td>\n",
       "      <td>High</td>\n",
       "      <td>Avengers: Infinity War</td>\n",
       "      <td>Avengers: Infinity War</td>\n",
       "      <td>8.5</td>\n",
       "    </tr>\n",
       "  </tbody>\n",
       "</table>\n",
       "</div>"
      ],
      "text/plain": [
       "   id  release_date                                        movie  \\\n",
       "0   1  Dec 18, 2009                                       Avatar   \n",
       "1   2  May 20, 2011  Pirates of the Caribbean: On Stranger Tides   \n",
       "2   3   Jun 7, 2019                                 Dark Phoenix   \n",
       "3   4   May 1, 2015                      Avengers: Age of Ultron   \n",
       "4   7  Apr 27, 2018                       Avengers: Infinity War   \n",
       "\n",
       "   production_budget domestic_gross  worldwide_gross  Profitability_Ratio  \\\n",
       "0        425000000.0   $760,507,625     2.776345e+09             6.532577   \n",
       "1        410600000.0   $241,063,875     1.045664e+09             2.546673   \n",
       "2        350000000.0    $42,762,350     1.497624e+08             0.427892   \n",
       "3        330600000.0   $459,005,868     1.403014e+09             4.243841   \n",
       "4        300000000.0   $678,815,482     2.048134e+09             6.827114   \n",
       "\n",
       "        prof_cat budget_cat                                primary_title  \\\n",
       "0    High Profit       High                                       Avatar   \n",
       "1     Low Profit       High  Pirates of the Caribbean: On Stranger Tides   \n",
       "2           Loss       High                                 Dark Phoenix   \n",
       "3  Medium Profit       High                      Avengers: Age of Ultron   \n",
       "4    High Profit       High                       Avengers: Infinity War   \n",
       "\n",
       "                                original_title  averagerating  \n",
       "0                                        Abatâ            6.1  \n",
       "1  Pirates of the Caribbean: On Stranger Tides            6.6  \n",
       "2                                 Dark Phoenix            6.0  \n",
       "3                      Avengers: Age of Ultron            7.3  \n",
       "4                       Avengers: Infinity War            8.5  "
      ]
     },
     "execution_count": 568,
     "metadata": {},
     "output_type": "execute_result"
    }
   ],
   "source": [
    "merged_ratings_and_budgets.head()"
   ]
  },
  {
   "cell_type": "code",
   "execution_count": 569,
   "metadata": {
    "scrolled": true
   },
   "outputs": [
    {
     "name": "stdout",
     "output_type": "stream",
     "text": [
      "<class 'pandas.core.frame.DataFrame'>\n",
      "Int64Index: 2864 entries, 0 to 2863\n",
      "Data columns (total 12 columns):\n",
      " #   Column               Non-Null Count  Dtype  \n",
      "---  ------               --------------  -----  \n",
      " 0   id                   2864 non-null   int64  \n",
      " 1   release_date         2864 non-null   object \n",
      " 2   movie                2864 non-null   object \n",
      " 3   production_budget    2864 non-null   float64\n",
      " 4   domestic_gross       2864 non-null   object \n",
      " 5   worldwide_gross      2864 non-null   float64\n",
      " 6   Profitability_Ratio  2864 non-null   float64\n",
      " 7   prof_cat             2864 non-null   object \n",
      " 8   budget_cat           2864 non-null   object \n",
      " 9   primary_title        2864 non-null   object \n",
      " 10  original_title       2864 non-null   object \n",
      " 11  averagerating        2864 non-null   float64\n",
      "dtypes: float64(4), int64(1), object(7)\n",
      "memory usage: 290.9+ KB\n"
     ]
    }
   ],
   "source": [
    "merged_ratings_and_budgets.info()"
   ]
  },
  {
   "cell_type": "markdown",
   "metadata": {},
   "source": [
    "Scatter plot to understand the relationship"
   ]
  },
  {
   "cell_type": "code",
   "execution_count": 570,
   "metadata": {},
   "outputs": [
    {
     "data": {
      "image/png": "[encoded data removed]",
      "text/plain": [
       "<Figure size 432x288 with 1 Axes>"
      ]
     },
     "metadata": {},
     "output_type": "display_data"
    }
   ],
   "source": [
    "fig, ax = plt.subplots(figsize=(6, 4))\n",
    "\n",
    "# These are all arguments that go in the plot's function\n",
    "ax.scatter(merged_ratings_and_budgets['averagerating'], merged_ratings_and_budgets['Profitability_Ratio'],\n",
    "           c='blue',\n",
    "           alpha=0.5,\n",
    "           s=100,\n",
    "           marker='*')\n",
    "\n",
    "ax.set_xlabel('Average Ratings')\n",
    "ax.set_ylabel('Profitability_Ratio')\n",
    "ax.set_title('Relationship Between ratings and Worldwise_gross')\n",
    "\n",
    "plt.tight_layout()"
   ]
  },
  {
   "cell_type": "markdown",
   "metadata": {},
   "source": [
    "Test the correlation between two average rating and profitability ratio."
   ]
  },
  {
   "cell_type": "code",
   "execution_count": 571,
   "metadata": {},
   "outputs": [
    {
     "data": {
      "text/plain": [
       "array([[1.        , 0.01179055],\n",
       "       [0.01179055, 1.        ]])"
      ]
     },
     "execution_count": 571,
     "metadata": {},
     "output_type": "execute_result"
    }
   ],
   "source": [
    "x = merged_ratings_and_budgets['averagerating'] \n",
    "y = merged_ratings_and_budgets['Profitability_Ratio']\n",
    "\n",
    "\n",
    "r = np.corrcoef(x, y)\n",
    "r"
   ]
  },
  {
   "cell_type": "markdown",
   "metadata": {},
   "source": [
    "The correlation between average rating and profitability is 0.09. This indicate there is no relationship between rating and profitability."
   ]
  },
  {
   "cell_type": "markdown",
   "metadata": {},
   "source": [
    "### Identify the relationship between Profile and profitability"
   ]
  },
  {
   "cell_type": "code",
   "execution_count": 731,
   "metadata": {},
   "outputs": [],
   "source": [
    "df_dir= pd.read_sql(\"\"\"\n",
    "SELECT DISTINCT m.movie_id,m.primary_title as primary_title ,m.original_title,p.primary_name,p.primary_profession\n",
    "  FROM movie_basics as m\n",
    "  JOIN directors as d\n",
    "      USING(movie_id)\n",
    "  JOIN persons as p\n",
    "      USING(person_id)\n",
    "\"\"\", conn)"
   ]
  },
  {
   "cell_type": "code",
   "execution_count": 732,
   "metadata": {},
   "outputs": [
    {
     "data": {
      "text/html": [
       "<div>\n",
       "<style scoped>\n",
       "    .dataframe tbody tr th:only-of-type {\n",
       "        vertical-align: middle;\n",
       "    }\n",
       "\n",
       "    .dataframe tbody tr th {\n",
       "        vertical-align: top;\n",
       "    }\n",
       "\n",
       "    .dataframe thead th {\n",
       "        text-align: right;\n",
       "    }\n",
       "</style>\n",
       "<table border=\"1\" class=\"dataframe\">\n",
       "  <thead>\n",
       "    <tr style=\"text-align: right;\">\n",
       "      <th></th>\n",
       "      <th>movie_id</th>\n",
       "      <th>primary_title</th>\n",
       "      <th>original_title</th>\n",
       "      <th>primary_name</th>\n",
       "      <th>primary_profession</th>\n",
       "    </tr>\n",
       "  </thead>\n",
       "  <tbody>\n",
       "    <tr>\n",
       "      <th>0</th>\n",
       "      <td>tt0063540</td>\n",
       "      <td>Sunghursh</td>\n",
       "      <td>Sunghursh</td>\n",
       "      <td>Harnam Singh Rawail</td>\n",
       "      <td>director,writer,producer</td>\n",
       "    </tr>\n",
       "    <tr>\n",
       "      <th>1</th>\n",
       "      <td>tt0066787</td>\n",
       "      <td>One Day Before the Rainy Season</td>\n",
       "      <td>Ashad Ka Ek Din</td>\n",
       "      <td>Mani Kaul</td>\n",
       "      <td>director,writer,actor</td>\n",
       "    </tr>\n",
       "    <tr>\n",
       "      <th>2</th>\n",
       "      <td>tt0069049</td>\n",
       "      <td>The Other Side of the Wind</td>\n",
       "      <td>The Other Side of the Wind</td>\n",
       "      <td>Orson Welles</td>\n",
       "      <td>actor,director,writer</td>\n",
       "    </tr>\n",
       "    <tr>\n",
       "      <th>3</th>\n",
       "      <td>tt0069204</td>\n",
       "      <td>Sabse Bada Sukh</td>\n",
       "      <td>Sabse Bada Sukh</td>\n",
       "      <td>Hrishikesh Mukherjee</td>\n",
       "      <td>director,editor,writer</td>\n",
       "    </tr>\n",
       "    <tr>\n",
       "      <th>4</th>\n",
       "      <td>tt0100275</td>\n",
       "      <td>The Wandering Soap Opera</td>\n",
       "      <td>La Telenovela Errante</td>\n",
       "      <td>Raoul Ruiz</td>\n",
       "      <td>director,writer,producer</td>\n",
       "    </tr>\n",
       "  </tbody>\n",
       "</table>\n",
       "</div>"
      ],
      "text/plain": [
       "    movie_id                    primary_title              original_title  \\\n",
       "0  tt0063540                        Sunghursh                   Sunghursh   \n",
       "1  tt0066787  One Day Before the Rainy Season             Ashad Ka Ek Din   \n",
       "2  tt0069049       The Other Side of the Wind  The Other Side of the Wind   \n",
       "3  tt0069204                  Sabse Bada Sukh             Sabse Bada Sukh   \n",
       "4  tt0100275         The Wandering Soap Opera       La Telenovela Errante   \n",
       "\n",
       "           primary_name        primary_profession  \n",
       "0   Harnam Singh Rawail  director,writer,producer  \n",
       "1             Mani Kaul     director,writer,actor  \n",
       "2          Orson Welles     actor,director,writer  \n",
       "3  Hrishikesh Mukherjee    director,editor,writer  \n",
       "4            Raoul Ruiz  director,writer,producer  "
      ]
     },
     "execution_count": 732,
     "metadata": {},
     "output_type": "execute_result"
    }
   ],
   "source": [
    "df_dir.head()"
   ]
  },
  {
   "cell_type": "code",
   "execution_count": 733,
   "metadata": {},
   "outputs": [],
   "source": [
    "merged_directors_and_budgets = df_budget.merge(df_dir, left_on='movie', right_on='primary_title', how='inner')"
   ]
  },
  {
   "cell_type": "code",
   "execution_count": 734,
   "metadata": {},
   "outputs": [
    {
     "data": {
      "text/plain": [
       "id                     0\n",
       "release_date           0\n",
       "movie                  0\n",
       "production_budget      0\n",
       "domestic_gross         0\n",
       "worldwide_gross        0\n",
       "Profitability_Ratio    0\n",
       "prof_cat               0\n",
       "Net_Profit             0\n",
       "budget_cat             0\n",
       "movie_id               0\n",
       "primary_title          0\n",
       "original_title         0\n",
       "primary_name           0\n",
       "primary_profession     9\n",
       "dtype: int64"
      ]
     },
     "execution_count": 734,
     "metadata": {},
     "output_type": "execute_result"
    }
   ],
   "source": [
    "merged_directors_and_budgets.isna().sum()"
   ]
  },
  {
   "cell_type": "code",
   "execution_count": 735,
   "metadata": {},
   "outputs": [
    {
     "data": {
      "text/html": [
       "<div>\n",
       "<style scoped>\n",
       "    .dataframe tbody tr th:only-of-type {\n",
       "        vertical-align: middle;\n",
       "    }\n",
       "\n",
       "    .dataframe tbody tr th {\n",
       "        vertical-align: top;\n",
       "    }\n",
       "\n",
       "    .dataframe thead th {\n",
       "        text-align: right;\n",
       "    }\n",
       "</style>\n",
       "<table border=\"1\" class=\"dataframe\">\n",
       "  <thead>\n",
       "    <tr style=\"text-align: right;\">\n",
       "      <th></th>\n",
       "      <th>id</th>\n",
       "      <th>release_date</th>\n",
       "      <th>movie</th>\n",
       "      <th>production_budget</th>\n",
       "      <th>domestic_gross</th>\n",
       "      <th>worldwide_gross</th>\n",
       "      <th>Profitability_Ratio</th>\n",
       "      <th>prof_cat</th>\n",
       "      <th>Net_Profit</th>\n",
       "      <th>budget_cat</th>\n",
       "      <th>movie_id</th>\n",
       "      <th>primary_title</th>\n",
       "      <th>original_title</th>\n",
       "      <th>primary_name</th>\n",
       "      <th>primary_profession</th>\n",
       "    </tr>\n",
       "  </thead>\n",
       "  <tbody>\n",
       "    <tr>\n",
       "      <th>0</th>\n",
       "      <td>1</td>\n",
       "      <td>Dec 18, 2009</td>\n",
       "      <td>Avatar</td>\n",
       "      <td>425000000.0</td>\n",
       "      <td>$760,507,625</td>\n",
       "      <td>2.776345e+09</td>\n",
       "      <td>6.532577</td>\n",
       "      <td>High Profit</td>\n",
       "      <td>2.351345e+09</td>\n",
       "      <td>High</td>\n",
       "      <td>tt1775309</td>\n",
       "      <td>Avatar</td>\n",
       "      <td>Abatâ</td>\n",
       "      <td>Atsushi Wada</td>\n",
       "      <td>director</td>\n",
       "    </tr>\n",
       "    <tr>\n",
       "      <th>1</th>\n",
       "      <td>2</td>\n",
       "      <td>May 20, 2011</td>\n",
       "      <td>Pirates of the Caribbean: On Stranger Tides</td>\n",
       "      <td>410600000.0</td>\n",
       "      <td>$241,063,875</td>\n",
       "      <td>1.045664e+09</td>\n",
       "      <td>2.546673</td>\n",
       "      <td>Low Profit</td>\n",
       "      <td>6.350639e+08</td>\n",
       "      <td>High</td>\n",
       "      <td>tt1298650</td>\n",
       "      <td>Pirates of the Caribbean: On Stranger Tides</td>\n",
       "      <td>Pirates of the Caribbean: On Stranger Tides</td>\n",
       "      <td>Rob Marshall</td>\n",
       "      <td>director,miscellaneous,producer</td>\n",
       "    </tr>\n",
       "    <tr>\n",
       "      <th>2</th>\n",
       "      <td>3</td>\n",
       "      <td>Jun 7, 2019</td>\n",
       "      <td>Dark Phoenix</td>\n",
       "      <td>350000000.0</td>\n",
       "      <td>$42,762,350</td>\n",
       "      <td>1.497624e+08</td>\n",
       "      <td>0.427892</td>\n",
       "      <td>Loss</td>\n",
       "      <td>-2.002376e+08</td>\n",
       "      <td>High</td>\n",
       "      <td>tt6565702</td>\n",
       "      <td>Dark Phoenix</td>\n",
       "      <td>Dark Phoenix</td>\n",
       "      <td>Simon Kinberg</td>\n",
       "      <td>producer,writer,director</td>\n",
       "    </tr>\n",
       "    <tr>\n",
       "      <th>3</th>\n",
       "      <td>4</td>\n",
       "      <td>May 1, 2015</td>\n",
       "      <td>Avengers: Age of Ultron</td>\n",
       "      <td>330600000.0</td>\n",
       "      <td>$459,005,868</td>\n",
       "      <td>1.403014e+09</td>\n",
       "      <td>4.243841</td>\n",
       "      <td>Medium Profit</td>\n",
       "      <td>1.072414e+09</td>\n",
       "      <td>High</td>\n",
       "      <td>tt2395427</td>\n",
       "      <td>Avengers: Age of Ultron</td>\n",
       "      <td>Avengers: Age of Ultron</td>\n",
       "      <td>Joss Whedon</td>\n",
       "      <td>writer,producer,director</td>\n",
       "    </tr>\n",
       "    <tr>\n",
       "      <th>4</th>\n",
       "      <td>7</td>\n",
       "      <td>Apr 27, 2018</td>\n",
       "      <td>Avengers: Infinity War</td>\n",
       "      <td>300000000.0</td>\n",
       "      <td>$678,815,482</td>\n",
       "      <td>2.048134e+09</td>\n",
       "      <td>6.827114</td>\n",
       "      <td>High Profit</td>\n",
       "      <td>1.748134e+09</td>\n",
       "      <td>High</td>\n",
       "      <td>tt4154756</td>\n",
       "      <td>Avengers: Infinity War</td>\n",
       "      <td>Avengers: Infinity War</td>\n",
       "      <td>Anthony Russo</td>\n",
       "      <td>producer,director,writer</td>\n",
       "    </tr>\n",
       "  </tbody>\n",
       "</table>\n",
       "</div>"
      ],
      "text/plain": [
       "   id  release_date                                        movie  \\\n",
       "0   1  Dec 18, 2009                                       Avatar   \n",
       "1   2  May 20, 2011  Pirates of the Caribbean: On Stranger Tides   \n",
       "2   3   Jun 7, 2019                                 Dark Phoenix   \n",
       "3   4   May 1, 2015                      Avengers: Age of Ultron   \n",
       "4   7  Apr 27, 2018                       Avengers: Infinity War   \n",
       "\n",
       "   production_budget domestic_gross  worldwide_gross  Profitability_Ratio  \\\n",
       "0        425000000.0   $760,507,625     2.776345e+09             6.532577   \n",
       "1        410600000.0   $241,063,875     1.045664e+09             2.546673   \n",
       "2        350000000.0    $42,762,350     1.497624e+08             0.427892   \n",
       "3        330600000.0   $459,005,868     1.403014e+09             4.243841   \n",
       "4        300000000.0   $678,815,482     2.048134e+09             6.827114   \n",
       "\n",
       "        prof_cat    Net_Profit budget_cat   movie_id  \\\n",
       "0    High Profit  2.351345e+09       High  tt1775309   \n",
       "1     Low Profit  6.350639e+08       High  tt1298650   \n",
       "2           Loss -2.002376e+08       High  tt6565702   \n",
       "3  Medium Profit  1.072414e+09       High  tt2395427   \n",
       "4    High Profit  1.748134e+09       High  tt4154756   \n",
       "\n",
       "                                 primary_title  \\\n",
       "0                                       Avatar   \n",
       "1  Pirates of the Caribbean: On Stranger Tides   \n",
       "2                                 Dark Phoenix   \n",
       "3                      Avengers: Age of Ultron   \n",
       "4                       Avengers: Infinity War   \n",
       "\n",
       "                                original_title   primary_name  \\\n",
       "0                                        Abatâ   Atsushi Wada   \n",
       "1  Pirates of the Caribbean: On Stranger Tides   Rob Marshall   \n",
       "2                                 Dark Phoenix  Simon Kinberg   \n",
       "3                      Avengers: Age of Ultron    Joss Whedon   \n",
       "4                       Avengers: Infinity War  Anthony Russo   \n",
       "\n",
       "                primary_profession  \n",
       "0                         director  \n",
       "1  director,miscellaneous,producer  \n",
       "2         producer,writer,director  \n",
       "3         writer,producer,director  \n",
       "4         producer,director,writer  "
      ]
     },
     "execution_count": 735,
     "metadata": {},
     "output_type": "execute_result"
    }
   ],
   "source": [
    "merged_directors_and_budgets.head()"
   ]
  },
  {
   "cell_type": "markdown",
   "metadata": {},
   "source": [
    "Removing primary profession with null"
   ]
  },
  {
   "cell_type": "code",
   "execution_count": 736,
   "metadata": {},
   "outputs": [],
   "source": [
    "merged_directors_and_budgets = merged_directors_and_budgets.dropna(subset=['primary_profession'])"
   ]
  },
  {
   "cell_type": "code",
   "execution_count": 737,
   "metadata": {
    "scrolled": true
   },
   "outputs": [
    {
     "data": {
      "text/plain": [
       "id                     0\n",
       "release_date           0\n",
       "movie                  0\n",
       "production_budget      0\n",
       "domestic_gross         0\n",
       "worldwide_gross        0\n",
       "Profitability_Ratio    0\n",
       "prof_cat               0\n",
       "Net_Profit             0\n",
       "budget_cat             0\n",
       "movie_id               0\n",
       "primary_title          0\n",
       "original_title         0\n",
       "primary_name           0\n",
       "primary_profession     0\n",
       "dtype: int64"
      ]
     },
     "execution_count": 737,
     "metadata": {},
     "output_type": "execute_result"
    }
   ],
   "source": [
    "merged_directors_and_budgets.isna().sum()"
   ]
  },
  {
   "cell_type": "markdown",
   "metadata": {},
   "source": [
    "Removing the naming order duplicates"
   ]
  },
  {
   "cell_type": "code",
   "execution_count": 738,
   "metadata": {},
   "outputs": [],
   "source": [
    "merged_directors_and_budgets.loc[:,'primary_profession'] = merged_directors_and_budgets.loc[:,'primary_profession'].replace({\n",
    "    'director,writer,producer':'writer,director,producer',\n",
    "    'producer,director,writer':'writer,director,producer',\n",
    "    'director,producer,writer':'writer,director,producer',\n",
    "    'producer,writer,director':'writer,director,producer',\n",
    "    'writer,producer,director':'writer,director,producer',\n",
    "    'producer,director,actor' :'director,producer,actor',\n",
    "    'actor,producer,director' :'director,producer,actor',\n",
    "    'director,actor,writer': 'writer,director,actor',\n",
    "    'actor,director,writer' : 'writer,director,actor',\n",
    "    'director,writer,actor' :'writer,director,actor',\n",
    "    'actor,writer,director' :'writer,director,actor',\n",
    "    'director,writer,editor' :'writer,director,editor',\n",
    "    'actor,director,producer' : 'director,producer,actor',\n",
    "    'director,editor,writer' : 'writer,director,editor',\n",
    "    'producer,actor,writer': 'writer,producer,actor',\n",
    "    'actor,writer,producer' : 'writer,producer,actor',\n",
    "    'actor,producer,writer' : 'writer,producer,actor',\n",
    "    'director,actor,producer' : 'director,producer,actor'\n",
    "    \n",
    "})"
   ]
  },
  {
   "cell_type": "code",
   "execution_count": 739,
   "metadata": {
    "scrolled": true
   },
   "outputs": [
    {
     "data": {
      "text/plain": [
       "writer,director,producer              1298\n",
       "writer,director,actor                  293\n",
       "director,producer,actor                252\n",
       "writer,director,editor                 188\n",
       "director                               158\n",
       "                                      ... \n",
       "composer,producer,director               1\n",
       "director,art_department,actor            1\n",
       "assistant_director,director,editor       1\n",
       "writer,art_department,director           1\n",
       "director,manager                         1\n",
       "Name: primary_profession, Length: 515, dtype: int64"
      ]
     },
     "execution_count": 739,
     "metadata": {},
     "output_type": "execute_result"
    }
   ],
   "source": [
    "merged_directors_and_budgets['primary_profession'].value_counts()"
   ]
  },
  {
   "cell_type": "markdown",
   "metadata": {},
   "source": [
    "To avoid extream categories get categories with more than or equal to 10"
   ]
  },
  {
   "cell_type": "code",
   "execution_count": 740,
   "metadata": {},
   "outputs": [],
   "source": [
    "merged_directors_and_budgets_Filter1 = merged_directors_and_budgets[merged_directors_and_budgets['primary_profession'].map(merged_directors_and_budgets['primary_profession'].value_counts()) >= 10]"
   ]
  },
  {
   "cell_type": "code",
   "execution_count": 741,
   "metadata": {
    "scrolled": true
   },
   "outputs": [
    {
     "data": {
      "text/plain": [
       "writer,director,producer    1298\n",
       "writer,director,actor        293\n",
       "director,producer,actor      252\n",
       "writer,director,editor       188\n",
       "director                     158\n",
       "Name: primary_profession, dtype: int64"
      ]
     },
     "execution_count": 741,
     "metadata": {},
     "output_type": "execute_result"
    }
   ],
   "source": [
    "merged_directors_and_budgets_Filter1['primary_profession'].value_counts().head()"
   ]
  },
  {
   "cell_type": "markdown",
   "metadata": {},
   "source": [
    "Conduct chi-square test to test the significance of below hypothesis\n",
    "\n",
    "H0 : There is no significant relationship between profile and prifitability ratio\n",
    "H1 : There is a significant relationship between profile and prifitability ratio"
   ]
  },
  {
   "cell_type": "code",
   "execution_count": 742,
   "metadata": {},
   "outputs": [
    {
     "data": {
      "text/html": [
       "<div>\n",
       "<style scoped>\n",
       "    .dataframe tbody tr th:only-of-type {\n",
       "        vertical-align: middle;\n",
       "    }\n",
       "\n",
       "    .dataframe tbody tr th {\n",
       "        vertical-align: top;\n",
       "    }\n",
       "\n",
       "    .dataframe thead th {\n",
       "        text-align: right;\n",
       "    }\n",
       "</style>\n",
       "<table border=\"1\" class=\"dataframe\">\n",
       "  <thead>\n",
       "    <tr style=\"text-align: right;\">\n",
       "      <th>prof_cat</th>\n",
       "      <th>High Profit</th>\n",
       "      <th>Loss</th>\n",
       "      <th>Low Profit</th>\n",
       "      <th>Medium Profit</th>\n",
       "      <th>Super Profit</th>\n",
       "    </tr>\n",
       "    <tr>\n",
       "      <th>primary_profession</th>\n",
       "      <th></th>\n",
       "      <th></th>\n",
       "      <th></th>\n",
       "      <th></th>\n",
       "      <th></th>\n",
       "    </tr>\n",
       "  </thead>\n",
       "  <tbody>\n",
       "    <tr>\n",
       "      <th>actress,director,writer</th>\n",
       "      <td>1</td>\n",
       "      <td>13</td>\n",
       "      <td>5</td>\n",
       "      <td>5</td>\n",
       "      <td>0</td>\n",
       "    </tr>\n",
       "    <tr>\n",
       "      <th>actress,producer,director</th>\n",
       "      <td>2</td>\n",
       "      <td>13</td>\n",
       "      <td>3</td>\n",
       "      <td>2</td>\n",
       "      <td>1</td>\n",
       "    </tr>\n",
       "    <tr>\n",
       "      <th>assistant_director,director,writer</th>\n",
       "      <td>1</td>\n",
       "      <td>11</td>\n",
       "      <td>0</td>\n",
       "      <td>2</td>\n",
       "      <td>1</td>\n",
       "    </tr>\n",
       "    <tr>\n",
       "      <th>camera_department,cinematographer,director</th>\n",
       "      <td>1</td>\n",
       "      <td>7</td>\n",
       "      <td>1</td>\n",
       "      <td>2</td>\n",
       "      <td>0</td>\n",
       "    </tr>\n",
       "    <tr>\n",
       "      <th>cinematographer,camera_department,director</th>\n",
       "      <td>0</td>\n",
       "      <td>14</td>\n",
       "      <td>1</td>\n",
       "      <td>3</td>\n",
       "      <td>2</td>\n",
       "    </tr>\n",
       "  </tbody>\n",
       "</table>\n",
       "</div>"
      ],
      "text/plain": [
       "prof_cat                                    High Profit  Loss  Low Profit  \\\n",
       "primary_profession                                                          \n",
       "actress,director,writer                               1    13           5   \n",
       "actress,producer,director                             2    13           3   \n",
       "assistant_director,director,writer                    1    11           0   \n",
       "camera_department,cinematographer,director            1     7           1   \n",
       "cinematographer,camera_department,director            0    14           1   \n",
       "\n",
       "prof_cat                                    Medium Profit  Super Profit  \n",
       "primary_profession                                                       \n",
       "actress,director,writer                                 5             0  \n",
       "actress,producer,director                               2             1  \n",
       "assistant_director,director,writer                      2             1  \n",
       "camera_department,cinematographer,director              2             0  \n",
       "cinematographer,camera_department,director              3             2  "
      ]
     },
     "execution_count": 742,
     "metadata": {},
     "output_type": "execute_result"
    }
   ],
   "source": [
    "contingency_table=pd.crosstab(index=merged_directors_and_budgets_Filter1['primary_profession'],columns=merged_directors_and_budgets_Filter1['prof_cat'])\n",
    "contingency_table.head()"
   ]
  },
  {
   "cell_type": "code",
   "execution_count": 743,
   "metadata": {},
   "outputs": [
    {
     "data": {
      "text/plain": [
       "(215.8808168455841,\n",
       " 0.034925399915939855,\n",
       " 180,\n",
       " array([[2.19143577e+00, 1.39345088e+01, 2.90931990e+00, 3.28715365e+00,\n",
       "         1.67758186e+00],\n",
       "        [1.91750630e+00, 1.21926952e+01, 2.54565491e+00, 2.87625945e+00,\n",
       "         1.46788413e+00],\n",
       "        [1.36964736e+00, 8.70906801e+00, 1.81832494e+00, 2.05447103e+00,\n",
       "         1.04848866e+00],\n",
       "        [1.00440806e+00, 6.38664987e+00, 1.33343829e+00, 1.50661209e+00,\n",
       "         7.68891688e-01],\n",
       "        [1.82619647e+00, 1.16120907e+01, 2.42443325e+00, 2.73929471e+00,\n",
       "         1.39798489e+00],\n",
       "        [1.46095718e+00, 9.28967254e+00, 1.93954660e+00, 2.19143577e+00,\n",
       "         1.11838791e+00],\n",
       "        [1.44269521e+01, 9.17355164e+01, 1.91530227e+01, 2.16404282e+01,\n",
       "         1.10440806e+01],\n",
       "        [1.36964736e+00, 8.70906801e+00, 1.81832494e+00, 2.05447103e+00,\n",
       "         1.04848866e+00],\n",
       "        [9.13098237e-01, 5.80604534e+00, 1.21221662e+00, 1.36964736e+00,\n",
       "         6.98992443e-01],\n",
       "        [1.09571788e+00, 6.96725441e+00, 1.45465995e+00, 1.64357683e+00,\n",
       "         8.38790932e-01],\n",
       "        [2.55667506e+00, 1.62569270e+01, 3.39420655e+00, 3.83501259e+00,\n",
       "         1.95717884e+00],\n",
       "        [2.28274559e+00, 1.45151134e+01, 3.03054156e+00, 3.42411839e+00,\n",
       "         1.74748111e+00],\n",
       "        [9.13098237e-01, 5.80604534e+00, 1.21221662e+00, 1.36964736e+00,\n",
       "         6.98992443e-01],\n",
       "        [1.91750630e+00, 1.21926952e+01, 2.54565491e+00, 2.87625945e+00,\n",
       "         1.46788413e+00],\n",
       "        [5.29596977e+00, 3.36750630e+01, 7.03085642e+00, 7.94395466e+00,\n",
       "         4.05415617e+00],\n",
       "        [2.30100756e+01, 1.46312343e+02, 3.05478589e+01, 3.45151134e+01,\n",
       "         1.76146096e+01],\n",
       "        [1.55226700e+00, 9.87027708e+00, 2.06076826e+00, 2.32840050e+00,\n",
       "         1.18828715e+00],\n",
       "        [2.19143577e+00, 1.39345088e+01, 2.90931990e+00, 3.28715365e+00,\n",
       "         1.67758186e+00],\n",
       "        [1.64357683e+00, 1.04508816e+01, 2.18198992e+00, 2.46536524e+00,\n",
       "         1.25818640e+00],\n",
       "        [1.04093199e+01, 6.61889169e+01, 1.38192695e+01, 1.56139798e+01,\n",
       "         7.96851385e+00],\n",
       "        [1.36964736e+00, 8.70906801e+00, 1.81832494e+00, 2.05447103e+00,\n",
       "         1.04848866e+00],\n",
       "        [4.74811083e+00, 3.01914358e+01, 6.30352645e+00, 7.12216625e+00,\n",
       "         3.63476071e+00],\n",
       "        [1.55226700e+00, 9.87027708e+00, 2.06076826e+00, 2.32840050e+00,\n",
       "         1.18828715e+00],\n",
       "        [7.03085642e+00, 4.47065491e+01, 9.33406801e+00, 1.05462846e+01,\n",
       "         5.38224181e+00],\n",
       "        [2.00881612e+00, 1.27732997e+01, 2.66687657e+00, 3.01322418e+00,\n",
       "         1.53778338e+00],\n",
       "        [1.18702771e+00, 7.54785894e+00, 1.57588161e+00, 1.78054156e+00,\n",
       "         9.08690176e-01],\n",
       "        [1.18702771e+00, 7.54785894e+00, 1.57588161e+00, 1.78054156e+00,\n",
       "         9.08690176e-01],\n",
       "        [1.09571788e+00, 6.96725441e+00, 1.45465995e+00, 1.64357683e+00,\n",
       "         8.38790932e-01],\n",
       "        [9.13098237e-01, 5.80604534e+00, 1.21221662e+00, 1.36964736e+00,\n",
       "         6.98992443e-01],\n",
       "        [9.13098237e-01, 5.80604534e+00, 1.21221662e+00, 1.36964736e+00,\n",
       "         6.98992443e-01],\n",
       "        [1.27833753e+00, 8.12846348e+00, 1.69710327e+00, 1.91750630e+00,\n",
       "         9.78589421e-01],\n",
       "        [2.19143577e+00, 1.39345088e+01, 2.90931990e+00, 3.28715365e+00,\n",
       "         1.67758186e+00],\n",
       "        [1.73488665e+00, 1.10314861e+01, 2.30321159e+00, 2.60232997e+00,\n",
       "         1.32808564e+00],\n",
       "        [1.55226700e+00, 9.87027708e+00, 2.06076826e+00, 2.32840050e+00,\n",
       "         1.18828715e+00],\n",
       "        [2.00881612e+00, 1.27732997e+01, 2.66687657e+00, 3.01322418e+00,\n",
       "         1.53778338e+00],\n",
       "        [2.10012594e+00, 1.33539043e+01, 2.78809824e+00, 3.15018892e+00,\n",
       "         1.60768262e+00],\n",
       "        [1.82619647e+00, 1.16120907e+01, 2.42443325e+00, 2.73929471e+00,\n",
       "         1.39798489e+00],\n",
       "        [1.27833753e+00, 8.12846348e+00, 1.69710327e+00, 1.91750630e+00,\n",
       "         9.78589421e-01],\n",
       "        [1.55226700e+00, 9.87027708e+00, 2.06076826e+00, 2.32840050e+00,\n",
       "         1.18828715e+00],\n",
       "        [2.67537783e+01, 1.70117128e+02, 3.55179471e+01, 4.01306675e+01,\n",
       "         2.04804786e+01],\n",
       "        [1.18702771e+00, 7.54785894e+00, 1.57588161e+00, 1.78054156e+00,\n",
       "         9.08690176e-01],\n",
       "        [1.71662469e+01, 1.09153652e+02, 2.27896725e+01, 2.57493703e+01,\n",
       "         1.31410579e+01],\n",
       "        [9.13098237e-01, 5.80604534e+00, 1.21221662e+00, 1.36964736e+00,\n",
       "         6.98992443e-01],\n",
       "        [1.18520151e+02, 7.53624685e+02, 1.57345718e+02, 1.77780227e+02,\n",
       "         9.07292191e+01],\n",
       "        [7.67002519e+00, 4.87707809e+01, 1.01826196e+01, 1.15050378e+01,\n",
       "         5.87153652e+00],\n",
       "        [9.13098237e-01, 5.80604534e+00, 1.21221662e+00, 1.36964736e+00,\n",
       "         6.98992443e-01]]))"
      ]
     },
     "execution_count": 743,
     "metadata": {},
     "output_type": "execute_result"
    }
   ],
   "source": [
    "stats.contingency.chi2_contingency(contingency_table)"
   ]
  },
  {
   "cell_type": "markdown",
   "metadata": {},
   "source": [
    "As indicated above it is not possible to reject null hypothesis at 5% confidence level as this is a two tail test. Therefore can conclude that there is no significant relationship between profile and profitability."
   ]
  },
  {
   "cell_type": "markdown",
   "metadata": {},
   "source": [
    "### Identify the relationship between Director and profitability"
   ]
  },
  {
   "cell_type": "code",
   "execution_count": 744,
   "metadata": {},
   "outputs": [],
   "source": [
    "merged_directors_and_budgets = df_budget.merge(df_dir, left_on='movie', right_on='primary_title', how='inner')"
   ]
  },
  {
   "cell_type": "code",
   "execution_count": 745,
   "metadata": {},
   "outputs": [
    {
     "data": {
      "text/plain": [
       "Tim Story             9\n",
       "David Gordon Green    8\n",
       "Steven Spielberg      8\n",
       "Steven Soderbergh     7\n",
       "Ridley Scott          7\n",
       "                     ..\n",
       "Tarik Freitekh        1\n",
       "Stefan Lialias        1\n",
       "Marcin Teodoru        1\n",
       "Charlie Bean          1\n",
       "Joseph Dorman         1\n",
       "Name: primary_name, Length: 3241, dtype: int64"
      ]
     },
     "execution_count": 745,
     "metadata": {},
     "output_type": "execute_result"
    }
   ],
   "source": [
    "merged_directors_and_budgets['primary_name'].value_counts()"
   ]
  },
  {
   "cell_type": "markdown",
   "metadata": {},
   "source": [
    "Consider only directors have done at least 3 movies."
   ]
  },
  {
   "cell_type": "code",
   "execution_count": 746,
   "metadata": {},
   "outputs": [],
   "source": [
    "merged_directors_and_budgets_cleaned = merged_directors_and_budgets[merged_directors_and_budgets['primary_name'].map(merged_directors_and_budgets['primary_name'].value_counts()) > 2]"
   ]
  },
  {
   "cell_type": "code",
   "execution_count": 747,
   "metadata": {},
   "outputs": [
    {
     "data": {
      "text/plain": [
       "Tim Story             9\n",
       "David Gordon Green    8\n",
       "Steven Spielberg      8\n",
       "Clint Eastwood        7\n",
       "Ridley Scott          7\n",
       "                     ..\n",
       "Martin Campbell       3\n",
       "Marilyn Barnes        3\n",
       "David Frankel         3\n",
       "Phil Lord             3\n",
       "Tate Taylor           3\n",
       "Name: primary_name, Length: 201, dtype: int64"
      ]
     },
     "execution_count": 747,
     "metadata": {},
     "output_type": "execute_result"
    }
   ],
   "source": [
    "merged_directors_and_budgets_cleaned['primary_name'].value_counts()"
   ]
  },
  {
   "cell_type": "code",
   "execution_count": 761,
   "metadata": {
    "scrolled": true
   },
   "outputs": [
    {
     "data": {
      "text/html": [
       "<div>\n",
       "<style scoped>\n",
       "    .dataframe tbody tr th:only-of-type {\n",
       "        vertical-align: middle;\n",
       "    }\n",
       "\n",
       "    .dataframe tbody tr th {\n",
       "        vertical-align: top;\n",
       "    }\n",
       "\n",
       "    .dataframe thead th {\n",
       "        text-align: right;\n",
       "    }\n",
       "</style>\n",
       "<table border=\"1\" class=\"dataframe\">\n",
       "  <thead>\n",
       "    <tr style=\"text-align: right;\">\n",
       "      <th></th>\n",
       "      <th>id</th>\n",
       "      <th>release_date</th>\n",
       "      <th>movie</th>\n",
       "      <th>production_budget</th>\n",
       "      <th>domestic_gross</th>\n",
       "      <th>worldwide_gross</th>\n",
       "      <th>Profitability_Ratio</th>\n",
       "      <th>prof_cat</th>\n",
       "      <th>Net_Profit</th>\n",
       "      <th>budget_cat</th>\n",
       "      <th>movie_id</th>\n",
       "      <th>primary_title</th>\n",
       "      <th>original_title</th>\n",
       "      <th>primary_name</th>\n",
       "      <th>primary_profession</th>\n",
       "    </tr>\n",
       "  </thead>\n",
       "  <tbody>\n",
       "    <tr>\n",
       "      <th>1</th>\n",
       "      <td>2</td>\n",
       "      <td>May 20, 2011</td>\n",
       "      <td>Pirates of the Caribbean: On Stranger Tides</td>\n",
       "      <td>410600000.0</td>\n",
       "      <td>$241,063,875</td>\n",
       "      <td>1.045664e+09</td>\n",
       "      <td>2.546673</td>\n",
       "      <td>Low Profit</td>\n",
       "      <td>6.350639e+08</td>\n",
       "      <td>High</td>\n",
       "      <td>tt1298650</td>\n",
       "      <td>Pirates of the Caribbean: On Stranger Tides</td>\n",
       "      <td>Pirates of the Caribbean: On Stranger Tides</td>\n",
       "      <td>Rob Marshall</td>\n",
       "      <td>director,miscellaneous,producer</td>\n",
       "    </tr>\n",
       "    <tr>\n",
       "      <th>3</th>\n",
       "      <td>4</td>\n",
       "      <td>May 1, 2015</td>\n",
       "      <td>Avengers: Age of Ultron</td>\n",
       "      <td>330600000.0</td>\n",
       "      <td>$459,005,868</td>\n",
       "      <td>1.403014e+09</td>\n",
       "      <td>4.243841</td>\n",
       "      <td>Medium Profit</td>\n",
       "      <td>1.072414e+09</td>\n",
       "      <td>High</td>\n",
       "      <td>tt2395427</td>\n",
       "      <td>Avengers: Age of Ultron</td>\n",
       "      <td>Avengers: Age of Ultron</td>\n",
       "      <td>Joss Whedon</td>\n",
       "      <td>writer,producer,director</td>\n",
       "    </tr>\n",
       "    <tr>\n",
       "      <th>4</th>\n",
       "      <td>7</td>\n",
       "      <td>Apr 27, 2018</td>\n",
       "      <td>Avengers: Infinity War</td>\n",
       "      <td>300000000.0</td>\n",
       "      <td>$678,815,482</td>\n",
       "      <td>2.048134e+09</td>\n",
       "      <td>6.827114</td>\n",
       "      <td>High Profit</td>\n",
       "      <td>1.748134e+09</td>\n",
       "      <td>High</td>\n",
       "      <td>tt4154756</td>\n",
       "      <td>Avengers: Infinity War</td>\n",
       "      <td>Avengers: Infinity War</td>\n",
       "      <td>Anthony Russo</td>\n",
       "      <td>producer,director,writer</td>\n",
       "    </tr>\n",
       "    <tr>\n",
       "      <th>5</th>\n",
       "      <td>7</td>\n",
       "      <td>Apr 27, 2018</td>\n",
       "      <td>Avengers: Infinity War</td>\n",
       "      <td>300000000.0</td>\n",
       "      <td>$678,815,482</td>\n",
       "      <td>2.048134e+09</td>\n",
       "      <td>6.827114</td>\n",
       "      <td>High Profit</td>\n",
       "      <td>1.748134e+09</td>\n",
       "      <td>High</td>\n",
       "      <td>tt4154756</td>\n",
       "      <td>Avengers: Infinity War</td>\n",
       "      <td>Avengers: Infinity War</td>\n",
       "      <td>Joe Russo</td>\n",
       "      <td>producer,director,writer</td>\n",
       "    </tr>\n",
       "    <tr>\n",
       "      <th>6</th>\n",
       "      <td>9</td>\n",
       "      <td>Nov 17, 2017</td>\n",
       "      <td>Justice League</td>\n",
       "      <td>300000000.0</td>\n",
       "      <td>$229,024,295</td>\n",
       "      <td>6.559452e+08</td>\n",
       "      <td>2.186484</td>\n",
       "      <td>Low Profit</td>\n",
       "      <td>3.559452e+08</td>\n",
       "      <td>High</td>\n",
       "      <td>tt0974015</td>\n",
       "      <td>Justice League</td>\n",
       "      <td>Justice League</td>\n",
       "      <td>Zack Snyder</td>\n",
       "      <td>producer,director,writer</td>\n",
       "    </tr>\n",
       "  </tbody>\n",
       "</table>\n",
       "</div>"
      ],
      "text/plain": [
       "   id  release_date                                        movie  \\\n",
       "1   2  May 20, 2011  Pirates of the Caribbean: On Stranger Tides   \n",
       "3   4   May 1, 2015                      Avengers: Age of Ultron   \n",
       "4   7  Apr 27, 2018                       Avengers: Infinity War   \n",
       "5   7  Apr 27, 2018                       Avengers: Infinity War   \n",
       "6   9  Nov 17, 2017                               Justice League   \n",
       "\n",
       "   production_budget domestic_gross  worldwide_gross  Profitability_Ratio  \\\n",
       "1        410600000.0   $241,063,875     1.045664e+09             2.546673   \n",
       "3        330600000.0   $459,005,868     1.403014e+09             4.243841   \n",
       "4        300000000.0   $678,815,482     2.048134e+09             6.827114   \n",
       "5        300000000.0   $678,815,482     2.048134e+09             6.827114   \n",
       "6        300000000.0   $229,024,295     6.559452e+08             2.186484   \n",
       "\n",
       "        prof_cat    Net_Profit budget_cat   movie_id  \\\n",
       "1     Low Profit  6.350639e+08       High  tt1298650   \n",
       "3  Medium Profit  1.072414e+09       High  tt2395427   \n",
       "4    High Profit  1.748134e+09       High  tt4154756   \n",
       "5    High Profit  1.748134e+09       High  tt4154756   \n",
       "6     Low Profit  3.559452e+08       High  tt0974015   \n",
       "\n",
       "                                 primary_title  \\\n",
       "1  Pirates of the Caribbean: On Stranger Tides   \n",
       "3                      Avengers: Age of Ultron   \n",
       "4                       Avengers: Infinity War   \n",
       "5                       Avengers: Infinity War   \n",
       "6                               Justice League   \n",
       "\n",
       "                                original_title   primary_name  \\\n",
       "1  Pirates of the Caribbean: On Stranger Tides   Rob Marshall   \n",
       "3                      Avengers: Age of Ultron    Joss Whedon   \n",
       "4                       Avengers: Infinity War  Anthony Russo   \n",
       "5                       Avengers: Infinity War      Joe Russo   \n",
       "6                               Justice League    Zack Snyder   \n",
       "\n",
       "                primary_profession  \n",
       "1  director,miscellaneous,producer  \n",
       "3         writer,producer,director  \n",
       "4         producer,director,writer  \n",
       "5         producer,director,writer  \n",
       "6         producer,director,writer  "
      ]
     },
     "execution_count": 761,
     "metadata": {},
     "output_type": "execute_result"
    }
   ],
   "source": [
    "merged_directors_and_budgets_cleaned.head()"
   ]
  },
  {
   "cell_type": "markdown",
   "metadata": {},
   "source": [
    "Conduct chi-square test to test the significance of below hypothesis\n",
    "\n",
    "H0 : There is no significant relationship between director and prifitability ratio\n",
    "H1 : There is a significant relationship between director and prifitability ratio"
   ]
  },
  {
   "cell_type": "code",
   "execution_count": 749,
   "metadata": {},
   "outputs": [
    {
     "data": {
      "text/html": [
       "<div>\n",
       "<style scoped>\n",
       "    .dataframe tbody tr th:only-of-type {\n",
       "        vertical-align: middle;\n",
       "    }\n",
       "\n",
       "    .dataframe tbody tr th {\n",
       "        vertical-align: top;\n",
       "    }\n",
       "\n",
       "    .dataframe thead th {\n",
       "        text-align: right;\n",
       "    }\n",
       "</style>\n",
       "<table border=\"1\" class=\"dataframe\">\n",
       "  <thead>\n",
       "    <tr style=\"text-align: right;\">\n",
       "      <th>prof_cat</th>\n",
       "      <th>High Profit</th>\n",
       "      <th>Loss</th>\n",
       "      <th>Low Profit</th>\n",
       "      <th>Medium Profit</th>\n",
       "      <th>Super Profit</th>\n",
       "    </tr>\n",
       "    <tr>\n",
       "      <th>primary_name</th>\n",
       "      <th></th>\n",
       "      <th></th>\n",
       "      <th></th>\n",
       "      <th></th>\n",
       "      <th></th>\n",
       "    </tr>\n",
       "  </thead>\n",
       "  <tbody>\n",
       "    <tr>\n",
       "      <th>Adam McKay</th>\n",
       "      <td>0</td>\n",
       "      <td>2</td>\n",
       "      <td>0</td>\n",
       "      <td>2</td>\n",
       "      <td>0</td>\n",
       "    </tr>\n",
       "    <tr>\n",
       "      <th>Aj Cross</th>\n",
       "      <td>0</td>\n",
       "      <td>1</td>\n",
       "      <td>1</td>\n",
       "      <td>1</td>\n",
       "      <td>0</td>\n",
       "    </tr>\n",
       "    <tr>\n",
       "      <th>Alejandro G. Iñárritu</th>\n",
       "      <td>1</td>\n",
       "      <td>1</td>\n",
       "      <td>0</td>\n",
       "      <td>1</td>\n",
       "      <td>0</td>\n",
       "    </tr>\n",
       "    <tr>\n",
       "      <th>Alex Kurtzman</th>\n",
       "      <td>1</td>\n",
       "      <td>1</td>\n",
       "      <td>1</td>\n",
       "      <td>0</td>\n",
       "      <td>0</td>\n",
       "    </tr>\n",
       "    <tr>\n",
       "      <th>Alexander Payne</th>\n",
       "      <td>1</td>\n",
       "      <td>1</td>\n",
       "      <td>1</td>\n",
       "      <td>0</td>\n",
       "      <td>0</td>\n",
       "    </tr>\n",
       "    <tr>\n",
       "      <th>...</th>\n",
       "      <td>...</td>\n",
       "      <td>...</td>\n",
       "      <td>...</td>\n",
       "      <td>...</td>\n",
       "      <td>...</td>\n",
       "    </tr>\n",
       "    <tr>\n",
       "      <th>William De Vital</th>\n",
       "      <td>0</td>\n",
       "      <td>0</td>\n",
       "      <td>3</td>\n",
       "      <td>0</td>\n",
       "      <td>0</td>\n",
       "    </tr>\n",
       "    <tr>\n",
       "      <th>Woody Allen</th>\n",
       "      <td>2</td>\n",
       "      <td>0</td>\n",
       "      <td>1</td>\n",
       "      <td>1</td>\n",
       "      <td>0</td>\n",
       "    </tr>\n",
       "    <tr>\n",
       "      <th>Yotam Rozin</th>\n",
       "      <td>0</td>\n",
       "      <td>1</td>\n",
       "      <td>1</td>\n",
       "      <td>0</td>\n",
       "      <td>1</td>\n",
       "    </tr>\n",
       "    <tr>\n",
       "      <th>Youssef Delara</th>\n",
       "      <td>0</td>\n",
       "      <td>2</td>\n",
       "      <td>1</td>\n",
       "      <td>0</td>\n",
       "      <td>0</td>\n",
       "    </tr>\n",
       "    <tr>\n",
       "      <th>Zack Snyder</th>\n",
       "      <td>0</td>\n",
       "      <td>2</td>\n",
       "      <td>2</td>\n",
       "      <td>1</td>\n",
       "      <td>0</td>\n",
       "    </tr>\n",
       "  </tbody>\n",
       "</table>\n",
       "<p>201 rows × 5 columns</p>\n",
       "</div>"
      ],
      "text/plain": [
       "prof_cat               High Profit  Loss  Low Profit  Medium Profit  \\\n",
       "primary_name                                                          \n",
       "Adam McKay                       0     2           0              2   \n",
       "Aj Cross                         0     1           1              1   \n",
       "Alejandro G. Iñárritu            1     1           0              1   \n",
       "Alex Kurtzman                    1     1           1              0   \n",
       "Alexander Payne                  1     1           1              0   \n",
       "...                            ...   ...         ...            ...   \n",
       "William De Vital                 0     0           3              0   \n",
       "Woody Allen                      2     0           1              1   \n",
       "Yotam Rozin                      0     1           1              0   \n",
       "Youssef Delara                   0     2           1              0   \n",
       "Zack Snyder                      0     2           2              1   \n",
       "\n",
       "prof_cat               Super Profit  \n",
       "primary_name                         \n",
       "Adam McKay                        0  \n",
       "Aj Cross                          0  \n",
       "Alejandro G. Iñárritu             0  \n",
       "Alex Kurtzman                     0  \n",
       "Alexander Payne                   0  \n",
       "...                             ...  \n",
       "William De Vital                  0  \n",
       "Woody Allen                       0  \n",
       "Yotam Rozin                       1  \n",
       "Youssef Delara                    0  \n",
       "Zack Snyder                       0  \n",
       "\n",
       "[201 rows x 5 columns]"
      ]
     },
     "execution_count": 749,
     "metadata": {},
     "output_type": "execute_result"
    }
   ],
   "source": [
    "contingency_table=pd.crosstab(index=merged_directors_and_budgets_cleaned['primary_name'],columns=merged_directors_and_budgets_cleaned['prof_cat'])\n",
    "contingency_table"
   ]
  },
  {
   "cell_type": "code",
   "execution_count": 750,
   "metadata": {},
   "outputs": [
    {
     "data": {
      "text/plain": [
       "(916.1644782152214,\n",
       " 0.002628530158443274,\n",
       " 800,\n",
       " array([[0.56198347, 1.41597796, 0.73278237, 0.80991736, 0.47933884],\n",
       "        [0.4214876 , 1.06198347, 0.54958678, 0.60743802, 0.35950413],\n",
       "        [0.4214876 , 1.06198347, 0.54958678, 0.60743802, 0.35950413],\n",
       "        ...,\n",
       "        [0.4214876 , 1.06198347, 0.54958678, 0.60743802, 0.35950413],\n",
       "        [0.4214876 , 1.06198347, 0.54958678, 0.60743802, 0.35950413],\n",
       "        [0.70247934, 1.76997245, 0.91597796, 1.01239669, 0.59917355]]))"
      ]
     },
     "execution_count": 750,
     "metadata": {},
     "output_type": "execute_result"
    }
   ],
   "source": [
    "stats.contingency.chi2_contingency(contingency_table)"
   ]
  },
  {
   "cell_type": "markdown",
   "metadata": {},
   "source": [
    "At 95% confidence level can reject the null hypothesis. i.e. There is a significant relationship between profitability and director."
   ]
  },
  {
   "cell_type": "markdown",
   "metadata": {},
   "source": [
    "Get into which directors having highest average profitability "
   ]
  },
  {
   "cell_type": "code",
   "execution_count": 751,
   "metadata": {},
   "outputs": [],
   "source": [
    "merged_directors_and_budgets_PF = merged_directors_and_budgets_cleaned.groupby(merged_directors_and_budgets_cleaned['primary_name']).median()\n"
   ]
  },
  {
   "cell_type": "code",
   "execution_count": 752,
   "metadata": {},
   "outputs": [
    {
     "data": {
      "text/html": [
       "<div>\n",
       "<style scoped>\n",
       "    .dataframe tbody tr th:only-of-type {\n",
       "        vertical-align: middle;\n",
       "    }\n",
       "\n",
       "    .dataframe tbody tr th {\n",
       "        vertical-align: top;\n",
       "    }\n",
       "\n",
       "    .dataframe thead th {\n",
       "        text-align: right;\n",
       "    }\n",
       "</style>\n",
       "<table border=\"1\" class=\"dataframe\">\n",
       "  <thead>\n",
       "    <tr style=\"text-align: right;\">\n",
       "      <th></th>\n",
       "      <th>id</th>\n",
       "      <th>production_budget</th>\n",
       "      <th>worldwide_gross</th>\n",
       "      <th>Profitability_Ratio</th>\n",
       "      <th>Net_Profit</th>\n",
       "    </tr>\n",
       "    <tr>\n",
       "      <th>primary_name</th>\n",
       "      <th></th>\n",
       "      <th></th>\n",
       "      <th></th>\n",
       "      <th></th>\n",
       "      <th></th>\n",
       "    </tr>\n",
       "  </thead>\n",
       "  <tbody>\n",
       "    <tr>\n",
       "      <th>Henry Joost</th>\n",
       "      <td>51.0</td>\n",
       "      <td>5000000.0</td>\n",
       "      <td>1.428180e+08</td>\n",
       "      <td>28.563598</td>\n",
       "      <td>137817992.0</td>\n",
       "    </tr>\n",
       "    <tr>\n",
       "      <th>Ariel Schulman</th>\n",
       "      <td>51.0</td>\n",
       "      <td>5000000.0</td>\n",
       "      <td>1.428180e+08</td>\n",
       "      <td>28.563598</td>\n",
       "      <td>137817992.0</td>\n",
       "    </tr>\n",
       "    <tr>\n",
       "      <th>David F. Sandberg</th>\n",
       "      <td>55.0</td>\n",
       "      <td>15000000.0</td>\n",
       "      <td>3.053849e+08</td>\n",
       "      <td>20.358991</td>\n",
       "      <td>277899733.0</td>\n",
       "    </tr>\n",
       "    <tr>\n",
       "      <th>Pierre Coffin</th>\n",
       "      <td>40.0</td>\n",
       "      <td>74500000.0</td>\n",
       "      <td>1.004972e+09</td>\n",
       "      <td>13.314085</td>\n",
       "      <td>929472292.5</td>\n",
       "    </tr>\n",
       "    <tr>\n",
       "      <th>Christopher Landon</th>\n",
       "      <td>64.0</td>\n",
       "      <td>7000000.0</td>\n",
       "      <td>7.754217e+07</td>\n",
       "      <td>12.656013</td>\n",
       "      <td>70542174.5</td>\n",
       "    </tr>\n",
       "    <tr>\n",
       "      <th>James DeMonaco</th>\n",
       "      <td>67.0</td>\n",
       "      <td>9000000.0</td>\n",
       "      <td>1.115349e+08</td>\n",
       "      <td>12.392765</td>\n",
       "      <td>102534881.0</td>\n",
       "    </tr>\n",
       "    <tr>\n",
       "      <th>M. Night Shyamalan</th>\n",
       "      <td>56.0</td>\n",
       "      <td>20000000.0</td>\n",
       "      <td>2.514997e+08</td>\n",
       "      <td>12.265175</td>\n",
       "      <td>169713881.0</td>\n",
       "    </tr>\n",
       "    <tr>\n",
       "      <th>James Wan</th>\n",
       "      <td>65.0</td>\n",
       "      <td>90000000.0</td>\n",
       "      <td>7.324474e+08</td>\n",
       "      <td>11.946642</td>\n",
       "      <td>642447390.5</td>\n",
       "    </tr>\n",
       "    <tr>\n",
       "      <th>Damien Chazelle</th>\n",
       "      <td>43.0</td>\n",
       "      <td>20000000.0</td>\n",
       "      <td>1.052038e+08</td>\n",
       "      <td>11.808799</td>\n",
       "      <td>45203825.0</td>\n",
       "    </tr>\n",
       "    <tr>\n",
       "      <th>Jake Kasdan</th>\n",
       "      <td>38.0</td>\n",
       "      <td>40000000.0</td>\n",
       "      <td>2.154490e+08</td>\n",
       "      <td>10.716624</td>\n",
       "      <td>196448997.0</td>\n",
       "    </tr>\n",
       "  </tbody>\n",
       "</table>\n",
       "</div>"
      ],
      "text/plain": [
       "                      id  production_budget  worldwide_gross  \\\n",
       "primary_name                                                   \n",
       "Henry Joost         51.0          5000000.0     1.428180e+08   \n",
       "Ariel Schulman      51.0          5000000.0     1.428180e+08   \n",
       "David F. Sandberg   55.0         15000000.0     3.053849e+08   \n",
       "Pierre Coffin       40.0         74500000.0     1.004972e+09   \n",
       "Christopher Landon  64.0          7000000.0     7.754217e+07   \n",
       "James DeMonaco      67.0          9000000.0     1.115349e+08   \n",
       "M. Night Shyamalan  56.0         20000000.0     2.514997e+08   \n",
       "James Wan           65.0         90000000.0     7.324474e+08   \n",
       "Damien Chazelle     43.0         20000000.0     1.052038e+08   \n",
       "Jake Kasdan         38.0         40000000.0     2.154490e+08   \n",
       "\n",
       "                    Profitability_Ratio   Net_Profit  \n",
       "primary_name                                          \n",
       "Henry Joost                   28.563598  137817992.0  \n",
       "Ariel Schulman                28.563598  137817992.0  \n",
       "David F. Sandberg             20.358991  277899733.0  \n",
       "Pierre Coffin                 13.314085  929472292.5  \n",
       "Christopher Landon            12.656013   70542174.5  \n",
       "James DeMonaco                12.392765  102534881.0  \n",
       "M. Night Shyamalan            12.265175  169713881.0  \n",
       "James Wan                     11.946642  642447390.5  \n",
       "Damien Chazelle               11.808799   45203825.0  \n",
       "Jake Kasdan                   10.716624  196448997.0  "
      ]
     },
     "execution_count": 752,
     "metadata": {},
     "output_type": "execute_result"
    }
   ],
   "source": [
    "merged_directors_and_budgets_PF_1 = merged_directors_and_budgets_PF.sort_values(by=['Profitability_Ratio'],ascending=False).head(10)\n",
    "merged_directors_and_budgets_PF_1"
   ]
  },
  {
   "cell_type": "markdown",
   "metadata": {},
   "source": [
    "Therefore can recommend that movies with above directors are generating highest profitability"
   ]
  },
  {
   "cell_type": "code",
   "execution_count": 769,
   "metadata": {
    "scrolled": true
   },
   "outputs": [
    {
     "data": {
      "image/png": "[encoded data removed]",
      "text/plain": [
       "<Figure size 1728x864 with 1 Axes>"
      ]
     },
     "metadata": {},
     "output_type": "display_data"
    }
   ],
   "source": [
    "fig, ax = plt.subplots(figsize=(24,12))\n",
    "sns.set_style(\"whitegrid\")\n",
    "\n",
    "sns.barplot(x=merged_directors_and_budgets_PF_1.index, y=merged_directors_and_budgets_PF_1['Profitability_Ratio'],palette=\"colorblind\")\n",
    "\n",
    "ax.set_title('Median of Profitability Ratio by Director',fontsize=20)\n",
    "ax.set_xlabel('Director Name',fontsize=20)\n",
    "ax.set_ylabel('Profitability Ratio',fontsize=20)\n",
    "ax.set_xticklabels(ax.get_xticklabels(), rotation=20, ha=\"right\")\n",
    "ax.axes.yaxis.set_major_formatter(PercentFormatter(1));"
   ]
  },
  {
   "cell_type": "markdown",
   "metadata": {},
   "source": [
    "### Identify the relationship between Actor and profitability"
   ]
  },
  {
   "cell_type": "code",
   "execution_count": 594,
   "metadata": {},
   "outputs": [],
   "source": [
    "df_act= pd.read_sql(\"\"\"\n",
    "SELECT m.primary_title,p.category, p.characters, pr.primary_name\n",
    "  FROM movie_basics as m\n",
    "  JOIN principals as p\n",
    "      USING(movie_id)\n",
    "  JOIN persons as pr\n",
    "      USING(person_id)\n",
    "WHERE category = 'actor' or category = 'actress'\n",
    "\"\"\", conn)"
   ]
  },
  {
   "cell_type": "code",
   "execution_count": 595,
   "metadata": {},
   "outputs": [
    {
     "data": {
      "text/html": [
       "<div>\n",
       "<style scoped>\n",
       "    .dataframe tbody tr th:only-of-type {\n",
       "        vertical-align: middle;\n",
       "    }\n",
       "\n",
       "    .dataframe tbody tr th {\n",
       "        vertical-align: top;\n",
       "    }\n",
       "\n",
       "    .dataframe thead th {\n",
       "        text-align: right;\n",
       "    }\n",
       "</style>\n",
       "<table border=\"1\" class=\"dataframe\">\n",
       "  <thead>\n",
       "    <tr style=\"text-align: right;\">\n",
       "      <th></th>\n",
       "      <th>primary_title</th>\n",
       "      <th>category</th>\n",
       "      <th>characters</th>\n",
       "      <th>primary_name</th>\n",
       "    </tr>\n",
       "  </thead>\n",
       "  <tbody>\n",
       "    <tr>\n",
       "      <th>0</th>\n",
       "      <td>A Thin Life</td>\n",
       "      <td>actor</td>\n",
       "      <td>[\"The Man\"]</td>\n",
       "      <td>Tommy Dysart</td>\n",
       "    </tr>\n",
       "    <tr>\n",
       "      <th>1</th>\n",
       "      <td>The Wicker Tree</td>\n",
       "      <td>actress</td>\n",
       "      <td>[\"Beth Boothby\"]</td>\n",
       "      <td>Brittania Nicol</td>\n",
       "    </tr>\n",
       "    <tr>\n",
       "      <th>2</th>\n",
       "      <td>The Wicker Tree</td>\n",
       "      <td>actor</td>\n",
       "      <td>[\"Steve Thomson\"]</td>\n",
       "      <td>Henry Garrett</td>\n",
       "    </tr>\n",
       "    <tr>\n",
       "      <th>3</th>\n",
       "      <td>The Wicker Tree</td>\n",
       "      <td>actor</td>\n",
       "      <td>[\"Sir Lachlan Morrison\"]</td>\n",
       "      <td>Graham McTavish</td>\n",
       "    </tr>\n",
       "    <tr>\n",
       "      <th>4</th>\n",
       "      <td>The Wicker Tree</td>\n",
       "      <td>actress</td>\n",
       "      <td>[\"Lady Delia Morrison\"]</td>\n",
       "      <td>Jacqueline Leonard</td>\n",
       "    </tr>\n",
       "  </tbody>\n",
       "</table>\n",
       "</div>"
      ],
      "text/plain": [
       "     primary_title category                characters        primary_name\n",
       "0      A Thin Life    actor               [\"The Man\"]        Tommy Dysart\n",
       "1  The Wicker Tree  actress          [\"Beth Boothby\"]     Brittania Nicol\n",
       "2  The Wicker Tree    actor         [\"Steve Thomson\"]       Henry Garrett\n",
       "3  The Wicker Tree    actor  [\"Sir Lachlan Morrison\"]     Graham McTavish\n",
       "4  The Wicker Tree  actress   [\"Lady Delia Morrison\"]  Jacqueline Leonard"
      ]
     },
     "execution_count": 595,
     "metadata": {},
     "output_type": "execute_result"
    }
   ],
   "source": [
    "df_act.head()"
   ]
  },
  {
   "cell_type": "code",
   "execution_count": 596,
   "metadata": {},
   "outputs": [],
   "source": [
    "merged_actor_and_budgets = df_act.merge(df_budget, left_on='primary_title', right_on='movie', how='left')"
   ]
  },
  {
   "cell_type": "code",
   "execution_count": 597,
   "metadata": {},
   "outputs": [],
   "source": [
    "merged_actor_and_budgets = merged_actor_and_budgets.loc[merged_actor_and_budgets['worldwide_gross']>=0]"
   ]
  },
  {
   "cell_type": "code",
   "execution_count": 598,
   "metadata": {
    "scrolled": true
   },
   "outputs": [
    {
     "data": {
      "text/plain": [
       "Mark Wahlberg        19\n",
       "Dwayne Johnson       19\n",
       "Robert De Niro       18\n",
       "Liam Neeson          18\n",
       "Joel Edgerton        17\n",
       "                     ..\n",
       "Eilidh Rankin         1\n",
       "Richard J. Carson     1\n",
       "Matthew Bohrer        1\n",
       "Lex Cassar            1\n",
       "Austin Bowerman       1\n",
       "Name: primary_name, Length: 8877, dtype: int64"
      ]
     },
     "execution_count": 598,
     "metadata": {},
     "output_type": "execute_result"
    }
   ],
   "source": [
    "merged_actor_and_budgets['primary_name'].value_counts()"
   ]
  },
  {
   "cell_type": "code",
   "execution_count": 599,
   "metadata": {},
   "outputs": [],
   "source": [
    "merged_actor_and_budgets = merged_actor_and_budgets[merged_actor_and_budgets['primary_name'].map(merged_actor_and_budgets['primary_name'].value_counts()) > 5]"
   ]
  },
  {
   "cell_type": "code",
   "execution_count": 600,
   "metadata": {
    "scrolled": true
   },
   "outputs": [
    {
     "data": {
      "text/plain": [
       "Mark Wahlberg        19\n",
       "Dwayne Johnson       19\n",
       "Robert De Niro       18\n",
       "Liam Neeson          18\n",
       "Steve Carell         17\n",
       "                     ..\n",
       "Elizabeth Olsen       6\n",
       "Emma Thompson         6\n",
       "Paula Patton          6\n",
       "Toni Collette         6\n",
       "Michelle Monaghan     6\n",
       "Name: primary_name, Length: 275, dtype: int64"
      ]
     },
     "execution_count": 600,
     "metadata": {},
     "output_type": "execute_result"
    }
   ],
   "source": [
    "merged_actor_and_budgets['primary_name'].value_counts()"
   ]
  },
  {
   "cell_type": "markdown",
   "metadata": {},
   "source": [
    "Conduct chi-square test to test the significance of below hypothesis"
   ]
  },
  {
   "cell_type": "markdown",
   "metadata": {},
   "source": [
    "H0 : There is no significant relationship between actor and prifitability ratio H1 : There is a significant relationship between actor and prifitability ratio"
   ]
  },
  {
   "cell_type": "code",
   "execution_count": 601,
   "metadata": {},
   "outputs": [
    {
     "data": {
      "text/html": [
       "<div>\n",
       "<style scoped>\n",
       "    .dataframe tbody tr th:only-of-type {\n",
       "        vertical-align: middle;\n",
       "    }\n",
       "\n",
       "    .dataframe tbody tr th {\n",
       "        vertical-align: top;\n",
       "    }\n",
       "\n",
       "    .dataframe thead th {\n",
       "        text-align: right;\n",
       "    }\n",
       "</style>\n",
       "<table border=\"1\" class=\"dataframe\">\n",
       "  <thead>\n",
       "    <tr style=\"text-align: right;\">\n",
       "      <th>prof_cat</th>\n",
       "      <th>High Profit</th>\n",
       "      <th>Loss</th>\n",
       "      <th>Low Profit</th>\n",
       "      <th>Medium Profit</th>\n",
       "      <th>Super Profit</th>\n",
       "    </tr>\n",
       "    <tr>\n",
       "      <th>primary_name</th>\n",
       "      <th></th>\n",
       "      <th></th>\n",
       "      <th></th>\n",
       "      <th></th>\n",
       "      <th></th>\n",
       "    </tr>\n",
       "  </thead>\n",
       "  <tbody>\n",
       "    <tr>\n",
       "      <th>Aaron Eckhart</th>\n",
       "      <td>0</td>\n",
       "      <td>6</td>\n",
       "      <td>1</td>\n",
       "      <td>2</td>\n",
       "      <td>0</td>\n",
       "    </tr>\n",
       "    <tr>\n",
       "      <th>Aaron Taylor-Johnson</th>\n",
       "      <td>0</td>\n",
       "      <td>5</td>\n",
       "      <td>1</td>\n",
       "      <td>3</td>\n",
       "      <td>0</td>\n",
       "    </tr>\n",
       "    <tr>\n",
       "      <th>Adam Driver</th>\n",
       "      <td>1</td>\n",
       "      <td>4</td>\n",
       "      <td>1</td>\n",
       "      <td>1</td>\n",
       "      <td>0</td>\n",
       "    </tr>\n",
       "    <tr>\n",
       "      <th>Adam Sandler</th>\n",
       "      <td>2</td>\n",
       "      <td>3</td>\n",
       "      <td>2</td>\n",
       "      <td>3</td>\n",
       "      <td>0</td>\n",
       "    </tr>\n",
       "    <tr>\n",
       "      <th>Alec Baldwin</th>\n",
       "      <td>2</td>\n",
       "      <td>3</td>\n",
       "      <td>1</td>\n",
       "      <td>1</td>\n",
       "      <td>0</td>\n",
       "    </tr>\n",
       "    <tr>\n",
       "      <th>...</th>\n",
       "      <td>...</td>\n",
       "      <td>...</td>\n",
       "      <td>...</td>\n",
       "      <td>...</td>\n",
       "      <td>...</td>\n",
       "    </tr>\n",
       "    <tr>\n",
       "      <th>Willem Dafoe</th>\n",
       "      <td>3</td>\n",
       "      <td>1</td>\n",
       "      <td>2</td>\n",
       "      <td>0</td>\n",
       "      <td>0</td>\n",
       "    </tr>\n",
       "    <tr>\n",
       "      <th>Woody Harrelson</th>\n",
       "      <td>1</td>\n",
       "      <td>5</td>\n",
       "      <td>2</td>\n",
       "      <td>4</td>\n",
       "      <td>1</td>\n",
       "    </tr>\n",
       "    <tr>\n",
       "      <th>Zac Efron</th>\n",
       "      <td>3</td>\n",
       "      <td>3</td>\n",
       "      <td>2</td>\n",
       "      <td>3</td>\n",
       "      <td>1</td>\n",
       "    </tr>\n",
       "    <tr>\n",
       "      <th>Zach Galifianakis</th>\n",
       "      <td>2</td>\n",
       "      <td>3</td>\n",
       "      <td>0</td>\n",
       "      <td>2</td>\n",
       "      <td>0</td>\n",
       "    </tr>\n",
       "    <tr>\n",
       "      <th>Zoe Saldana</th>\n",
       "      <td>0</td>\n",
       "      <td>5</td>\n",
       "      <td>2</td>\n",
       "      <td>1</td>\n",
       "      <td>0</td>\n",
       "    </tr>\n",
       "  </tbody>\n",
       "</table>\n",
       "<p>275 rows × 5 columns</p>\n",
       "</div>"
      ],
      "text/plain": [
       "prof_cat              High Profit  Loss  Low Profit  Medium Profit  \\\n",
       "primary_name                                                         \n",
       "Aaron Eckhart                   0     6           1              2   \n",
       "Aaron Taylor-Johnson            0     5           1              3   \n",
       "Adam Driver                     1     4           1              1   \n",
       "Adam Sandler                    2     3           2              3   \n",
       "Alec Baldwin                    2     3           1              1   \n",
       "...                           ...   ...         ...            ...   \n",
       "Willem Dafoe                    3     1           2              0   \n",
       "Woody Harrelson                 1     5           2              4   \n",
       "Zac Efron                       3     3           2              3   \n",
       "Zach Galifianakis               2     3           0              2   \n",
       "Zoe Saldana                     0     5           2              1   \n",
       "\n",
       "prof_cat              Super Profit  \n",
       "primary_name                        \n",
       "Aaron Eckhart                    0  \n",
       "Aaron Taylor-Johnson             0  \n",
       "Adam Driver                      0  \n",
       "Adam Sandler                     0  \n",
       "Alec Baldwin                     0  \n",
       "...                            ...  \n",
       "Willem Dafoe                     0  \n",
       "Woody Harrelson                  1  \n",
       "Zac Efron                        1  \n",
       "Zach Galifianakis                0  \n",
       "Zoe Saldana                      0  \n",
       "\n",
       "[275 rows x 5 columns]"
      ]
     },
     "execution_count": 601,
     "metadata": {},
     "output_type": "execute_result"
    }
   ],
   "source": [
    "contingency_table=pd.crosstab(index=merged_actor_and_budgets['primary_name'],columns=merged_actor_and_budgets['prof_cat'])\n",
    "contingency_table  "
   ]
  },
  {
   "cell_type": "code",
   "execution_count": 602,
   "metadata": {},
   "outputs": [
    {
     "data": {
      "text/plain": [
       "(1212.9536854178716,\n",
       " 0.007582349059443698,\n",
       " 1096,\n",
       " array([[1.13341646, 3.90897756, 1.70199501, 1.82543641, 0.43017456],\n",
       "        [1.13341646, 3.90897756, 1.70199501, 1.82543641, 0.43017456],\n",
       "        [0.88154613, 3.04031588, 1.3237739 , 1.41978387, 0.33458022],\n",
       "        ...,\n",
       "        [1.51122195, 5.21197007, 2.26932668, 2.43391521, 0.57356608],\n",
       "        [0.88154613, 3.04031588, 1.3237739 , 1.41978387, 0.33458022],\n",
       "        [1.0074813 , 3.47464672, 1.51288446, 1.62261014, 0.38237739]]))"
      ]
     },
     "execution_count": 602,
     "metadata": {},
     "output_type": "execute_result"
    }
   ],
   "source": [
    "stats.contingency.chi2_contingency(contingency_table)"
   ]
  },
  {
   "cell_type": "code",
   "execution_count": 603,
   "metadata": {},
   "outputs": [],
   "source": [
    "merged_actor_and_budgets_PF = merged_actor_and_budgets.groupby(merged_actor_and_budgets['primary_name']).median()\n"
   ]
  },
  {
   "cell_type": "code",
   "execution_count": 604,
   "metadata": {},
   "outputs": [
    {
     "data": {
      "text/html": [
       "<div>\n",
       "<style scoped>\n",
       "    .dataframe tbody tr th:only-of-type {\n",
       "        vertical-align: middle;\n",
       "    }\n",
       "\n",
       "    .dataframe tbody tr th {\n",
       "        vertical-align: top;\n",
       "    }\n",
       "\n",
       "    .dataframe thead th {\n",
       "        text-align: right;\n",
       "    }\n",
       "</style>\n",
       "<table border=\"1\" class=\"dataframe\">\n",
       "  <thead>\n",
       "    <tr style=\"text-align: right;\">\n",
       "      <th></th>\n",
       "      <th>id</th>\n",
       "      <th>production_budget</th>\n",
       "      <th>worldwide_gross</th>\n",
       "      <th>Profitability_Ratio</th>\n",
       "    </tr>\n",
       "    <tr>\n",
       "      <th>primary_name</th>\n",
       "      <th></th>\n",
       "      <th></th>\n",
       "      <th></th>\n",
       "      <th></th>\n",
       "    </tr>\n",
       "  </thead>\n",
       "  <tbody>\n",
       "    <tr>\n",
       "      <th>Octavia Spencer</th>\n",
       "      <td>50.5</td>\n",
       "      <td>14250000.0</td>\n",
       "      <td>116377725.0</td>\n",
       "      <td>8.897834</td>\n",
       "    </tr>\n",
       "    <tr>\n",
       "      <th>Bryce Dallas Howard</th>\n",
       "      <td>62.0</td>\n",
       "      <td>45500000.0</td>\n",
       "      <td>160890137.0</td>\n",
       "      <td>6.417967</td>\n",
       "    </tr>\n",
       "    <tr>\n",
       "      <th>Jennifer Lawrence</th>\n",
       "      <td>52.0</td>\n",
       "      <td>80000000.0</td>\n",
       "      <td>257878294.0</td>\n",
       "      <td>6.132601</td>\n",
       "    </tr>\n",
       "    <tr>\n",
       "      <th>Julianne Moore</th>\n",
       "      <td>25.0</td>\n",
       "      <td>6250000.0</td>\n",
       "      <td>41484095.5</td>\n",
       "      <td>5.975520</td>\n",
       "    </tr>\n",
       "    <tr>\n",
       "      <th>Kristen Wiig</th>\n",
       "      <td>36.0</td>\n",
       "      <td>50250000.0</td>\n",
       "      <td>208434920.5</td>\n",
       "      <td>5.932260</td>\n",
       "    </tr>\n",
       "    <tr>\n",
       "      <th>Michael B. Jordan</th>\n",
       "      <td>81.5</td>\n",
       "      <td>43500000.0</td>\n",
       "      <td>170708384.0</td>\n",
       "      <td>5.662318</td>\n",
       "    </tr>\n",
       "    <tr>\n",
       "      <th>Jim Broadbent</th>\n",
       "      <td>30.5</td>\n",
       "      <td>12500000.0</td>\n",
       "      <td>88834122.5</td>\n",
       "      <td>5.174271</td>\n",
       "    </tr>\n",
       "    <tr>\n",
       "      <th>Josh Gad</th>\n",
       "      <td>56.0</td>\n",
       "      <td>23000000.0</td>\n",
       "      <td>352327887.0</td>\n",
       "      <td>4.826409</td>\n",
       "    </tr>\n",
       "    <tr>\n",
       "      <th>Ethan Hawke</th>\n",
       "      <td>61.0</td>\n",
       "      <td>3750000.0</td>\n",
       "      <td>40262489.5</td>\n",
       "      <td>4.778239</td>\n",
       "    </tr>\n",
       "    <tr>\n",
       "      <th>Mark Ruffalo</th>\n",
       "      <td>46.5</td>\n",
       "      <td>77500000.0</td>\n",
       "      <td>313893394.5</td>\n",
       "      <td>4.587339</td>\n",
       "    </tr>\n",
       "  </tbody>\n",
       "</table>\n",
       "</div>"
      ],
      "text/plain": [
       "                       id  production_budget  worldwide_gross  \\\n",
       "primary_name                                                    \n",
       "Octavia Spencer      50.5         14250000.0      116377725.0   \n",
       "Bryce Dallas Howard  62.0         45500000.0      160890137.0   \n",
       "Jennifer Lawrence    52.0         80000000.0      257878294.0   \n",
       "Julianne Moore       25.0          6250000.0       41484095.5   \n",
       "Kristen Wiig         36.0         50250000.0      208434920.5   \n",
       "Michael B. Jordan    81.5         43500000.0      170708384.0   \n",
       "Jim Broadbent        30.5         12500000.0       88834122.5   \n",
       "Josh Gad             56.0         23000000.0      352327887.0   \n",
       "Ethan Hawke          61.0          3750000.0       40262489.5   \n",
       "Mark Ruffalo         46.5         77500000.0      313893394.5   \n",
       "\n",
       "                     Profitability_Ratio  \n",
       "primary_name                              \n",
       "Octavia Spencer                 8.897834  \n",
       "Bryce Dallas Howard             6.417967  \n",
       "Jennifer Lawrence               6.132601  \n",
       "Julianne Moore                  5.975520  \n",
       "Kristen Wiig                    5.932260  \n",
       "Michael B. Jordan               5.662318  \n",
       "Jim Broadbent                   5.174271  \n",
       "Josh Gad                        4.826409  \n",
       "Ethan Hawke                     4.778239  \n",
       "Mark Ruffalo                    4.587339  "
      ]
     },
     "execution_count": 604,
     "metadata": {},
     "output_type": "execute_result"
    }
   ],
   "source": [
    "merged_actor_and_budgets_PF_1 = merged_actor_and_budgets_PF.sort_values(by=['Profitability_Ratio'],ascending=False).head(10)\n",
    "merged_actor_and_budgets_PF_1"
   ]
  },
  {
   "cell_type": "code",
   "execution_count": 605,
   "metadata": {},
   "outputs": [
    {
     "data": {
      "image/png": "[encoded data removed]",
      "text/plain": [
       "<Figure size 576x432 with 1 Axes>"
      ]
     },
     "metadata": {},
     "output_type": "display_data"
    }
   ],
   "source": [
    "fig, ax = plt.subplots(figsize=(8,6))\n",
    "sns.set_style(\"whitegrid\")\n",
    "\n",
    "sns.barplot(x=merged_actor_and_budgets_PF_1.index, y=merged_actor_and_budgets_PF_1['Profitability_Ratio'],palette=\"colorblind\")\n",
    "\n",
    "ax.set_title('Median of Profitability Ratio by Actor',fontsize=20)\n",
    "ax.set_xticklabels(ax.get_xticklabels(), rotation=40, ha=\"right\")\n",
    "ax.set_xlabel('Actor/Actress Name',fontsize=15)\n",
    "ax.set_ylabel('Profitability Ratio',fontsize=15);"
   ]
  },
  {
   "cell_type": "markdown",
   "metadata": {},
   "source": [
    "### Identify the relationship between production budget and profitability"
   ]
  },
  {
   "cell_type": "code",
   "execution_count": 621,
   "metadata": {},
   "outputs": [
    {
     "data": {
      "image/png": "[encoded data removed]",
      "text/plain": [
       "<Figure size 432x288 with 1 Axes>"
      ]
     },
     "metadata": {},
     "output_type": "display_data"
    }
   ],
   "source": [
    "fig, ax = plt.subplots(figsize=(6, 4))\n",
    "\n",
    "# These are all arguments that go in the plot's function\n",
    "ax.scatter(df_budget['production_budget'], df_budget['worldwide_gross'],\n",
    "           c='blue',\n",
    "           alpha=0.5,\n",
    "           s=100,\n",
    "           marker='*')\n",
    "\n",
    "ax.set_xlabel('production_budget')\n",
    "ax.set_ylabel('worldwide_gross')\n",
    "ax.set_title('Relationship Between production budget and Worldwise_gross')\n",
    "\n",
    "plt.tight_layout()"
   ]
  },
  {
   "cell_type": "code",
   "execution_count": 607,
   "metadata": {},
   "outputs": [
    {
     "data": {
      "text/html": [
       "<div>\n",
       "<style scoped>\n",
       "    .dataframe tbody tr th:only-of-type {\n",
       "        vertical-align: middle;\n",
       "    }\n",
       "\n",
       "    .dataframe tbody tr th {\n",
       "        vertical-align: top;\n",
       "    }\n",
       "\n",
       "    .dataframe thead th {\n",
       "        text-align: right;\n",
       "    }\n",
       "</style>\n",
       "<table border=\"1\" class=\"dataframe\">\n",
       "  <thead>\n",
       "    <tr style=\"text-align: right;\">\n",
       "      <th></th>\n",
       "      <th>id</th>\n",
       "      <th>release_date</th>\n",
       "      <th>movie</th>\n",
       "      <th>production_budget</th>\n",
       "      <th>domestic_gross</th>\n",
       "      <th>worldwide_gross</th>\n",
       "      <th>Profitability_Ratio</th>\n",
       "      <th>prof_cat</th>\n",
       "      <th>budget_cat</th>\n",
       "    </tr>\n",
       "  </thead>\n",
       "  <tbody>\n",
       "    <tr>\n",
       "      <th>0</th>\n",
       "      <td>1</td>\n",
       "      <td>Dec 18, 2009</td>\n",
       "      <td>Avatar</td>\n",
       "      <td>425000000.0</td>\n",
       "      <td>$760,507,625</td>\n",
       "      <td>2.776345e+09</td>\n",
       "      <td>6.532577</td>\n",
       "      <td>High Profit</td>\n",
       "      <td>High</td>\n",
       "    </tr>\n",
       "    <tr>\n",
       "      <th>1</th>\n",
       "      <td>2</td>\n",
       "      <td>May 20, 2011</td>\n",
       "      <td>Pirates of the Caribbean: On Stranger Tides</td>\n",
       "      <td>410600000.0</td>\n",
       "      <td>$241,063,875</td>\n",
       "      <td>1.045664e+09</td>\n",
       "      <td>2.546673</td>\n",
       "      <td>Low Profit</td>\n",
       "      <td>High</td>\n",
       "    </tr>\n",
       "    <tr>\n",
       "      <th>2</th>\n",
       "      <td>3</td>\n",
       "      <td>Jun 7, 2019</td>\n",
       "      <td>Dark Phoenix</td>\n",
       "      <td>350000000.0</td>\n",
       "      <td>$42,762,350</td>\n",
       "      <td>1.497624e+08</td>\n",
       "      <td>0.427892</td>\n",
       "      <td>Loss</td>\n",
       "      <td>High</td>\n",
       "    </tr>\n",
       "    <tr>\n",
       "      <th>3</th>\n",
       "      <td>4</td>\n",
       "      <td>May 1, 2015</td>\n",
       "      <td>Avengers: Age of Ultron</td>\n",
       "      <td>330600000.0</td>\n",
       "      <td>$459,005,868</td>\n",
       "      <td>1.403014e+09</td>\n",
       "      <td>4.243841</td>\n",
       "      <td>Medium Profit</td>\n",
       "      <td>High</td>\n",
       "    </tr>\n",
       "    <tr>\n",
       "      <th>4</th>\n",
       "      <td>5</td>\n",
       "      <td>Dec 15, 2017</td>\n",
       "      <td>Star Wars Ep. VIII: The Last Jedi</td>\n",
       "      <td>317000000.0</td>\n",
       "      <td>$620,181,382</td>\n",
       "      <td>1.316722e+09</td>\n",
       "      <td>4.153696</td>\n",
       "      <td>Medium Profit</td>\n",
       "      <td>High</td>\n",
       "    </tr>\n",
       "  </tbody>\n",
       "</table>\n",
       "</div>"
      ],
      "text/plain": [
       "   id  release_date                                        movie  \\\n",
       "0   1  Dec 18, 2009                                       Avatar   \n",
       "1   2  May 20, 2011  Pirates of the Caribbean: On Stranger Tides   \n",
       "2   3   Jun 7, 2019                                 Dark Phoenix   \n",
       "3   4   May 1, 2015                      Avengers: Age of Ultron   \n",
       "4   5  Dec 15, 2017            Star Wars Ep. VIII: The Last Jedi   \n",
       "\n",
       "   production_budget domestic_gross  worldwide_gross  Profitability_Ratio  \\\n",
       "0        425000000.0   $760,507,625     2.776345e+09             6.532577   \n",
       "1        410600000.0   $241,063,875     1.045664e+09             2.546673   \n",
       "2        350000000.0    $42,762,350     1.497624e+08             0.427892   \n",
       "3        330600000.0   $459,005,868     1.403014e+09             4.243841   \n",
       "4        317000000.0   $620,181,382     1.316722e+09             4.153696   \n",
       "\n",
       "        prof_cat budget_cat  \n",
       "0    High Profit       High  \n",
       "1     Low Profit       High  \n",
       "2           Loss       High  \n",
       "3  Medium Profit       High  \n",
       "4  Medium Profit       High  "
      ]
     },
     "execution_count": 607,
     "metadata": {},
     "output_type": "execute_result"
    }
   ],
   "source": [
    "df_budget.head()"
   ]
  },
  {
   "cell_type": "code",
   "execution_count": 622,
   "metadata": {},
   "outputs": [
    {
     "data": {
      "text/plain": [
       "array([[1.        , 0.74830598],\n",
       "       [0.74830598, 1.        ]])"
      ]
     },
     "execution_count": 622,
     "metadata": {},
     "output_type": "execute_result"
    }
   ],
   "source": [
    "x = df_budget['production_budget']\n",
    "y = df_budget['worldwide_gross']\n",
    "\n",
    "\n",
    "r = np.corrcoef(x, y)\n",
    "r"
   ]
  },
  {
   "cell_type": "markdown",
   "metadata": {},
   "source": [
    "There is a positive relationship. Therefore higher the budget higher the profitability."
   ]
  },
  {
   "cell_type": "code",
   "execution_count": 609,
   "metadata": {},
   "outputs": [
    {
     "data": {
      "text/html": [
       "<div>\n",
       "<style scoped>\n",
       "    .dataframe tbody tr th:only-of-type {\n",
       "        vertical-align: middle;\n",
       "    }\n",
       "\n",
       "    .dataframe tbody tr th {\n",
       "        vertical-align: top;\n",
       "    }\n",
       "\n",
       "    .dataframe thead th {\n",
       "        text-align: right;\n",
       "    }\n",
       "</style>\n",
       "<table border=\"1\" class=\"dataframe\">\n",
       "  <thead>\n",
       "    <tr style=\"text-align: right;\">\n",
       "      <th>prof_cat</th>\n",
       "      <th>High Profit</th>\n",
       "      <th>Loss</th>\n",
       "      <th>Low Profit</th>\n",
       "      <th>Medium Profit</th>\n",
       "      <th>Super Profit</th>\n",
       "    </tr>\n",
       "    <tr>\n",
       "      <th>budget_cat</th>\n",
       "      <th></th>\n",
       "      <th></th>\n",
       "      <th></th>\n",
       "      <th></th>\n",
       "      <th></th>\n",
       "    </tr>\n",
       "  </thead>\n",
       "  <tbody>\n",
       "    <tr>\n",
       "      <th>High</th>\n",
       "      <td>125</td>\n",
       "      <td>537</td>\n",
       "      <td>261</td>\n",
       "      <td>266</td>\n",
       "      <td>19</td>\n",
       "    </tr>\n",
       "    <tr>\n",
       "      <th>Low</th>\n",
       "      <td>139</td>\n",
       "      <td>855</td>\n",
       "      <td>82</td>\n",
       "      <td>97</td>\n",
       "      <td>209</td>\n",
       "    </tr>\n",
       "    <tr>\n",
       "      <th>Medium</th>\n",
       "      <td>378</td>\n",
       "      <td>1769</td>\n",
       "      <td>422</td>\n",
       "      <td>452</td>\n",
       "      <td>171</td>\n",
       "    </tr>\n",
       "  </tbody>\n",
       "</table>\n",
       "</div>"
      ],
      "text/plain": [
       "prof_cat    High Profit  Loss  Low Profit  Medium Profit  Super Profit\n",
       "budget_cat                                                            \n",
       "High                125   537         261            266            19\n",
       "Low                 139   855          82             97           209\n",
       "Medium              378  1769         422            452           171"
      ]
     },
     "execution_count": 609,
     "metadata": {},
     "output_type": "execute_result"
    }
   ],
   "source": [
    "contingency_table=pd.crosstab(index=df_budget['budget_cat'],columns=df_budget['prof_cat'])\n",
    "contingency_table"
   ]
  },
  {
   "cell_type": "code",
   "execution_count": 610,
   "metadata": {
    "scrolled": true
   },
   "outputs": [
    {
     "data": {
      "text/plain": [
       "(458.73443722657066,\n",
       " 4.968416939633804e-94,\n",
       " 8,\n",
       " array([[ 134.129367  ,  660.40954687,  159.82704946,  170.27326185,\n",
       "           83.36077482],\n",
       "        [ 153.44932549,  755.53476306,  182.84849533,  194.79937738,\n",
       "           95.36803874],\n",
       "        [ 354.42130751, 1745.05569007,  422.32445521,  449.92736077,\n",
       "          220.27118644]]))"
      ]
     },
     "execution_count": 610,
     "metadata": {},
     "output_type": "execute_result"
    }
   ],
   "source": [
    "stats.contingency.chi2_contingency(contingency_table)"
   ]
  },
  {
   "cell_type": "code",
   "execution_count": 611,
   "metadata": {},
   "outputs": [],
   "source": [
    "merged_pro_and_budgets_PF = df_budget.groupby(df_budget['budget_cat']).median()"
   ]
  },
  {
   "cell_type": "code",
   "execution_count": 612,
   "metadata": {},
   "outputs": [
    {
     "data": {
      "text/html": [
       "<div>\n",
       "<style scoped>\n",
       "    .dataframe tbody tr th:only-of-type {\n",
       "        vertical-align: middle;\n",
       "    }\n",
       "\n",
       "    .dataframe tbody tr th {\n",
       "        vertical-align: top;\n",
       "    }\n",
       "\n",
       "    .dataframe thead th {\n",
       "        text-align: right;\n",
       "    }\n",
       "</style>\n",
       "<table border=\"1\" class=\"dataframe\">\n",
       "  <thead>\n",
       "    <tr style=\"text-align: right;\">\n",
       "      <th></th>\n",
       "      <th>id</th>\n",
       "      <th>production_budget</th>\n",
       "      <th>worldwide_gross</th>\n",
       "      <th>Profitability_Ratio</th>\n",
       "    </tr>\n",
       "    <tr>\n",
       "      <th>budget_cat</th>\n",
       "      <th></th>\n",
       "      <th></th>\n",
       "      <th></th>\n",
       "      <th></th>\n",
       "    </tr>\n",
       "  </thead>\n",
       "  <tbody>\n",
       "    <tr>\n",
       "      <th>High</th>\n",
       "      <td>50</td>\n",
       "      <td>80000000.0</td>\n",
       "      <td>184531488.0</td>\n",
       "      <td>2.227965</td>\n",
       "    </tr>\n",
       "    <tr>\n",
       "      <th>Medium</th>\n",
       "      <td>51</td>\n",
       "      <td>18000000.0</td>\n",
       "      <td>29876723.0</td>\n",
       "      <td>1.676872</td>\n",
       "    </tr>\n",
       "    <tr>\n",
       "      <th>Low</th>\n",
       "      <td>50</td>\n",
       "      <td>1500000.0</td>\n",
       "      <td>840535.5</td>\n",
       "      <td>0.775750</td>\n",
       "    </tr>\n",
       "  </tbody>\n",
       "</table>\n",
       "</div>"
      ],
      "text/plain": [
       "            id  production_budget  worldwide_gross  Profitability_Ratio\n",
       "budget_cat                                                             \n",
       "High        50         80000000.0      184531488.0             2.227965\n",
       "Medium      51         18000000.0       29876723.0             1.676872\n",
       "Low         50          1500000.0         840535.5             0.775750"
      ]
     },
     "execution_count": 612,
     "metadata": {},
     "output_type": "execute_result"
    }
   ],
   "source": [
    "merged_actor_and_budgets_PF_1 = merged_pro_and_budgets_PF.sort_values(by=['worldwide_gross'],ascending=False).head(10)\n",
    "merged_actor_and_budgets_PF_1"
   ]
  },
  {
   "cell_type": "code",
   "execution_count": 613,
   "metadata": {},
   "outputs": [
    {
     "data": {
      "text/plain": [
       "Loss             0.546697\n",
       "Medium Profit    0.140955\n",
       "Low Profit       0.132307\n",
       "High Profit      0.111034\n",
       "Super Profit     0.069007\n",
       "Name: prof_cat, dtype: float64"
      ]
     },
     "execution_count": 613,
     "metadata": {},
     "output_type": "execute_result"
    }
   ],
   "source": [
    "df_budget['prof_cat'].value_counts(normalize = True)"
   ]
  }
 ],
 "metadata": {
  "kernelspec": {
   "display_name": "Python (learn-env)",
   "language": "python",
   "name": "learn-env"
  },
  "language_info": {
   "codemirror_mode": {
    "name": "ipython",
    "version": 3
   },
   "file_extension": ".py",
   "mimetype": "text/x-python",
   "name": "python",
   "nbconvert_exporter": "python",
   "pygments_lexer": "ipython3",
   "version": "3.8.5"
  }
 },
 "nbformat": 4,
 "nbformat_minor": 4
}
